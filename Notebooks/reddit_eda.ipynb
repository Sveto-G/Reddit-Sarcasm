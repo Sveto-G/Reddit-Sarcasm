{
 "cells": [
  {
   "cell_type": "markdown",
   "id": "75e768b4",
   "metadata": {},
   "source": [
    "### Sarcasm Dataset EDA"
   ]
  },
  {
   "cell_type": "markdown",
   "id": "106ccec1",
   "metadata": {},
   "source": [
    "#### Sveto Givaty"
   ]
  },
  {
   "cell_type": "markdown",
   "id": "58966b98",
   "metadata": {},
   "source": [
    "#### 10/20/2023"
   ]
  },
  {
   "cell_type": "markdown",
   "id": "28918322",
   "metadata": {},
   "source": [
    "----------------------------------------------------------------------------------------------------------------------------"
   ]
  },
  {
   "cell_type": "code",
   "execution_count": 73,
   "id": "133ef77b",
   "metadata": {},
   "outputs": [],
   "source": [
    "import numpy as np\n",
    "import pandas as pd\n",
    "import matplotlib.pyplot as plt\n",
    "import seaborn as sns\n",
    "sns.set()\n",
    "\n",
    "import re\n",
    "\n",
    "from sklearn.feature_extraction.text import CountVectorizer\n"
   ]
  },
  {
   "cell_type": "code",
   "execution_count": 74,
   "id": "8ebb51ea",
   "metadata": {},
   "outputs": [],
   "source": [
    "# importing data and setting it to variable\n",
    "reddit = pd.read_csv('train-balanced-sarcasm.csv')"
   ]
  },
  {
   "cell_type": "code",
   "execution_count": 75,
   "id": "4629e9c0",
   "metadata": {},
   "outputs": [],
   "source": [
    "parent_comment = reddit.copy().pop('parent_comment')"
   ]
  },
  {
   "cell_type": "code",
   "execution_count": 76,
   "id": "5312df69",
   "metadata": {},
   "outputs": [
    {
     "data": {
      "text/plain": [
       "(1010826, 10)"
      ]
     },
     "execution_count": 76,
     "metadata": {},
     "output_type": "execute_result"
    }
   ],
   "source": [
    "# checking amount of rows and columns\n",
    "reddit.shape"
   ]
  },
  {
   "cell_type": "markdown",
   "id": "851c847b",
   "metadata": {},
   "source": [
    "There are ~ 1 million rows and 10 columns"
   ]
  },
  {
   "cell_type": "code",
   "execution_count": 77,
   "id": "fdef9352",
   "metadata": {},
   "outputs": [
    {
     "name": "stdout",
     "output_type": "stream",
     "text": [
      "<class 'pandas.core.frame.DataFrame'>\n",
      "RangeIndex: 1010826 entries, 0 to 1010825\n",
      "Data columns (total 10 columns):\n",
      " #   Column          Non-Null Count    Dtype \n",
      "---  ------          --------------    ----- \n",
      " 0   label           1010826 non-null  int64 \n",
      " 1   comment         1010773 non-null  object\n",
      " 2   author          1010826 non-null  object\n",
      " 3   subreddit       1010826 non-null  object\n",
      " 4   score           1010826 non-null  int64 \n",
      " 5   ups             1010826 non-null  int64 \n",
      " 6   downs           1010826 non-null  int64 \n",
      " 7   date            1010826 non-null  object\n",
      " 8   created_utc     1010826 non-null  object\n",
      " 9   parent_comment  1010826 non-null  object\n",
      "dtypes: int64(4), object(6)\n",
      "memory usage: 77.1+ MB\n"
     ]
    }
   ],
   "source": [
    "# checking datatypes, null values, column names\n",
    "reddit.info()"
   ]
  },
  {
   "cell_type": "markdown",
   "id": "85933f1a",
   "metadata": {},
   "source": [
    "We have two different datatypes present in the data: `int` and `object`. There are null values present in one column, `comment`. We will go on to explore this later."
   ]
  },
  {
   "cell_type": "code",
   "execution_count": 78,
   "id": "c5b8be4c",
   "metadata": {},
   "outputs": [
    {
     "data": {
      "text/html": [
       "<div>\n",
       "<style scoped>\n",
       "    .dataframe tbody tr th:only-of-type {\n",
       "        vertical-align: middle;\n",
       "    }\n",
       "\n",
       "    .dataframe tbody tr th {\n",
       "        vertical-align: top;\n",
       "    }\n",
       "\n",
       "    .dataframe thead th {\n",
       "        text-align: right;\n",
       "    }\n",
       "</style>\n",
       "<table border=\"1\" class=\"dataframe\">\n",
       "  <thead>\n",
       "    <tr style=\"text-align: right;\">\n",
       "      <th></th>\n",
       "      <th>label</th>\n",
       "      <th>comment</th>\n",
       "      <th>author</th>\n",
       "      <th>subreddit</th>\n",
       "      <th>score</th>\n",
       "      <th>ups</th>\n",
       "      <th>downs</th>\n",
       "      <th>date</th>\n",
       "      <th>created_utc</th>\n",
       "      <th>parent_comment</th>\n",
       "    </tr>\n",
       "  </thead>\n",
       "  <tbody>\n",
       "    <tr>\n",
       "      <th>0</th>\n",
       "      <td>0</td>\n",
       "      <td>NC and NH.</td>\n",
       "      <td>Trumpbart</td>\n",
       "      <td>politics</td>\n",
       "      <td>2</td>\n",
       "      <td>-1</td>\n",
       "      <td>-1</td>\n",
       "      <td>2016-10</td>\n",
       "      <td>2016-10-16 23:55:23</td>\n",
       "      <td>Yeah, I get that argument. At this point, I'd ...</td>\n",
       "    </tr>\n",
       "    <tr>\n",
       "      <th>1</th>\n",
       "      <td>0</td>\n",
       "      <td>You do know west teams play against west teams...</td>\n",
       "      <td>Shbshb906</td>\n",
       "      <td>nba</td>\n",
       "      <td>-4</td>\n",
       "      <td>-1</td>\n",
       "      <td>-1</td>\n",
       "      <td>2016-11</td>\n",
       "      <td>2016-11-01 00:24:10</td>\n",
       "      <td>The blazers and Mavericks (The wests 5 and 6 s...</td>\n",
       "    </tr>\n",
       "    <tr>\n",
       "      <th>2</th>\n",
       "      <td>0</td>\n",
       "      <td>They were underdogs earlier today, but since G...</td>\n",
       "      <td>Creepeth</td>\n",
       "      <td>nfl</td>\n",
       "      <td>3</td>\n",
       "      <td>3</td>\n",
       "      <td>0</td>\n",
       "      <td>2016-09</td>\n",
       "      <td>2016-09-22 21:45:37</td>\n",
       "      <td>They're favored to win.</td>\n",
       "    </tr>\n",
       "    <tr>\n",
       "      <th>3</th>\n",
       "      <td>0</td>\n",
       "      <td>This meme isn't funny none of the \"new york ni...</td>\n",
       "      <td>icebrotha</td>\n",
       "      <td>BlackPeopleTwitter</td>\n",
       "      <td>-8</td>\n",
       "      <td>-1</td>\n",
       "      <td>-1</td>\n",
       "      <td>2016-10</td>\n",
       "      <td>2016-10-18 21:03:47</td>\n",
       "      <td>deadass don't kill my buzz</td>\n",
       "    </tr>\n",
       "    <tr>\n",
       "      <th>4</th>\n",
       "      <td>0</td>\n",
       "      <td>I could use one of those tools.</td>\n",
       "      <td>cush2push</td>\n",
       "      <td>MaddenUltimateTeam</td>\n",
       "      <td>6</td>\n",
       "      <td>-1</td>\n",
       "      <td>-1</td>\n",
       "      <td>2016-12</td>\n",
       "      <td>2016-12-30 17:00:13</td>\n",
       "      <td>Yep can confirm I saw the tool they use for th...</td>\n",
       "    </tr>\n",
       "    <tr>\n",
       "      <th>5</th>\n",
       "      <td>0</td>\n",
       "      <td>I don't pay attention to her, but as long as s...</td>\n",
       "      <td>only7inches</td>\n",
       "      <td>AskReddit</td>\n",
       "      <td>0</td>\n",
       "      <td>0</td>\n",
       "      <td>0</td>\n",
       "      <td>2016-09</td>\n",
       "      <td>2016-09-02 10:35:08</td>\n",
       "      <td>do you find ariana grande sexy ?</td>\n",
       "    </tr>\n",
       "    <tr>\n",
       "      <th>6</th>\n",
       "      <td>0</td>\n",
       "      <td>Trick or treating in general is just weird...</td>\n",
       "      <td>only7inches</td>\n",
       "      <td>AskReddit</td>\n",
       "      <td>1</td>\n",
       "      <td>-1</td>\n",
       "      <td>-1</td>\n",
       "      <td>2016-10</td>\n",
       "      <td>2016-10-23 21:43:03</td>\n",
       "      <td>What's your weird or unsettling Trick or Treat...</td>\n",
       "    </tr>\n",
       "    <tr>\n",
       "      <th>7</th>\n",
       "      <td>0</td>\n",
       "      <td>Blade Mastery+Masamune or GTFO!</td>\n",
       "      <td>P0k3rm4s7</td>\n",
       "      <td>FFBraveExvius</td>\n",
       "      <td>2</td>\n",
       "      <td>-1</td>\n",
       "      <td>-1</td>\n",
       "      <td>2016-10</td>\n",
       "      <td>2016-10-13 21:13:55</td>\n",
       "      <td>Probably Sephiroth. I refuse to taint his grea...</td>\n",
       "    </tr>\n",
       "    <tr>\n",
       "      <th>8</th>\n",
       "      <td>0</td>\n",
       "      <td>You don't have to, you have a good build, buy ...</td>\n",
       "      <td>SoupToPots</td>\n",
       "      <td>pcmasterrace</td>\n",
       "      <td>1</td>\n",
       "      <td>-1</td>\n",
       "      <td>-1</td>\n",
       "      <td>2016-10</td>\n",
       "      <td>2016-10-27 19:11:06</td>\n",
       "      <td>What to upgrade? I have $500 to spend (mainly ...</td>\n",
       "    </tr>\n",
       "    <tr>\n",
       "      <th>9</th>\n",
       "      <td>0</td>\n",
       "      <td>I would love to see him at lolla.</td>\n",
       "      <td>chihawks</td>\n",
       "      <td>Lollapalooza</td>\n",
       "      <td>2</td>\n",
       "      <td>-1</td>\n",
       "      <td>-1</td>\n",
       "      <td>2016-11</td>\n",
       "      <td>2016-11-21 23:39:12</td>\n",
       "      <td>Probably count Kanye out Since the rest of his...</td>\n",
       "    </tr>\n",
       "  </tbody>\n",
       "</table>\n",
       "</div>"
      ],
      "text/plain": [
       "   label                                            comment       author  \\\n",
       "0      0                                         NC and NH.    Trumpbart   \n",
       "1      0  You do know west teams play against west teams...    Shbshb906   \n",
       "2      0  They were underdogs earlier today, but since G...     Creepeth   \n",
       "3      0  This meme isn't funny none of the \"new york ni...    icebrotha   \n",
       "4      0                    I could use one of those tools.    cush2push   \n",
       "5      0  I don't pay attention to her, but as long as s...  only7inches   \n",
       "6      0      Trick or treating in general is just weird...  only7inches   \n",
       "7      0                    Blade Mastery+Masamune or GTFO!    P0k3rm4s7   \n",
       "8      0  You don't have to, you have a good build, buy ...   SoupToPots   \n",
       "9      0                  I would love to see him at lolla.     chihawks   \n",
       "\n",
       "            subreddit  score  ups  downs     date          created_utc  \\\n",
       "0            politics      2   -1     -1  2016-10  2016-10-16 23:55:23   \n",
       "1                 nba     -4   -1     -1  2016-11  2016-11-01 00:24:10   \n",
       "2                 nfl      3    3      0  2016-09  2016-09-22 21:45:37   \n",
       "3  BlackPeopleTwitter     -8   -1     -1  2016-10  2016-10-18 21:03:47   \n",
       "4  MaddenUltimateTeam      6   -1     -1  2016-12  2016-12-30 17:00:13   \n",
       "5           AskReddit      0    0      0  2016-09  2016-09-02 10:35:08   \n",
       "6           AskReddit      1   -1     -1  2016-10  2016-10-23 21:43:03   \n",
       "7       FFBraveExvius      2   -1     -1  2016-10  2016-10-13 21:13:55   \n",
       "8        pcmasterrace      1   -1     -1  2016-10  2016-10-27 19:11:06   \n",
       "9        Lollapalooza      2   -1     -1  2016-11  2016-11-21 23:39:12   \n",
       "\n",
       "                                      parent_comment  \n",
       "0  Yeah, I get that argument. At this point, I'd ...  \n",
       "1  The blazers and Mavericks (The wests 5 and 6 s...  \n",
       "2                            They're favored to win.  \n",
       "3                         deadass don't kill my buzz  \n",
       "4  Yep can confirm I saw the tool they use for th...  \n",
       "5                   do you find ariana grande sexy ?  \n",
       "6  What's your weird or unsettling Trick or Treat...  \n",
       "7  Probably Sephiroth. I refuse to taint his grea...  \n",
       "8  What to upgrade? I have $500 to spend (mainly ...  \n",
       "9  Probably count Kanye out Since the rest of his...  "
      ]
     },
     "execution_count": 78,
     "metadata": {},
     "output_type": "execute_result"
    }
   ],
   "source": [
    "# seeing first 10 results of data\n",
    "reddit.head(10)"
   ]
  },
  {
   "cell_type": "markdown",
   "id": "813cfd8e",
   "metadata": {},
   "source": [
    "There are two date columns, `date` and `created_utc`. This causes a redundancy in the data as it seems the `date` column matches the `year` and `month` of the `created_utc` column exactly."
   ]
  },
  {
   "cell_type": "code",
   "execution_count": 79,
   "id": "189c546a",
   "metadata": {},
   "outputs": [],
   "source": [
    "# converting created_utc to datetime format\n",
    "reddit['created_utc'] = pd.to_datetime(reddit['created_utc'])"
   ]
  },
  {
   "cell_type": "code",
   "execution_count": 80,
   "id": "a99fe8d3",
   "metadata": {},
   "outputs": [
    {
     "name": "stdout",
     "output_type": "stream",
     "text": [
      "<class 'pandas.core.frame.DataFrame'>\n",
      "RangeIndex: 1010826 entries, 0 to 1010825\n",
      "Data columns (total 10 columns):\n",
      " #   Column          Non-Null Count    Dtype         \n",
      "---  ------          --------------    -----         \n",
      " 0   label           1010826 non-null  int64         \n",
      " 1   comment         1010773 non-null  object        \n",
      " 2   author          1010826 non-null  object        \n",
      " 3   subreddit       1010826 non-null  object        \n",
      " 4   score           1010826 non-null  int64         \n",
      " 5   ups             1010826 non-null  int64         \n",
      " 6   downs           1010826 non-null  int64         \n",
      " 7   date            1010826 non-null  object        \n",
      " 8   created_utc     1010826 non-null  datetime64[ns]\n",
      " 9   parent_comment  1010826 non-null  object        \n",
      "dtypes: datetime64[ns](1), int64(4), object(5)\n",
      "memory usage: 77.1+ MB\n"
     ]
    }
   ],
   "source": [
    "# confirmation of change\n",
    "reddit.info()"
   ]
  },
  {
   "cell_type": "markdown",
   "id": "6d21558f",
   "metadata": {},
   "source": [
    "Using slices of both the `date` and `created_utc` columns, we can see if the results match. If the resulting slices have equal length, we can assume that they represent the same thing and that there is a redundancy in the columns."
   ]
  },
  {
   "cell_type": "code",
   "execution_count": 81,
   "id": "342f9880",
   "metadata": {},
   "outputs": [],
   "source": [
    "# using loop to find specific dates\n",
    "x = []\n",
    "for i in reddit['date']:\n",
    "    if i == '2016-10':\n",
    "        x.append(i)"
   ]
  },
  {
   "cell_type": "code",
   "execution_count": 82,
   "id": "a07df1d6",
   "metadata": {},
   "outputs": [
    {
     "name": "stdout",
     "output_type": "stream",
     "text": [
      "46161\n"
     ]
    }
   ],
   "source": [
    "# checking length of result\n",
    "print(len(x))"
   ]
  },
  {
   "cell_type": "code",
   "execution_count": 83,
   "id": "1861787f",
   "metadata": {},
   "outputs": [],
   "source": [
    "# filtering out created_utc to match dates in `date` column\n",
    "date_test = reddit.loc[(reddit['created_utc'].dt.year == 2016) & (reddit['created_utc'].dt.month == 10) ]"
   ]
  },
  {
   "cell_type": "code",
   "execution_count": 84,
   "id": "2b83f43a",
   "metadata": {
    "scrolled": true
   },
   "outputs": [
    {
     "data": {
      "text/plain": [
       "46161"
      ]
     },
     "execution_count": 84,
     "metadata": {},
     "output_type": "execute_result"
    }
   ],
   "source": [
    "# checking for amount of entries\n",
    "date_test.shape[0]"
   ]
  },
  {
   "cell_type": "markdown",
   "id": "2b550e00",
   "metadata": {},
   "source": [
    "Seeing as the `date` column matches the `created_utc` column exactly, we can drop the `date` column."
   ]
  },
  {
   "cell_type": "code",
   "execution_count": 85,
   "id": "53a8a71f",
   "metadata": {},
   "outputs": [],
   "source": [
    "# dropping date\n",
    "reddit.drop(columns='date', inplace =True)"
   ]
  },
  {
   "cell_type": "code",
   "execution_count": 86,
   "id": "cec380b3",
   "metadata": {
    "scrolled": true
   },
   "outputs": [
    {
     "data": {
      "text/html": [
       "<div>\n",
       "<style scoped>\n",
       "    .dataframe tbody tr th:only-of-type {\n",
       "        vertical-align: middle;\n",
       "    }\n",
       "\n",
       "    .dataframe tbody tr th {\n",
       "        vertical-align: top;\n",
       "    }\n",
       "\n",
       "    .dataframe thead th {\n",
       "        text-align: right;\n",
       "    }\n",
       "</style>\n",
       "<table border=\"1\" class=\"dataframe\">\n",
       "  <thead>\n",
       "    <tr style=\"text-align: right;\">\n",
       "      <th></th>\n",
       "      <th>label</th>\n",
       "      <th>comment</th>\n",
       "      <th>author</th>\n",
       "      <th>subreddit</th>\n",
       "      <th>score</th>\n",
       "      <th>ups</th>\n",
       "      <th>downs</th>\n",
       "      <th>created_utc</th>\n",
       "      <th>parent_comment</th>\n",
       "    </tr>\n",
       "  </thead>\n",
       "  <tbody>\n",
       "    <tr>\n",
       "      <th>0</th>\n",
       "      <td>0</td>\n",
       "      <td>NC and NH.</td>\n",
       "      <td>Trumpbart</td>\n",
       "      <td>politics</td>\n",
       "      <td>2</td>\n",
       "      <td>-1</td>\n",
       "      <td>-1</td>\n",
       "      <td>2016-10-16 23:55:23</td>\n",
       "      <td>Yeah, I get that argument. At this point, I'd ...</td>\n",
       "    </tr>\n",
       "    <tr>\n",
       "      <th>1</th>\n",
       "      <td>0</td>\n",
       "      <td>You do know west teams play against west teams...</td>\n",
       "      <td>Shbshb906</td>\n",
       "      <td>nba</td>\n",
       "      <td>-4</td>\n",
       "      <td>-1</td>\n",
       "      <td>-1</td>\n",
       "      <td>2016-11-01 00:24:10</td>\n",
       "      <td>The blazers and Mavericks (The wests 5 and 6 s...</td>\n",
       "    </tr>\n",
       "    <tr>\n",
       "      <th>2</th>\n",
       "      <td>0</td>\n",
       "      <td>They were underdogs earlier today, but since G...</td>\n",
       "      <td>Creepeth</td>\n",
       "      <td>nfl</td>\n",
       "      <td>3</td>\n",
       "      <td>3</td>\n",
       "      <td>0</td>\n",
       "      <td>2016-09-22 21:45:37</td>\n",
       "      <td>They're favored to win.</td>\n",
       "    </tr>\n",
       "    <tr>\n",
       "      <th>3</th>\n",
       "      <td>0</td>\n",
       "      <td>This meme isn't funny none of the \"new york ni...</td>\n",
       "      <td>icebrotha</td>\n",
       "      <td>BlackPeopleTwitter</td>\n",
       "      <td>-8</td>\n",
       "      <td>-1</td>\n",
       "      <td>-1</td>\n",
       "      <td>2016-10-18 21:03:47</td>\n",
       "      <td>deadass don't kill my buzz</td>\n",
       "    </tr>\n",
       "    <tr>\n",
       "      <th>4</th>\n",
       "      <td>0</td>\n",
       "      <td>I could use one of those tools.</td>\n",
       "      <td>cush2push</td>\n",
       "      <td>MaddenUltimateTeam</td>\n",
       "      <td>6</td>\n",
       "      <td>-1</td>\n",
       "      <td>-1</td>\n",
       "      <td>2016-12-30 17:00:13</td>\n",
       "      <td>Yep can confirm I saw the tool they use for th...</td>\n",
       "    </tr>\n",
       "  </tbody>\n",
       "</table>\n",
       "</div>"
      ],
      "text/plain": [
       "   label                                            comment     author  \\\n",
       "0      0                                         NC and NH.  Trumpbart   \n",
       "1      0  You do know west teams play against west teams...  Shbshb906   \n",
       "2      0  They were underdogs earlier today, but since G...   Creepeth   \n",
       "3      0  This meme isn't funny none of the \"new york ni...  icebrotha   \n",
       "4      0                    I could use one of those tools.  cush2push   \n",
       "\n",
       "            subreddit  score  ups  downs         created_utc  \\\n",
       "0            politics      2   -1     -1 2016-10-16 23:55:23   \n",
       "1                 nba     -4   -1     -1 2016-11-01 00:24:10   \n",
       "2                 nfl      3    3      0 2016-09-22 21:45:37   \n",
       "3  BlackPeopleTwitter     -8   -1     -1 2016-10-18 21:03:47   \n",
       "4  MaddenUltimateTeam      6   -1     -1 2016-12-30 17:00:13   \n",
       "\n",
       "                                      parent_comment  \n",
       "0  Yeah, I get that argument. At this point, I'd ...  \n",
       "1  The blazers and Mavericks (The wests 5 and 6 s...  \n",
       "2                            They're favored to win.  \n",
       "3                         deadass don't kill my buzz  \n",
       "4  Yep can confirm I saw the tool they use for th...  "
      ]
     },
     "execution_count": 86,
     "metadata": {},
     "output_type": "execute_result"
    }
   ],
   "source": [
    "# verifying drop\n",
    "reddit.head()"
   ]
  },
  {
   "cell_type": "markdown",
   "id": "6371f0ee",
   "metadata": {},
   "source": [
    "-----------------------------------------------------------------------------------------------------------------"
   ]
  },
  {
   "cell_type": "markdown",
   "id": "e1c1ebbc",
   "metadata": {},
   "source": [
    "Next, we will see if there are any null values in the data."
   ]
  },
  {
   "cell_type": "code",
   "execution_count": 87,
   "id": "b4ffb432",
   "metadata": {},
   "outputs": [
    {
     "name": "stdout",
     "output_type": "stream",
     "text": [
      "<class 'pandas.core.frame.DataFrame'>\n",
      "RangeIndex: 1010826 entries, 0 to 1010825\n",
      "Data columns (total 9 columns):\n",
      " #   Column          Non-Null Count    Dtype         \n",
      "---  ------          --------------    -----         \n",
      " 0   label           1010826 non-null  int64         \n",
      " 1   comment         1010773 non-null  object        \n",
      " 2   author          1010826 non-null  object        \n",
      " 3   subreddit       1010826 non-null  object        \n",
      " 4   score           1010826 non-null  int64         \n",
      " 5   ups             1010826 non-null  int64         \n",
      " 6   downs           1010826 non-null  int64         \n",
      " 7   created_utc     1010826 non-null  datetime64[ns]\n",
      " 8   parent_comment  1010826 non-null  object        \n",
      "dtypes: datetime64[ns](1), int64(4), object(4)\n",
      "memory usage: 69.4+ MB\n"
     ]
    }
   ],
   "source": [
    "reddit.info()"
   ]
  },
  {
   "cell_type": "markdown",
   "id": "ef9feb2a",
   "metadata": {},
   "source": [
    "It seems the only column that has null values is the `comment` column."
   ]
  },
  {
   "cell_type": "code",
   "execution_count": 88,
   "id": "c94ed042",
   "metadata": {},
   "outputs": [
    {
     "data": {
      "text/plain": [
       "label              0\n",
       "comment           53\n",
       "author             0\n",
       "subreddit          0\n",
       "score              0\n",
       "ups                0\n",
       "downs              0\n",
       "created_utc        0\n",
       "parent_comment     0\n",
       "dtype: int64"
      ]
     },
     "execution_count": 88,
     "metadata": {},
     "output_type": "execute_result"
    }
   ],
   "source": [
    "# checking nulls in more readable way\n",
    "reddit.isna().sum()"
   ]
  },
  {
   "cell_type": "code",
   "execution_count": 89,
   "id": "27123827",
   "metadata": {},
   "outputs": [
    {
     "data": {
      "text/html": [
       "<div>\n",
       "<style scoped>\n",
       "    .dataframe tbody tr th:only-of-type {\n",
       "        vertical-align: middle;\n",
       "    }\n",
       "\n",
       "    .dataframe tbody tr th {\n",
       "        vertical-align: top;\n",
       "    }\n",
       "\n",
       "    .dataframe thead th {\n",
       "        text-align: right;\n",
       "    }\n",
       "</style>\n",
       "<table border=\"1\" class=\"dataframe\">\n",
       "  <thead>\n",
       "    <tr style=\"text-align: right;\">\n",
       "      <th></th>\n",
       "      <th>label</th>\n",
       "      <th>comment</th>\n",
       "      <th>author</th>\n",
       "      <th>subreddit</th>\n",
       "      <th>score</th>\n",
       "      <th>ups</th>\n",
       "      <th>downs</th>\n",
       "      <th>created_utc</th>\n",
       "      <th>parent_comment</th>\n",
       "    </tr>\n",
       "  </thead>\n",
       "  <tbody>\n",
       "    <tr>\n",
       "      <th>56269</th>\n",
       "      <td>1</td>\n",
       "      <td>NaN</td>\n",
       "      <td>SodokuIRL</td>\n",
       "      <td>leagueoflegends</td>\n",
       "      <td>1</td>\n",
       "      <td>1</td>\n",
       "      <td>0</td>\n",
       "      <td>2016-09-28 08:23:04</td>\n",
       "      <td>LPL shitshow, EU LCS shitshow. What isn't a sh...</td>\n",
       "    </tr>\n",
       "    <tr>\n",
       "      <th>68590</th>\n",
       "      <td>1</td>\n",
       "      <td>NaN</td>\n",
       "      <td>TossTheDog</td>\n",
       "      <td>westchesterpa</td>\n",
       "      <td>1</td>\n",
       "      <td>-1</td>\n",
       "      <td>-1</td>\n",
       "      <td>2016-10-11 20:25:52</td>\n",
       "      <td>Car fires smell delicious to you? You should p...</td>\n",
       "    </tr>\n",
       "    <tr>\n",
       "      <th>135348</th>\n",
       "      <td>0</td>\n",
       "      <td>NaN</td>\n",
       "      <td>So12rovv</td>\n",
       "      <td>R6STeams</td>\n",
       "      <td>1</td>\n",
       "      <td>-1</td>\n",
       "      <td>-1</td>\n",
       "      <td>2016-12-22 17:24:05</td>\n",
       "      <td>Will do. EU or NA?</td>\n",
       "    </tr>\n",
       "    <tr>\n",
       "      <th>199910</th>\n",
       "      <td>0</td>\n",
       "      <td>NaN</td>\n",
       "      <td>Khvostov_7g-02</td>\n",
       "      <td>tf2</td>\n",
       "      <td>1</td>\n",
       "      <td>1</td>\n",
       "      <td>0</td>\n",
       "      <td>2016-05-16 05:46:43</td>\n",
       "      <td>woah, thanks.</td>\n",
       "    </tr>\n",
       "    <tr>\n",
       "      <th>258718</th>\n",
       "      <td>1</td>\n",
       "      <td>NaN</td>\n",
       "      <td>PeaceLovePositivity</td>\n",
       "      <td>vaporents</td>\n",
       "      <td>5</td>\n",
       "      <td>5</td>\n",
       "      <td>0</td>\n",
       "      <td>2016-06-22 20:37:11</td>\n",
       "      <td>No, doing drugs while forming a fetus (your ki...</td>\n",
       "    </tr>\n",
       "    <tr>\n",
       "      <th>284331</th>\n",
       "      <td>0</td>\n",
       "      <td>NaN</td>\n",
       "      <td>FieldDay</td>\n",
       "      <td>ar15</td>\n",
       "      <td>1</td>\n",
       "      <td>1</td>\n",
       "      <td>0</td>\n",
       "      <td>2016-05-20 22:18:51</td>\n",
       "      <td>Fuck you too, buddy.</td>\n",
       "    </tr>\n",
       "    <tr>\n",
       "      <th>312969</th>\n",
       "      <td>0</td>\n",
       "      <td>NaN</td>\n",
       "      <td>dont_wear_a_C</td>\n",
       "      <td>nameaserver</td>\n",
       "      <td>1</td>\n",
       "      <td>1</td>\n",
       "      <td>0</td>\n",
       "      <td>2016-08-05 07:36:37</td>\n",
       "      <td>Thu 2016-08-04 accessing vault............unlo...</td>\n",
       "    </tr>\n",
       "    <tr>\n",
       "      <th>328775</th>\n",
       "      <td>1</td>\n",
       "      <td>NaN</td>\n",
       "      <td>wedontlikespaces</td>\n",
       "      <td>todayilearned</td>\n",
       "      <td>6</td>\n",
       "      <td>6</td>\n",
       "      <td>0</td>\n",
       "      <td>2016-08-18 12:36:21</td>\n",
       "      <td>What symbol denotes suck?</td>\n",
       "    </tr>\n",
       "    <tr>\n",
       "      <th>331735</th>\n",
       "      <td>1</td>\n",
       "      <td>NaN</td>\n",
       "      <td>atlacatl</td>\n",
       "      <td>soccer</td>\n",
       "      <td>1</td>\n",
       "      <td>1</td>\n",
       "      <td>0</td>\n",
       "      <td>2016-06-14 13:38:04</td>\n",
       "      <td>Doesn't matter if that experience is garbage</td>\n",
       "    </tr>\n",
       "    <tr>\n",
       "      <th>332600</th>\n",
       "      <td>1</td>\n",
       "      <td>NaN</td>\n",
       "      <td>Wemorg</td>\n",
       "      <td>leagueoflegends</td>\n",
       "      <td>-16</td>\n",
       "      <td>-16</td>\n",
       "      <td>0</td>\n",
       "      <td>2016-03-03 12:04:43</td>\n",
       "      <td>Your favourite lol joke?</td>\n",
       "    </tr>\n",
       "    <tr>\n",
       "      <th>332631</th>\n",
       "      <td>1</td>\n",
       "      <td>NaN</td>\n",
       "      <td>Dalmazz</td>\n",
       "      <td>GlobalOffensive</td>\n",
       "      <td>1</td>\n",
       "      <td>1</td>\n",
       "      <td>0</td>\n",
       "      <td>2016-03-04 14:37:15</td>\n",
       "      <td>Best region?</td>\n",
       "    </tr>\n",
       "    <tr>\n",
       "      <th>362293</th>\n",
       "      <td>1</td>\n",
       "      <td>NaN</td>\n",
       "      <td>Kiux97</td>\n",
       "      <td>WWEGames</td>\n",
       "      <td>1</td>\n",
       "      <td>1</td>\n",
       "      <td>0</td>\n",
       "      <td>2015-11-04 03:40:48</td>\n",
       "      <td>Because with the newer cell it looks stupid?</td>\n",
       "    </tr>\n",
       "    <tr>\n",
       "      <th>389792</th>\n",
       "      <td>1</td>\n",
       "      <td>NaN</td>\n",
       "      <td>calo9000</td>\n",
       "      <td>Gamingcirclejerk</td>\n",
       "      <td>7</td>\n",
       "      <td>7</td>\n",
       "      <td>0</td>\n",
       "      <td>2016-02-08 19:13:44</td>\n",
       "      <td>Valiant sir stands up against the console dron...</td>\n",
       "    </tr>\n",
       "    <tr>\n",
       "      <th>445204</th>\n",
       "      <td>1</td>\n",
       "      <td>NaN</td>\n",
       "      <td>Untoldstory55</td>\n",
       "      <td>wowservers</td>\n",
       "      <td>2</td>\n",
       "      <td>2</td>\n",
       "      <td>0</td>\n",
       "      <td>2016-04-24 17:13:34</td>\n",
       "      <td>If only it was that simple, but one fix may im...</td>\n",
       "    </tr>\n",
       "    <tr>\n",
       "      <th>505371</th>\n",
       "      <td>1</td>\n",
       "      <td>NaN</td>\n",
       "      <td>TheCavalierLads</td>\n",
       "      <td>GlobalOffensive</td>\n",
       "      <td>0</td>\n",
       "      <td>0</td>\n",
       "      <td>0</td>\n",
       "      <td>2015-11-16 11:28:00</td>\n",
       "      <td>But then no one sees how many active friends y...</td>\n",
       "    </tr>\n",
       "    <tr>\n",
       "      <th>520619</th>\n",
       "      <td>1</td>\n",
       "      <td>NaN</td>\n",
       "      <td>ellen_pao</td>\n",
       "      <td>AdviceAnimals</td>\n",
       "      <td>2</td>\n",
       "      <td>2</td>\n",
       "      <td>0</td>\n",
       "      <td>2015-10-01 17:48:00</td>\n",
       "      <td>very true, not all girls like the \"bad boy\"</td>\n",
       "    </tr>\n",
       "    <tr>\n",
       "      <th>524263</th>\n",
       "      <td>1</td>\n",
       "      <td>NaN</td>\n",
       "      <td>Bumbalo</td>\n",
       "      <td>harrypotter</td>\n",
       "      <td>2</td>\n",
       "      <td>2</td>\n",
       "      <td>0</td>\n",
       "      <td>2015-12-01 14:57:20</td>\n",
       "      <td>You made a statement that made me understand m...</td>\n",
       "    </tr>\n",
       "    <tr>\n",
       "      <th>529336</th>\n",
       "      <td>1</td>\n",
       "      <td>NaN</td>\n",
       "      <td>jhn_rob</td>\n",
       "      <td>Guildwars2</td>\n",
       "      <td>2</td>\n",
       "      <td>2</td>\n",
       "      <td>0</td>\n",
       "      <td>2015-09-21 10:59:46</td>\n",
       "      <td>Yes, using game features is an exploit</td>\n",
       "    </tr>\n",
       "    <tr>\n",
       "      <th>532823</th>\n",
       "      <td>1</td>\n",
       "      <td>NaN</td>\n",
       "      <td>roybringus</td>\n",
       "      <td>minnesota</td>\n",
       "      <td>3</td>\n",
       "      <td>3</td>\n",
       "      <td>0</td>\n",
       "      <td>2015-08-31 22:34:11</td>\n",
       "      <td>I am just shocked an upstanding group like thi...</td>\n",
       "    </tr>\n",
       "    <tr>\n",
       "      <th>569280</th>\n",
       "      <td>1</td>\n",
       "      <td>NaN</td>\n",
       "      <td>HUNG_LIKE_A_KLINGON</td>\n",
       "      <td>QUTreddit</td>\n",
       "      <td>2</td>\n",
       "      <td>2</td>\n",
       "      <td>0</td>\n",
       "      <td>2015-08-10 04:49:57</td>\n",
       "      <td>Very important lead story in the latest QUT Al...</td>\n",
       "    </tr>\n",
       "    <tr>\n",
       "      <th>645450</th>\n",
       "      <td>1</td>\n",
       "      <td>NaN</td>\n",
       "      <td>TasteTheRaimbow</td>\n",
       "      <td>Glitch_in_the_Matrix</td>\n",
       "      <td>2</td>\n",
       "      <td>2</td>\n",
       "      <td>0</td>\n",
       "      <td>2015-12-09 04:35:53</td>\n",
       "      <td>No thanks.</td>\n",
       "    </tr>\n",
       "    <tr>\n",
       "      <th>651242</th>\n",
       "      <td>1</td>\n",
       "      <td>NaN</td>\n",
       "      <td>qubi</td>\n",
       "      <td>chicagobulls</td>\n",
       "      <td>1</td>\n",
       "      <td>1</td>\n",
       "      <td>0</td>\n",
       "      <td>2015-07-10 02:56:08</td>\n",
       "      <td>No kidding</td>\n",
       "    </tr>\n",
       "    <tr>\n",
       "      <th>661519</th>\n",
       "      <td>1</td>\n",
       "      <td>NaN</td>\n",
       "      <td>IndigenousOres</td>\n",
       "      <td>Steam</td>\n",
       "      <td>1</td>\n",
       "      <td>1</td>\n",
       "      <td>0</td>\n",
       "      <td>2014-11-30 04:15:00</td>\n",
       "      <td>Lol you didn't got it</td>\n",
       "    </tr>\n",
       "    <tr>\n",
       "      <th>675235</th>\n",
       "      <td>1</td>\n",
       "      <td>NaN</td>\n",
       "      <td>Knorikus</td>\n",
       "      <td>EridanusInsurrection</td>\n",
       "      <td>5</td>\n",
       "      <td>5</td>\n",
       "      <td>0</td>\n",
       "      <td>2015-03-25 23:11:40</td>\n",
       "      <td>There probably won't be master chief Might be ...</td>\n",
       "    </tr>\n",
       "    <tr>\n",
       "      <th>683899</th>\n",
       "      <td>0</td>\n",
       "      <td>NaN</td>\n",
       "      <td>Ziffelbrixx</td>\n",
       "      <td>todayilearned</td>\n",
       "      <td>0</td>\n",
       "      <td>0</td>\n",
       "      <td>0</td>\n",
       "      <td>2014-12-17 16:06:47</td>\n",
       "      <td>Kinda wish the article showed the bridges on t...</td>\n",
       "    </tr>\n",
       "    <tr>\n",
       "      <th>747602</th>\n",
       "      <td>0</td>\n",
       "      <td>NaN</td>\n",
       "      <td>MattHoppe1</td>\n",
       "      <td>baseball</td>\n",
       "      <td>1</td>\n",
       "      <td>1</td>\n",
       "      <td>0</td>\n",
       "      <td>2015-02-16 06:25:00</td>\n",
       "      <td>What is your hometown's \"Claim to Baseball Fam...</td>\n",
       "    </tr>\n",
       "    <tr>\n",
       "      <th>799033</th>\n",
       "      <td>1</td>\n",
       "      <td>NaN</td>\n",
       "      <td>Skarmotastic</td>\n",
       "      <td>nfl</td>\n",
       "      <td>2</td>\n",
       "      <td>2</td>\n",
       "      <td>0</td>\n",
       "      <td>2014-09-19 19:10:55</td>\n",
       "      <td>... Correct. He handed the ball off 3 times. W...</td>\n",
       "    </tr>\n",
       "    <tr>\n",
       "      <th>800812</th>\n",
       "      <td>1</td>\n",
       "      <td>NaN</td>\n",
       "      <td>curbstickle</td>\n",
       "      <td>bicycling</td>\n",
       "      <td>7</td>\n",
       "      <td>7</td>\n",
       "      <td>0</td>\n",
       "      <td>2014-07-21 23:03:39</td>\n",
       "      <td>if only there was a way to convey sarcasm thro...</td>\n",
       "    </tr>\n",
       "    <tr>\n",
       "      <th>813274</th>\n",
       "      <td>0</td>\n",
       "      <td>NaN</td>\n",
       "      <td>insanePower</td>\n",
       "      <td>leagueoflegends</td>\n",
       "      <td>-3</td>\n",
       "      <td>-3</td>\n",
       "      <td>0</td>\n",
       "      <td>2014-07-15 18:26:25</td>\n",
       "      <td>jiji still shitstomps solo q against NALCS mid...</td>\n",
       "    </tr>\n",
       "    <tr>\n",
       "      <th>817886</th>\n",
       "      <td>1</td>\n",
       "      <td>NaN</td>\n",
       "      <td>Trillen</td>\n",
       "      <td>pcmasterrace</td>\n",
       "      <td>1</td>\n",
       "      <td>1</td>\n",
       "      <td>0</td>\n",
       "      <td>2014-01-12 16:34:36</td>\n",
       "      <td>Did you mean the peasants eyes or do you actua...</td>\n",
       "    </tr>\n",
       "    <tr>\n",
       "      <th>859333</th>\n",
       "      <td>1</td>\n",
       "      <td>NaN</td>\n",
       "      <td>self_defeating</td>\n",
       "      <td>worldnews</td>\n",
       "      <td>2</td>\n",
       "      <td>2</td>\n",
       "      <td>0</td>\n",
       "      <td>2014-06-10 17:32:34</td>\n",
       "      <td>Because we have chosen them as sources of mind...</td>\n",
       "    </tr>\n",
       "    <tr>\n",
       "      <th>875251</th>\n",
       "      <td>1</td>\n",
       "      <td>NaN</td>\n",
       "      <td>Trout_Tickler</td>\n",
       "      <td>linux4noobs</td>\n",
       "      <td>1</td>\n",
       "      <td>1</td>\n",
       "      <td>0</td>\n",
       "      <td>2014-02-27 13:52:10</td>\n",
       "      <td>Nah, that's Tux</td>\n",
       "    </tr>\n",
       "    <tr>\n",
       "      <th>878050</th>\n",
       "      <td>1</td>\n",
       "      <td>NaN</td>\n",
       "      <td>mattindustries</td>\n",
       "      <td>technology</td>\n",
       "      <td>-3</td>\n",
       "      <td>-3</td>\n",
       "      <td>0</td>\n",
       "      <td>2014-09-24 04:41:44</td>\n",
       "      <td>Droids are just objectively better. Doesn't ta...</td>\n",
       "    </tr>\n",
       "    <tr>\n",
       "      <th>898863</th>\n",
       "      <td>0</td>\n",
       "      <td>NaN</td>\n",
       "      <td>RealityIsMyReligion</td>\n",
       "      <td>AskReddit</td>\n",
       "      <td>-1</td>\n",
       "      <td>-1</td>\n",
       "      <td>0</td>\n",
       "      <td>2014-10-08 14:47:52</td>\n",
       "      <td>Pharmacists of Reddit, how much do you judge p...</td>\n",
       "    </tr>\n",
       "    <tr>\n",
       "      <th>905291</th>\n",
       "      <td>1</td>\n",
       "      <td>NaN</td>\n",
       "      <td>BrightIdeaDude</td>\n",
       "      <td>DotA2</td>\n",
       "      <td>1</td>\n",
       "      <td>1</td>\n",
       "      <td>0</td>\n",
       "      <td>2013-12-12 09:27:35</td>\n",
       "      <td>SERIOUSLY?! THIS IS THE FREE ITEM I GOT FOR PL...</td>\n",
       "    </tr>\n",
       "    <tr>\n",
       "      <th>914178</th>\n",
       "      <td>1</td>\n",
       "      <td>NaN</td>\n",
       "      <td>MrOxi</td>\n",
       "      <td>trees</td>\n",
       "      <td>0</td>\n",
       "      <td>0</td>\n",
       "      <td>0</td>\n",
       "      <td>2013-02-03 17:27:54</td>\n",
       "      <td>Make sure he doesn't overdose! Too many people...</td>\n",
       "    </tr>\n",
       "    <tr>\n",
       "      <th>914615</th>\n",
       "      <td>1</td>\n",
       "      <td>NaN</td>\n",
       "      <td>sailingonward</td>\n",
       "      <td>investing</td>\n",
       "      <td>7</td>\n",
       "      <td>7</td>\n",
       "      <td>0</td>\n",
       "      <td>2012-10-05 00:10:32</td>\n",
       "      <td>Are you proposing that the stock market should...</td>\n",
       "    </tr>\n",
       "    <tr>\n",
       "      <th>918700</th>\n",
       "      <td>1</td>\n",
       "      <td>NaN</td>\n",
       "      <td>ShhDynasty</td>\n",
       "      <td>swtor</td>\n",
       "      <td>-2</td>\n",
       "      <td>-2</td>\n",
       "      <td>0</td>\n",
       "      <td>2013-08-05 12:34:10</td>\n",
       "      <td>Oh no come back please!..... How do I convey s...</td>\n",
       "    </tr>\n",
       "    <tr>\n",
       "      <th>919882</th>\n",
       "      <td>1</td>\n",
       "      <td>NaN</td>\n",
       "      <td>EOverM</td>\n",
       "      <td>britishproblems</td>\n",
       "      <td>7</td>\n",
       "      <td>7</td>\n",
       "      <td>0</td>\n",
       "      <td>2013-01-25 15:08:00</td>\n",
       "      <td>There is still no good way to convey sarcasm b...</td>\n",
       "    </tr>\n",
       "    <tr>\n",
       "      <th>923678</th>\n",
       "      <td>1</td>\n",
       "      <td>NaN</td>\n",
       "      <td>notarapist72</td>\n",
       "      <td>MensRights</td>\n",
       "      <td>1</td>\n",
       "      <td>1</td>\n",
       "      <td>0</td>\n",
       "      <td>2013-09-20 04:30:46</td>\n",
       "      <td>Oh ya. Thats no sexisttt. At alllllll</td>\n",
       "    </tr>\n",
       "    <tr>\n",
       "      <th>936221</th>\n",
       "      <td>1</td>\n",
       "      <td>NaN</td>\n",
       "      <td>MObaid27</td>\n",
       "      <td>soccer</td>\n",
       "      <td>-6</td>\n",
       "      <td>-6</td>\n",
       "      <td>0</td>\n",
       "      <td>2013-07-30 12:05:06</td>\n",
       "      <td>Bebe is a beautiful &amp;amp; wonderfully gifted f...</td>\n",
       "    </tr>\n",
       "    <tr>\n",
       "      <th>949593</th>\n",
       "      <td>1</td>\n",
       "      <td>NaN</td>\n",
       "      <td>DJGow</td>\n",
       "      <td>starcraft</td>\n",
       "      <td>9</td>\n",
       "      <td>9</td>\n",
       "      <td>0</td>\n",
       "      <td>2012-07-10 14:05:51</td>\n",
       "      <td>And thus an universal sarcasm indicator is born.</td>\n",
       "    </tr>\n",
       "    <tr>\n",
       "      <th>966886</th>\n",
       "      <td>1</td>\n",
       "      <td>NaN</td>\n",
       "      <td>Nessie</td>\n",
       "      <td>bicycling</td>\n",
       "      <td>4</td>\n",
       "      <td>4</td>\n",
       "      <td>0</td>\n",
       "      <td>2012-08-22 04:38:09</td>\n",
       "      <td>I cant tell if this is sarcasm or not, but so ...</td>\n",
       "    </tr>\n",
       "    <tr>\n",
       "      <th>967116</th>\n",
       "      <td>1</td>\n",
       "      <td>NaN</td>\n",
       "      <td>I_guess_this_will_do</td>\n",
       "      <td>pics</td>\n",
       "      <td>1</td>\n",
       "      <td>1</td>\n",
       "      <td>0</td>\n",
       "      <td>2012-03-14 21:34:25</td>\n",
       "      <td>Just trollin' brah.</td>\n",
       "    </tr>\n",
       "    <tr>\n",
       "      <th>978220</th>\n",
       "      <td>1</td>\n",
       "      <td>NaN</td>\n",
       "      <td>PoochDoobie</td>\n",
       "      <td>cats</td>\n",
       "      <td>-28</td>\n",
       "      <td>-28</td>\n",
       "      <td>0</td>\n",
       "      <td>2012-10-13 16:07:21</td>\n",
       "      <td>lol I can't believe that your cat slept throug...</td>\n",
       "    </tr>\n",
       "    <tr>\n",
       "      <th>982492</th>\n",
       "      <td>1</td>\n",
       "      <td>NaN</td>\n",
       "      <td>Ryan94985</td>\n",
       "      <td>cringepics</td>\n",
       "      <td>-7</td>\n",
       "      <td>-7</td>\n",
       "      <td>0</td>\n",
       "      <td>2013-08-15 17:27:47</td>\n",
       "      <td>Even if she is under 18 it isn't pornography. ...</td>\n",
       "    </tr>\n",
       "    <tr>\n",
       "      <th>992907</th>\n",
       "      <td>1</td>\n",
       "      <td>NaN</td>\n",
       "      <td>CenaW</td>\n",
       "      <td>politics</td>\n",
       "      <td>2</td>\n",
       "      <td>2</td>\n",
       "      <td>0</td>\n",
       "      <td>2013-09-03 17:34:58</td>\n",
       "      <td>thanks Democrats.</td>\n",
       "    </tr>\n",
       "    <tr>\n",
       "      <th>995023</th>\n",
       "      <td>1</td>\n",
       "      <td>NaN</td>\n",
       "      <td>TinHao</td>\n",
       "      <td>politics</td>\n",
       "      <td>1</td>\n",
       "      <td>1</td>\n",
       "      <td>0</td>\n",
       "      <td>2013-04-03 05:06:13</td>\n",
       "      <td>integrity?</td>\n",
       "    </tr>\n",
       "    <tr>\n",
       "      <th>1001185</th>\n",
       "      <td>1</td>\n",
       "      <td>NaN</td>\n",
       "      <td>RAGGA_MUFFIN</td>\n",
       "      <td>geek</td>\n",
       "      <td>1</td>\n",
       "      <td>1</td>\n",
       "      <td>0</td>\n",
       "      <td>2011-04-25 02:54:21</td>\n",
       "      <td>Uh, what about that looks like a ghetto to you?</td>\n",
       "    </tr>\n",
       "    <tr>\n",
       "      <th>1001891</th>\n",
       "      <td>1</td>\n",
       "      <td>NaN</td>\n",
       "      <td>polarbz</td>\n",
       "      <td>AskReddit</td>\n",
       "      <td>0</td>\n",
       "      <td>0</td>\n",
       "      <td>0</td>\n",
       "      <td>2011-06-15 13:18:18</td>\n",
       "      <td>Don't diminish this guy's amazing accomplishme...</td>\n",
       "    </tr>\n",
       "    <tr>\n",
       "      <th>1002133</th>\n",
       "      <td>1</td>\n",
       "      <td>NaN</td>\n",
       "      <td>lantech</td>\n",
       "      <td>pics</td>\n",
       "      <td>3</td>\n",
       "      <td>3</td>\n",
       "      <td>0</td>\n",
       "      <td>2010-12-02 18:37:01</td>\n",
       "      <td>We need a sarcasm font. Or perhaps I'm a retard.</td>\n",
       "    </tr>\n",
       "    <tr>\n",
       "      <th>1009303</th>\n",
       "      <td>1</td>\n",
       "      <td>NaN</td>\n",
       "      <td>viborg</td>\n",
       "      <td>politics</td>\n",
       "      <td>3</td>\n",
       "      <td>3</td>\n",
       "      <td>0</td>\n",
       "      <td>2009-09-27 19:54:30</td>\n",
       "      <td>That's an odd use of \"great\". :)</td>\n",
       "    </tr>\n",
       "    <tr>\n",
       "      <th>1010599</th>\n",
       "      <td>1</td>\n",
       "      <td>NaN</td>\n",
       "      <td>YouForgotThis</td>\n",
       "      <td>AskReddit</td>\n",
       "      <td>1</td>\n",
       "      <td>1</td>\n",
       "      <td>0</td>\n",
       "      <td>2009-06-05 11:52:31</td>\n",
       "      <td>You're definitely an intolerant homophobe. Jud...</td>\n",
       "    </tr>\n",
       "  </tbody>\n",
       "</table>\n",
       "</div>"
      ],
      "text/plain": [
       "         label comment                author             subreddit  score  \\\n",
       "56269        1     NaN             SodokuIRL       leagueoflegends      1   \n",
       "68590        1     NaN            TossTheDog         westchesterpa      1   \n",
       "135348       0     NaN              So12rovv              R6STeams      1   \n",
       "199910       0     NaN        Khvostov_7g-02                   tf2      1   \n",
       "258718       1     NaN   PeaceLovePositivity             vaporents      5   \n",
       "284331       0     NaN              FieldDay                  ar15      1   \n",
       "312969       0     NaN         dont_wear_a_C           nameaserver      1   \n",
       "328775       1     NaN      wedontlikespaces         todayilearned      6   \n",
       "331735       1     NaN              atlacatl                soccer      1   \n",
       "332600       1     NaN                Wemorg       leagueoflegends    -16   \n",
       "332631       1     NaN               Dalmazz       GlobalOffensive      1   \n",
       "362293       1     NaN                Kiux97              WWEGames      1   \n",
       "389792       1     NaN              calo9000      Gamingcirclejerk      7   \n",
       "445204       1     NaN         Untoldstory55            wowservers      2   \n",
       "505371       1     NaN       TheCavalierLads       GlobalOffensive      0   \n",
       "520619       1     NaN             ellen_pao         AdviceAnimals      2   \n",
       "524263       1     NaN               Bumbalo           harrypotter      2   \n",
       "529336       1     NaN               jhn_rob            Guildwars2      2   \n",
       "532823       1     NaN            roybringus             minnesota      3   \n",
       "569280       1     NaN   HUNG_LIKE_A_KLINGON             QUTreddit      2   \n",
       "645450       1     NaN       TasteTheRaimbow  Glitch_in_the_Matrix      2   \n",
       "651242       1     NaN                  qubi          chicagobulls      1   \n",
       "661519       1     NaN        IndigenousOres                 Steam      1   \n",
       "675235       1     NaN              Knorikus  EridanusInsurrection      5   \n",
       "683899       0     NaN           Ziffelbrixx         todayilearned      0   \n",
       "747602       0     NaN            MattHoppe1              baseball      1   \n",
       "799033       1     NaN          Skarmotastic                   nfl      2   \n",
       "800812       1     NaN           curbstickle             bicycling      7   \n",
       "813274       0     NaN           insanePower       leagueoflegends     -3   \n",
       "817886       1     NaN               Trillen          pcmasterrace      1   \n",
       "859333       1     NaN        self_defeating             worldnews      2   \n",
       "875251       1     NaN         Trout_Tickler           linux4noobs      1   \n",
       "878050       1     NaN        mattindustries            technology     -3   \n",
       "898863       0     NaN   RealityIsMyReligion             AskReddit     -1   \n",
       "905291       1     NaN        BrightIdeaDude                 DotA2      1   \n",
       "914178       1     NaN                 MrOxi                 trees      0   \n",
       "914615       1     NaN         sailingonward             investing      7   \n",
       "918700       1     NaN            ShhDynasty                 swtor     -2   \n",
       "919882       1     NaN                EOverM       britishproblems      7   \n",
       "923678       1     NaN          notarapist72            MensRights      1   \n",
       "936221       1     NaN              MObaid27                soccer     -6   \n",
       "949593       1     NaN                 DJGow             starcraft      9   \n",
       "966886       1     NaN                Nessie             bicycling      4   \n",
       "967116       1     NaN  I_guess_this_will_do                  pics      1   \n",
       "978220       1     NaN           PoochDoobie                  cats    -28   \n",
       "982492       1     NaN             Ryan94985            cringepics     -7   \n",
       "992907       1     NaN                 CenaW              politics      2   \n",
       "995023       1     NaN                TinHao              politics      1   \n",
       "1001185      1     NaN          RAGGA_MUFFIN                  geek      1   \n",
       "1001891      1     NaN               polarbz             AskReddit      0   \n",
       "1002133      1     NaN               lantech                  pics      3   \n",
       "1009303      1     NaN                viborg              politics      3   \n",
       "1010599      1     NaN         YouForgotThis             AskReddit      1   \n",
       "\n",
       "         ups  downs         created_utc  \\\n",
       "56269      1      0 2016-09-28 08:23:04   \n",
       "68590     -1     -1 2016-10-11 20:25:52   \n",
       "135348    -1     -1 2016-12-22 17:24:05   \n",
       "199910     1      0 2016-05-16 05:46:43   \n",
       "258718     5      0 2016-06-22 20:37:11   \n",
       "284331     1      0 2016-05-20 22:18:51   \n",
       "312969     1      0 2016-08-05 07:36:37   \n",
       "328775     6      0 2016-08-18 12:36:21   \n",
       "331735     1      0 2016-06-14 13:38:04   \n",
       "332600   -16      0 2016-03-03 12:04:43   \n",
       "332631     1      0 2016-03-04 14:37:15   \n",
       "362293     1      0 2015-11-04 03:40:48   \n",
       "389792     7      0 2016-02-08 19:13:44   \n",
       "445204     2      0 2016-04-24 17:13:34   \n",
       "505371     0      0 2015-11-16 11:28:00   \n",
       "520619     2      0 2015-10-01 17:48:00   \n",
       "524263     2      0 2015-12-01 14:57:20   \n",
       "529336     2      0 2015-09-21 10:59:46   \n",
       "532823     3      0 2015-08-31 22:34:11   \n",
       "569280     2      0 2015-08-10 04:49:57   \n",
       "645450     2      0 2015-12-09 04:35:53   \n",
       "651242     1      0 2015-07-10 02:56:08   \n",
       "661519     1      0 2014-11-30 04:15:00   \n",
       "675235     5      0 2015-03-25 23:11:40   \n",
       "683899     0      0 2014-12-17 16:06:47   \n",
       "747602     1      0 2015-02-16 06:25:00   \n",
       "799033     2      0 2014-09-19 19:10:55   \n",
       "800812     7      0 2014-07-21 23:03:39   \n",
       "813274    -3      0 2014-07-15 18:26:25   \n",
       "817886     1      0 2014-01-12 16:34:36   \n",
       "859333     2      0 2014-06-10 17:32:34   \n",
       "875251     1      0 2014-02-27 13:52:10   \n",
       "878050    -3      0 2014-09-24 04:41:44   \n",
       "898863    -1      0 2014-10-08 14:47:52   \n",
       "905291     1      0 2013-12-12 09:27:35   \n",
       "914178     0      0 2013-02-03 17:27:54   \n",
       "914615     7      0 2012-10-05 00:10:32   \n",
       "918700    -2      0 2013-08-05 12:34:10   \n",
       "919882     7      0 2013-01-25 15:08:00   \n",
       "923678     1      0 2013-09-20 04:30:46   \n",
       "936221    -6      0 2013-07-30 12:05:06   \n",
       "949593     9      0 2012-07-10 14:05:51   \n",
       "966886     4      0 2012-08-22 04:38:09   \n",
       "967116     1      0 2012-03-14 21:34:25   \n",
       "978220   -28      0 2012-10-13 16:07:21   \n",
       "982492    -7      0 2013-08-15 17:27:47   \n",
       "992907     2      0 2013-09-03 17:34:58   \n",
       "995023     1      0 2013-04-03 05:06:13   \n",
       "1001185    1      0 2011-04-25 02:54:21   \n",
       "1001891    0      0 2011-06-15 13:18:18   \n",
       "1002133    3      0 2010-12-02 18:37:01   \n",
       "1009303    3      0 2009-09-27 19:54:30   \n",
       "1010599    1      0 2009-06-05 11:52:31   \n",
       "\n",
       "                                            parent_comment  \n",
       "56269    LPL shitshow, EU LCS shitshow. What isn't a sh...  \n",
       "68590    Car fires smell delicious to you? You should p...  \n",
       "135348                                  Will do. EU or NA?  \n",
       "199910                                       woah, thanks.  \n",
       "258718   No, doing drugs while forming a fetus (your ki...  \n",
       "284331                                Fuck you too, buddy.  \n",
       "312969   Thu 2016-08-04 accessing vault............unlo...  \n",
       "328775                           What symbol denotes suck?  \n",
       "331735        Doesn't matter if that experience is garbage  \n",
       "332600                            Your favourite lol joke?  \n",
       "332631                                        Best region?  \n",
       "362293        Because with the newer cell it looks stupid?  \n",
       "389792   Valiant sir stands up against the console dron...  \n",
       "445204   If only it was that simple, but one fix may im...  \n",
       "505371   But then no one sees how many active friends y...  \n",
       "520619         very true, not all girls like the \"bad boy\"  \n",
       "524263   You made a statement that made me understand m...  \n",
       "529336              Yes, using game features is an exploit  \n",
       "532823   I am just shocked an upstanding group like thi...  \n",
       "569280   Very important lead story in the latest QUT Al...  \n",
       "645450                                          No thanks.  \n",
       "651242                                          No kidding  \n",
       "661519                               Lol you didn't got it  \n",
       "675235   There probably won't be master chief Might be ...  \n",
       "683899   Kinda wish the article showed the bridges on t...  \n",
       "747602   What is your hometown's \"Claim to Baseball Fam...  \n",
       "799033   ... Correct. He handed the ball off 3 times. W...  \n",
       "800812   if only there was a way to convey sarcasm thro...  \n",
       "813274   jiji still shitstomps solo q against NALCS mid...  \n",
       "817886   Did you mean the peasants eyes or do you actua...  \n",
       "859333   Because we have chosen them as sources of mind...  \n",
       "875251                                     Nah, that's Tux  \n",
       "878050   Droids are just objectively better. Doesn't ta...  \n",
       "898863   Pharmacists of Reddit, how much do you judge p...  \n",
       "905291   SERIOUSLY?! THIS IS THE FREE ITEM I GOT FOR PL...  \n",
       "914178   Make sure he doesn't overdose! Too many people...  \n",
       "914615   Are you proposing that the stock market should...  \n",
       "918700   Oh no come back please!..... How do I convey s...  \n",
       "919882   There is still no good way to convey sarcasm b...  \n",
       "923678               Oh ya. Thats no sexisttt. At alllllll  \n",
       "936221   Bebe is a beautiful &amp; wonderfully gifted f...  \n",
       "949593    And thus an universal sarcasm indicator is born.  \n",
       "966886   I cant tell if this is sarcasm or not, but so ...  \n",
       "967116                                 Just trollin' brah.  \n",
       "978220   lol I can't believe that your cat slept throug...  \n",
       "982492   Even if she is under 18 it isn't pornography. ...  \n",
       "992907                                   thanks Democrats.  \n",
       "995023                                          integrity?  \n",
       "1001185    Uh, what about that looks like a ghetto to you?  \n",
       "1001891  Don't diminish this guy's amazing accomplishme...  \n",
       "1002133   We need a sarcasm font. Or perhaps I'm a retard.  \n",
       "1009303                   That's an odd use of \"great\". :)  \n",
       "1010599  You're definitely an intolerant homophobe. Jud...  "
      ]
     },
     "execution_count": 89,
     "metadata": {},
     "output_type": "execute_result"
    }
   ],
   "source": [
    "# slicing out null comments \n",
    "null_comment = reddit.loc[reddit['comment'].isna()]\n",
    "null_comment"
   ]
  },
  {
   "cell_type": "code",
   "execution_count": 90,
   "id": "7a127404",
   "metadata": {},
   "outputs": [
    {
     "data": {
      "text/plain": [
       "84.91"
      ]
     },
     "execution_count": 90,
     "metadata": {},
     "output_type": "execute_result"
    }
   ],
   "source": [
    "# calculating percentage of sarcastic entries in `null` sample\n",
    "round(null_comment['label'].sum() / null_comment.shape[0]*100, 2)"
   ]
  },
  {
   "cell_type": "code",
   "execution_count": 91,
   "id": "fc388268",
   "metadata": {},
   "outputs": [
    {
     "data": {
      "text/plain": [
       "0    505413\n",
       "1    505413\n",
       "Name: label, dtype: int64"
      ]
     },
     "execution_count": 91,
     "metadata": {},
     "output_type": "execute_result"
    }
   ],
   "source": [
    "# checking distribution of sarcastic vs not in entire dataset\n",
    "reddit['label'].value_counts()"
   ]
  },
  {
   "cell_type": "markdown",
   "id": "29b55075",
   "metadata": {},
   "source": [
    "Unfortunately 81% of our null `comment` values are (or were) sarcastic. It would be a shame to lose this valuable data and mess up the perfect distribution of sarcastic to not.\n",
    "\n",
    "Ideally, we would go to reddit, find all of these comments, and replace the null values. We could also set them to a placeholder value like `unknown_comment`. Given that the `sarcastic` distribution is and 80/20 split in this case, it would be adviseable to withhold the placeholder as it will be later used as a token to predict the likelihood of sarcasm and even this small sample may skew the results, making `unknown_comment` a great predictor of sarcasm.\n",
    "\n",
    "We will choose to drop the rows altogether, which will ultimately have a minimal effect on the prediction."
   ]
  },
  {
   "cell_type": "code",
   "execution_count": 92,
   "id": "8190711c",
   "metadata": {},
   "outputs": [],
   "source": [
    "# dropping rows\n",
    "reddit.dropna(inplace=True)"
   ]
  },
  {
   "cell_type": "code",
   "execution_count": 93,
   "id": "e51be24d",
   "metadata": {},
   "outputs": [
    {
     "data": {
      "text/plain": [
       "label             0\n",
       "comment           0\n",
       "author            0\n",
       "subreddit         0\n",
       "score             0\n",
       "ups               0\n",
       "downs             0\n",
       "created_utc       0\n",
       "parent_comment    0\n",
       "dtype: int64"
      ]
     },
     "execution_count": 93,
     "metadata": {},
     "output_type": "execute_result"
    }
   ],
   "source": [
    "# sanity check\n",
    "reddit.isna().sum()"
   ]
  },
  {
   "cell_type": "code",
   "execution_count": 94,
   "id": "d7ee6f3c",
   "metadata": {
    "scrolled": true
   },
   "outputs": [
    {
     "data": {
      "text/plain": [
       "28"
      ]
     },
     "execution_count": 94,
     "metadata": {},
     "output_type": "execute_result"
    }
   ],
   "source": [
    "# checking for duplicate rows\n",
    "reddit.duplicated().sum()"
   ]
  },
  {
   "cell_type": "markdown",
   "id": "56b7e6be",
   "metadata": {},
   "source": [
    "There are 28 duplicate rows in our dataset consisting of 1 million. We can quickly examine the rows in question to see if we find a pattern."
   ]
  },
  {
   "cell_type": "code",
   "execution_count": 95,
   "id": "33f1d270",
   "metadata": {},
   "outputs": [
    {
     "data": {
      "text/html": [
       "<div>\n",
       "<style scoped>\n",
       "    .dataframe tbody tr th:only-of-type {\n",
       "        vertical-align: middle;\n",
       "    }\n",
       "\n",
       "    .dataframe tbody tr th {\n",
       "        vertical-align: top;\n",
       "    }\n",
       "\n",
       "    .dataframe thead th {\n",
       "        text-align: right;\n",
       "    }\n",
       "</style>\n",
       "<table border=\"1\" class=\"dataframe\">\n",
       "  <thead>\n",
       "    <tr style=\"text-align: right;\">\n",
       "      <th></th>\n",
       "      <th>label</th>\n",
       "      <th>comment</th>\n",
       "      <th>author</th>\n",
       "      <th>subreddit</th>\n",
       "      <th>score</th>\n",
       "      <th>ups</th>\n",
       "      <th>downs</th>\n",
       "      <th>created_utc</th>\n",
       "      <th>parent_comment</th>\n",
       "    </tr>\n",
       "  </thead>\n",
       "  <tbody>\n",
       "    <tr>\n",
       "      <th>23777</th>\n",
       "      <td>1</td>\n",
       "      <td>Said the under 2k post karma guy *expert*</td>\n",
       "      <td>iam4real</td>\n",
       "      <td>youdontsurf</td>\n",
       "      <td>1</td>\n",
       "      <td>-1</td>\n",
       "      <td>-1</td>\n",
       "      <td>2016-11-02 10:09:10</td>\n",
       "      <td>This subreddit really does suck.</td>\n",
       "    </tr>\n",
       "    <tr>\n",
       "      <th>78313</th>\n",
       "      <td>1</td>\n",
       "      <td>USE REAL WORDS, DAMN IT</td>\n",
       "      <td>FlameSpartan</td>\n",
       "      <td>TumblrInAction</td>\n",
       "      <td>1</td>\n",
       "      <td>1</td>\n",
       "      <td>0</td>\n",
       "      <td>2016-09-07 00:31:39</td>\n",
       "      <td>Yo, that's such a kawai'i level of desu, it ma...</td>\n",
       "    </tr>\n",
       "    <tr>\n",
       "      <th>160906</th>\n",
       "      <td>1</td>\n",
       "      <td>Hey you're that one guy who racked in all that...</td>\n",
       "      <td>OG_Phx_Son</td>\n",
       "      <td>pcmasterrace</td>\n",
       "      <td>1</td>\n",
       "      <td>-1</td>\n",
       "      <td>-1</td>\n",
       "      <td>2016-10-02 15:56:40</td>\n",
       "      <td>Practice mowing lawns pls</td>\n",
       "    </tr>\n",
       "    <tr>\n",
       "      <th>201633</th>\n",
       "      <td>1</td>\n",
       "      <td>Because Sandy Hook, CT and Aurora, CO were so ...</td>\n",
       "      <td>Gogomelo</td>\n",
       "      <td>news</td>\n",
       "      <td>-9</td>\n",
       "      <td>-9</td>\n",
       "      <td>0</td>\n",
       "      <td>2016-07-31 11:59:53</td>\n",
       "      <td>Just stay out of ghetto neighborhoods, violent...</td>\n",
       "    </tr>\n",
       "    <tr>\n",
       "      <th>223116</th>\n",
       "      <td>1</td>\n",
       "      <td>That's just a player who knows how to get maxi...</td>\n",
       "      <td>Ignitus1</td>\n",
       "      <td>heroesofthestorm</td>\n",
       "      <td>1</td>\n",
       "      <td>1</td>\n",
       "      <td>0</td>\n",
       "      <td>2016-08-06 19:40:18</td>\n",
       "      <td>tell that to the murky I played with yesterday...</td>\n",
       "    </tr>\n",
       "    <tr>\n",
       "      <th>281522</th>\n",
       "      <td>1</td>\n",
       "      <td>Im sure players would LOVE to have to fly all ...</td>\n",
       "      <td>pewpewpew52</td>\n",
       "      <td>nfl</td>\n",
       "      <td>2</td>\n",
       "      <td>2</td>\n",
       "      <td>0</td>\n",
       "      <td>2016-07-02 05:19:20</td>\n",
       "      <td>London.</td>\n",
       "    </tr>\n",
       "    <tr>\n",
       "      <th>300841</th>\n",
       "      <td>1</td>\n",
       "      <td>What if the velocity of the electricity is pro...</td>\n",
       "      <td>GoldenScarab569</td>\n",
       "      <td>AskReddit</td>\n",
       "      <td>1</td>\n",
       "      <td>1</td>\n",
       "      <td>0</td>\n",
       "      <td>2016-06-30 15:10:20</td>\n",
       "      <td>Electricity takes 1/143 of a second to travel ...</td>\n",
       "    </tr>\n",
       "    <tr>\n",
       "      <th>306604</th>\n",
       "      <td>1</td>\n",
       "      <td>Hes got Diaz and GSP lined up Wonderboy will h...</td>\n",
       "      <td>Kgb725</td>\n",
       "      <td>MMA</td>\n",
       "      <td>1</td>\n",
       "      <td>1</td>\n",
       "      <td>0</td>\n",
       "      <td>2016-08-01 09:03:45</td>\n",
       "      <td>I feel like if Woodley decides to carry on wit...</td>\n",
       "    </tr>\n",
       "    <tr>\n",
       "      <th>307543</th>\n",
       "      <td>1</td>\n",
       "      <td>Only right wing nut jobs worry about that sort...</td>\n",
       "      <td>qemist</td>\n",
       "      <td>Economics</td>\n",
       "      <td>0</td>\n",
       "      <td>0</td>\n",
       "      <td>0</td>\n",
       "      <td>2016-08-22 04:46:33</td>\n",
       "      <td>But if society collapses, how am I supposed to...</td>\n",
       "    </tr>\n",
       "    <tr>\n",
       "      <th>313724</th>\n",
       "      <td>1</td>\n",
       "      <td>Unless your neighbour's face is hidden under a...</td>\n",
       "      <td>deadcat</td>\n",
       "      <td>australia</td>\n",
       "      <td>1</td>\n",
       "      <td>1</td>\n",
       "      <td>0</td>\n",
       "      <td>2016-07-04 21:45:37</td>\n",
       "      <td>It's much easier to blindly hate a faceless id...</td>\n",
       "    </tr>\n",
       "    <tr>\n",
       "      <th>339097</th>\n",
       "      <td>1</td>\n",
       "      <td>Yeah I agree with this sub, fuck you for being...</td>\n",
       "      <td>clipperw2014</td>\n",
       "      <td>hiphopheads</td>\n",
       "      <td>0</td>\n",
       "      <td>0</td>\n",
       "      <td>0</td>\n",
       "      <td>2016-08-16 14:43:23</td>\n",
       "      <td>I was born in 2001 and I loved Fairly Odd Pare...</td>\n",
       "    </tr>\n",
       "    <tr>\n",
       "      <th>343242</th>\n",
       "      <td>1</td>\n",
       "      <td>Well this sub went from 64k to 94k last week s...</td>\n",
       "      <td>TheSergeantWinter</td>\n",
       "      <td>battlefield_one</td>\n",
       "      <td>1</td>\n",
       "      <td>-1</td>\n",
       "      <td>-1</td>\n",
       "      <td>2016-10-31 12:05:49</td>\n",
       "      <td>Define \"a lot\", and then tell me how you can j...</td>\n",
       "    </tr>\n",
       "    <tr>\n",
       "      <th>368517</th>\n",
       "      <td>1</td>\n",
       "      <td>Yeah, I hear people tend to listen to you and ...</td>\n",
       "      <td>sashafrank123</td>\n",
       "      <td>SandersForPresident</td>\n",
       "      <td>1</td>\n",
       "      <td>1</td>\n",
       "      <td>0</td>\n",
       "      <td>2016-04-20 20:05:26</td>\n",
       "      <td>Those are the same reasons why I support him, ...</td>\n",
       "    </tr>\n",
       "    <tr>\n",
       "      <th>390072</th>\n",
       "      <td>1</td>\n",
       "      <td>i swear to god if people are getting paid i am...</td>\n",
       "      <td>Tomauro0115</td>\n",
       "      <td>DestinyClan0bsidian</td>\n",
       "      <td>1</td>\n",
       "      <td>1</td>\n",
       "      <td>0</td>\n",
       "      <td>2016-02-15 18:13:38</td>\n",
       "      <td>Once again, get that raise son!</td>\n",
       "    </tr>\n",
       "    <tr>\n",
       "      <th>434533</th>\n",
       "      <td>1</td>\n",
       "      <td>\"So I went as sheik's dad.. link\" FTFY</td>\n",
       "      <td>JacobTheButtonMasher</td>\n",
       "      <td>zelda</td>\n",
       "      <td>0</td>\n",
       "      <td>0</td>\n",
       "      <td>0</td>\n",
       "      <td>2016-04-08 05:34:23</td>\n",
       "      <td>My daughters choice for Halloween last year. Z...</td>\n",
       "    </tr>\n",
       "    <tr>\n",
       "      <th>438766</th>\n",
       "      <td>1</td>\n",
       "      <td>*Sigh* What is this the fifth Italian bread po...</td>\n",
       "      <td>CrimzonGryphon</td>\n",
       "      <td>AskReddit</td>\n",
       "      <td>2</td>\n",
       "      <td>2</td>\n",
       "      <td>0</td>\n",
       "      <td>2015-11-09 15:14:20</td>\n",
       "      <td>Italian bread bakers of Reddit, what's the str...</td>\n",
       "    </tr>\n",
       "    <tr>\n",
       "      <th>463024</th>\n",
       "      <td>1</td>\n",
       "      <td>\"So I went as sheik's dad.. link\" FTFY</td>\n",
       "      <td>JacobTheButtonMasher</td>\n",
       "      <td>zelda</td>\n",
       "      <td>0</td>\n",
       "      <td>0</td>\n",
       "      <td>0</td>\n",
       "      <td>2016-04-08 05:34:23</td>\n",
       "      <td>My daughters choice for Halloween last year. Z...</td>\n",
       "    </tr>\n",
       "    <tr>\n",
       "      <th>482126</th>\n",
       "      <td>1</td>\n",
       "      <td>Then you attach a video link to their friends ...</td>\n",
       "      <td>CatWizard</td>\n",
       "      <td>PS4</td>\n",
       "      <td>2</td>\n",
       "      <td>2</td>\n",
       "      <td>0</td>\n",
       "      <td>2016-04-10 03:54:08</td>\n",
       "      <td>what if the person who owned the account was a...</td>\n",
       "    </tr>\n",
       "    <tr>\n",
       "      <th>490289</th>\n",
       "      <td>1</td>\n",
       "      <td>\"So I went as sheik's dad.. link\" FTFY</td>\n",
       "      <td>JacobTheButtonMasher</td>\n",
       "      <td>zelda</td>\n",
       "      <td>0</td>\n",
       "      <td>0</td>\n",
       "      <td>0</td>\n",
       "      <td>2016-04-08 05:34:23</td>\n",
       "      <td>My daughters choice for Halloween last year. Z...</td>\n",
       "    </tr>\n",
       "    <tr>\n",
       "      <th>492215</th>\n",
       "      <td>1</td>\n",
       "      <td>Yeah, I hear people tend to listen to you and ...</td>\n",
       "      <td>sashafrank123</td>\n",
       "      <td>SandersForPresident</td>\n",
       "      <td>1</td>\n",
       "      <td>1</td>\n",
       "      <td>0</td>\n",
       "      <td>2016-04-20 20:05:26</td>\n",
       "      <td>Those are the same reasons why I support him, ...</td>\n",
       "    </tr>\n",
       "    <tr>\n",
       "      <th>500972</th>\n",
       "      <td>1</td>\n",
       "      <td>\"So I went as sheik's dad.. link\" FTFY</td>\n",
       "      <td>JacobTheButtonMasher</td>\n",
       "      <td>zelda</td>\n",
       "      <td>1</td>\n",
       "      <td>1</td>\n",
       "      <td>0</td>\n",
       "      <td>2016-04-08 05:34:23</td>\n",
       "      <td>My daughters choice for Halloween last year. Z...</td>\n",
       "    </tr>\n",
       "    <tr>\n",
       "      <th>569719</th>\n",
       "      <td>1</td>\n",
       "      <td>of course</td>\n",
       "      <td>dumbshit111</td>\n",
       "      <td>tifu</td>\n",
       "      <td>1</td>\n",
       "      <td>1</td>\n",
       "      <td>0</td>\n",
       "      <td>2015-08-25 21:23:17</td>\n",
       "      <td>No</td>\n",
       "    </tr>\n",
       "    <tr>\n",
       "      <th>620996</th>\n",
       "      <td>1</td>\n",
       "      <td>EW GROSS</td>\n",
       "      <td>Vance87</td>\n",
       "      <td>MensRights</td>\n",
       "      <td>1</td>\n",
       "      <td>1</td>\n",
       "      <td>0</td>\n",
       "      <td>2015-09-11 19:20:03</td>\n",
       "      <td>Swedish male underwear company starts campain ...</td>\n",
       "    </tr>\n",
       "    <tr>\n",
       "      <th>638470</th>\n",
       "      <td>1</td>\n",
       "      <td>Those old rich white guys are all gmo products...</td>\n",
       "      <td>JumpingJazzJam</td>\n",
       "      <td>politics</td>\n",
       "      <td>1</td>\n",
       "      <td>1</td>\n",
       "      <td>0</td>\n",
       "      <td>2015-08-13 04:14:46</td>\n",
       "      <td>Seems dumb. He should have said that it would ...</td>\n",
       "    </tr>\n",
       "    <tr>\n",
       "      <th>652354</th>\n",
       "      <td>1</td>\n",
       "      <td>What, these people are only improving race rel...</td>\n",
       "      <td>Flakester</td>\n",
       "      <td>news</td>\n",
       "      <td>1</td>\n",
       "      <td>1</td>\n",
       "      <td>0</td>\n",
       "      <td>2015-08-11 19:47:33</td>\n",
       "      <td>How to get people to despise and hate you 101.</td>\n",
       "    </tr>\n",
       "    <tr>\n",
       "      <th>742095</th>\n",
       "      <td>1</td>\n",
       "      <td>Yea i bet it will be sooo different</td>\n",
       "      <td>SmilingButtHole</td>\n",
       "      <td>movies</td>\n",
       "      <td>0</td>\n",
       "      <td>0</td>\n",
       "      <td>0</td>\n",
       "      <td>2015-06-24 23:17:47</td>\n",
       "      <td>With the lack of an origin story and Tom Holla...</td>\n",
       "    </tr>\n",
       "    <tr>\n",
       "      <th>758738</th>\n",
       "      <td>1</td>\n",
       "      <td>Calm down, that paintball gun isn't coming out...</td>\n",
       "      <td>frumpster</td>\n",
       "      <td>pcgaming</td>\n",
       "      <td>1</td>\n",
       "      <td>1</td>\n",
       "      <td>0</td>\n",
       "      <td>2015-06-24 03:31:43</td>\n",
       "      <td>fucking dm17. fucking rail gun platform. fucki...</td>\n",
       "    </tr>\n",
       "    <tr>\n",
       "      <th>800401</th>\n",
       "      <td>1</td>\n",
       "      <td>Yeah when people die let's just throw them in ...</td>\n",
       "      <td>Truth_Hurts_</td>\n",
       "      <td>AdviceAnimals</td>\n",
       "      <td>1</td>\n",
       "      <td>1</td>\n",
       "      <td>0</td>\n",
       "      <td>2014-07-02 15:46:24</td>\n",
       "      <td>They are dead, they aren't going to get butthu...</td>\n",
       "    </tr>\n",
       "  </tbody>\n",
       "</table>\n",
       "</div>"
      ],
      "text/plain": [
       "        label                                            comment  \\\n",
       "23777       1          Said the under 2k post karma guy *expert*   \n",
       "78313       1                            USE REAL WORDS, DAMN IT   \n",
       "160906      1  Hey you're that one guy who racked in all that...   \n",
       "201633      1  Because Sandy Hook, CT and Aurora, CO were so ...   \n",
       "223116      1  That's just a player who knows how to get maxi...   \n",
       "281522      1  Im sure players would LOVE to have to fly all ...   \n",
       "300841      1  What if the velocity of the electricity is pro...   \n",
       "306604      1  Hes got Diaz and GSP lined up Wonderboy will h...   \n",
       "307543      1  Only right wing nut jobs worry about that sort...   \n",
       "313724      1  Unless your neighbour's face is hidden under a...   \n",
       "339097      1  Yeah I agree with this sub, fuck you for being...   \n",
       "343242      1  Well this sub went from 64k to 94k last week s...   \n",
       "368517      1  Yeah, I hear people tend to listen to you and ...   \n",
       "390072      1  i swear to god if people are getting paid i am...   \n",
       "434533      1             \"So I went as sheik's dad.. link\" FTFY   \n",
       "438766      1  *Sigh* What is this the fifth Italian bread po...   \n",
       "463024      1             \"So I went as sheik's dad.. link\" FTFY   \n",
       "482126      1  Then you attach a video link to their friends ...   \n",
       "490289      1             \"So I went as sheik's dad.. link\" FTFY   \n",
       "492215      1  Yeah, I hear people tend to listen to you and ...   \n",
       "500972      1             \"So I went as sheik's dad.. link\" FTFY   \n",
       "569719      1                                          of course   \n",
       "620996      1                                           EW GROSS   \n",
       "638470      1  Those old rich white guys are all gmo products...   \n",
       "652354      1  What, these people are only improving race rel...   \n",
       "742095      1                Yea i bet it will be sooo different   \n",
       "758738      1  Calm down, that paintball gun isn't coming out...   \n",
       "800401      1  Yeah when people die let's just throw them in ...   \n",
       "\n",
       "                      author            subreddit  score  ups  downs  \\\n",
       "23777               iam4real          youdontsurf      1   -1     -1   \n",
       "78313           FlameSpartan       TumblrInAction      1    1      0   \n",
       "160906            OG_Phx_Son         pcmasterrace      1   -1     -1   \n",
       "201633              Gogomelo                 news     -9   -9      0   \n",
       "223116              Ignitus1     heroesofthestorm      1    1      0   \n",
       "281522           pewpewpew52                  nfl      2    2      0   \n",
       "300841       GoldenScarab569            AskReddit      1    1      0   \n",
       "306604                Kgb725                  MMA      1    1      0   \n",
       "307543                qemist            Economics      0    0      0   \n",
       "313724               deadcat            australia      1    1      0   \n",
       "339097          clipperw2014          hiphopheads      0    0      0   \n",
       "343242     TheSergeantWinter      battlefield_one      1   -1     -1   \n",
       "368517         sashafrank123  SandersForPresident      1    1      0   \n",
       "390072           Tomauro0115  DestinyClan0bsidian      1    1      0   \n",
       "434533  JacobTheButtonMasher                zelda      0    0      0   \n",
       "438766        CrimzonGryphon            AskReddit      2    2      0   \n",
       "463024  JacobTheButtonMasher                zelda      0    0      0   \n",
       "482126             CatWizard                  PS4      2    2      0   \n",
       "490289  JacobTheButtonMasher                zelda      0    0      0   \n",
       "492215         sashafrank123  SandersForPresident      1    1      0   \n",
       "500972  JacobTheButtonMasher                zelda      1    1      0   \n",
       "569719           dumbshit111                 tifu      1    1      0   \n",
       "620996               Vance87           MensRights      1    1      0   \n",
       "638470        JumpingJazzJam             politics      1    1      0   \n",
       "652354             Flakester                 news      1    1      0   \n",
       "742095       SmilingButtHole               movies      0    0      0   \n",
       "758738             frumpster             pcgaming      1    1      0   \n",
       "800401          Truth_Hurts_        AdviceAnimals      1    1      0   \n",
       "\n",
       "               created_utc                                     parent_comment  \n",
       "23777  2016-11-02 10:09:10                   This subreddit really does suck.  \n",
       "78313  2016-09-07 00:31:39  Yo, that's such a kawai'i level of desu, it ma...  \n",
       "160906 2016-10-02 15:56:40                          Practice mowing lawns pls  \n",
       "201633 2016-07-31 11:59:53  Just stay out of ghetto neighborhoods, violent...  \n",
       "223116 2016-08-06 19:40:18  tell that to the murky I played with yesterday...  \n",
       "281522 2016-07-02 05:19:20                                            London.  \n",
       "300841 2016-06-30 15:10:20  Electricity takes 1/143 of a second to travel ...  \n",
       "306604 2016-08-01 09:03:45  I feel like if Woodley decides to carry on wit...  \n",
       "307543 2016-08-22 04:46:33  But if society collapses, how am I supposed to...  \n",
       "313724 2016-07-04 21:45:37  It's much easier to blindly hate a faceless id...  \n",
       "339097 2016-08-16 14:43:23  I was born in 2001 and I loved Fairly Odd Pare...  \n",
       "343242 2016-10-31 12:05:49  Define \"a lot\", and then tell me how you can j...  \n",
       "368517 2016-04-20 20:05:26  Those are the same reasons why I support him, ...  \n",
       "390072 2016-02-15 18:13:38                    Once again, get that raise son!  \n",
       "434533 2016-04-08 05:34:23  My daughters choice for Halloween last year. Z...  \n",
       "438766 2015-11-09 15:14:20  Italian bread bakers of Reddit, what's the str...  \n",
       "463024 2016-04-08 05:34:23  My daughters choice for Halloween last year. Z...  \n",
       "482126 2016-04-10 03:54:08  what if the person who owned the account was a...  \n",
       "490289 2016-04-08 05:34:23  My daughters choice for Halloween last year. Z...  \n",
       "492215 2016-04-20 20:05:26  Those are the same reasons why I support him, ...  \n",
       "500972 2016-04-08 05:34:23  My daughters choice for Halloween last year. Z...  \n",
       "569719 2015-08-25 21:23:17                                                 No  \n",
       "620996 2015-09-11 19:20:03  Swedish male underwear company starts campain ...  \n",
       "638470 2015-08-13 04:14:46  Seems dumb. He should have said that it would ...  \n",
       "652354 2015-08-11 19:47:33     How to get people to despise and hate you 101.  \n",
       "742095 2015-06-24 23:17:47  With the lack of an origin story and Tom Holla...  \n",
       "758738 2015-06-24 03:31:43  fucking dm17. fucking rail gun platform. fucki...  \n",
       "800401 2014-07-02 15:46:24  They are dead, they aren't going to get butthu...  "
      ]
     },
     "execution_count": 95,
     "metadata": {},
     "output_type": "execute_result"
    }
   ],
   "source": [
    "reddit.loc[reddit.duplicated()]"
   ]
  },
  {
   "cell_type": "markdown",
   "id": "290524f4",
   "metadata": {},
   "source": [
    "The only pattern to be seen is that all duplicate rows are sarcastic, which is again, unfortunate. We will go ahead and drop the rows."
   ]
  },
  {
   "cell_type": "code",
   "execution_count": 96,
   "id": "5e39bb3c",
   "metadata": {},
   "outputs": [],
   "source": [
    "# dropping duplicates\n",
    "reddit.drop_duplicates(inplace=True)"
   ]
  },
  {
   "cell_type": "code",
   "execution_count": 97,
   "id": "82457ea1",
   "metadata": {},
   "outputs": [
    {
     "data": {
      "text/plain": [
       "0"
      ]
     },
     "execution_count": 97,
     "metadata": {},
     "output_type": "execute_result"
    }
   ],
   "source": [
    "# sanity\n",
    "reddit.duplicated().sum()"
   ]
  },
  {
   "cell_type": "markdown",
   "id": "bb3d8698",
   "metadata": {},
   "source": [
    "Now that our null values and duplicates have been eliminated, we will go on to explore the dataset to get to know the distributions of values and check for outliers and oddities."
   ]
  },
  {
   "cell_type": "markdown",
   "id": "4d638c14",
   "metadata": {},
   "source": [
    "It is easiest to start with the numeric columns so let us focus on the `ups`, `downs` and `score`"
   ]
  },
  {
   "cell_type": "code",
   "execution_count": 98,
   "id": "21287d82",
   "metadata": {
    "scrolled": true
   },
   "outputs": [
    {
     "data": {
      "text/plain": [
       "count    1.010745e+06\n",
       "mean     5.499283e+00\n",
       "std      4.127458e+01\n",
       "min     -5.070000e+02\n",
       "25%      0.000000e+00\n",
       "50%      1.000000e+00\n",
       "75%      3.000000e+00\n",
       "max      5.163000e+03\n",
       "Name: ups, dtype: float64"
      ]
     },
     "execution_count": 98,
     "metadata": {},
     "output_type": "execute_result"
    }
   ],
   "source": [
    "# gathering basic info on `ups` column\n",
    "reddit['ups'].describe()"
   ]
  },
  {
   "cell_type": "code",
   "execution_count": 99,
   "id": "6569c628",
   "metadata": {},
   "outputs": [
    {
     "data": {
      "text/plain": [
       "1.0"
      ]
     },
     "execution_count": 99,
     "metadata": {},
     "output_type": "execute_result"
    }
   ],
   "source": [
    "reddit['ups'].median()"
   ]
  },
  {
   "cell_type": "markdown",
   "id": "f21b756f",
   "metadata": {},
   "source": [
    "A few things to note:\n",
    "- 75% of the values fall below 3\n",
    "- **25% of the values fall below 0**\n",
    "- The median is 1 and the mean is 5.5\n",
    "- max value is 5000 and min is **-500**\n",
    "\n"
   ]
  },
  {
   "cell_type": "markdown",
   "id": "5add036f",
   "metadata": {},
   "source": [
    "The fact that negative values are present in the `ups` column is an area of concern and requires investigation. We would expect all values in the `ups` column to be positive, as every `upvote` or `like` raises the total. We would also expect the `downs` values to be either positive or negative, and the `score` column to be the total calculated by either the subtraction of the `downs` from the `ups`, or the addition of the positive `ups` to the negative `downs`."
   ]
  },
  {
   "cell_type": "code",
   "execution_count": 100,
   "id": "787e3b5f",
   "metadata": {
    "scrolled": true
   },
   "outputs": [
    {
     "name": "stderr",
     "output_type": "stream",
     "text": [
      "C:\\Users\\gravi\\anaconda3\\envs\\sarcasm\\lib\\site-packages\\pandas\\core\\arraylike.py:364: RuntimeWarning: divide by zero encountered in log\n",
      "  result = getattr(ufunc, method)(*inputs, **kwargs)\n",
      "C:\\Users\\gravi\\anaconda3\\envs\\sarcasm\\lib\\site-packages\\pandas\\core\\arraylike.py:364: RuntimeWarning: invalid value encountered in log\n",
      "  result = getattr(ufunc, method)(*inputs, **kwargs)\n"
     ]
    },
    {
     "data": {
      "text/plain": [
       "<AxesSubplot: >"
      ]
     },
     "execution_count": 100,
     "metadata": {},
     "output_type": "execute_result"
    },
    {
     "data": {
      "image/png": "[encoded data removed]",
      "text/plain": [
       "<Figure size 400x800 with 1 Axes>"
      ]
     },
     "metadata": {},
     "output_type": "display_data"
    }
   ],
   "source": [
    "# limited visualization to get idea of distribution\n",
    "plt.figure(figsize=(4,8))\n",
    "np.log(reddit['ups']).plot(kind='box')\n"
   ]
  },
  {
   "cell_type": "markdown",
   "id": "56985945",
   "metadata": {},
   "source": [
    "#### This is not an entirely accurate representation of the data as it excludes the negative values as well as 0 itself. Plotting without the log function leads to an essentially uninterprettable boxplot as there are so many individual data points outside of the box and the scale of the plot is skewed by the outliers."
   ]
  },
  {
   "cell_type": "code",
   "execution_count": 101,
   "id": "eb8fb776",
   "metadata": {},
   "outputs": [
    {
     "data": {
      "text/plain": [
       "Text(0.5, 1.0, 'Upvote Distribution')"
      ]
     },
     "execution_count": 101,
     "metadata": {},
     "output_type": "execute_result"
    },
    {
     "data": {
      "image/png": "[encoded data removed]",
      "text/plain": [
       "<Figure size 1000x600 with 1 Axes>"
      ]
     },
     "metadata": {},
     "output_type": "display_data"
    }
   ],
   "source": [
    "# plotting histogram to get a sense of the distribution\n",
    "plt.figure(figsize=(10,6))\n",
    "reddit['ups'].plot(kind='hist', bins=10000)\n",
    "plt.xlim(-15,35)\n",
    "plt.xlabel('Number of Upvotes')\n",
    "plt.title('Upvote Distribution')"
   ]
  },
  {
   "cell_type": "markdown",
   "id": "5dcd47b5",
   "metadata": {},
   "source": [
    "With this visual, we can see a particularily concerning frequency of `-1` values in our distribution. We will explore the reasoning behind this below."
   ]
  },
  {
   "cell_type": "code",
   "execution_count": 102,
   "id": "f63ba642",
   "metadata": {
    "scrolled": true
   },
   "outputs": [
    {
     "data": {
      "text/plain": [
       " 1     28.648373\n",
       "-1     16.625262\n",
       " 2     13.750352\n",
       " 3      7.577876\n",
       " 0      5.129088\n",
       " 4      3.532345\n",
       " 5      3.252551\n",
       " 6      2.485592\n",
       " 7      1.900281\n",
       " 8      1.506908\n",
       " 9      1.217815\n",
       "-2      1.064166\n",
       " 10     0.979080\n",
       " 11     0.830180\n",
       " 12     0.694438\n",
       "Name: ups, dtype: float64"
      ]
     },
     "execution_count": 102,
     "metadata": {},
     "output_type": "execute_result"
    }
   ],
   "source": [
    "# gathering list of percentages of 15 most frequent values \n",
    "reddit['ups'].value_counts().sort_values(ascending=False).head(15) / reddit.shape[0]*100"
   ]
  },
  {
   "cell_type": "markdown",
   "id": "dd31f96e",
   "metadata": {},
   "source": [
    "Here we can see that the vast majority of the values lie within the range of `-2` and `9`. But again, the negative values are of concern to us, so we need to dig deeper to gather more information on what these values mean and how `ups`, `downs` and `score` relate to one another."
   ]
  },
  {
   "cell_type": "code",
   "execution_count": 103,
   "id": "ce2ccbf6",
   "metadata": {},
   "outputs": [
    {
     "data": {
      "text/plain": [
       " 1     33.636476\n",
       " 2     16.093673\n",
       " 3      8.932718\n",
       " 0      5.751698\n",
       " 4      4.153174\n",
       " 5      3.838753\n",
       " 6      2.928434\n",
       "-1      2.256652\n",
       " 7      2.252299\n",
       " 8      1.787197\n",
       " 9      1.436564\n",
       "-2      1.179724\n",
       " 10     1.168940\n",
       " 11     0.989171\n",
       " 12     0.830773\n",
       "Name: score, dtype: float64"
      ]
     },
     "execution_count": 103,
     "metadata": {},
     "output_type": "execute_result"
    }
   ],
   "source": [
    "# `score` value distribution as % of frequency\n",
    "reddit['score'].value_counts().sort_values(ascending=False).head(15) / reddit.shape[0]*100"
   ]
  },
  {
   "cell_type": "markdown",
   "id": "ffb96645",
   "metadata": {},
   "source": [
    "Doing the same calculation for the `score`, we see that it has a very similar distribution, as well as negative values, which in this case do not concern us (for now), as they are entirely within the realm of possibility."
   ]
  },
  {
   "cell_type": "code",
   "execution_count": 104,
   "id": "8ac02de8",
   "metadata": {},
   "outputs": [
    {
     "data": {
      "text/plain": [
       "Text(0.5, 1.0, 'Score Distribution')"
      ]
     },
     "execution_count": 104,
     "metadata": {},
     "output_type": "execute_result"
    },
    {
     "data": {
      "image/png": "[encoded data removed]",
      "text/plain": [
       "<Figure size 1000x600 with 1 Axes>"
      ]
     },
     "metadata": {},
     "output_type": "display_data"
    }
   ],
   "source": [
    "# plotting `score` values to get a sense of distribution\n",
    "plt.figure(figsize=(10,6))\n",
    "reddit['score'].plot(kind='hist', bins=10000)\n",
    "plt.xlim(-15,35)\n",
    "plt.xlabel('Score')\n",
    "plt.title('Score Distribution')"
   ]
  },
  {
   "cell_type": "markdown",
   "id": "7bd9a77c",
   "metadata": {},
   "source": [
    "With this visual we can see that by far the most frequent `score` value is `1`, and as discussed previously, the majority of the values lie between `-2` and `9`."
   ]
  },
  {
   "cell_type": "code",
   "execution_count": 105,
   "id": "c4c5ebcf",
   "metadata": {},
   "outputs": [
    {
     "data": {
      "text/plain": [
       "1"
      ]
     },
     "execution_count": 105,
     "metadata": {},
     "output_type": "execute_result"
    }
   ],
   "source": [
    "# confirmation of most frequent score\n",
    "reddit['score'].mode()[0]"
   ]
  },
  {
   "cell_type": "markdown",
   "id": "a9d08a62",
   "metadata": {},
   "source": [
    "Now we can begin examining the negative values in the `ups` column to see if we can find a patter or explanation.\n",
    "We begin by isolating the negative values and looking at a sample."
   ]
  },
  {
   "cell_type": "code",
   "execution_count": 106,
   "id": "be7c0cb2",
   "metadata": {},
   "outputs": [
    {
     "data": {
      "text/html": [
       "<div>\n",
       "<style scoped>\n",
       "    .dataframe tbody tr th:only-of-type {\n",
       "        vertical-align: middle;\n",
       "    }\n",
       "\n",
       "    .dataframe tbody tr th {\n",
       "        vertical-align: top;\n",
       "    }\n",
       "\n",
       "    .dataframe thead th {\n",
       "        text-align: right;\n",
       "    }\n",
       "</style>\n",
       "<table border=\"1\" class=\"dataframe\">\n",
       "  <thead>\n",
       "    <tr style=\"text-align: right;\">\n",
       "      <th></th>\n",
       "      <th>label</th>\n",
       "      <th>comment</th>\n",
       "      <th>author</th>\n",
       "      <th>subreddit</th>\n",
       "      <th>score</th>\n",
       "      <th>ups</th>\n",
       "      <th>downs</th>\n",
       "      <th>created_utc</th>\n",
       "      <th>parent_comment</th>\n",
       "    </tr>\n",
       "  </thead>\n",
       "  <tbody>\n",
       "    <tr>\n",
       "      <th>2373</th>\n",
       "      <td>1</td>\n",
       "      <td>Or 4000!</td>\n",
       "      <td>7StarNat</td>\n",
       "      <td>sports</td>\n",
       "      <td>35</td>\n",
       "      <td>-1</td>\n",
       "      <td>-1</td>\n",
       "      <td>2016-11-06 05:53:51</td>\n",
       "      <td>Or alternatively the first time in 14 billion ...</td>\n",
       "    </tr>\n",
       "    <tr>\n",
       "      <th>74586</th>\n",
       "      <td>1</td>\n",
       "      <td>Oh, well, good to see they unfucked the shit t...</td>\n",
       "      <td>irieCO</td>\n",
       "      <td>wow</td>\n",
       "      <td>10</td>\n",
       "      <td>-1</td>\n",
       "      <td>-1</td>\n",
       "      <td>2016-11-23 12:17:36</td>\n",
       "      <td>Updates: Class Changes</td>\n",
       "    </tr>\n",
       "    <tr>\n",
       "      <th>357187</th>\n",
       "      <td>1</td>\n",
       "      <td>I care so deeply about this show,and i am asha...</td>\n",
       "      <td>Vitorfg</td>\n",
       "      <td>Showerthoughts</td>\n",
       "      <td>-15</td>\n",
       "      <td>-15</td>\n",
       "      <td>0</td>\n",
       "      <td>2016-01-10 19:12:47</td>\n",
       "      <td>Yeah not like she remains one of the 3 main ch...</td>\n",
       "    </tr>\n",
       "    <tr>\n",
       "      <th>111603</th>\n",
       "      <td>1</td>\n",
       "      <td>I disagree because last year the had one of ou...</td>\n",
       "      <td>thejewfro69</td>\n",
       "      <td>CFB</td>\n",
       "      <td>2</td>\n",
       "      <td>-1</td>\n",
       "      <td>-1</td>\n",
       "      <td>2016-12-15 18:27:00</td>\n",
       "      <td>ESPN is the laughing stock of the recruiting w...</td>\n",
       "    </tr>\n",
       "    <tr>\n",
       "      <th>7562</th>\n",
       "      <td>1</td>\n",
       "      <td>She's, uhh, unique..?</td>\n",
       "      <td>unzip_da_baaaaag</td>\n",
       "      <td>trees</td>\n",
       "      <td>1</td>\n",
       "      <td>-1</td>\n",
       "      <td>-1</td>\n",
       "      <td>2016-12-17 17:03:30</td>\n",
       "      <td>This is my Christmas Tree!</td>\n",
       "    </tr>\n",
       "    <tr>\n",
       "      <th>150709</th>\n",
       "      <td>0</td>\n",
       "      <td>That's why **you** cuddle up to her, then move...</td>\n",
       "      <td>theonewhogroks</td>\n",
       "      <td>AskReddit</td>\n",
       "      <td>1</td>\n",
       "      <td>-1</td>\n",
       "      <td>-1</td>\n",
       "      <td>2016-10-29 06:15:24</td>\n",
       "      <td>If shes anything like my wife, she'd *still* c...</td>\n",
       "    </tr>\n",
       "    <tr>\n",
       "      <th>87990</th>\n",
       "      <td>1</td>\n",
       "      <td>Have 5 years of experience in frameworks that ...</td>\n",
       "      <td>___Kosh</td>\n",
       "      <td>cscareerquestions</td>\n",
       "      <td>34</td>\n",
       "      <td>-1</td>\n",
       "      <td>-1</td>\n",
       "      <td>2016-12-11 07:09:43</td>\n",
       "      <td>What are the general requirements for an entry...</td>\n",
       "    </tr>\n",
       "    <tr>\n",
       "      <th>165720</th>\n",
       "      <td>0</td>\n",
       "      <td>These is the moderate opposition our governmen...</td>\n",
       "      <td>elolna</td>\n",
       "      <td>russia</td>\n",
       "      <td>3</td>\n",
       "      <td>-1</td>\n",
       "      <td>-1</td>\n",
       "      <td>2016-10-31 13:46:16</td>\n",
       "      <td>I am American and just moved back here after 3...</td>\n",
       "    </tr>\n",
       "    <tr>\n",
       "      <th>160857</th>\n",
       "      <td>1</td>\n",
       "      <td>Yeah, thank god this sub is above cheap gags a...</td>\n",
       "      <td>FlashByNature</td>\n",
       "      <td>SquaredCircle</td>\n",
       "      <td>110</td>\n",
       "      <td>-1</td>\n",
       "      <td>-1</td>\n",
       "      <td>2016-10-01 14:01:12</td>\n",
       "      <td>YouTube is the worst. Comments like \"CURRY BOY...</td>\n",
       "    </tr>\n",
       "    <tr>\n",
       "      <th>106111</th>\n",
       "      <td>0</td>\n",
       "      <td>I get the same</td>\n",
       "      <td>RyKel46</td>\n",
       "      <td>TheWeeknd</td>\n",
       "      <td>1</td>\n",
       "      <td>-1</td>\n",
       "      <td>-1</td>\n",
       "      <td>2016-11-18 02:05:15</td>\n",
       "      <td>Weird, know why I keep getting this error? \"Th...</td>\n",
       "    </tr>\n",
       "  </tbody>\n",
       "</table>\n",
       "</div>"
      ],
      "text/plain": [
       "        label                                            comment  \\\n",
       "2373        1                                           Or 4000!   \n",
       "74586       1  Oh, well, good to see they unfucked the shit t...   \n",
       "357187      1  I care so deeply about this show,and i am asha...   \n",
       "111603      1  I disagree because last year the had one of ou...   \n",
       "7562        1                              She's, uhh, unique..?   \n",
       "150709      0  That's why **you** cuddle up to her, then move...   \n",
       "87990       1  Have 5 years of experience in frameworks that ...   \n",
       "165720      0  These is the moderate opposition our governmen...   \n",
       "160857      1  Yeah, thank god this sub is above cheap gags a...   \n",
       "106111      0                                     I get the same   \n",
       "\n",
       "                  author          subreddit  score  ups  downs  \\\n",
       "2373            7StarNat             sports     35   -1     -1   \n",
       "74586             irieCO                wow     10   -1     -1   \n",
       "357187           Vitorfg     Showerthoughts    -15  -15      0   \n",
       "111603       thejewfro69                CFB      2   -1     -1   \n",
       "7562    unzip_da_baaaaag              trees      1   -1     -1   \n",
       "150709    theonewhogroks          AskReddit      1   -1     -1   \n",
       "87990            ___Kosh  cscareerquestions     34   -1     -1   \n",
       "165720            elolna             russia      3   -1     -1   \n",
       "160857     FlashByNature      SquaredCircle    110   -1     -1   \n",
       "106111           RyKel46          TheWeeknd      1   -1     -1   \n",
       "\n",
       "               created_utc                                     parent_comment  \n",
       "2373   2016-11-06 05:53:51  Or alternatively the first time in 14 billion ...  \n",
       "74586  2016-11-23 12:17:36                             Updates: Class Changes  \n",
       "357187 2016-01-10 19:12:47  Yeah not like she remains one of the 3 main ch...  \n",
       "111603 2016-12-15 18:27:00  ESPN is the laughing stock of the recruiting w...  \n",
       "7562   2016-12-17 17:03:30                         This is my Christmas Tree!  \n",
       "150709 2016-10-29 06:15:24  If shes anything like my wife, she'd *still* c...  \n",
       "87990  2016-12-11 07:09:43  What are the general requirements for an entry...  \n",
       "165720 2016-10-31 13:46:16  I am American and just moved back here after 3...  \n",
       "160857 2016-10-01 14:01:12  YouTube is the worst. Comments like \"CURRY BOY...  \n",
       "106111 2016-11-18 02:05:15  Weird, know why I keep getting this error? \"Th...  "
      ]
     },
     "execution_count": 106,
     "metadata": {},
     "output_type": "execute_result"
    }
   ],
   "source": [
    "# random sample of `ups` values lower than 1\n",
    "reddit.loc[reddit['ups'] < 0].sample(10, random_state=1)"
   ]
  },
  {
   "cell_type": "markdown",
   "id": "03b3c12f",
   "metadata": {},
   "source": [
    "In examining the particular sample, there are a few things to note:\n",
    "- most values = -1\n",
    "- if `downs` = 0, `score` = `ups`\n",
    "- in row 1, `ups` is -1 and `downs` is -1. The score is +2, which is strange\n",
    "- in row 4, \"\"           \"\"               and The score is +3, which is even more strange\n"
   ]
  },
  {
   "cell_type": "markdown",
   "id": "ea419f44",
   "metadata": {},
   "source": [
    "It is difficult to find a relationship between `ups`, `downs`, and `score` given this sample. Let us investigate further."
   ]
  },
  {
   "cell_type": "code",
   "execution_count": 107,
   "id": "988ebb8a",
   "metadata": {},
   "outputs": [
    {
     "data": {
      "text/plain": [
       "209158"
      ]
     },
     "execution_count": 107,
     "metadata": {},
     "output_type": "execute_result"
    }
   ],
   "source": [
    "# seeing how many `ups` values there are below 0\n",
    "reddit.loc[reddit['ups'] < 0].shape[0]"
   ]
  },
  {
   "cell_type": "markdown",
   "id": "a332eeb8",
   "metadata": {},
   "source": [
    "There are a total of 200k `ups` values below 0"
   ]
  },
  {
   "cell_type": "markdown",
   "id": "ee794813",
   "metadata": {},
   "source": [
    "Perhaps the `downs` column can give us some insight about how the `score` is calculated."
   ]
  },
  {
   "cell_type": "code",
   "execution_count": 108,
   "id": "b82eabf5",
   "metadata": {},
   "outputs": [
    {
     "data": {
      "text/plain": [
       " 0    863308\n",
       "-1    147437\n",
       "Name: downs, dtype: int64"
      ]
     },
     "execution_count": 108,
     "metadata": {},
     "output_type": "execute_result"
    }
   ],
   "source": [
    "# checking value counts of `downs`\n",
    "reddit['downs'].value_counts()"
   ]
  },
  {
   "cell_type": "markdown",
   "id": "40ad22c7",
   "metadata": {},
   "source": [
    "Checking the `value_counts` accomplishes two things: it gives us an idea of the distribution of values, as well as indicates how many unique values there are. Curiously, there seem to be only 2 unique values in the `downs` column."
   ]
  },
  {
   "cell_type": "code",
   "execution_count": 109,
   "id": "3e7c141d",
   "metadata": {},
   "outputs": [
    {
     "data": {
      "text/plain": [
       "2"
      ]
     },
     "execution_count": 109,
     "metadata": {},
     "output_type": "execute_result"
    }
   ],
   "source": [
    "# sanity check to confirm\n",
    "reddit['downs'].nunique()"
   ]
  },
  {
   "cell_type": "markdown",
   "id": "6f43831d",
   "metadata": {},
   "source": [
    "Having confirmed there are only 2 unique values, we can try to come up with an explanation:\n",
    "- given there are > 1 million entries, it is very unlikely to not have a single post with more than one `downvote`\n",
    "- it may be binary indicating whether `downvote` present or not\n",
    "- the `downvote`s themselves are calculated within the `ups` column, explaining the negative values\n",
    "- have little, if any, relationship with the `score` column"
   ]
  },
  {
   "cell_type": "markdown",
   "id": "ae2bdfed",
   "metadata": {},
   "source": [
    "--------------------------------------------------------------------------------------------------------------------------------"
   ]
  },
  {
   "cell_type": "markdown",
   "id": "76348388",
   "metadata": {},
   "source": [
    "Let us move on to the relationship between `ups` and `score`. In our sample, we noticed that when `downs` = 0, `ups` = `score`. Let us see how many cases of `ups` = `score` we have."
   ]
  },
  {
   "cell_type": "code",
   "execution_count": 110,
   "id": "b3c8a33f",
   "metadata": {
    "scrolled": true
   },
   "outputs": [
    {
     "data": {
      "text/html": [
       "<div>\n",
       "<style scoped>\n",
       "    .dataframe tbody tr th:only-of-type {\n",
       "        vertical-align: middle;\n",
       "    }\n",
       "\n",
       "    .dataframe tbody tr th {\n",
       "        vertical-align: top;\n",
       "    }\n",
       "\n",
       "    .dataframe thead th {\n",
       "        text-align: right;\n",
       "    }\n",
       "</style>\n",
       "<table border=\"1\" class=\"dataframe\">\n",
       "  <thead>\n",
       "    <tr style=\"text-align: right;\">\n",
       "      <th></th>\n",
       "      <th>label</th>\n",
       "      <th>comment</th>\n",
       "      <th>author</th>\n",
       "      <th>subreddit</th>\n",
       "      <th>score</th>\n",
       "      <th>ups</th>\n",
       "      <th>downs</th>\n",
       "      <th>created_utc</th>\n",
       "      <th>parent_comment</th>\n",
       "    </tr>\n",
       "  </thead>\n",
       "  <tbody>\n",
       "    <tr>\n",
       "      <th>2</th>\n",
       "      <td>0</td>\n",
       "      <td>They were underdogs earlier today, but since G...</td>\n",
       "      <td>Creepeth</td>\n",
       "      <td>nfl</td>\n",
       "      <td>3</td>\n",
       "      <td>3</td>\n",
       "      <td>0</td>\n",
       "      <td>2016-09-22 21:45:37</td>\n",
       "      <td>They're favored to win.</td>\n",
       "    </tr>\n",
       "    <tr>\n",
       "      <th>5</th>\n",
       "      <td>0</td>\n",
       "      <td>I don't pay attention to her, but as long as s...</td>\n",
       "      <td>only7inches</td>\n",
       "      <td>AskReddit</td>\n",
       "      <td>0</td>\n",
       "      <td>0</td>\n",
       "      <td>0</td>\n",
       "      <td>2016-09-02 10:35:08</td>\n",
       "      <td>do you find ariana grande sexy ?</td>\n",
       "    </tr>\n",
       "    <tr>\n",
       "      <th>10</th>\n",
       "      <td>0</td>\n",
       "      <td>I think a significant amount would be against ...</td>\n",
       "      <td>ThisIsNotKimJongUn</td>\n",
       "      <td>politics</td>\n",
       "      <td>92</td>\n",
       "      <td>92</td>\n",
       "      <td>0</td>\n",
       "      <td>2016-09-20 17:53:52</td>\n",
       "      <td>I bet if that money was poured into college de...</td>\n",
       "    </tr>\n",
       "    <tr>\n",
       "      <th>14</th>\n",
       "      <td>0</td>\n",
       "      <td>Ayy bb wassup, it makes a bit more sense in co...</td>\n",
       "      <td>Jakethejoker</td>\n",
       "      <td>NYGiants</td>\n",
       "      <td>29</td>\n",
       "      <td>29</td>\n",
       "      <td>0</td>\n",
       "      <td>2016-09-19 18:46:58</td>\n",
       "      <td>Ill give you a hint. They commented in this th...</td>\n",
       "    </tr>\n",
       "    <tr>\n",
       "      <th>18</th>\n",
       "      <td>0</td>\n",
       "      <td>why you fail me, my precious?</td>\n",
       "      <td>kozmo1313</td>\n",
       "      <td>HillaryForPrison</td>\n",
       "      <td>1</td>\n",
       "      <td>1</td>\n",
       "      <td>0</td>\n",
       "      <td>2016-09-18 13:02:45</td>\n",
       "      <td>Clinton struggles to gain traction in Florida,...</td>\n",
       "    </tr>\n",
       "    <tr>\n",
       "      <th>...</th>\n",
       "      <td>...</td>\n",
       "      <td>...</td>\n",
       "      <td>...</td>\n",
       "      <td>...</td>\n",
       "      <td>...</td>\n",
       "      <td>...</td>\n",
       "      <td>...</td>\n",
       "      <td>...</td>\n",
       "      <td>...</td>\n",
       "    </tr>\n",
       "    <tr>\n",
       "      <th>1010821</th>\n",
       "      <td>1</td>\n",
       "      <td>I'm sure that Iran and N. Korea have the techn...</td>\n",
       "      <td>TwarkMain</td>\n",
       "      <td>reddit.com</td>\n",
       "      <td>2</td>\n",
       "      <td>2</td>\n",
       "      <td>0</td>\n",
       "      <td>2009-04-25 00:47:52</td>\n",
       "      <td>No one is calling this an engineered pathogen,...</td>\n",
       "    </tr>\n",
       "    <tr>\n",
       "      <th>1010822</th>\n",
       "      <td>1</td>\n",
       "      <td>whatever you do, don't vote green!</td>\n",
       "      <td>BCHarvey</td>\n",
       "      <td>climate</td>\n",
       "      <td>1</td>\n",
       "      <td>1</td>\n",
       "      <td>0</td>\n",
       "      <td>2009-05-14 22:27:40</td>\n",
       "      <td>In a move typical of their recent do-nothing a...</td>\n",
       "    </tr>\n",
       "    <tr>\n",
       "      <th>1010823</th>\n",
       "      <td>1</td>\n",
       "      <td>Perhaps this is an atheist conspiracy to make ...</td>\n",
       "      <td>rebelcommander</td>\n",
       "      <td>atheism</td>\n",
       "      <td>1</td>\n",
       "      <td>1</td>\n",
       "      <td>0</td>\n",
       "      <td>2009-01-11 00:22:57</td>\n",
       "      <td>Screw the Disabled--I've got to get to Church ...</td>\n",
       "    </tr>\n",
       "    <tr>\n",
       "      <th>1010824</th>\n",
       "      <td>1</td>\n",
       "      <td>The Slavs got their own country - it is called...</td>\n",
       "      <td>catsi</td>\n",
       "      <td>worldnews</td>\n",
       "      <td>1</td>\n",
       "      <td>1</td>\n",
       "      <td>0</td>\n",
       "      <td>2009-01-23 21:12:49</td>\n",
       "      <td>I've always been unsettled by that. I hear a l...</td>\n",
       "    </tr>\n",
       "    <tr>\n",
       "      <th>1010825</th>\n",
       "      <td>1</td>\n",
       "      <td>values, as in capitalism .. there is good mone...</td>\n",
       "      <td>frogking</td>\n",
       "      <td>politics</td>\n",
       "      <td>2</td>\n",
       "      <td>2</td>\n",
       "      <td>0</td>\n",
       "      <td>2009-01-24 06:20:14</td>\n",
       "      <td>Why do the people who make our laws seem unabl...</td>\n",
       "    </tr>\n",
       "  </tbody>\n",
       "</table>\n",
       "<p>865515 rows × 9 columns</p>\n",
       "</div>"
      ],
      "text/plain": [
       "         label                                            comment  \\\n",
       "2            0  They were underdogs earlier today, but since G...   \n",
       "5            0  I don't pay attention to her, but as long as s...   \n",
       "10           0  I think a significant amount would be against ...   \n",
       "14           0  Ayy bb wassup, it makes a bit more sense in co...   \n",
       "18           0                      why you fail me, my precious?   \n",
       "...        ...                                                ...   \n",
       "1010821      1  I'm sure that Iran and N. Korea have the techn...   \n",
       "1010822      1                 whatever you do, don't vote green!   \n",
       "1010823      1  Perhaps this is an atheist conspiracy to make ...   \n",
       "1010824      1  The Slavs got their own country - it is called...   \n",
       "1010825      1  values, as in capitalism .. there is good mone...   \n",
       "\n",
       "                     author         subreddit  score  ups  downs  \\\n",
       "2                  Creepeth               nfl      3    3      0   \n",
       "5               only7inches         AskReddit      0    0      0   \n",
       "10       ThisIsNotKimJongUn          politics     92   92      0   \n",
       "14             Jakethejoker          NYGiants     29   29      0   \n",
       "18                kozmo1313  HillaryForPrison      1    1      0   \n",
       "...                     ...               ...    ...  ...    ...   \n",
       "1010821           TwarkMain        reddit.com      2    2      0   \n",
       "1010822            BCHarvey           climate      1    1      0   \n",
       "1010823      rebelcommander           atheism      1    1      0   \n",
       "1010824               catsi         worldnews      1    1      0   \n",
       "1010825            frogking          politics      2    2      0   \n",
       "\n",
       "                created_utc                                     parent_comment  \n",
       "2       2016-09-22 21:45:37                            They're favored to win.  \n",
       "5       2016-09-02 10:35:08                   do you find ariana grande sexy ?  \n",
       "10      2016-09-20 17:53:52  I bet if that money was poured into college de...  \n",
       "14      2016-09-19 18:46:58  Ill give you a hint. They commented in this th...  \n",
       "18      2016-09-18 13:02:45  Clinton struggles to gain traction in Florida,...  \n",
       "...                     ...                                                ...  \n",
       "1010821 2009-04-25 00:47:52  No one is calling this an engineered pathogen,...  \n",
       "1010822 2009-05-14 22:27:40  In a move typical of their recent do-nothing a...  \n",
       "1010823 2009-01-11 00:22:57  Screw the Disabled--I've got to get to Church ...  \n",
       "1010824 2009-01-23 21:12:49  I've always been unsettled by that. I hear a l...  \n",
       "1010825 2009-01-24 06:20:14  Why do the people who make our laws seem unabl...  \n",
       "\n",
       "[865515 rows x 9 columns]"
      ]
     },
     "execution_count": 110,
     "metadata": {},
     "output_type": "execute_result"
    }
   ],
   "source": [
    "reddit.loc[reddit['ups'] == reddit['score']]"
   ]
  },
  {
   "cell_type": "code",
   "execution_count": 111,
   "id": "c2f2b665",
   "metadata": {
    "scrolled": true
   },
   "outputs": [
    {
     "data": {
      "text/plain": [
       "865515"
      ]
     },
     "execution_count": 111,
     "metadata": {},
     "output_type": "execute_result"
    }
   ],
   "source": [
    "# instances of `ups` = `score`\n",
    "reddit.loc[reddit['ups'] == reddit['score']].shape[0]"
   ]
  },
  {
   "cell_type": "markdown",
   "id": "6915672c",
   "metadata": {},
   "source": [
    "There are 865k instances of `ups` = `score`, which as a percentage of the total data is:"
   ]
  },
  {
   "cell_type": "code",
   "execution_count": 112,
   "id": "287c25b6",
   "metadata": {},
   "outputs": [
    {
     "data": {
      "text/plain": [
       "85.63139070685484"
      ]
     },
     "execution_count": 112,
     "metadata": {},
     "output_type": "execute_result"
    }
   ],
   "source": [
    "# calculated as a percentage of total\n",
    "reddit.loc[reddit['ups'] == reddit['score']].shape[0] / reddit.shape[0]*100"
   ]
  },
  {
   "cell_type": "markdown",
   "id": "f25b187b",
   "metadata": {},
   "source": [
    "In 85% of entries, `ups` = `score`"
   ]
  },
  {
   "cell_type": "markdown",
   "id": "2d4c9062",
   "metadata": {},
   "source": [
    "------------------------------------------------------------------------------------------------------------------------------"
   ]
  },
  {
   "cell_type": "markdown",
   "id": "28d03809",
   "metadata": {},
   "source": [
    "Let us now take a look at the cases in which `score` /=/ `ups`"
   ]
  },
  {
   "cell_type": "code",
   "execution_count": 113,
   "id": "1f429313",
   "metadata": {},
   "outputs": [
    {
     "data": {
      "text/html": [
       "<div>\n",
       "<style scoped>\n",
       "    .dataframe tbody tr th:only-of-type {\n",
       "        vertical-align: middle;\n",
       "    }\n",
       "\n",
       "    .dataframe tbody tr th {\n",
       "        vertical-align: top;\n",
       "    }\n",
       "\n",
       "    .dataframe thead th {\n",
       "        text-align: right;\n",
       "    }\n",
       "</style>\n",
       "<table border=\"1\" class=\"dataframe\">\n",
       "  <thead>\n",
       "    <tr style=\"text-align: right;\">\n",
       "      <th></th>\n",
       "      <th>label</th>\n",
       "      <th>comment</th>\n",
       "      <th>author</th>\n",
       "      <th>subreddit</th>\n",
       "      <th>score</th>\n",
       "      <th>ups</th>\n",
       "      <th>downs</th>\n",
       "      <th>created_utc</th>\n",
       "      <th>parent_comment</th>\n",
       "    </tr>\n",
       "  </thead>\n",
       "  <tbody>\n",
       "    <tr>\n",
       "      <th>77461</th>\n",
       "      <td>1</td>\n",
       "      <td>Math</td>\n",
       "      <td>420N1CKN4M3</td>\n",
       "      <td>Cubers</td>\n",
       "      <td>1</td>\n",
       "      <td>-1</td>\n",
       "      <td>-1</td>\n",
       "      <td>2016-12-24 04:51:07</td>\n",
       "      <td>Where's this number from?</td>\n",
       "    </tr>\n",
       "    <tr>\n",
       "      <th>181731</th>\n",
       "      <td>0</td>\n",
       "      <td>I find your lack of faith disturbing.</td>\n",
       "      <td>SannoSythe</td>\n",
       "      <td>videos</td>\n",
       "      <td>2</td>\n",
       "      <td>-1</td>\n",
       "      <td>-1</td>\n",
       "      <td>2016-12-21 13:02:15</td>\n",
       "      <td>Ugh. That fucking line.</td>\n",
       "    </tr>\n",
       "    <tr>\n",
       "      <th>1931</th>\n",
       "      <td>0</td>\n",
       "      <td>Paris is in it?</td>\n",
       "      <td>warriorsif</td>\n",
       "      <td>AskReddit</td>\n",
       "      <td>7</td>\n",
       "      <td>-1</td>\n",
       "      <td>-1</td>\n",
       "      <td>2016-11-28 19:11:22</td>\n",
       "      <td>How to Get Away With Murder started out seemin...</td>\n",
       "    </tr>\n",
       "    <tr>\n",
       "      <th>42315</th>\n",
       "      <td>1</td>\n",
       "      <td>They might even win back to back championships...</td>\n",
       "      <td>767676769</td>\n",
       "      <td>denvernuggets</td>\n",
       "      <td>3</td>\n",
       "      <td>-1</td>\n",
       "      <td>-1</td>\n",
       "      <td>2016-12-20 02:36:59</td>\n",
       "      <td>imagine if I stop being a fan, they might even...</td>\n",
       "    </tr>\n",
       "    <tr>\n",
       "      <th>70173</th>\n",
       "      <td>0</td>\n",
       "      <td>Usually in a chain in patcher, and then using ...</td>\n",
       "      <td>3agl</td>\n",
       "      <td>edmproduction</td>\n",
       "      <td>1</td>\n",
       "      <td>-1</td>\n",
       "      <td>-1</td>\n",
       "      <td>2016-11-11 22:42:11</td>\n",
       "      <td>Do you use trash2 or any of these distortion p...</td>\n",
       "    </tr>\n",
       "    <tr>\n",
       "      <th>121940</th>\n",
       "      <td>0</td>\n",
       "      <td>The distance past the first down marker we wer...</td>\n",
       "      <td>Gobuckeyes69</td>\n",
       "      <td>CFB</td>\n",
       "      <td>21</td>\n",
       "      <td>-1</td>\n",
       "      <td>-1</td>\n",
       "      <td>2016-12-05 01:40:01</td>\n",
       "      <td>When you said short and sweet, I thought it wa...</td>\n",
       "    </tr>\n",
       "    <tr>\n",
       "      <th>184845</th>\n",
       "      <td>1</td>\n",
       "      <td>thank you for the help I never thought of that!</td>\n",
       "      <td>pmarion427</td>\n",
       "      <td>Warhammer</td>\n",
       "      <td>6</td>\n",
       "      <td>-1</td>\n",
       "      <td>-1</td>\n",
       "      <td>2016-10-16 02:00:28</td>\n",
       "      <td>Charge him.</td>\n",
       "    </tr>\n",
       "    <tr>\n",
       "      <th>50770</th>\n",
       "      <td>1</td>\n",
       "      <td>Cyka blyat - Rush B!</td>\n",
       "      <td>thezadmin</td>\n",
       "      <td>motorcycles</td>\n",
       "      <td>1</td>\n",
       "      <td>-1</td>\n",
       "      <td>-1</td>\n",
       "      <td>2016-11-17 19:36:38</td>\n",
       "      <td>Plus everyone will think you're Russian and le...</td>\n",
       "    </tr>\n",
       "    <tr>\n",
       "      <th>101000</th>\n",
       "      <td>0</td>\n",
       "      <td>Ol' Abe was one wonky looking guy.</td>\n",
       "      <td>FatStacks6969</td>\n",
       "      <td>pics</td>\n",
       "      <td>6</td>\n",
       "      <td>-1</td>\n",
       "      <td>-1</td>\n",
       "      <td>2016-10-02 18:48:08</td>\n",
       "      <td>Abraham Lincoln in color</td>\n",
       "    </tr>\n",
       "    <tr>\n",
       "      <th>134131</th>\n",
       "      <td>1</td>\n",
       "      <td>What, you mean you don't like buying into a pr...</td>\n",
       "      <td>SuperGeometric</td>\n",
       "      <td>VIDEOENGINEERING</td>\n",
       "      <td>2</td>\n",
       "      <td>-1</td>\n",
       "      <td>-1</td>\n",
       "      <td>2016-12-09 03:10:36</td>\n",
       "      <td>I guess that technically I should have said \"E...</td>\n",
       "    </tr>\n",
       "    <tr>\n",
       "      <th>523</th>\n",
       "      <td>0</td>\n",
       "      <td>You were being misled in high school.</td>\n",
       "      <td>Reddit_beard</td>\n",
       "      <td>funny</td>\n",
       "      <td>2</td>\n",
       "      <td>-1</td>\n",
       "      <td>-1</td>\n",
       "      <td>2016-12-21 00:11:32</td>\n",
       "      <td>I remember my freshman year of highschool we w...</td>\n",
       "    </tr>\n",
       "    <tr>\n",
       "      <th>49319</th>\n",
       "      <td>1</td>\n",
       "      <td>Never underestimate the DNC's ability to pull ...</td>\n",
       "      <td>BurgerLaowai</td>\n",
       "      <td>The_Donald</td>\n",
       "      <td>9</td>\n",
       "      <td>-1</td>\n",
       "      <td>-1</td>\n",
       "      <td>2016-11-09 03:24:47</td>\n",
       "      <td>I don't think they can take it! They're at 97%...</td>\n",
       "    </tr>\n",
       "    <tr>\n",
       "      <th>54462</th>\n",
       "      <td>0</td>\n",
       "      <td>ya these kinda wack imo</td>\n",
       "      <td>FransiscoDisco</td>\n",
       "      <td>streetwear</td>\n",
       "      <td>7</td>\n",
       "      <td>-1</td>\n",
       "      <td>-1</td>\n",
       "      <td>2016-12-27 19:11:18</td>\n",
       "      <td>you played yourself</td>\n",
       "    </tr>\n",
       "    <tr>\n",
       "      <th>161176</th>\n",
       "      <td>1</td>\n",
       "      <td>\"Who report facts for a living\"</td>\n",
       "      <td>Felde</td>\n",
       "      <td>politics</td>\n",
       "      <td>1</td>\n",
       "      <td>-1</td>\n",
       "      <td>-1</td>\n",
       "      <td>2016-10-07 16:18:55</td>\n",
       "      <td>I don't understand why college educated profes...</td>\n",
       "    </tr>\n",
       "    <tr>\n",
       "      <th>120141</th>\n",
       "      <td>1</td>\n",
       "      <td>Bad Obama policies.</td>\n",
       "      <td>Mal_Funk_Shun</td>\n",
       "      <td>politics</td>\n",
       "      <td>6</td>\n",
       "      <td>-1</td>\n",
       "      <td>-1</td>\n",
       "      <td>2016-11-17 05:24:03</td>\n",
       "      <td>Steady growth is a fuck up? So what happens if...</td>\n",
       "    </tr>\n",
       "  </tbody>\n",
       "</table>\n",
       "</div>"
      ],
      "text/plain": [
       "        label                                            comment  \\\n",
       "77461       1                                               Math   \n",
       "181731      0              I find your lack of faith disturbing.   \n",
       "1931        0                                    Paris is in it?   \n",
       "42315       1  They might even win back to back championships...   \n",
       "70173       0  Usually in a chain in patcher, and then using ...   \n",
       "121940      0  The distance past the first down marker we wer...   \n",
       "184845      1    thank you for the help I never thought of that!   \n",
       "50770       1                               Cyka blyat - Rush B!   \n",
       "101000      0                 Ol' Abe was one wonky looking guy.   \n",
       "134131      1  What, you mean you don't like buying into a pr...   \n",
       "523         0              You were being misled in high school.   \n",
       "49319       1  Never underestimate the DNC's ability to pull ...   \n",
       "54462       0                            ya these kinda wack imo   \n",
       "161176      1                    \"Who report facts for a living\"   \n",
       "120141      1                                Bad Obama policies.   \n",
       "\n",
       "                author         subreddit  score  ups  downs  \\\n",
       "77461      420N1CKN4M3            Cubers      1   -1     -1   \n",
       "181731      SannoSythe            videos      2   -1     -1   \n",
       "1931        warriorsif         AskReddit      7   -1     -1   \n",
       "42315        767676769     denvernuggets      3   -1     -1   \n",
       "70173             3agl     edmproduction      1   -1     -1   \n",
       "121940    Gobuckeyes69               CFB     21   -1     -1   \n",
       "184845      pmarion427         Warhammer      6   -1     -1   \n",
       "50770        thezadmin       motorcycles      1   -1     -1   \n",
       "101000   FatStacks6969              pics      6   -1     -1   \n",
       "134131  SuperGeometric  VIDEOENGINEERING      2   -1     -1   \n",
       "523       Reddit_beard             funny      2   -1     -1   \n",
       "49319     BurgerLaowai        The_Donald      9   -1     -1   \n",
       "54462   FransiscoDisco        streetwear      7   -1     -1   \n",
       "161176           Felde          politics      1   -1     -1   \n",
       "120141   Mal_Funk_Shun          politics      6   -1     -1   \n",
       "\n",
       "               created_utc                                     parent_comment  \n",
       "77461  2016-12-24 04:51:07                          Where's this number from?  \n",
       "181731 2016-12-21 13:02:15                            Ugh. That fucking line.  \n",
       "1931   2016-11-28 19:11:22  How to Get Away With Murder started out seemin...  \n",
       "42315  2016-12-20 02:36:59  imagine if I stop being a fan, they might even...  \n",
       "70173  2016-11-11 22:42:11  Do you use trash2 or any of these distortion p...  \n",
       "121940 2016-12-05 01:40:01  When you said short and sweet, I thought it wa...  \n",
       "184845 2016-10-16 02:00:28                                        Charge him.  \n",
       "50770  2016-11-17 19:36:38  Plus everyone will think you're Russian and le...  \n",
       "101000 2016-10-02 18:48:08                           Abraham Lincoln in color  \n",
       "134131 2016-12-09 03:10:36  I guess that technically I should have said \"E...  \n",
       "523    2016-12-21 00:11:32  I remember my freshman year of highschool we w...  \n",
       "49319  2016-11-09 03:24:47  I don't think they can take it! They're at 97%...  \n",
       "54462  2016-12-27 19:11:18                                you played yourself  \n",
       "161176 2016-10-07 16:18:55  I don't understand why college educated profes...  \n",
       "120141 2016-11-17 05:24:03  Steady growth is a fuck up? So what happens if...  "
      ]
     },
     "execution_count": 113,
     "metadata": {},
     "output_type": "execute_result"
    }
   ],
   "source": [
    "reddit.loc[reddit['ups'] != reddit['score']].sample(15, random_state=1)"
   ]
  },
  {
   "cell_type": "markdown",
   "id": "9d6cd62a",
   "metadata": {},
   "source": [
    "Something curious to be observed in this sample is that each and every `ups` value = `-1` Let us take a peak at the distribution of `ups` values:"
   ]
  },
  {
   "cell_type": "code",
   "execution_count": 114,
   "id": "76b1a190",
   "metadata": {},
   "outputs": [],
   "source": [
    "# setting unequal `scores` and `ups` to variable\n",
    "inequality = reddit.loc[reddit['ups'] != reddit['score']]"
   ]
  },
  {
   "cell_type": "code",
   "execution_count": 115,
   "id": "b9908e45",
   "metadata": {
    "scrolled": true
   },
   "outputs": [
    {
     "data": {
      "text/plain": [
       "-1    145230\n",
       "Name: ups, dtype: int64"
      ]
     },
     "execution_count": 115,
     "metadata": {},
     "output_type": "execute_result"
    }
   ],
   "source": [
    "# checking unique values as well as count\n",
    "inequality['ups'].value_counts()"
   ]
  },
  {
   "cell_type": "markdown",
   "id": "34ea6f84",
   "metadata": {},
   "source": [
    "It turns out that the sample wasn't a fluke! 100% of the `ups` values when `score` /=/ `ups` are `-1`. A very unexpected result.."
   ]
  },
  {
   "cell_type": "markdown",
   "id": "39a8a91d",
   "metadata": {},
   "source": [
    "-------------------------------------------------------------------------------------------------------------------------"
   ]
  },
  {
   "cell_type": "markdown",
   "id": "3f771516",
   "metadata": {},
   "source": [
    "This means, however, that either `ups` = `score`, or `ups` = `-1`, therefore the `ups` column is redundant."
   ]
  },
  {
   "cell_type": "markdown",
   "id": "e990fede",
   "metadata": {},
   "source": [
    "This, in combination with the lack of value that a binary `downs` column provides, we may drop both `ups` and `downs` while keeping `score`."
   ]
  },
  {
   "cell_type": "code",
   "execution_count": 116,
   "id": "be77f41b",
   "metadata": {},
   "outputs": [],
   "source": [
    "# dropping `ups` and `downs`\n",
    "reddit.drop(columns=['ups','downs'], inplace=True)"
   ]
  },
  {
   "cell_type": "code",
   "execution_count": 117,
   "id": "076758b3",
   "metadata": {},
   "outputs": [
    {
     "data": {
      "text/html": [
       "<div>\n",
       "<style scoped>\n",
       "    .dataframe tbody tr th:only-of-type {\n",
       "        vertical-align: middle;\n",
       "    }\n",
       "\n",
       "    .dataframe tbody tr th {\n",
       "        vertical-align: top;\n",
       "    }\n",
       "\n",
       "    .dataframe thead th {\n",
       "        text-align: right;\n",
       "    }\n",
       "</style>\n",
       "<table border=\"1\" class=\"dataframe\">\n",
       "  <thead>\n",
       "    <tr style=\"text-align: right;\">\n",
       "      <th></th>\n",
       "      <th>label</th>\n",
       "      <th>comment</th>\n",
       "      <th>author</th>\n",
       "      <th>subreddit</th>\n",
       "      <th>score</th>\n",
       "      <th>created_utc</th>\n",
       "      <th>parent_comment</th>\n",
       "    </tr>\n",
       "  </thead>\n",
       "  <tbody>\n",
       "    <tr>\n",
       "      <th>0</th>\n",
       "      <td>0</td>\n",
       "      <td>NC and NH.</td>\n",
       "      <td>Trumpbart</td>\n",
       "      <td>politics</td>\n",
       "      <td>2</td>\n",
       "      <td>2016-10-16 23:55:23</td>\n",
       "      <td>Yeah, I get that argument. At this point, I'd ...</td>\n",
       "    </tr>\n",
       "    <tr>\n",
       "      <th>1</th>\n",
       "      <td>0</td>\n",
       "      <td>You do know west teams play against west teams...</td>\n",
       "      <td>Shbshb906</td>\n",
       "      <td>nba</td>\n",
       "      <td>-4</td>\n",
       "      <td>2016-11-01 00:24:10</td>\n",
       "      <td>The blazers and Mavericks (The wests 5 and 6 s...</td>\n",
       "    </tr>\n",
       "    <tr>\n",
       "      <th>2</th>\n",
       "      <td>0</td>\n",
       "      <td>They were underdogs earlier today, but since G...</td>\n",
       "      <td>Creepeth</td>\n",
       "      <td>nfl</td>\n",
       "      <td>3</td>\n",
       "      <td>2016-09-22 21:45:37</td>\n",
       "      <td>They're favored to win.</td>\n",
       "    </tr>\n",
       "    <tr>\n",
       "      <th>3</th>\n",
       "      <td>0</td>\n",
       "      <td>This meme isn't funny none of the \"new york ni...</td>\n",
       "      <td>icebrotha</td>\n",
       "      <td>BlackPeopleTwitter</td>\n",
       "      <td>-8</td>\n",
       "      <td>2016-10-18 21:03:47</td>\n",
       "      <td>deadass don't kill my buzz</td>\n",
       "    </tr>\n",
       "    <tr>\n",
       "      <th>4</th>\n",
       "      <td>0</td>\n",
       "      <td>I could use one of those tools.</td>\n",
       "      <td>cush2push</td>\n",
       "      <td>MaddenUltimateTeam</td>\n",
       "      <td>6</td>\n",
       "      <td>2016-12-30 17:00:13</td>\n",
       "      <td>Yep can confirm I saw the tool they use for th...</td>\n",
       "    </tr>\n",
       "  </tbody>\n",
       "</table>\n",
       "</div>"
      ],
      "text/plain": [
       "   label                                            comment     author  \\\n",
       "0      0                                         NC and NH.  Trumpbart   \n",
       "1      0  You do know west teams play against west teams...  Shbshb906   \n",
       "2      0  They were underdogs earlier today, but since G...   Creepeth   \n",
       "3      0  This meme isn't funny none of the \"new york ni...  icebrotha   \n",
       "4      0                    I could use one of those tools.  cush2push   \n",
       "\n",
       "            subreddit  score         created_utc  \\\n",
       "0            politics      2 2016-10-16 23:55:23   \n",
       "1                 nba     -4 2016-11-01 00:24:10   \n",
       "2                 nfl      3 2016-09-22 21:45:37   \n",
       "3  BlackPeopleTwitter     -8 2016-10-18 21:03:47   \n",
       "4  MaddenUltimateTeam      6 2016-12-30 17:00:13   \n",
       "\n",
       "                                      parent_comment  \n",
       "0  Yeah, I get that argument. At this point, I'd ...  \n",
       "1  The blazers and Mavericks (The wests 5 and 6 s...  \n",
       "2                            They're favored to win.  \n",
       "3                         deadass don't kill my buzz  \n",
       "4  Yep can confirm I saw the tool they use for th...  "
      ]
     },
     "execution_count": 117,
     "metadata": {},
     "output_type": "execute_result"
    }
   ],
   "source": [
    "# confirmation\n",
    "reddit.head()"
   ]
  },
  {
   "cell_type": "markdown",
   "id": "599c47ae",
   "metadata": {},
   "source": [
    "-------------------------------------------------------------------------------------------------------------------------"
   ]
  },
  {
   "cell_type": "markdown",
   "id": "6709c301",
   "metadata": {},
   "source": [
    "Now aside from `label`, which is both binary and our target variable, `score` remains as our only numeric column."
   ]
  },
  {
   "cell_type": "markdown",
   "id": "47bada41",
   "metadata": {},
   "source": [
    "We can take advantage of this by exploring their relationship in various ways."
   ]
  },
  {
   "cell_type": "markdown",
   "id": "c9ffd614",
   "metadata": {},
   "source": [
    "We will start by examining their correlation, which, at the given moment is the only correlation we can examine."
   ]
  },
  {
   "cell_type": "code",
   "execution_count": 118,
   "id": "03c8c630",
   "metadata": {},
   "outputs": [
    {
     "data": {
      "text/plain": [
       "array([[ 1.        , -0.01001984],\n",
       "       [-0.01001984,  1.        ]])"
      ]
     },
     "execution_count": 118,
     "metadata": {},
     "output_type": "execute_result"
    }
   ],
   "source": [
    "# instantiating variables\n",
    "label = reddit['label']\n",
    "score = reddit['score']\n",
    "\n",
    "np.corrcoef(label,score)"
   ]
  },
  {
   "cell_type": "markdown",
   "id": "9913c61b",
   "metadata": {},
   "source": [
    "At -0.01, their correlation is effectively zero. It is safe to say that there is no relationship between the 2 variables."
   ]
  },
  {
   "cell_type": "code",
   "execution_count": 119,
   "id": "3a351ce7-e2bc-41a8-bc5c-ca3b895f614e",
   "metadata": {},
   "outputs": [],
   "source": [
    "# instantiating sarcastic and non_sarcastic variable for further analysis\n",
    "sarcastic = reddit.loc[reddit['label'] == 1]\n",
    "non_sarcastic = reddit.loc[reddit['label'] == 0]"
   ]
  },
  {
   "cell_type": "code",
   "execution_count": 120,
   "id": "28fe82a6-718d-467f-b540-c664cbf09b56",
   "metadata": {},
   "outputs": [
    {
     "data": {
      "text/plain": [
       "count    505340.000000\n",
       "mean          6.401737\n",
       "std          39.226796\n",
       "min        -507.000000\n",
       "25%           1.000000\n",
       "50%           2.000000\n",
       "75%           5.000000\n",
       "max        9070.000000\n",
       "Name: score, dtype: float64"
      ]
     },
     "execution_count": 120,
     "metadata": {},
     "output_type": "execute_result"
    }
   ],
   "source": [
    "sarcastic['score'].describe()"
   ]
  },
  {
   "cell_type": "code",
   "execution_count": 121,
   "id": "637ce0f3-1de4-4293-b419-f96f5e0d1e52",
   "metadata": {},
   "outputs": [
    {
     "data": {
      "text/plain": [
       "861"
      ]
     },
     "execution_count": 121,
     "metadata": {},
     "output_type": "execute_result"
    }
   ],
   "source": [
    "sarcastic['score'].nunique()"
   ]
  },
  {
   "cell_type": "code",
   "execution_count": 122,
   "id": "c62cd0c0-f668-4455-9b87-49434cb8fc13",
   "metadata": {},
   "outputs": [
    {
     "data": {
      "text/plain": [
       " 1     148397\n",
       " 2      76752\n",
       " 3      44440\n",
       " 0      35620\n",
       " 4      22171\n",
       " 5      20399\n",
       " 6      15772\n",
       "-1      14984\n",
       " 7      12143\n",
       " 8       9563\n",
       "-2       8060\n",
       " 9       7835\n",
       " 10      6390\n",
       " 11      5377\n",
       " 12      4564\n",
       "Name: score, dtype: int64"
      ]
     },
     "execution_count": 122,
     "metadata": {},
     "output_type": "execute_result"
    }
   ],
   "source": [
    "sarcastic['score'].value_counts().sort_values(ascending=False).head(15)"
   ]
  },
  {
   "cell_type": "code",
   "execution_count": 123,
   "id": "5e56a436-a569-4a80-9adf-21be5ab5d73e",
   "metadata": {},
   "outputs": [
    {
     "data": {
      "text/plain": [
       "count    505405.000000\n",
       "mean          7.370550\n",
       "std          55.992185\n",
       "min        -298.000000\n",
       "25%           1.000000\n",
       "50%           2.000000\n",
       "75%           4.000000\n",
       "max        5818.000000\n",
       "Name: score, dtype: float64"
      ]
     },
     "execution_count": 123,
     "metadata": {},
     "output_type": "execute_result"
    }
   ],
   "source": [
    "non_sarcastic['score'].describe()"
   ]
  },
  {
   "cell_type": "code",
   "execution_count": 124,
   "id": "6bcf1744-929d-4108-bf4a-78cba4f96619",
   "metadata": {},
   "outputs": [
    {
     "data": {
      "text/plain": [
       "1070"
      ]
     },
     "execution_count": 124,
     "metadata": {},
     "output_type": "execute_result"
    }
   ],
   "source": [
    "non_sarcastic['score'].nunique()"
   ]
  },
  {
   "cell_type": "code",
   "execution_count": 125,
   "id": "ebc518ba-3334-4078-9f04-0c81ed4dc083",
   "metadata": {},
   "outputs": [
    {
     "data": {
      "text/plain": [
       " 1     191582\n",
       " 2      85914\n",
       " 3      45847\n",
       " 0      22515\n",
       " 4      19807\n",
       " 5      18401\n",
       " 6      13827\n",
       " 7      10622\n",
       " 8       8501\n",
       "-1       7825\n",
       " 9       6685\n",
       " 10      5425\n",
       " 11      4621\n",
       "-2       3864\n",
       " 12      3833\n",
       "Name: score, dtype: int64"
      ]
     },
     "execution_count": 125,
     "metadata": {},
     "output_type": "execute_result"
    }
   ],
   "source": [
    "non_sarcastic['score'].value_counts().sort_values(ascending=False).head(15)"
   ]
  },
  {
   "cell_type": "code",
   "execution_count": 126,
   "id": "cb0ccf96-8576-482b-a349-fff544e70ee2",
   "metadata": {},
   "outputs": [
    {
     "data": {
      "text/plain": [
       "<Figure size 640x480 with 0 Axes>"
      ]
     },
     "metadata": {},
     "output_type": "display_data"
    },
    {
     "data": {
      "image/png": "[encoded data removed]",
      "text/plain": [
       "<Figure size 1500x1000 with 2 Axes>"
      ]
     },
     "metadata": {},
     "output_type": "display_data"
    }
   ],
   "source": [
    "plt.figure()\n",
    "plt.subplots(1,2, figsize=(15,10))\n",
    "\n",
    "plt.subplot(1,2,1)\n",
    "plt.hist(sarcastic['score'], bins=10000, color='lightcoral', alpha=0.8)\n",
    "plt.xlabel('Scores')\n",
    "plt.ylabel('Count')\n",
    "plt.title('Sarcastic Score Distribution', fontsize=20)\n",
    "plt.xlim(-50,50)\n",
    "plt.axvline(np.mean(sarcastic['score']), linestyle='--', color='goldenrod', label='mean')\n",
    "plt.axvline(np.median(sarcastic['score']), linestyle='--', color='darkgrey', label='median')\n",
    "\n",
    "\n",
    "plt.subplot(1,2,2)\n",
    "plt.hist(non_sarcastic['score'], bins=10000, color='cornflowerblue', alpha=0.8)\n",
    "plt.xlabel('Scores')\n",
    "plt.ylabel('Count')\n",
    "plt.title('Non-Sarcastic Score Distribution', fontsize=20)\n",
    "plt.xlim(-50,50)\n",
    "plt.axvline(np.mean(non_sarcastic['score']), linestyle='--', color='goldenrod', label='mean')\n",
    "plt.axvline(np.median(non_sarcastic['score']), linestyle='--', color='darkgrey', label='median')\n",
    "\n",
    "plt.legend()\n",
    "plt.tight_layout()\n",
    "plt.show()"
   ]
  },
  {
   "cell_type": "markdown",
   "id": "d5178736-6801-4086-8061-1c4f474f8fbd",
   "metadata": {},
   "source": []
  },
  {
   "cell_type": "code",
   "execution_count": 127,
   "id": "30ac3dd0-493c-40e2-a328-16abf1b2cdaf",
   "metadata": {},
   "outputs": [],
   "source": [
    "# dropping score\n",
    "reddit.drop(columns='score', inplace=True)"
   ]
  },
  {
   "cell_type": "markdown",
   "id": "3d2e3045",
   "metadata": {},
   "source": [
    "------------------------------------------------------------------------------------------------------------------------------"
   ]
  },
  {
   "cell_type": "markdown",
   "id": "3e1625b7",
   "metadata": {},
   "source": [
    "Let us see if we can find the most saracastic `author`s."
   ]
  },
  {
   "cell_type": "code",
   "execution_count": 128,
   "id": "37a99113",
   "metadata": {},
   "outputs": [],
   "source": [
    "# top (non)sarcastic authors\n",
    "sarcastic_authors = sarcastic['author'].value_counts().sort_values(ascending=False).head(15)\n",
    "non_sarcastic_authors = non_sarcastic['author'].value_counts().sort_values(ascending=False).head(15)"
   ]
  },
  {
   "cell_type": "code",
   "execution_count": 129,
   "id": "f9f9d40c",
   "metadata": {},
   "outputs": [
    {
     "data": {
      "text/plain": [
       "Text(0.5, 0.98, 'Top Posters')"
      ]
     },
     "execution_count": 129,
     "metadata": {},
     "output_type": "execute_result"
    },
    {
     "data": {
      "text/plain": [
       "<Figure size 1200x1200 with 0 Axes>"
      ]
     },
     "metadata": {},
     "output_type": "display_data"
    },
    {
     "data": {
      "image/png": "[encoded data removed]",
      "text/plain": [
       "<Figure size 1200x1200 with 2 Axes>"
      ]
     },
     "metadata": {},
     "output_type": "display_data"
    }
   ],
   "source": [
    "# plotting out findings\n",
    "\n",
    "plt.figure(figsize=(12,12))\n",
    "plt.subplots(1,2, constrained_layout=True, figsize=(12,12))\n",
    "\n",
    "\n",
    "plt.subplot(1,2,1)\n",
    "sarcastic_authors.plot(kind='barh', color='lightcoral', label='Sarcastic')\n",
    "plt.title('Sarcastic Authors')\n",
    "\n",
    "\n",
    "\n",
    "\n",
    "plt.subplot(1,2,2)\n",
    "non_sarcastic_authors.plot(kind='barh', color='steelblue', label='Non-Sarcastic')\n",
    "plt.title('Non-Sarcastic Authors')\n",
    "\n",
    "plt.suptitle('Top Posters')\n"
   ]
  },
  {
   "cell_type": "markdown",
   "id": "a872be87",
   "metadata": {},
   "source": [
    "#### These tables look identical. It is not necessarily unexpected, because the most frequent posters may be both sarcastic and non-sarcastic and appear in both tables through sheer amount of contributions. What is unexpected however, is that the rankings are in the same order **and** appear to have the same numbers and proportions. We should double check the results of this plot. "
   ]
  },
  {
   "cell_type": "code",
   "execution_count": 130,
   "id": "31742467",
   "metadata": {},
   "outputs": [
    {
     "data": {
      "text/plain": [
       "256401"
      ]
     },
     "execution_count": 130,
     "metadata": {},
     "output_type": "execute_result"
    }
   ],
   "source": [
    "# checking number of unique sarcasic authors\n",
    "sarcastic['author'].nunique()"
   ]
  },
  {
   "cell_type": "code",
   "execution_count": 131,
   "id": "584237df",
   "metadata": {
    "scrolled": true
   },
   "outputs": [
    {
     "data": {
      "text/plain": [
       "254257"
      ]
     },
     "execution_count": 131,
     "metadata": {},
     "output_type": "execute_result"
    }
   ],
   "source": [
    "# and non-sarcastic\n",
    "non_sarcastic['author'].nunique()"
   ]
  },
  {
   "cell_type": "markdown",
   "id": "3a8afdc9",
   "metadata": {},
   "source": [
    "The total number of authors is nearly the same."
   ]
  },
  {
   "cell_type": "code",
   "execution_count": 132,
   "id": "d50506a1",
   "metadata": {
    "scrolled": true
   },
   "outputs": [
    {
     "data": {
      "text/plain": [
       "Biffingston         422\n",
       "pokemon_fetish      216\n",
       "NeonDisease         211\n",
       "ShyBiDude89         202\n",
       "ivsciguy            171\n",
       "mad-n-fla           159\n",
       "mindlessrabble      151\n",
       "Canada_girl         150\n",
       "Chaoslab            126\n",
       "sleaze_bag_alert    125\n",
       "tau-lepton          123\n",
       "Bipolarruledout     119\n",
       "IrishJoe            118\n",
       "gonzone             113\n",
       "InFearn0            108\n",
       "Name: author, dtype: int64"
      ]
     },
     "execution_count": 132,
     "metadata": {},
     "output_type": "execute_result"
    }
   ],
   "source": [
    "# checking raw figures\n",
    "sarcastic_authors"
   ]
  },
  {
   "cell_type": "code",
   "execution_count": 133,
   "id": "8bbe9df9",
   "metadata": {},
   "outputs": [
    {
     "data": {
      "text/plain": [
       "Biffingston         423\n",
       "pokemon_fetish      216\n",
       "NeonDisease         211\n",
       "ShyBiDude89         202\n",
       "ivsciguy            171\n",
       "mad-n-fla           159\n",
       "mindlessrabble      151\n",
       "Canada_girl         150\n",
       "sleaze_bag_alert    126\n",
       "Chaoslab            126\n",
       "tau-lepton          123\n",
       "Bipolarruledout     119\n",
       "IrishJoe            118\n",
       "gonzone             113\n",
       "InFearn0            108\n",
       "Name: author, dtype: int64"
      ]
     },
     "execution_count": 133,
     "metadata": {},
     "output_type": "execute_result"
    }
   ],
   "source": [
    "non_sarcastic_authors"
   ]
  },
  {
   "cell_type": "markdown",
   "id": "415c6d18",
   "metadata": {},
   "source": [
    "Looking at the raw figures, the exact figures are identical, with the exception of several authors having a difference of 1. To ensure we have not made a mistake in the slicing, let us go back to the original dataset and see the total author counts."
   ]
  },
  {
   "cell_type": "code",
   "execution_count": 134,
   "id": "48d3919e",
   "metadata": {
    "scrolled": true
   },
   "outputs": [
    {
     "data": {
      "text/plain": [
       "Biffingston         845\n",
       "pokemon_fetish      432\n",
       "NeonDisease         422\n",
       "ShyBiDude89         404\n",
       "ivsciguy            342\n",
       "mad-n-fla           318\n",
       "mindlessrabble      302\n",
       "Canada_girl         300\n",
       "Chaoslab            252\n",
       "sleaze_bag_alert    251\n",
       "tau-lepton          246\n",
       "Bipolarruledout     238\n",
       "IrishJoe            236\n",
       "gonzone             226\n",
       "InFearn0            216\n",
       "Name: author, dtype: int64"
      ]
     },
     "execution_count": 134,
     "metadata": {},
     "output_type": "execute_result"
    }
   ],
   "source": [
    "# sanity check?\n",
    "reddit['author'].value_counts().sort_values(ascending=False).head(15)"
   ]
  },
  {
   "cell_type": "markdown",
   "id": "893014ad",
   "metadata": {},
   "source": [
    "The authors have indeed been split down the middle into the `sarcastic` and `non-sarcastic` groups. It is unexpected to have this perfect equality both within the `label` columns and `author` columns."
   ]
  },
  {
   "cell_type": "markdown",
   "id": "d5632541",
   "metadata": {},
   "source": [
    "Given that the authors are evenly distributed among `sarcastic` and `non-sarcastic` groups, they hold very little predictive value. We can go ahead and drop the `author` column."
   ]
  },
  {
   "cell_type": "code",
   "execution_count": 135,
   "id": "bf83bdae",
   "metadata": {},
   "outputs": [],
   "source": [
    "reddit.drop(columns='author', inplace=True)"
   ]
  },
  {
   "cell_type": "code",
   "execution_count": 136,
   "id": "24a06ae6",
   "metadata": {},
   "outputs": [
    {
     "data": {
      "text/html": [
       "<div>\n",
       "<style scoped>\n",
       "    .dataframe tbody tr th:only-of-type {\n",
       "        vertical-align: middle;\n",
       "    }\n",
       "\n",
       "    .dataframe tbody tr th {\n",
       "        vertical-align: top;\n",
       "    }\n",
       "\n",
       "    .dataframe thead th {\n",
       "        text-align: right;\n",
       "    }\n",
       "</style>\n",
       "<table border=\"1\" class=\"dataframe\">\n",
       "  <thead>\n",
       "    <tr style=\"text-align: right;\">\n",
       "      <th></th>\n",
       "      <th>label</th>\n",
       "      <th>comment</th>\n",
       "      <th>subreddit</th>\n",
       "      <th>created_utc</th>\n",
       "      <th>parent_comment</th>\n",
       "    </tr>\n",
       "  </thead>\n",
       "  <tbody>\n",
       "    <tr>\n",
       "      <th>0</th>\n",
       "      <td>0</td>\n",
       "      <td>NC and NH.</td>\n",
       "      <td>politics</td>\n",
       "      <td>2016-10-16 23:55:23</td>\n",
       "      <td>Yeah, I get that argument. At this point, I'd ...</td>\n",
       "    </tr>\n",
       "    <tr>\n",
       "      <th>1</th>\n",
       "      <td>0</td>\n",
       "      <td>You do know west teams play against west teams...</td>\n",
       "      <td>nba</td>\n",
       "      <td>2016-11-01 00:24:10</td>\n",
       "      <td>The blazers and Mavericks (The wests 5 and 6 s...</td>\n",
       "    </tr>\n",
       "    <tr>\n",
       "      <th>2</th>\n",
       "      <td>0</td>\n",
       "      <td>They were underdogs earlier today, but since G...</td>\n",
       "      <td>nfl</td>\n",
       "      <td>2016-09-22 21:45:37</td>\n",
       "      <td>They're favored to win.</td>\n",
       "    </tr>\n",
       "    <tr>\n",
       "      <th>3</th>\n",
       "      <td>0</td>\n",
       "      <td>This meme isn't funny none of the \"new york ni...</td>\n",
       "      <td>BlackPeopleTwitter</td>\n",
       "      <td>2016-10-18 21:03:47</td>\n",
       "      <td>deadass don't kill my buzz</td>\n",
       "    </tr>\n",
       "    <tr>\n",
       "      <th>4</th>\n",
       "      <td>0</td>\n",
       "      <td>I could use one of those tools.</td>\n",
       "      <td>MaddenUltimateTeam</td>\n",
       "      <td>2016-12-30 17:00:13</td>\n",
       "      <td>Yep can confirm I saw the tool they use for th...</td>\n",
       "    </tr>\n",
       "  </tbody>\n",
       "</table>\n",
       "</div>"
      ],
      "text/plain": [
       "   label                                            comment  \\\n",
       "0      0                                         NC and NH.   \n",
       "1      0  You do know west teams play against west teams...   \n",
       "2      0  They were underdogs earlier today, but since G...   \n",
       "3      0  This meme isn't funny none of the \"new york ni...   \n",
       "4      0                    I could use one of those tools.   \n",
       "\n",
       "            subreddit         created_utc  \\\n",
       "0            politics 2016-10-16 23:55:23   \n",
       "1                 nba 2016-11-01 00:24:10   \n",
       "2                 nfl 2016-09-22 21:45:37   \n",
       "3  BlackPeopleTwitter 2016-10-18 21:03:47   \n",
       "4  MaddenUltimateTeam 2016-12-30 17:00:13   \n",
       "\n",
       "                                      parent_comment  \n",
       "0  Yeah, I get that argument. At this point, I'd ...  \n",
       "1  The blazers and Mavericks (The wests 5 and 6 s...  \n",
       "2                            They're favored to win.  \n",
       "3                         deadass don't kill my buzz  \n",
       "4  Yep can confirm I saw the tool they use for th...  "
      ]
     },
     "execution_count": 136,
     "metadata": {},
     "output_type": "execute_result"
    }
   ],
   "source": [
    "# confirmation\n",
    "reddit.head()"
   ]
  },
  {
   "cell_type": "markdown",
   "id": "c59a0391",
   "metadata": {},
   "source": [
    "Let us see if the same holds true for the `subreddit` column, or if it has a more varied distribution."
   ]
  },
  {
   "cell_type": "code",
   "execution_count": 137,
   "id": "5cc9c4ff",
   "metadata": {},
   "outputs": [],
   "source": [
    "sarcastic_subreddits = sarcastic['subreddit'].value_counts().sort_values(ascending=False).head(15)\n",
    "non_sarcastic_subreddits = non_sarcastic['subreddit'].value_counts().sort_values(ascending=False).head(15)"
   ]
  },
  {
   "cell_type": "code",
   "execution_count": 138,
   "id": "aabca163",
   "metadata": {},
   "outputs": [
    {
     "data": {
      "text/plain": [
       "Text(0.5, 0.98, 'Top Subreddits')"
      ]
     },
     "execution_count": 138,
     "metadata": {},
     "output_type": "execute_result"
    },
    {
     "data": {
      "text/plain": [
       "<Figure size 1200x1200 with 0 Axes>"
      ]
     },
     "metadata": {},
     "output_type": "display_data"
    },
    {
     "data": {
      "image/png": "[encoded data removed]",
      "text/plain": [
       "<Figure size 800x800 with 2 Axes>"
      ]
     },
     "metadata": {},
     "output_type": "display_data"
    }
   ],
   "source": [
    "# plotting out findings\n",
    "\n",
    "plt.figure(figsize=(12,12))\n",
    "plt.subplots(1,2, constrained_layout=True, figsize=(8,8))\n",
    "\n",
    "\n",
    "plt.subplot(1,2,1)\n",
    "sarcastic_subreddits.plot(kind='barh', color='lightcoral')\n",
    "plt.title('Sarcastic Subreddits')\n",
    "\n",
    "\n",
    "\n",
    "plt.subplot(1,2,2)\n",
    "non_sarcastic_subreddits.plot(kind='barh', color='steelblue')\n",
    "plt.title('Non-Sarcastic Subreddits')\n",
    "\n",
    "plt.suptitle('Top Subreddits')\n"
   ]
  },
  {
   "cell_type": "markdown",
   "id": "985e8af9",
   "metadata": {},
   "source": [
    "There is some overlap between top `subreddits` which again, is to be expected, as the overall level of engagement is higher. There are however some differences and observations of note:\n",
    "- `politics` is one of the subreddits with the highest overall engagement and is more sarcastic than not\n",
    "- `funny` is less sarcastic than `news`\n",
    "- `todayilearned`, which is an educational subreddit is in the top 10 most sarcastic"
   ]
  },
  {
   "cell_type": "code",
   "execution_count": 139,
   "id": "65f5f413",
   "metadata": {},
   "outputs": [
    {
     "data": {
      "text/plain": [
       "8993"
      ]
     },
     "execution_count": 139,
     "metadata": {},
     "output_type": "execute_result"
    }
   ],
   "source": [
    "# total amount of sarcastic subreddits\n",
    "sarcastic['subreddit'].nunique()"
   ]
  },
  {
   "cell_type": "code",
   "execution_count": 140,
   "id": "f3a1c6f4",
   "metadata": {},
   "outputs": [
    {
     "data": {
      "text/plain": [
       "12836"
      ]
     },
     "execution_count": 140,
     "metadata": {},
     "output_type": "execute_result"
    }
   ],
   "source": [
    "non_sarcastic['subreddit'].nunique()"
   ]
  },
  {
   "cell_type": "markdown",
   "id": "d37cb6e6",
   "metadata": {},
   "source": [
    "Understandably, the amount of `subreddits` that include `sarcastic` comments is lower than `non-sarcastic`. Judging by the scale of the bar graphs above, we may infer that the `sarcastic` subreddits are slightly more evenly distributed. "
   ]
  },
  {
   "cell_type": "code",
   "execution_count": 141,
   "id": "ede8fcf3",
   "metadata": {},
   "outputs": [
    {
     "data": {
      "text/plain": [
       "count    505405.000000\n",
       "mean          7.370550\n",
       "std          55.992185\n",
       "min        -298.000000\n",
       "25%           1.000000\n",
       "50%           2.000000\n",
       "75%           4.000000\n",
       "max        5818.000000\n",
       "Name: score, dtype: float64"
      ]
     },
     "execution_count": 141,
     "metadata": {},
     "output_type": "execute_result"
    }
   ],
   "source": [
    "non_sarcastic['score'].describe()"
   ]
  },
  {
   "cell_type": "code",
   "execution_count": 142,
   "id": "293d9f2d",
   "metadata": {},
   "outputs": [
    {
     "data": {
      "text/plain": [
       "1070"
      ]
     },
     "execution_count": 142,
     "metadata": {},
     "output_type": "execute_result"
    }
   ],
   "source": [
    "non_sarcastic['score'].nunique()"
   ]
  },
  {
   "cell_type": "code",
   "execution_count": 143,
   "id": "d701ad39",
   "metadata": {},
   "outputs": [
    {
     "data": {
      "text/plain": [
       " 1     191582\n",
       " 2      85914\n",
       " 3      45847\n",
       " 0      22515\n",
       " 4      19807\n",
       " 5      18401\n",
       " 6      13827\n",
       " 7      10622\n",
       " 8       8501\n",
       "-1       7825\n",
       " 9       6685\n",
       " 10      5425\n",
       " 11      4621\n",
       "-2       3864\n",
       " 12      3833\n",
       " 13      3297\n",
       " 14      2995\n",
       " 15      2523\n",
       " 16      2291\n",
       "-3       2182\n",
       " 17      2000\n",
       "-4       1775\n",
       " 18      1771\n",
       " 19      1633\n",
       " 21      1393\n",
       "Name: score, dtype: int64"
      ]
     },
     "execution_count": 143,
     "metadata": {},
     "output_type": "execute_result"
    }
   ],
   "source": [
    "non_sarcastic['score'].value_counts().sort_values(ascending=False).head(25)"
   ]
  },
  {
   "cell_type": "markdown",
   "id": "7f3c63e4",
   "metadata": {},
   "source": [
    "------------------------------------------------------------------------------------------------------------------------------"
   ]
  },
  {
   "cell_type": "markdown",
   "id": "59b9faa3",
   "metadata": {},
   "source": [
    "Let us take another look at the data as is before we proceed any further."
   ]
  },
  {
   "cell_type": "code",
   "execution_count": 144,
   "id": "d2681b34",
   "metadata": {},
   "outputs": [
    {
     "name": "stdout",
     "output_type": "stream",
     "text": [
      "<class 'pandas.core.frame.DataFrame'>\n",
      "Int64Index: 1010745 entries, 0 to 1010825\n",
      "Data columns (total 5 columns):\n",
      " #   Column          Non-Null Count    Dtype         \n",
      "---  ------          --------------    -----         \n",
      " 0   label           1010745 non-null  int64         \n",
      " 1   comment         1010745 non-null  object        \n",
      " 2   subreddit       1010745 non-null  object        \n",
      " 3   created_utc     1010745 non-null  datetime64[ns]\n",
      " 4   parent_comment  1010745 non-null  object        \n",
      "dtypes: datetime64[ns](1), int64(1), object(3)\n",
      "memory usage: 46.3+ MB\n"
     ]
    }
   ],
   "source": [
    "#taking another look at data\n",
    "reddit.info()"
   ]
  },
  {
   "cell_type": "code",
   "execution_count": 145,
   "id": "1ad359a9",
   "metadata": {},
   "outputs": [
    {
     "data": {
      "text/html": [
       "<div>\n",
       "<style scoped>\n",
       "    .dataframe tbody tr th:only-of-type {\n",
       "        vertical-align: middle;\n",
       "    }\n",
       "\n",
       "    .dataframe tbody tr th {\n",
       "        vertical-align: top;\n",
       "    }\n",
       "\n",
       "    .dataframe thead th {\n",
       "        text-align: right;\n",
       "    }\n",
       "</style>\n",
       "<table border=\"1\" class=\"dataframe\">\n",
       "  <thead>\n",
       "    <tr style=\"text-align: right;\">\n",
       "      <th></th>\n",
       "      <th>label</th>\n",
       "      <th>comment</th>\n",
       "      <th>subreddit</th>\n",
       "      <th>created_utc</th>\n",
       "      <th>parent_comment</th>\n",
       "    </tr>\n",
       "  </thead>\n",
       "  <tbody>\n",
       "    <tr>\n",
       "      <th>0</th>\n",
       "      <td>0</td>\n",
       "      <td>NC and NH.</td>\n",
       "      <td>politics</td>\n",
       "      <td>2016-10-16 23:55:23</td>\n",
       "      <td>Yeah, I get that argument. At this point, I'd ...</td>\n",
       "    </tr>\n",
       "    <tr>\n",
       "      <th>1</th>\n",
       "      <td>0</td>\n",
       "      <td>You do know west teams play against west teams...</td>\n",
       "      <td>nba</td>\n",
       "      <td>2016-11-01 00:24:10</td>\n",
       "      <td>The blazers and Mavericks (The wests 5 and 6 s...</td>\n",
       "    </tr>\n",
       "    <tr>\n",
       "      <th>2</th>\n",
       "      <td>0</td>\n",
       "      <td>They were underdogs earlier today, but since G...</td>\n",
       "      <td>nfl</td>\n",
       "      <td>2016-09-22 21:45:37</td>\n",
       "      <td>They're favored to win.</td>\n",
       "    </tr>\n",
       "    <tr>\n",
       "      <th>3</th>\n",
       "      <td>0</td>\n",
       "      <td>This meme isn't funny none of the \"new york ni...</td>\n",
       "      <td>BlackPeopleTwitter</td>\n",
       "      <td>2016-10-18 21:03:47</td>\n",
       "      <td>deadass don't kill my buzz</td>\n",
       "    </tr>\n",
       "    <tr>\n",
       "      <th>4</th>\n",
       "      <td>0</td>\n",
       "      <td>I could use one of those tools.</td>\n",
       "      <td>MaddenUltimateTeam</td>\n",
       "      <td>2016-12-30 17:00:13</td>\n",
       "      <td>Yep can confirm I saw the tool they use for th...</td>\n",
       "    </tr>\n",
       "  </tbody>\n",
       "</table>\n",
       "</div>"
      ],
      "text/plain": [
       "   label                                            comment  \\\n",
       "0      0                                         NC and NH.   \n",
       "1      0  You do know west teams play against west teams...   \n",
       "2      0  They were underdogs earlier today, but since G...   \n",
       "3      0  This meme isn't funny none of the \"new york ni...   \n",
       "4      0                    I could use one of those tools.   \n",
       "\n",
       "            subreddit         created_utc  \\\n",
       "0            politics 2016-10-16 23:55:23   \n",
       "1                 nba 2016-11-01 00:24:10   \n",
       "2                 nfl 2016-09-22 21:45:37   \n",
       "3  BlackPeopleTwitter 2016-10-18 21:03:47   \n",
       "4  MaddenUltimateTeam 2016-12-30 17:00:13   \n",
       "\n",
       "                                      parent_comment  \n",
       "0  Yeah, I get that argument. At this point, I'd ...  \n",
       "1  The blazers and Mavericks (The wests 5 and 6 s...  \n",
       "2                            They're favored to win.  \n",
       "3                         deadass don't kill my buzz  \n",
       "4  Yep can confirm I saw the tool they use for th...  "
      ]
     },
     "execution_count": 145,
     "metadata": {},
     "output_type": "execute_result"
    }
   ],
   "source": [
    "# continued\n",
    "reddit.head()"
   ]
  },
  {
   "cell_type": "markdown",
   "id": "5e8fcb22",
   "metadata": {},
   "source": [
    "We have removed nulls, duplicates, and redundant columns. The data is now ostensibly clean. What we do next to transform the given data depends on the model we intend to use."
   ]
  },
  {
   "cell_type": "markdown",
   "id": "de01e12c",
   "metadata": {},
   "source": [
    "Transforming the `comment` column `documents` into `tokens` will be a great start to further our EDA in preparation for our model."
   ]
  },
  {
   "cell_type": "code",
   "execution_count": 146,
   "id": "7090f4ee",
   "metadata": {},
   "outputs": [
    {
     "data": {
      "text/plain": [
       "0                                           NC and NH.\n",
       "1    You do know west teams play against west teams...\n",
       "2    They were underdogs earlier today, but since G...\n",
       "3    This meme isn't funny none of the \"new york ni...\n",
       "4                      I could use one of those tools.\n",
       "Name: comment, dtype: object"
      ]
     },
     "execution_count": 146,
     "metadata": {},
     "output_type": "execute_result"
    }
   ],
   "source": [
    "# instantiating comment variable in preparation for bag-of-words\n",
    "comments = reddit.copy().pop('comment')\n",
    "comments.head()"
   ]
  },
  {
   "cell_type": "markdown",
   "id": "9c227449",
   "metadata": {},
   "source": [
    "Having isolated the `comments` column, we can begin by looking for any trend in the length of the comments."
   ]
  },
  {
   "cell_type": "code",
   "execution_count": 147,
   "id": "4d5e71a9",
   "metadata": {},
   "outputs": [
    {
     "data": {
      "text/plain": [
       "count    1.010745e+06\n",
       "mean     1.046137e+01\n",
       "std      1.053500e+01\n",
       "min      1.000000e+00\n",
       "25%      5.000000e+00\n",
       "50%      9.000000e+00\n",
       "75%      1.400000e+01\n",
       "max      2.222000e+03\n",
       "Name: comment, dtype: float64"
      ]
     },
     "execution_count": 147,
     "metadata": {},
     "output_type": "execute_result"
    }
   ],
   "source": [
    "length = comments.str.split().str.len()\n",
    "length.describe()"
   ]
  },
  {
   "cell_type": "markdown",
   "id": "2fe0330a",
   "metadata": {},
   "source": [
    "Info summary:\n",
    "- mean is 10 and median is 9\n",
    "- min is understandably 1, while max is > 2000 words (tokens) long!!\n",
    "\n",
    "\n",
    "\n",
    "\n",
    "Let us first visualize the distribution, controlling for outliers. We will later focus on the outliers."
   ]
  },
  {
   "cell_type": "code",
   "execution_count": 148,
   "id": "7fde1ba0",
   "metadata": {},
   "outputs": [
    {
     "data": {
      "text/plain": [
       "<AxesSubplot: ylabel='Frequency'>"
      ]
     },
     "execution_count": 148,
     "metadata": {},
     "output_type": "execute_result"
    },
    {
     "data": {
      "image/png": "[encoded data removed]",
      "text/plain": [
       "<Figure size 640x480 with 1 Axes>"
      ]
     },
     "metadata": {},
     "output_type": "display_data"
    }
   ],
   "source": [
    "# visualizing string length\n",
    "length[length <= 50].plot(kind=\"hist\", bins=25)"
   ]
  },
  {
   "cell_type": "markdown",
   "id": "4e6b87f3",
   "metadata": {},
   "source": [
    "We can take a snapshot of the biggest outliers (the longest comments) to see if we can gather any information on what they contain."
   ]
  },
  {
   "cell_type": "code",
   "execution_count": 149,
   "id": "881d6dd1",
   "metadata": {
    "scrolled": true
   },
   "outputs": [
    {
     "data": {
      "text/plain": [
       "5556      DONALD TRUMP DONALD TRUMP DONALD TRUMP DONALD ...\n",
       "75677     Fake news fake news Fake news fake news Fake n...\n",
       "89444     fuck fuck fuck fuck fuck fuck fuck fuck fuck f...\n",
       "104339    fuck fuck fuck fuck fuck fuck fuck fuck fuck f...\n",
       "126164    LIAR Liar liar LIAR Liar liar LIAR Liar liar L...\n",
       "146938    iPhone 7 iPhone 7 iPhone 7 iPhone 7 iPhone 7 i...\n",
       "154696    PATCH NOTES General Gameplay Fixed technology ...\n",
       "163043    fuck fuck fuck fuck fuck fuck fuck fuck fuck f...\n",
       "186325    Nvidia GTX 1080 1070 1060 1050 Founders Editio...\n",
       "217579    Comcast Comcast Comcast Comcast Comcast Comcas...\n",
       "219087    Raving Raving Raving Raving Raving Raving Ravi...\n",
       "283846    LOVE TRUMPS HATE LOVE TRUMPS HATE LOVE TRUMPS ...\n",
       "382449    COMCAST COMCAST COMCAST COMCAST COMCAST COMCAS...\n",
       "411840    #[MONEY MONEY MONEY MONEY MONEY MONEY MONEY MO...\n",
       "757452    copy pasta copy pasta copy pasta copy pasta co...\n",
       "939334    JERRY JERRY JERRY JERRY JERRY JERRY JERRY JERR...\n",
       "975519    ***a mac is a PC*** ***a mac is a PC*** ***a m...\n",
       "Name: comment, dtype: object"
      ]
     },
     "execution_count": 149,
     "metadata": {},
     "output_type": "execute_result"
    }
   ],
   "source": [
    "comments[length > 1000]"
   ]
  },
  {
   "cell_type": "markdown",
   "id": "96afafb7",
   "metadata": {},
   "source": [
    "There seems to be a lot of repetition. The same word over and over again, 1000+ times. `copypasta` as one of the commenters blatantly denotes."
   ]
  },
  {
   "cell_type": "markdown",
   "id": "e1cd5ae5",
   "metadata": {},
   "source": [
    "Let us also see if at a lower `length` cutoff the same pattern holds true, if all comments longer than 200 words are all copied and pasted."
   ]
  },
  {
   "cell_type": "code",
   "execution_count": 150,
   "id": "0dd8b97c",
   "metadata": {},
   "outputs": [
    {
     "data": {
      "text/plain": [
       "5556      DONALD TRUMP DONALD TRUMP DONALD TRUMP DONALD ...\n",
       "75677     Fake news fake news Fake news fake news Fake n...\n",
       "89444     fuck fuck fuck fuck fuck fuck fuck fuck fuck f...\n",
       "104339    fuck fuck fuck fuck fuck fuck fuck fuck fuck f...\n",
       "109391    First Lady of the United States First Lady of ...\n",
       "110522    GENOCIDE GENOCIDE GENOCIDE GENOCIDE GENOCIDE G...\n",
       "126164    LIAR Liar liar LIAR Liar liar LIAR Liar liar L...\n",
       "146938    iPhone 7 iPhone 7 iPhone 7 iPhone 7 iPhone 7 i...\n",
       "154696    PATCH NOTES General Gameplay Fixed technology ...\n",
       "163043    fuck fuck fuck fuck fuck fuck fuck fuck fuck f...\n",
       "164976    First Family TRUMP First Family TRUMP First Fa...\n",
       "177068    You've got nothing, got nothing, got nothing, ...\n",
       "186325    Nvidia GTX 1080 1070 1060 1050 Founders Editio...\n",
       "217579    Comcast Comcast Comcast Comcast Comcast Comcas...\n",
       "219087    Raving Raving Raving Raving Raving Raving Ravi...\n",
       "283846    LOVE TRUMPS HATE LOVE TRUMPS HATE LOVE TRUMPS ...\n",
       "285106    Islam Islam Islam Islam Islam Islam Islam Isla...\n",
       "315640    I would say buy all of them because literally ...\n",
       "334302    #flintstones #flintstones #flintstones #flints...\n",
       "382449    COMCAST COMCAST COMCAST COMCAST COMCAST COMCAS...\n",
       "411840    #[MONEY MONEY MONEY MONEY MONEY MONEY MONEY MO...\n",
       "437212    Donald Trump Donald Trump Donald Trump Donald ...\n",
       "536325    ZIGGO ZIGGO ZIGGO ZIGGO ZIGGO ZIGGO ZIGGO ZIGG...\n",
       "538779    Gjallarhorn Gjallarhorn Gjallarhorn Gjallarhor...\n",
       "583895    lm ayy lm ayy lm ayy lm ayy lm ayy lm ayy lm a...\n",
       "757452    copy pasta copy pasta copy pasta copy pasta co...\n",
       "773160    cmd cmd cmd cmd cmd cmd cmd cmd cmd cmd cmd cm...\n",
       "939334    JERRY JERRY JERRY JERRY JERRY JERRY JERRY JERR...\n",
       "975519    ***a mac is a PC*** ***a mac is a PC*** ***a m...\n",
       "Name: comment, dtype: object"
      ]
     },
     "execution_count": 150,
     "metadata": {},
     "output_type": "execute_result"
    }
   ],
   "source": [
    "comments[length > 300]"
   ]
  },
  {
   "cell_type": "markdown",
   "id": "30e724d7",
   "metadata": {},
   "source": [
    "The same seems to hold true of all comments longer than 300 words. We can safely drop these comments."
   ]
  },
  {
   "cell_type": "code",
   "execution_count": 151,
   "id": "0314d9b2",
   "metadata": {},
   "outputs": [],
   "source": [
    "reddit.drop(reddit[reddit['comment'].str.split().str.len() > 300].index, inplace = True)"
   ]
  },
  {
   "cell_type": "code",
   "execution_count": null,
   "id": "d9c46d1f-b675-4bdd-b49b-f8196a62a5a5",
   "metadata": {},
   "outputs": [],
   "source": []
  },
  {
   "cell_type": "code",
   "execution_count": null,
   "id": "1e7052e8-abb1-4f66-90a0-5e667d538ba3",
   "metadata": {},
   "outputs": [],
   "source": []
  },
  {
   "cell_type": "code",
   "execution_count": 152,
   "id": "9cb8a262",
   "metadata": {},
   "outputs": [],
   "source": [
    "years_list = []\n",
    "months_list = []\n",
    "days_list = []\n",
    "\n",
    "for i in reddit['created_utc']:\n",
    "    years_list.append(i.year)\n",
    "    months_list.append(i.month)\n",
    "    days_list.append(i.day)\n",
    "    \n",
    "    "
   ]
  },
  {
   "cell_type": "code",
   "execution_count": 153,
   "id": "0a7ad067",
   "metadata": {
    "scrolled": true
   },
   "outputs": [
    {
     "name": "stdout",
     "output_type": "stream",
     "text": [
      " Lengths: \n",
      " Years List: 1010716 \n",
      " Months List: 1010716 \n",
      " Days List: 1010716\n"
     ]
    }
   ],
   "source": [
    "print(f' Lengths: \\n Years List: {len(years_list)} \\n Months List: {len(months_list)} \\n Days List: {len(days_list)}')"
   ]
  },
  {
   "cell_type": "code",
   "execution_count": 154,
   "id": "66bbb963",
   "metadata": {},
   "outputs": [],
   "source": [
    "reddit['year'] = years_list\n",
    "reddit['month'] = months_list\n",
    "reddit['day'] = days_list"
   ]
  },
  {
   "cell_type": "code",
   "execution_count": 155,
   "id": "311bec8e",
   "metadata": {},
   "outputs": [
    {
     "data": {
      "text/html": [
       "<div>\n",
       "<style scoped>\n",
       "    .dataframe tbody tr th:only-of-type {\n",
       "        vertical-align: middle;\n",
       "    }\n",
       "\n",
       "    .dataframe tbody tr th {\n",
       "        vertical-align: top;\n",
       "    }\n",
       "\n",
       "    .dataframe thead th {\n",
       "        text-align: right;\n",
       "    }\n",
       "</style>\n",
       "<table border=\"1\" class=\"dataframe\">\n",
       "  <thead>\n",
       "    <tr style=\"text-align: right;\">\n",
       "      <th></th>\n",
       "      <th>label</th>\n",
       "      <th>comment</th>\n",
       "      <th>subreddit</th>\n",
       "      <th>created_utc</th>\n",
       "      <th>parent_comment</th>\n",
       "      <th>year</th>\n",
       "      <th>month</th>\n",
       "      <th>day</th>\n",
       "    </tr>\n",
       "  </thead>\n",
       "  <tbody>\n",
       "    <tr>\n",
       "      <th>0</th>\n",
       "      <td>0</td>\n",
       "      <td>NC and NH.</td>\n",
       "      <td>politics</td>\n",
       "      <td>2016-10-16 23:55:23</td>\n",
       "      <td>Yeah, I get that argument. At this point, I'd ...</td>\n",
       "      <td>2016</td>\n",
       "      <td>10</td>\n",
       "      <td>16</td>\n",
       "    </tr>\n",
       "    <tr>\n",
       "      <th>1</th>\n",
       "      <td>0</td>\n",
       "      <td>You do know west teams play against west teams...</td>\n",
       "      <td>nba</td>\n",
       "      <td>2016-11-01 00:24:10</td>\n",
       "      <td>The blazers and Mavericks (The wests 5 and 6 s...</td>\n",
       "      <td>2016</td>\n",
       "      <td>11</td>\n",
       "      <td>1</td>\n",
       "    </tr>\n",
       "    <tr>\n",
       "      <th>2</th>\n",
       "      <td>0</td>\n",
       "      <td>They were underdogs earlier today, but since G...</td>\n",
       "      <td>nfl</td>\n",
       "      <td>2016-09-22 21:45:37</td>\n",
       "      <td>They're favored to win.</td>\n",
       "      <td>2016</td>\n",
       "      <td>9</td>\n",
       "      <td>22</td>\n",
       "    </tr>\n",
       "    <tr>\n",
       "      <th>3</th>\n",
       "      <td>0</td>\n",
       "      <td>This meme isn't funny none of the \"new york ni...</td>\n",
       "      <td>BlackPeopleTwitter</td>\n",
       "      <td>2016-10-18 21:03:47</td>\n",
       "      <td>deadass don't kill my buzz</td>\n",
       "      <td>2016</td>\n",
       "      <td>10</td>\n",
       "      <td>18</td>\n",
       "    </tr>\n",
       "    <tr>\n",
       "      <th>4</th>\n",
       "      <td>0</td>\n",
       "      <td>I could use one of those tools.</td>\n",
       "      <td>MaddenUltimateTeam</td>\n",
       "      <td>2016-12-30 17:00:13</td>\n",
       "      <td>Yep can confirm I saw the tool they use for th...</td>\n",
       "      <td>2016</td>\n",
       "      <td>12</td>\n",
       "      <td>30</td>\n",
       "    </tr>\n",
       "  </tbody>\n",
       "</table>\n",
       "</div>"
      ],
      "text/plain": [
       "   label                                            comment  \\\n",
       "0      0                                         NC and NH.   \n",
       "1      0  You do know west teams play against west teams...   \n",
       "2      0  They were underdogs earlier today, but since G...   \n",
       "3      0  This meme isn't funny none of the \"new york ni...   \n",
       "4      0                    I could use one of those tools.   \n",
       "\n",
       "            subreddit         created_utc  \\\n",
       "0            politics 2016-10-16 23:55:23   \n",
       "1                 nba 2016-11-01 00:24:10   \n",
       "2                 nfl 2016-09-22 21:45:37   \n",
       "3  BlackPeopleTwitter 2016-10-18 21:03:47   \n",
       "4  MaddenUltimateTeam 2016-12-30 17:00:13   \n",
       "\n",
       "                                      parent_comment  year  month  day  \n",
       "0  Yeah, I get that argument. At this point, I'd ...  2016     10   16  \n",
       "1  The blazers and Mavericks (The wests 5 and 6 s...  2016     11    1  \n",
       "2                            They're favored to win.  2016      9   22  \n",
       "3                         deadass don't kill my buzz  2016     10   18  \n",
       "4  Yep can confirm I saw the tool they use for th...  2016     12   30  "
      ]
     },
     "execution_count": 155,
     "metadata": {},
     "output_type": "execute_result"
    }
   ],
   "source": [
    "reddit.head()"
   ]
  },
  {
   "cell_type": "markdown",
   "id": "d7457fe7",
   "metadata": {},
   "source": []
  },
  {
   "cell_type": "code",
   "execution_count": 156,
   "id": "2e35e801",
   "metadata": {},
   "outputs": [],
   "source": [
    "reddit.drop(columns='created_utc', inplace=True)"
   ]
  },
  {
   "cell_type": "code",
   "execution_count": 157,
   "id": "a16f3541",
   "metadata": {},
   "outputs": [
    {
     "data": {
      "text/html": [
       "<div>\n",
       "<style scoped>\n",
       "    .dataframe tbody tr th:only-of-type {\n",
       "        vertical-align: middle;\n",
       "    }\n",
       "\n",
       "    .dataframe tbody tr th {\n",
       "        vertical-align: top;\n",
       "    }\n",
       "\n",
       "    .dataframe thead th {\n",
       "        text-align: right;\n",
       "    }\n",
       "</style>\n",
       "<table border=\"1\" class=\"dataframe\">\n",
       "  <thead>\n",
       "    <tr style=\"text-align: right;\">\n",
       "      <th></th>\n",
       "      <th>label</th>\n",
       "      <th>comment</th>\n",
       "      <th>subreddit</th>\n",
       "      <th>parent_comment</th>\n",
       "      <th>year</th>\n",
       "      <th>month</th>\n",
       "      <th>day</th>\n",
       "    </tr>\n",
       "  </thead>\n",
       "  <tbody>\n",
       "    <tr>\n",
       "      <th>0</th>\n",
       "      <td>0</td>\n",
       "      <td>NC and NH.</td>\n",
       "      <td>politics</td>\n",
       "      <td>Yeah, I get that argument. At this point, I'd ...</td>\n",
       "      <td>2016</td>\n",
       "      <td>10</td>\n",
       "      <td>16</td>\n",
       "    </tr>\n",
       "    <tr>\n",
       "      <th>1</th>\n",
       "      <td>0</td>\n",
       "      <td>You do know west teams play against west teams...</td>\n",
       "      <td>nba</td>\n",
       "      <td>The blazers and Mavericks (The wests 5 and 6 s...</td>\n",
       "      <td>2016</td>\n",
       "      <td>11</td>\n",
       "      <td>1</td>\n",
       "    </tr>\n",
       "    <tr>\n",
       "      <th>2</th>\n",
       "      <td>0</td>\n",
       "      <td>They were underdogs earlier today, but since G...</td>\n",
       "      <td>nfl</td>\n",
       "      <td>They're favored to win.</td>\n",
       "      <td>2016</td>\n",
       "      <td>9</td>\n",
       "      <td>22</td>\n",
       "    </tr>\n",
       "    <tr>\n",
       "      <th>3</th>\n",
       "      <td>0</td>\n",
       "      <td>This meme isn't funny none of the \"new york ni...</td>\n",
       "      <td>BlackPeopleTwitter</td>\n",
       "      <td>deadass don't kill my buzz</td>\n",
       "      <td>2016</td>\n",
       "      <td>10</td>\n",
       "      <td>18</td>\n",
       "    </tr>\n",
       "    <tr>\n",
       "      <th>4</th>\n",
       "      <td>0</td>\n",
       "      <td>I could use one of those tools.</td>\n",
       "      <td>MaddenUltimateTeam</td>\n",
       "      <td>Yep can confirm I saw the tool they use for th...</td>\n",
       "      <td>2016</td>\n",
       "      <td>12</td>\n",
       "      <td>30</td>\n",
       "    </tr>\n",
       "  </tbody>\n",
       "</table>\n",
       "</div>"
      ],
      "text/plain": [
       "   label                                            comment  \\\n",
       "0      0                                         NC and NH.   \n",
       "1      0  You do know west teams play against west teams...   \n",
       "2      0  They were underdogs earlier today, but since G...   \n",
       "3      0  This meme isn't funny none of the \"new york ni...   \n",
       "4      0                    I could use one of those tools.   \n",
       "\n",
       "            subreddit                                     parent_comment  \\\n",
       "0            politics  Yeah, I get that argument. At this point, I'd ...   \n",
       "1                 nba  The blazers and Mavericks (The wests 5 and 6 s...   \n",
       "2                 nfl                            They're favored to win.   \n",
       "3  BlackPeopleTwitter                         deadass don't kill my buzz   \n",
       "4  MaddenUltimateTeam  Yep can confirm I saw the tool they use for th...   \n",
       "\n",
       "   year  month  day  \n",
       "0  2016     10   16  \n",
       "1  2016     11    1  \n",
       "2  2016      9   22  \n",
       "3  2016     10   18  \n",
       "4  2016     12   30  "
      ]
     },
     "execution_count": 157,
     "metadata": {},
     "output_type": "execute_result"
    }
   ],
   "source": [
    "reddit.head()"
   ]
  },
  {
   "cell_type": "code",
   "execution_count": 158,
   "id": "7e898096",
   "metadata": {},
   "outputs": [],
   "source": [
    "sarcastic = reddit.loc[reddit['label'] == 1]\n",
    "non_sarcastic = reddit.loc[reddit['label'] == 0]"
   ]
  },
  {
   "cell_type": "code",
   "execution_count": 159,
   "id": "4898137c",
   "metadata": {
    "scrolled": true
   },
   "outputs": [
    {
     "data": {
      "text/html": [
       "<div>\n",
       "<style scoped>\n",
       "    .dataframe tbody tr th:only-of-type {\n",
       "        vertical-align: middle;\n",
       "    }\n",
       "\n",
       "    .dataframe tbody tr th {\n",
       "        vertical-align: top;\n",
       "    }\n",
       "\n",
       "    .dataframe thead th {\n",
       "        text-align: right;\n",
       "    }\n",
       "</style>\n",
       "<table border=\"1\" class=\"dataframe\">\n",
       "  <thead>\n",
       "    <tr style=\"text-align: right;\">\n",
       "      <th></th>\n",
       "      <th>label</th>\n",
       "      <th>comment</th>\n",
       "      <th>subreddit</th>\n",
       "      <th>parent_comment</th>\n",
       "      <th>year</th>\n",
       "      <th>month</th>\n",
       "      <th>day</th>\n",
       "    </tr>\n",
       "  </thead>\n",
       "  <tbody>\n",
       "    <tr>\n",
       "      <th>33</th>\n",
       "      <td>1</td>\n",
       "      <td>But they'll have all those reviews!</td>\n",
       "      <td>ProductTesting</td>\n",
       "      <td>The dumb thing is, they are risking their sell...</td>\n",
       "      <td>2016</td>\n",
       "      <td>11</td>\n",
       "      <td>1</td>\n",
       "    </tr>\n",
       "    <tr>\n",
       "      <th>44</th>\n",
       "      <td>1</td>\n",
       "      <td>wow it is totally unreasonable to assume that ...</td>\n",
       "      <td>politics</td>\n",
       "      <td>Clinton campaign accuses FBI of 'blatant doubl...</td>\n",
       "      <td>2016</td>\n",
       "      <td>11</td>\n",
       "      <td>1</td>\n",
       "    </tr>\n",
       "    <tr>\n",
       "      <th>45</th>\n",
       "      <td>1</td>\n",
       "      <td>Ho ho ho... But Melania said that there is no ...</td>\n",
       "      <td>politics</td>\n",
       "      <td>Anyone else think that it was interesting the ...</td>\n",
       "      <td>2016</td>\n",
       "      <td>10</td>\n",
       "      <td>18</td>\n",
       "    </tr>\n",
       "    <tr>\n",
       "      <th>66</th>\n",
       "      <td>1</td>\n",
       "      <td>I can't wait until @potus starts a twitter war...</td>\n",
       "      <td>politics</td>\n",
       "      <td>Here's what happens when Obama gives up his Tw...</td>\n",
       "      <td>2016</td>\n",
       "      <td>11</td>\n",
       "      <td>1</td>\n",
       "    </tr>\n",
       "    <tr>\n",
       "      <th>69</th>\n",
       "      <td>1</td>\n",
       "      <td>gotta love the teachers who give exams on the ...</td>\n",
       "      <td>CFBOffTopic</td>\n",
       "      <td>Monday night Drinking thread Brought to You by...</td>\n",
       "      <td>2016</td>\n",
       "      <td>11</td>\n",
       "      <td>1</td>\n",
       "    </tr>\n",
       "  </tbody>\n",
       "</table>\n",
       "</div>"
      ],
      "text/plain": [
       "    label                                            comment       subreddit  \\\n",
       "33      1                But they'll have all those reviews!  ProductTesting   \n",
       "44      1  wow it is totally unreasonable to assume that ...        politics   \n",
       "45      1  Ho ho ho... But Melania said that there is no ...        politics   \n",
       "66      1  I can't wait until @potus starts a twitter war...        politics   \n",
       "69      1  gotta love the teachers who give exams on the ...     CFBOffTopic   \n",
       "\n",
       "                                       parent_comment  year  month  day  \n",
       "33  The dumb thing is, they are risking their sell...  2016     11    1  \n",
       "44  Clinton campaign accuses FBI of 'blatant doubl...  2016     11    1  \n",
       "45  Anyone else think that it was interesting the ...  2016     10   18  \n",
       "66  Here's what happens when Obama gives up his Tw...  2016     11    1  \n",
       "69  Monday night Drinking thread Brought to You by...  2016     11    1  "
      ]
     },
     "execution_count": 159,
     "metadata": {},
     "output_type": "execute_result"
    }
   ],
   "source": [
    "sarcastic.head()"
   ]
  },
  {
   "cell_type": "code",
   "execution_count": 160,
   "id": "9d7de871",
   "metadata": {},
   "outputs": [
    {
     "data": {
      "text/html": [
       "<div>\n",
       "<style scoped>\n",
       "    .dataframe tbody tr th:only-of-type {\n",
       "        vertical-align: middle;\n",
       "    }\n",
       "\n",
       "    .dataframe tbody tr th {\n",
       "        vertical-align: top;\n",
       "    }\n",
       "\n",
       "    .dataframe thead th {\n",
       "        text-align: right;\n",
       "    }\n",
       "</style>\n",
       "<table border=\"1\" class=\"dataframe\">\n",
       "  <thead>\n",
       "    <tr style=\"text-align: right;\">\n",
       "      <th></th>\n",
       "      <th>label</th>\n",
       "      <th>comment</th>\n",
       "      <th>subreddit</th>\n",
       "      <th>parent_comment</th>\n",
       "      <th>year</th>\n",
       "      <th>month</th>\n",
       "      <th>day</th>\n",
       "    </tr>\n",
       "  </thead>\n",
       "  <tbody>\n",
       "    <tr>\n",
       "      <th>0</th>\n",
       "      <td>0</td>\n",
       "      <td>NC and NH.</td>\n",
       "      <td>politics</td>\n",
       "      <td>Yeah, I get that argument. At this point, I'd ...</td>\n",
       "      <td>2016</td>\n",
       "      <td>10</td>\n",
       "      <td>16</td>\n",
       "    </tr>\n",
       "    <tr>\n",
       "      <th>1</th>\n",
       "      <td>0</td>\n",
       "      <td>You do know west teams play against west teams...</td>\n",
       "      <td>nba</td>\n",
       "      <td>The blazers and Mavericks (The wests 5 and 6 s...</td>\n",
       "      <td>2016</td>\n",
       "      <td>11</td>\n",
       "      <td>1</td>\n",
       "    </tr>\n",
       "    <tr>\n",
       "      <th>2</th>\n",
       "      <td>0</td>\n",
       "      <td>They were underdogs earlier today, but since G...</td>\n",
       "      <td>nfl</td>\n",
       "      <td>They're favored to win.</td>\n",
       "      <td>2016</td>\n",
       "      <td>9</td>\n",
       "      <td>22</td>\n",
       "    </tr>\n",
       "    <tr>\n",
       "      <th>3</th>\n",
       "      <td>0</td>\n",
       "      <td>This meme isn't funny none of the \"new york ni...</td>\n",
       "      <td>BlackPeopleTwitter</td>\n",
       "      <td>deadass don't kill my buzz</td>\n",
       "      <td>2016</td>\n",
       "      <td>10</td>\n",
       "      <td>18</td>\n",
       "    </tr>\n",
       "    <tr>\n",
       "      <th>4</th>\n",
       "      <td>0</td>\n",
       "      <td>I could use one of those tools.</td>\n",
       "      <td>MaddenUltimateTeam</td>\n",
       "      <td>Yep can confirm I saw the tool they use for th...</td>\n",
       "      <td>2016</td>\n",
       "      <td>12</td>\n",
       "      <td>30</td>\n",
       "    </tr>\n",
       "  </tbody>\n",
       "</table>\n",
       "</div>"
      ],
      "text/plain": [
       "   label                                            comment  \\\n",
       "0      0                                         NC and NH.   \n",
       "1      0  You do know west teams play against west teams...   \n",
       "2      0  They were underdogs earlier today, but since G...   \n",
       "3      0  This meme isn't funny none of the \"new york ni...   \n",
       "4      0                    I could use one of those tools.   \n",
       "\n",
       "            subreddit                                     parent_comment  \\\n",
       "0            politics  Yeah, I get that argument. At this point, I'd ...   \n",
       "1                 nba  The blazers and Mavericks (The wests 5 and 6 s...   \n",
       "2                 nfl                            They're favored to win.   \n",
       "3  BlackPeopleTwitter                         deadass don't kill my buzz   \n",
       "4  MaddenUltimateTeam  Yep can confirm I saw the tool they use for th...   \n",
       "\n",
       "   year  month  day  \n",
       "0  2016     10   16  \n",
       "1  2016     11    1  \n",
       "2  2016      9   22  \n",
       "3  2016     10   18  \n",
       "4  2016     12   30  "
      ]
     },
     "execution_count": 160,
     "metadata": {},
     "output_type": "execute_result"
    }
   ],
   "source": [
    "non_sarcastic.head()"
   ]
  },
  {
   "cell_type": "code",
   "execution_count": 161,
   "id": "057827c5",
   "metadata": {},
   "outputs": [
    {
     "data": {
      "text/plain": [
       "49.998219084292714"
      ]
     },
     "execution_count": 161,
     "metadata": {},
     "output_type": "execute_result"
    }
   ],
   "source": [
    "sarcastic.shape[0] / reddit.shape[0] * 100"
   ]
  },
  {
   "cell_type": "code",
   "execution_count": 162,
   "id": "5a15227d",
   "metadata": {},
   "outputs": [
    {
     "data": {
      "text/plain": [
       "<Figure size 640x480 with 0 Axes>"
      ]
     },
     "metadata": {},
     "output_type": "display_data"
    },
    {
     "data": {
      "image/png": "[encoded data removed]",
      "text/plain": [
       "<Figure size 1500x1000 with 2 Axes>"
      ]
     },
     "metadata": {},
     "output_type": "display_data"
    }
   ],
   "source": [
    "plt.figure()\n",
    "plt.subplots(1,2, figsize=(15,10))\n",
    "\n",
    "plt.subplot(1,2,1)\n",
    "plt.hist(sarcastic['year'], bins=8, color='lightcoral', alpha=0.8)\n",
    "plt.xlabel('Years')\n",
    "plt.ylabel('Count')\n",
    "plt.title('Sarcastic Year Distribution', fontsize=20)\n",
    "\n",
    "plt.subplot(1,2,2)\n",
    "plt.hist(sarcastic['year'], bins=8, color='cornflowerblue', alpha=0.8)\n",
    "plt.xlabel('Years')\n",
    "plt.ylabel('Count')\n",
    "plt.title('Non-Sarcastic Year Distribution', fontsize=20)\n",
    "\n",
    "plt.tight_layout()\n",
    "plt.show()"
   ]
  },
  {
   "cell_type": "code",
   "execution_count": 163,
   "id": "e2f6d95b",
   "metadata": {},
   "outputs": [
    {
     "data": {
      "text/plain": [
       "2016    222761\n",
       "2015    149290\n",
       "2014     73505\n",
       "2013     34193\n",
       "2012     14592\n",
       "2011      6944\n",
       "2010      2977\n",
       "2009      1078\n",
       "Name: year, dtype: int64"
      ]
     },
     "execution_count": 163,
     "metadata": {},
     "output_type": "execute_result"
    }
   ],
   "source": [
    "sarcastic['year'].value_counts()"
   ]
  },
  {
   "cell_type": "code",
   "execution_count": 164,
   "id": "975bc9fc",
   "metadata": {},
   "outputs": [
    {
     "data": {
      "text/plain": [
       "2016    252885\n",
       "2015    137554\n",
       "2014     64006\n",
       "2013     29364\n",
       "2012     12714\n",
       "2011      5779\n",
       "2010      2302\n",
       "2009       772\n",
       "Name: year, dtype: int64"
      ]
     },
     "execution_count": 164,
     "metadata": {},
     "output_type": "execute_result"
    }
   ],
   "source": [
    "non_sarcastic['year'].value_counts()"
   ]
  },
  {
   "cell_type": "code",
   "execution_count": 165,
   "id": "09addb06",
   "metadata": {},
   "outputs": [
    {
     "data": {
      "text/plain": [
       "505340"
      ]
     },
     "execution_count": 165,
     "metadata": {},
     "output_type": "execute_result"
    }
   ],
   "source": [
    "sarcastic.shape[0]"
   ]
  },
  {
   "cell_type": "code",
   "execution_count": 166,
   "id": "ad2325f2",
   "metadata": {},
   "outputs": [
    {
     "data": {
      "text/plain": [
       "505376"
      ]
     },
     "execution_count": 166,
     "metadata": {},
     "output_type": "execute_result"
    }
   ],
   "source": [
    "non_sarcastic.shape[0]"
   ]
  },
  {
   "cell_type": "markdown",
   "id": "ebc5c803",
   "metadata": {},
   "source": [
    "-------------------------------------------------------------------------------------------------------------------------------"
   ]
  },
  {
   "cell_type": "code",
   "execution_count": 167,
   "id": "7e6a2f4c",
   "metadata": {},
   "outputs": [
    {
     "data": {
      "text/html": [
       "<div>\n",
       "<style scoped>\n",
       "    .dataframe tbody tr th:only-of-type {\n",
       "        vertical-align: middle;\n",
       "    }\n",
       "\n",
       "    .dataframe tbody tr th {\n",
       "        vertical-align: top;\n",
       "    }\n",
       "\n",
       "    .dataframe thead th {\n",
       "        text-align: right;\n",
       "    }\n",
       "</style>\n",
       "<table border=\"1\" class=\"dataframe\">\n",
       "  <thead>\n",
       "    <tr style=\"text-align: right;\">\n",
       "      <th></th>\n",
       "      <th>label</th>\n",
       "      <th>comment</th>\n",
       "      <th>subreddit</th>\n",
       "      <th>parent_comment</th>\n",
       "      <th>year</th>\n",
       "      <th>month</th>\n",
       "      <th>day</th>\n",
       "    </tr>\n",
       "  </thead>\n",
       "  <tbody>\n",
       "    <tr>\n",
       "      <th>0</th>\n",
       "      <td>0</td>\n",
       "      <td>NC and NH.</td>\n",
       "      <td>politics</td>\n",
       "      <td>Yeah, I get that argument. At this point, I'd ...</td>\n",
       "      <td>2016</td>\n",
       "      <td>10</td>\n",
       "      <td>16</td>\n",
       "    </tr>\n",
       "    <tr>\n",
       "      <th>1</th>\n",
       "      <td>0</td>\n",
       "      <td>You do know west teams play against west teams...</td>\n",
       "      <td>nba</td>\n",
       "      <td>The blazers and Mavericks (The wests 5 and 6 s...</td>\n",
       "      <td>2016</td>\n",
       "      <td>11</td>\n",
       "      <td>1</td>\n",
       "    </tr>\n",
       "    <tr>\n",
       "      <th>2</th>\n",
       "      <td>0</td>\n",
       "      <td>They were underdogs earlier today, but since G...</td>\n",
       "      <td>nfl</td>\n",
       "      <td>They're favored to win.</td>\n",
       "      <td>2016</td>\n",
       "      <td>9</td>\n",
       "      <td>22</td>\n",
       "    </tr>\n",
       "    <tr>\n",
       "      <th>3</th>\n",
       "      <td>0</td>\n",
       "      <td>This meme isn't funny none of the \"new york ni...</td>\n",
       "      <td>BlackPeopleTwitter</td>\n",
       "      <td>deadass don't kill my buzz</td>\n",
       "      <td>2016</td>\n",
       "      <td>10</td>\n",
       "      <td>18</td>\n",
       "    </tr>\n",
       "    <tr>\n",
       "      <th>4</th>\n",
       "      <td>0</td>\n",
       "      <td>I could use one of those tools.</td>\n",
       "      <td>MaddenUltimateTeam</td>\n",
       "      <td>Yep can confirm I saw the tool they use for th...</td>\n",
       "      <td>2016</td>\n",
       "      <td>12</td>\n",
       "      <td>30</td>\n",
       "    </tr>\n",
       "  </tbody>\n",
       "</table>\n",
       "</div>"
      ],
      "text/plain": [
       "   label                                            comment  \\\n",
       "0      0                                         NC and NH.   \n",
       "1      0  You do know west teams play against west teams...   \n",
       "2      0  They were underdogs earlier today, but since G...   \n",
       "3      0  This meme isn't funny none of the \"new york ni...   \n",
       "4      0                    I could use one of those tools.   \n",
       "\n",
       "            subreddit                                     parent_comment  \\\n",
       "0            politics  Yeah, I get that argument. At this point, I'd ...   \n",
       "1                 nba  The blazers and Mavericks (The wests 5 and 6 s...   \n",
       "2                 nfl                            They're favored to win.   \n",
       "3  BlackPeopleTwitter                         deadass don't kill my buzz   \n",
       "4  MaddenUltimateTeam  Yep can confirm I saw the tool they use for th...   \n",
       "\n",
       "   year  month  day  \n",
       "0  2016     10   16  \n",
       "1  2016     11    1  \n",
       "2  2016      9   22  \n",
       "3  2016     10   18  \n",
       "4  2016     12   30  "
      ]
     },
     "execution_count": 167,
     "metadata": {},
     "output_type": "execute_result"
    }
   ],
   "source": [
    "reddit.head()"
   ]
  },
  {
   "cell_type": "code",
   "execution_count": 168,
   "id": "8a282436",
   "metadata": {},
   "outputs": [
    {
     "data": {
      "text/plain": [
       "<Figure size 640x480 with 0 Axes>"
      ]
     },
     "metadata": {},
     "output_type": "display_data"
    },
    {
     "data": {
      "image/png": "[encoded data removed]",
      "text/plain": [
       "<Figure size 1500x1000 with 2 Axes>"
      ]
     },
     "metadata": {},
     "output_type": "display_data"
    }
   ],
   "source": [
    "plt.figure()\n",
    "plt.subplots(1,2, figsize=(15,10))\n",
    "\n",
    "plt.subplot(1,2,1)\n",
    "plt.hist(sarcastic['month'], bins=12, color='lightcoral', alpha=0.8)\n",
    "plt.xlabel('Months')\n",
    "plt.ylabel('Count')\n",
    "plt.title('Sarcastic Month Distribution', fontsize=20)\n",
    "\n",
    "plt.subplot(1,2,2)\n",
    "plt.hist(sarcastic['month'], bins=12, color='cornflowerblue', alpha=0.8)\n",
    "plt.xlabel('Months')\n",
    "plt.ylabel('Count')\n",
    "plt.title('Non-Sarcastic Month Distribution', fontsize=20)\n",
    "\n",
    "plt.tight_layout()\n",
    "plt.show()"
   ]
  },
  {
   "cell_type": "code",
   "execution_count": 169,
   "id": "07f9a7f7",
   "metadata": {},
   "outputs": [
    {
     "data": {
      "text/plain": [
       "<Figure size 640x480 with 0 Axes>"
      ]
     },
     "metadata": {},
     "output_type": "display_data"
    },
    {
     "data": {
      "image/png": "[encoded data removed]",
      "text/plain": [
       "<Figure size 1500x1000 with 2 Axes>"
      ]
     },
     "metadata": {},
     "output_type": "display_data"
    }
   ],
   "source": [
    "plt.figure()\n",
    "plt.subplots(1,2, figsize=(15,10))\n",
    "\n",
    "plt.subplot(1,2,1)\n",
    "plt.hist(sarcastic['day'], bins=31, color='lightcoral', alpha=0.8)\n",
    "plt.xlabel('Days')\n",
    "plt.ylabel('Count')\n",
    "plt.title('Sarcastic Day Distribution', fontsize=20)\n",
    "\n",
    "plt.subplot(1,2,2)\n",
    "plt.hist(sarcastic['day'], bins=31, color='cornflowerblue', alpha=0.8)\n",
    "plt.xlabel('Days')\n",
    "plt.ylabel('Count')\n",
    "plt.title('Non-Sarcastic Day Distribution', fontsize=20)\n",
    "\n",
    "plt.tight_layout()\n",
    "plt.show()"
   ]
  },
  {
   "cell_type": "code",
   "execution_count": 170,
   "id": "7c7a7390",
   "metadata": {},
   "outputs": [],
   "source": [
    "reddit.drop(columns=['year','day'], inplace=True)"
   ]
  },
  {
   "cell_type": "code",
   "execution_count": 171,
   "id": "1eb69b5a",
   "metadata": {},
   "outputs": [
    {
     "data": {
      "text/html": [
       "<div>\n",
       "<style scoped>\n",
       "    .dataframe tbody tr th:only-of-type {\n",
       "        vertical-align: middle;\n",
       "    }\n",
       "\n",
       "    .dataframe tbody tr th {\n",
       "        vertical-align: top;\n",
       "    }\n",
       "\n",
       "    .dataframe thead th {\n",
       "        text-align: right;\n",
       "    }\n",
       "</style>\n",
       "<table border=\"1\" class=\"dataframe\">\n",
       "  <thead>\n",
       "    <tr style=\"text-align: right;\">\n",
       "      <th></th>\n",
       "      <th>label</th>\n",
       "      <th>comment</th>\n",
       "      <th>subreddit</th>\n",
       "      <th>parent_comment</th>\n",
       "      <th>month</th>\n",
       "    </tr>\n",
       "  </thead>\n",
       "  <tbody>\n",
       "    <tr>\n",
       "      <th>0</th>\n",
       "      <td>0</td>\n",
       "      <td>NC and NH.</td>\n",
       "      <td>politics</td>\n",
       "      <td>Yeah, I get that argument. At this point, I'd ...</td>\n",
       "      <td>10</td>\n",
       "    </tr>\n",
       "    <tr>\n",
       "      <th>1</th>\n",
       "      <td>0</td>\n",
       "      <td>You do know west teams play against west teams...</td>\n",
       "      <td>nba</td>\n",
       "      <td>The blazers and Mavericks (The wests 5 and 6 s...</td>\n",
       "      <td>11</td>\n",
       "    </tr>\n",
       "    <tr>\n",
       "      <th>2</th>\n",
       "      <td>0</td>\n",
       "      <td>They were underdogs earlier today, but since G...</td>\n",
       "      <td>nfl</td>\n",
       "      <td>They're favored to win.</td>\n",
       "      <td>9</td>\n",
       "    </tr>\n",
       "    <tr>\n",
       "      <th>3</th>\n",
       "      <td>0</td>\n",
       "      <td>This meme isn't funny none of the \"new york ni...</td>\n",
       "      <td>BlackPeopleTwitter</td>\n",
       "      <td>deadass don't kill my buzz</td>\n",
       "      <td>10</td>\n",
       "    </tr>\n",
       "    <tr>\n",
       "      <th>4</th>\n",
       "      <td>0</td>\n",
       "      <td>I could use one of those tools.</td>\n",
       "      <td>MaddenUltimateTeam</td>\n",
       "      <td>Yep can confirm I saw the tool they use for th...</td>\n",
       "      <td>12</td>\n",
       "    </tr>\n",
       "  </tbody>\n",
       "</table>\n",
       "</div>"
      ],
      "text/plain": [
       "   label                                            comment  \\\n",
       "0      0                                         NC and NH.   \n",
       "1      0  You do know west teams play against west teams...   \n",
       "2      0  They were underdogs earlier today, but since G...   \n",
       "3      0  This meme isn't funny none of the \"new york ni...   \n",
       "4      0                    I could use one of those tools.   \n",
       "\n",
       "            subreddit                                     parent_comment  \\\n",
       "0            politics  Yeah, I get that argument. At this point, I'd ...   \n",
       "1                 nba  The blazers and Mavericks (The wests 5 and 6 s...   \n",
       "2                 nfl                            They're favored to win.   \n",
       "3  BlackPeopleTwitter                         deadass don't kill my buzz   \n",
       "4  MaddenUltimateTeam  Yep can confirm I saw the tool they use for th...   \n",
       "\n",
       "   month  \n",
       "0     10  \n",
       "1     11  \n",
       "2      9  \n",
       "3     10  \n",
       "4     12  "
      ]
     },
     "execution_count": 171,
     "metadata": {},
     "output_type": "execute_result"
    }
   ],
   "source": [
    "reddit.head()"
   ]
  },
  {
   "cell_type": "code",
   "execution_count": 172,
   "id": "0bc6e216",
   "metadata": {},
   "outputs": [
    {
     "data": {
      "text/plain": [
       "array([[ 1.        , -0.02843567],\n",
       "       [-0.02843567,  1.        ]])"
      ]
     },
     "execution_count": 172,
     "metadata": {},
     "output_type": "execute_result"
    }
   ],
   "source": [
    "np.corrcoef(reddit['label'], reddit['month'])"
   ]
  },
  {
   "cell_type": "code",
   "execution_count": 173,
   "id": "31fb7c7b",
   "metadata": {},
   "outputs": [],
   "source": [
    "reddit.drop(columns='month', inplace=True)"
   ]
  },
  {
   "cell_type": "code",
   "execution_count": 174,
   "id": "6a2dc9b2",
   "metadata": {},
   "outputs": [
    {
     "data": {
      "text/plain": [
       "AskReddit                65671\n",
       "politics                 39492\n",
       "worldnews                26376\n",
       "leagueoflegends          21034\n",
       "pcmasterrace             18986\n",
       "                         ...  \n",
       "LabiaGW                      1\n",
       "Expected                     1\n",
       "AnimalsStoppingFights        1\n",
       "panderingfromtheright        1\n",
       "Pandemic                     1\n",
       "Name: subreddit, Length: 14876, dtype: int64"
      ]
     },
     "execution_count": 174,
     "metadata": {},
     "output_type": "execute_result"
    }
   ],
   "source": [
    "reddit['subreddit'].value_counts()"
   ]
  },
  {
   "cell_type": "code",
   "execution_count": 175,
   "id": "d8632d60",
   "metadata": {},
   "outputs": [
    {
     "data": {
      "text/plain": [
       "6060"
      ]
     },
     "execution_count": 175,
     "metadata": {},
     "output_type": "execute_result"
    }
   ],
   "source": [
    "(reddit['subreddit'].value_counts() < 2).sum()"
   ]
  },
  {
   "cell_type": "code",
   "execution_count": 176,
   "id": "b585aaec",
   "metadata": {},
   "outputs": [
    {
     "data": {
      "text/plain": [
       "0.4073675719279376"
      ]
     },
     "execution_count": 176,
     "metadata": {},
     "output_type": "execute_result"
    }
   ],
   "source": [
    "(reddit['subreddit'].value_counts() < 2).sum() / reddit['subreddit'].nunique()"
   ]
  },
  {
   "cell_type": "code",
   "execution_count": 177,
   "id": "1662c077",
   "metadata": {},
   "outputs": [
    {
     "data": {
      "text/plain": [
       "0.6462086582414628"
      ]
     },
     "execution_count": 177,
     "metadata": {},
     "output_type": "execute_result"
    }
   ],
   "source": [
    "(reddit['subreddit'].value_counts() < 5).sum() / reddit['subreddit'].nunique()"
   ]
  },
  {
   "cell_type": "code",
   "execution_count": 178,
   "id": "a21fb419",
   "metadata": {},
   "outputs": [],
   "source": [
    "reddit.drop(columns='subreddit', inplace=True)"
   ]
  },
  {
   "cell_type": "code",
   "execution_count": 179,
   "id": "1ef0dc25",
   "metadata": {},
   "outputs": [
    {
     "data": {
      "text/html": [
       "<div>\n",
       "<style scoped>\n",
       "    .dataframe tbody tr th:only-of-type {\n",
       "        vertical-align: middle;\n",
       "    }\n",
       "\n",
       "    .dataframe tbody tr th {\n",
       "        vertical-align: top;\n",
       "    }\n",
       "\n",
       "    .dataframe thead th {\n",
       "        text-align: right;\n",
       "    }\n",
       "</style>\n",
       "<table border=\"1\" class=\"dataframe\">\n",
       "  <thead>\n",
       "    <tr style=\"text-align: right;\">\n",
       "      <th></th>\n",
       "      <th>label</th>\n",
       "      <th>comment</th>\n",
       "      <th>parent_comment</th>\n",
       "    </tr>\n",
       "  </thead>\n",
       "  <tbody>\n",
       "    <tr>\n",
       "      <th>0</th>\n",
       "      <td>0</td>\n",
       "      <td>NC and NH.</td>\n",
       "      <td>Yeah, I get that argument. At this point, I'd ...</td>\n",
       "    </tr>\n",
       "    <tr>\n",
       "      <th>1</th>\n",
       "      <td>0</td>\n",
       "      <td>You do know west teams play against west teams...</td>\n",
       "      <td>The blazers and Mavericks (The wests 5 and 6 s...</td>\n",
       "    </tr>\n",
       "    <tr>\n",
       "      <th>2</th>\n",
       "      <td>0</td>\n",
       "      <td>They were underdogs earlier today, but since G...</td>\n",
       "      <td>They're favored to win.</td>\n",
       "    </tr>\n",
       "    <tr>\n",
       "      <th>3</th>\n",
       "      <td>0</td>\n",
       "      <td>This meme isn't funny none of the \"new york ni...</td>\n",
       "      <td>deadass don't kill my buzz</td>\n",
       "    </tr>\n",
       "    <tr>\n",
       "      <th>4</th>\n",
       "      <td>0</td>\n",
       "      <td>I could use one of those tools.</td>\n",
       "      <td>Yep can confirm I saw the tool they use for th...</td>\n",
       "    </tr>\n",
       "  </tbody>\n",
       "</table>\n",
       "</div>"
      ],
      "text/plain": [
       "   label                                            comment  \\\n",
       "0      0                                         NC and NH.   \n",
       "1      0  You do know west teams play against west teams...   \n",
       "2      0  They were underdogs earlier today, but since G...   \n",
       "3      0  This meme isn't funny none of the \"new york ni...   \n",
       "4      0                    I could use one of those tools.   \n",
       "\n",
       "                                      parent_comment  \n",
       "0  Yeah, I get that argument. At this point, I'd ...  \n",
       "1  The blazers and Mavericks (The wests 5 and 6 s...  \n",
       "2                            They're favored to win.  \n",
       "3                         deadass don't kill my buzz  \n",
       "4  Yep can confirm I saw the tool they use for th...  "
      ]
     },
     "execution_count": 179,
     "metadata": {},
     "output_type": "execute_result"
    }
   ],
   "source": [
    "reddit.head()"
   ]
  },
  {
   "cell_type": "code",
   "execution_count": 180,
   "id": "c45672fb",
   "metadata": {},
   "outputs": [],
   "source": [
    "#reddit.to_csv('comment_plus_parent.csv')"
   ]
  },
  {
   "cell_type": "code",
   "execution_count": null,
   "id": "c2fc3fc4",
   "metadata": {},
   "outputs": [],
   "source": []
  },
  {
   "cell_type": "code",
   "execution_count": 181,
   "id": "23b8523c",
   "metadata": {},
   "outputs": [],
   "source": [
    "reddit.drop(columns='parent_comment', inplace=True)"
   ]
  },
  {
   "cell_type": "code",
   "execution_count": 182,
   "id": "4bcfcd13",
   "metadata": {},
   "outputs": [
    {
     "data": {
      "text/html": [
       "<div>\n",
       "<style scoped>\n",
       "    .dataframe tbody tr th:only-of-type {\n",
       "        vertical-align: middle;\n",
       "    }\n",
       "\n",
       "    .dataframe tbody tr th {\n",
       "        vertical-align: top;\n",
       "    }\n",
       "\n",
       "    .dataframe thead th {\n",
       "        text-align: right;\n",
       "    }\n",
       "</style>\n",
       "<table border=\"1\" class=\"dataframe\">\n",
       "  <thead>\n",
       "    <tr style=\"text-align: right;\">\n",
       "      <th></th>\n",
       "      <th>label</th>\n",
       "      <th>comment</th>\n",
       "    </tr>\n",
       "  </thead>\n",
       "  <tbody>\n",
       "    <tr>\n",
       "      <th>0</th>\n",
       "      <td>0</td>\n",
       "      <td>NC and NH.</td>\n",
       "    </tr>\n",
       "    <tr>\n",
       "      <th>1</th>\n",
       "      <td>0</td>\n",
       "      <td>You do know west teams play against west teams...</td>\n",
       "    </tr>\n",
       "    <tr>\n",
       "      <th>2</th>\n",
       "      <td>0</td>\n",
       "      <td>They were underdogs earlier today, but since G...</td>\n",
       "    </tr>\n",
       "    <tr>\n",
       "      <th>3</th>\n",
       "      <td>0</td>\n",
       "      <td>This meme isn't funny none of the \"new york ni...</td>\n",
       "    </tr>\n",
       "    <tr>\n",
       "      <th>4</th>\n",
       "      <td>0</td>\n",
       "      <td>I could use one of those tools.</td>\n",
       "    </tr>\n",
       "  </tbody>\n",
       "</table>\n",
       "</div>"
      ],
      "text/plain": [
       "   label                                            comment\n",
       "0      0                                         NC and NH.\n",
       "1      0  You do know west teams play against west teams...\n",
       "2      0  They were underdogs earlier today, but since G...\n",
       "3      0  This meme isn't funny none of the \"new york ni...\n",
       "4      0                    I could use one of those tools."
      ]
     },
     "execution_count": 182,
     "metadata": {},
     "output_type": "execute_result"
    }
   ],
   "source": [
    "reddit.head()"
   ]
  },
  {
   "cell_type": "code",
   "execution_count": 183,
   "id": "5107f4dc-d620-4a3f-9e2b-5477b6106aa1",
   "metadata": {},
   "outputs": [
    {
     "data": {
      "text/plain": [
       "1010716"
      ]
     },
     "execution_count": 183,
     "metadata": {},
     "output_type": "execute_result"
    }
   ],
   "source": [
    "reddit.shape[0]"
   ]
  },
  {
   "cell_type": "code",
   "execution_count": 184,
   "id": "c134fa18-daec-4a4b-82b5-316a0c5b3526",
   "metadata": {},
   "outputs": [
    {
     "data": {
      "text/plain": [
       "252679.0"
      ]
     },
     "execution_count": 184,
     "metadata": {},
     "output_type": "execute_result"
    }
   ],
   "source": [
    "reddit.shape[0] / 4"
   ]
  },
  {
   "cell_type": "code",
   "execution_count": 185,
   "id": "29d047bf-2dd1-46b0-990d-d049e52f08dc",
   "metadata": {},
   "outputs": [],
   "source": [
    "reddit_sample = reddit.sample(252679, random_state=42)"
   ]
  },
  {
   "cell_type": "code",
   "execution_count": 186,
   "id": "3afe1a1e-28fb-445e-8522-aace0f0e9e46",
   "metadata": {},
   "outputs": [],
   "source": [
    "percent_sarcastic = reddit_sample.loc[reddit_sample['label'] ==1 ].shape[0] / reddit_sample.shape[0] * 100"
   ]
  },
  {
   "cell_type": "code",
   "execution_count": 187,
   "id": "80e32b8a-40b9-4a46-ad4e-d4249e444ca9",
   "metadata": {},
   "outputs": [
    {
     "data": {
      "text/plain": [
       "50.001780915707286"
      ]
     },
     "execution_count": 187,
     "metadata": {},
     "output_type": "execute_result"
    }
   ],
   "source": [
    "percent_sarcastic"
   ]
  },
  {
   "cell_type": "code",
   "execution_count": 188,
   "id": "d7a4f7a3-80bb-4265-a6b0-101261a9d4dd",
   "metadata": {},
   "outputs": [
    {
     "data": {
      "text/html": [
       "<div>\n",
       "<style scoped>\n",
       "    .dataframe tbody tr th:only-of-type {\n",
       "        vertical-align: middle;\n",
       "    }\n",
       "\n",
       "    .dataframe tbody tr th {\n",
       "        vertical-align: top;\n",
       "    }\n",
       "\n",
       "    .dataframe thead th {\n",
       "        text-align: right;\n",
       "    }\n",
       "</style>\n",
       "<table border=\"1\" class=\"dataframe\">\n",
       "  <thead>\n",
       "    <tr style=\"text-align: right;\">\n",
       "      <th></th>\n",
       "      <th>label</th>\n",
       "      <th>comment</th>\n",
       "    </tr>\n",
       "  </thead>\n",
       "  <tbody>\n",
       "    <tr>\n",
       "      <th>139484</th>\n",
       "      <td>0</td>\n",
       "      <td>Nope.</td>\n",
       "    </tr>\n",
       "    <tr>\n",
       "      <th>638093</th>\n",
       "      <td>0</td>\n",
       "      <td>Donde esta la biblioteca?</td>\n",
       "    </tr>\n",
       "    <tr>\n",
       "      <th>662570</th>\n",
       "      <td>0</td>\n",
       "      <td>I feel bad for the mummy... not even the minio...</td>\n",
       "    </tr>\n",
       "    <tr>\n",
       "      <th>652534</th>\n",
       "      <td>1</td>\n",
       "      <td>The Pirate Bay, of course!</td>\n",
       "    </tr>\n",
       "    <tr>\n",
       "      <th>411846</th>\n",
       "      <td>1</td>\n",
       "      <td>That's exactly how multiple photographers ende...</td>\n",
       "    </tr>\n",
       "  </tbody>\n",
       "</table>\n",
       "</div>"
      ],
      "text/plain": [
       "        label                                            comment\n",
       "139484      0                                              Nope.\n",
       "638093      0                          Donde esta la biblioteca?\n",
       "662570      0  I feel bad for the mummy... not even the minio...\n",
       "652534      1                         The Pirate Bay, of course!\n",
       "411846      1  That's exactly how multiple photographers ende..."
      ]
     },
     "execution_count": 188,
     "metadata": {},
     "output_type": "execute_result"
    }
   ],
   "source": [
    "reddit_sample.head()"
   ]
  },
  {
   "cell_type": "code",
   "execution_count": 189,
   "id": "e35b62ab-cfc0-4d88-aa1c-88ad0ae97013",
   "metadata": {},
   "outputs": [],
   "source": [
    "reddit_sample.to_csv('sample_comments.csv')"
   ]
  },
  {
   "cell_type": "code",
   "execution_count": 113,
   "id": "f739873f",
   "metadata": {},
   "outputs": [],
   "source": [
    "reddit.to_csv('reddit_comments.csv')"
   ]
  },
  {
   "cell_type": "code",
   "execution_count": null,
   "id": "a6d5b665",
   "metadata": {},
   "outputs": [],
   "source": []
  }
 ],
 "metadata": {
  "kernelspec": {
   "display_name": "Python 3 (ipykernel)",
   "language": "python",
   "name": "python3"
  },
  "language_info": {
   "codemirror_mode": {
    "name": "ipython",
    "version": 3
   },
   "file_extension": ".py",
   "mimetype": "text/x-python",
   "name": "python",
   "nbconvert_exporter": "python",
   "pygments_lexer": "ipython3",
   "version": "3.8.18"
  }
 },
 "nbformat": 4,
 "nbformat_minor": 5
}
