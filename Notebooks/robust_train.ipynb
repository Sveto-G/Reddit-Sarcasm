{
 "cells": [
  {
   "cell_type": "code",
   "execution_count": 18,
   "id": "fb1ae7c5-83b9-4744-a459-f1036c985559",
   "metadata": {},
   "outputs": [
    {
     "name": "stderr",
     "output_type": "stream",
     "text": [
      "[nltk_data] Downloading package punkt to\n",
      "[nltk_data]     C:\\Users\\gravi\\AppData\\Roaming\\nltk_data...\n",
      "[nltk_data]   Package punkt is already up-to-date!\n"
     ]
    }
   ],
   "source": [
    "import numpy as np\n",
    "import pandas as pd\n",
    "import matplotlib.pyplot as plt\n",
    "import seaborn as sns\n",
    "sns.set()\n",
    "\n",
    "import regex as re\n",
    "import string\n",
    "import nltk\n",
    "from nltk.tokenize import sent_tokenize, word_tokenize\n",
    "nltk.download('punkt')\n",
    "\n",
    "\n",
    "from gensim.models import Word2Vec\n",
    "\n",
    "\n",
    "import warnings \n",
    "warnings.filterwarnings(action = 'ignore')"
   ]
  },
  {
   "cell_type": "code",
   "execution_count": 19,
   "id": "6f91991c-8706-4844-b142-f031169af10e",
   "metadata": {},
   "outputs": [
    {
     "data": {
      "text/html": [
       "<div>\n",
       "<style scoped>\n",
       "    .dataframe tbody tr th:only-of-type {\n",
       "        vertical-align: middle;\n",
       "    }\n",
       "\n",
       "    .dataframe tbody tr th {\n",
       "        vertical-align: top;\n",
       "    }\n",
       "\n",
       "    .dataframe thead th {\n",
       "        text-align: right;\n",
       "    }\n",
       "</style>\n",
       "<table border=\"1\" class=\"dataframe\">\n",
       "  <thead>\n",
       "    <tr style=\"text-align: right;\">\n",
       "      <th></th>\n",
       "      <th>label</th>\n",
       "      <th>comment</th>\n",
       "    </tr>\n",
       "  </thead>\n",
       "  <tbody>\n",
       "    <tr>\n",
       "      <th>0</th>\n",
       "      <td>0</td>\n",
       "      <td>NC and NH.</td>\n",
       "    </tr>\n",
       "    <tr>\n",
       "      <th>1</th>\n",
       "      <td>0</td>\n",
       "      <td>You do know west teams play against west teams...</td>\n",
       "    </tr>\n",
       "    <tr>\n",
       "      <th>2</th>\n",
       "      <td>0</td>\n",
       "      <td>They were underdogs earlier today, but since G...</td>\n",
       "    </tr>\n",
       "    <tr>\n",
       "      <th>3</th>\n",
       "      <td>0</td>\n",
       "      <td>This meme isn't funny none of the \"new york ni...</td>\n",
       "    </tr>\n",
       "    <tr>\n",
       "      <th>4</th>\n",
       "      <td>0</td>\n",
       "      <td>I could use one of those tools.</td>\n",
       "    </tr>\n",
       "  </tbody>\n",
       "</table>\n",
       "</div>"
      ],
      "text/plain": [
       "   label                                            comment\n",
       "0      0                                         NC and NH.\n",
       "1      0  You do know west teams play against west teams...\n",
       "2      0  They were underdogs earlier today, but since G...\n",
       "3      0  This meme isn't funny none of the \"new york ni...\n",
       "4      0                    I could use one of those tools."
      ]
     },
     "execution_count": 19,
     "metadata": {},
     "output_type": "execute_result"
    }
   ],
   "source": [
    "reddit = pd.read_csv('reddit_comments.csv', index_col=0)\n",
    "\n",
    "reddit.head()"
   ]
  },
  {
   "cell_type": "code",
   "execution_count": 20,
   "id": "9b5e8b1e-f35f-4846-aca1-ba7941e00d5f",
   "metadata": {},
   "outputs": [
    {
     "data": {
      "text/plain": [
       "(1010714, 2)"
      ]
     },
     "execution_count": 20,
     "metadata": {},
     "output_type": "execute_result"
    }
   ],
   "source": [
    "reddit.shape"
   ]
  },
  {
   "cell_type": "code",
   "execution_count": 21,
   "id": "bfae09e4-1d52-4395-a092-ab25605ecadb",
   "metadata": {},
   "outputs": [],
   "source": [
    "# custom tokenizer function\n",
    "\n",
    "def tokenizer(series):\n",
    "    # get values from series\n",
    "    corpus = series.values\n",
    "    tokens = [] # empty token list\n",
    "    \n",
    "    for document in corpus:\n",
    "        #removing punctuation\n",
    "        for punc in string.punctuation:\n",
    "            document = document.replace(punc, '')\n",
    "        # removing numbers and setting all documents to lowercase    \n",
    "        document = re.sub(\"\\d+\", \"\", document).lower()\n",
    "        # splitting documents and appending tokens list\n",
    "        tokens.append(document.split(' '))\n",
    "        \n",
    "    \n",
    "        \n",
    "\n",
    "    return tokens"
   ]
  },
  {
   "cell_type": "code",
   "execution_count": 22,
   "id": "73e3ea6a-f2ee-4cb7-85b9-f358d24d4686",
   "metadata": {},
   "outputs": [],
   "source": [
    "# setting X and y\n",
    "X = reddit['comment']\n",
    "y = reddit['label']"
   ]
  },
  {
   "cell_type": "code",
   "execution_count": 23,
   "id": "fa417af5-e200-47dd-a81a-6aff53d1492e",
   "metadata": {},
   "outputs": [],
   "source": [
    "# tokenizing our comments\n",
    "tokenized_data = tokenizer(X)"
   ]
  },
  {
   "cell_type": "code",
   "execution_count": 24,
   "id": "01019f49-dd6c-47e9-9ae4-0bf94a7bbd63",
   "metadata": {},
   "outputs": [
    {
     "data": {
      "text/plain": [
       "(32241029, 52702745)"
      ]
     },
     "execution_count": 24,
     "metadata": {},
     "output_type": "execute_result"
    }
   ],
   "source": [
    "# reinstantiating more precise word2vec \n",
    "model = Word2Vec(tokenized_data, window=5, min_count=25, workers=4, size=300, max_vocab_size=10000 )\n",
    "model.train(tokenized_data, total_examples=model.corpus_count, epochs=model.epochs)"
   ]
  },
  {
   "cell_type": "code",
   "execution_count": 25,
   "id": "c38cce90-39fd-484d-aeec-58c7bff1768f",
   "metadata": {},
   "outputs": [],
   "source": [
    "def sentence(document):\n",
    "    size = model.vector_size\n",
    "    word_vec_document = np.zeros(size)\n",
    "    count = 1\n",
    "    \n",
    "    for word in document:\n",
    "        if word in model:\n",
    "            count +=1\n",
    "            word_vec_document += model[word]\n",
    "    \n",
    "    word_vec_document = word_vec_document / count\n",
    "    \n",
    "    return word_vec_document"
   ]
  },
  {
   "cell_type": "code",
   "execution_count": 26,
   "id": "6579144f-b2ed-454f-a860-195e6ad50475",
   "metadata": {
    "scrolled": true
   },
   "outputs": [],
   "source": [
    "# setting vectors to variable\n",
    "document_vectors = [sentence(doc) for doc in tokenized_data]"
   ]
  },
  {
   "cell_type": "code",
   "execution_count": 34,
   "id": "601c7d3c-df37-4075-91dd-b8bc9b326464",
   "metadata": {},
   "outputs": [],
   "source": [
    "X = document_vectors"
   ]
  },
  {
   "cell_type": "code",
   "execution_count": 27,
   "id": "ce77080c-ee9a-4440-8c9b-2f75e37d39cd",
   "metadata": {},
   "outputs": [],
   "source": [
    "reddit_samples = pd.read_csv('sample_comments.csv', index_col=0)"
   ]
  },
  {
   "cell_type": "code",
   "execution_count": 28,
   "id": "1ecc6287-da51-45a0-bb73-631ada1b51e0",
   "metadata": {},
   "outputs": [],
   "source": [
    "X_samp = reddit_samples['comment']\n",
    "y_samp = reddit_samples['label']"
   ]
  },
  {
   "cell_type": "code",
   "execution_count": 29,
   "id": "9666a51c-1f99-443c-b67d-0c4d7683b555",
   "metadata": {},
   "outputs": [],
   "source": [
    "sample_tokens = tokenizer(X_samp)\n",
    "sample_vectors = [sentence(doc) for doc in sample_tokens]"
   ]
  },
  {
   "cell_type": "code",
   "execution_count": 30,
   "id": "28a643af-8c3f-4612-933e-86529fc1a824",
   "metadata": {},
   "outputs": [],
   "source": [
    "X_samp = sample_vectors"
   ]
  },
  {
   "cell_type": "code",
   "execution_count": 31,
   "id": "6bbc82c4-9c8d-4c2b-ac37-50524090de3d",
   "metadata": {},
   "outputs": [],
   "source": [
    "from sklearn.model_selection import train_test_split\n",
    "# initial split into rem and test\n",
    "X_rem, X_test, y_rem, y_test = train_test_split(X_samp, y_samp, test_size=0.25, random_state=42)"
   ]
  },
  {
   "cell_type": "code",
   "execution_count": 32,
   "id": "e0b2b01e-27b9-4927-82c4-b361252ad6bb",
   "metadata": {},
   "outputs": [],
   "source": [
    "# secondary split into train and val\n",
    "X_train, X_val, y_train, y_val = train_test_split(X_rem, y_rem, test_size=0.25, random_state=42)"
   ]
  },
  {
   "cell_type": "code",
   "execution_count": null,
   "id": "2213d4cf-2b3f-4ce2-9ebf-76b5ccb70a4f",
   "metadata": {},
   "outputs": [],
   "source": []
  },
  {
   "cell_type": "code",
   "execution_count": null,
   "id": "f34d1d22-1baa-4966-931c-29ac04a6f8b4",
   "metadata": {},
   "outputs": [],
   "source": []
  },
  {
   "cell_type": "code",
   "execution_count": 35,
   "id": "7af9e3a6-0070-4cf0-a4e4-7e56b9ac1f40",
   "metadata": {},
   "outputs": [
    {
     "name": "stdout",
     "output_type": "stream",
     "text": [
      "Iteration 1, loss = 0.59243894\n",
      "Iteration 2, loss = 0.57548462\n",
      "Iteration 3, loss = 0.56938289\n",
      "Iteration 4, loss = 0.56532434\n",
      "Iteration 5, loss = 0.56249961\n",
      "Iteration 6, loss = 0.56005272\n",
      "Iteration 7, loss = 0.55813426\n",
      "Iteration 8, loss = 0.55654253\n",
      "Iteration 9, loss = 0.55514824\n",
      "Iteration 10, loss = 0.55380917\n",
      "Iteration 11, loss = 0.55271587\n",
      "Iteration 12, loss = 0.55170567\n",
      "Iteration 13, loss = 0.55080175\n",
      "Iteration 14, loss = 0.54996557\n",
      "Iteration 15, loss = 0.54921622\n",
      "Iteration 16, loss = 0.54843516\n",
      "Iteration 17, loss = 0.54787004\n",
      "Iteration 18, loss = 0.54719592\n",
      "Iteration 19, loss = 0.54665284\n",
      "Iteration 20, loss = 0.54622983\n",
      "Iteration 21, loss = 0.54565596\n",
      "Iteration 22, loss = 0.54526406\n",
      "Iteration 23, loss = 0.54482931\n",
      "Iteration 24, loss = 0.54445122\n",
      "Iteration 25, loss = 0.54393082\n",
      "Iteration 26, loss = 0.54358698\n",
      "Iteration 27, loss = 0.54335935\n",
      "Iteration 28, loss = 0.54305277\n",
      "Iteration 29, loss = 0.54267447\n",
      "Iteration 30, loss = 0.54245343\n",
      "Iteration 31, loss = 0.54217151\n",
      "Iteration 32, loss = 0.54167890\n",
      "Iteration 33, loss = 0.54158746\n",
      "Iteration 34, loss = 0.54135335\n",
      "Iteration 35, loss = 0.54100506\n",
      "Iteration 36, loss = 0.54086692\n",
      "Iteration 37, loss = 0.54052523\n",
      "Iteration 38, loss = 0.54032930\n",
      "Iteration 39, loss = 0.54023215\n",
      "Iteration 40, loss = 0.54006865\n",
      "Iteration 41, loss = 0.53988927\n",
      "Iteration 42, loss = 0.53965599\n",
      "Iteration 43, loss = 0.53959822\n",
      "Iteration 44, loss = 0.53924702\n",
      "Iteration 45, loss = 0.53912959\n",
      "Iteration 46, loss = 0.53900428\n",
      "Iteration 47, loss = 0.53891693\n",
      "Iteration 48, loss = 0.53882674\n",
      "Iteration 49, loss = 0.53855541\n",
      "Iteration 50, loss = 0.53847442\n",
      "Iteration 51, loss = 0.53830183\n",
      "Iteration 52, loss = 0.53816677\n",
      "Iteration 53, loss = 0.53814316\n",
      "Iteration 54, loss = 0.53804865\n",
      "Iteration 55, loss = 0.53775129\n",
      "Iteration 56, loss = 0.53776765\n",
      "Iteration 57, loss = 0.53765509\n",
      "Iteration 58, loss = 0.53751537\n",
      "Iteration 59, loss = 0.53745943\n",
      "Iteration 60, loss = 0.53732973\n",
      "Iteration 61, loss = 0.53719992\n",
      "Iteration 62, loss = 0.53699968\n",
      "Iteration 63, loss = 0.53708143\n",
      "Iteration 64, loss = 0.53695944\n",
      "Iteration 65, loss = 0.53687286\n",
      "Iteration 66, loss = 0.53671806\n",
      "Iteration 67, loss = 0.53659517\n",
      "Iteration 68, loss = 0.53662020\n",
      "Iteration 69, loss = 0.53653274\n",
      "Iteration 70, loss = 0.53639678\n",
      "Iteration 71, loss = 0.53637066\n",
      "Iteration 72, loss = 0.53629741\n",
      "Iteration 73, loss = 0.53611285\n",
      "Iteration 74, loss = 0.53610812\n",
      "Iteration 75, loss = 0.53609162\n",
      "Iteration 76, loss = 0.53599246\n",
      "Iteration 77, loss = 0.53590665\n",
      "Iteration 78, loss = 0.53570403\n",
      "Iteration 79, loss = 0.53578694\n",
      "Iteration 80, loss = 0.53577132\n",
      "Iteration 81, loss = 0.53556586\n",
      "Iteration 82, loss = 0.53558253\n",
      "Iteration 83, loss = 0.53560735\n",
      "Iteration 84, loss = 0.53549307\n",
      "Iteration 85, loss = 0.53545758\n",
      "Iteration 86, loss = 0.53546899\n",
      "Iteration 87, loss = 0.53529140\n",
      "Iteration 88, loss = 0.53527048\n",
      "Iteration 89, loss = 0.53516076\n",
      "Iteration 90, loss = 0.53510745\n",
      "Iteration 91, loss = 0.53509490\n",
      "Iteration 92, loss = 0.53502813\n",
      "Iteration 93, loss = 0.53498465\n",
      "Iteration 94, loss = 0.53503664\n",
      "Iteration 95, loss = 0.53479838\n",
      "Iteration 96, loss = 0.53479884\n",
      "Iteration 97, loss = 0.53469409\n",
      "Iteration 98, loss = 0.53466871\n",
      "Iteration 99, loss = 0.53476820\n",
      "Iteration 100, loss = 0.53457320\n"
     ]
    },
    {
     "data": {
      "text/plain": [
       "MLPClassifier(max_iter=100, random_state=42, verbose=True)"
      ]
     },
     "execution_count": 35,
     "metadata": {},
     "output_type": "execute_result"
    }
   ],
   "source": [
    "from sklearn.neural_network import MLPClassifier\n",
    "\n",
    "neural_network = MLPClassifier(verbose=True, max_iter=100, random_state=42)\n",
    "\n",
    "neural_network.fit(X, y)"
   ]
  },
  {
   "cell_type": "code",
   "execution_count": 36,
   "id": "6c76543b-e6a8-48f3-87d3-68c310de892a",
   "metadata": {
    "scrolled": true
   },
   "outputs": [
    {
     "name": "stdout",
     "output_type": "stream",
     "text": [
      "Train: 0.7348432080263981\n",
      "Val: 0.7286715353117481\n"
     ]
    }
   ],
   "source": [
    "print(f'Train: {neural_network.score(X_train, y_train)}')\n",
    "print(f'Val: {neural_network.score(X_val, y_val)}')"
   ]
  },
  {
   "cell_type": "code",
   "execution_count": 37,
   "id": "7dd41f09-c730-4173-994d-498544359fb6",
   "metadata": {},
   "outputs": [],
   "source": []
  },
  {
   "cell_type": "code",
   "execution_count": 39,
   "id": "6aeffc0d-2912-4f70-bb8a-ccda85929d36",
   "metadata": {},
   "outputs": [],
   "source": [
    "from sklearn.metrics import accuracy_score\n",
    "from sklearn.metrics import precision_score\n",
    "from sklearn.metrics import recall_score\n",
    "from sklearn.metrics import f1_score\n",
    "from sklearn.metrics import classification_report"
   ]
  },
  {
   "cell_type": "code",
   "execution_count": 42,
   "id": "116d2af5-0cd2-45fe-8885-fd1559ccaf0e",
   "metadata": {},
   "outputs": [],
   "source": [
    "val_predict = neural_network.predict(X_val)"
   ]
  },
  {
   "cell_type": "code",
   "execution_count": 43,
   "id": "0af71b6d-98f2-4322-9cd1-51ffd7bb9bd8",
   "metadata": {},
   "outputs": [
    {
     "data": {
      "text/plain": [
       "array([1, 1, 1, 1, 1], dtype=int64)"
      ]
     },
     "execution_count": 43,
     "metadata": {},
     "output_type": "execute_result"
    }
   ],
   "source": [
    "val_predict[:5]"
   ]
  },
  {
   "cell_type": "code",
   "execution_count": 44,
   "id": "90a73822-1ff4-4089-b242-1c9de0ecd22f",
   "metadata": {},
   "outputs": [],
   "source": [
    "# acc_score = accuracy_score(y_val, val_predict)\n",
    "# precision = precision_score(y_val, val_predict)\n",
    "# recall = recall_score(y_val, val_predict)\n",
    "# f1 = f1_score(y_val, val_predict)\n",
    "\n",
    "# print('VALIDATION SUMMARY: \\n')\n",
    "# print(f'Accuracy: {round(acc_score, 2)} \\n Precision: {round(precision, 2)} \\n Recall: {round(recall,2)}  \\n F1: {round(f1, 2)}')"
   ]
  },
  {
   "cell_type": "code",
   "execution_count": 45,
   "id": "c138fb45-f941-4b85-adc6-96cb9f839267",
   "metadata": {},
   "outputs": [
    {
     "name": "stdout",
     "output_type": "stream",
     "text": [
      "               precision    recall  f1-score   support\n",
      "\n",
      "Non-Sarcastic       0.72      0.75      0.74     23647\n",
      "    Sarcastic       0.74      0.70      0.72     23731\n",
      "\n",
      "     accuracy                           0.73     47378\n",
      "    macro avg       0.73      0.73      0.73     47378\n",
      " weighted avg       0.73      0.73      0.73     47378\n",
      "\n"
     ]
    }
   ],
   "source": [
    "report = classification_report(y_val, val_predict, target_names=['Non-Sarcastic', 'Sarcastic'])\n",
    "print(report)\n"
   ]
  },
  {
   "cell_type": "code",
   "execution_count": 46,
   "id": "f9ec195a-c411-48d9-a490-f7feb9e7a281",
   "metadata": {},
   "outputs": [
    {
     "data": {
      "text/plain": [
       "(36951469, 52702745)"
      ]
     },
     "execution_count": 46,
     "metadata": {},
     "output_type": "execute_result"
    }
   ],
   "source": [
    "# reinstantiating more precise word2vec \n",
    "new_model = Word2Vec(tokenized_data, window=5, min_count=25, workers=4, size=300, max_vocab_size=25000 )\n",
    "new_model.train(tokenized_data, total_examples=model.corpus_count, epochs=model.epochs)\n"
   ]
  },
  {
   "cell_type": "code",
   "execution_count": 47,
   "id": "d6187804-2b1e-41c6-ab7f-84b13d8b2d7f",
   "metadata": {},
   "outputs": [],
   "source": [
    "new_vectors = [sentence(doc) for doc in tokenized_data]\n",
    "new_X = new_vectors"
   ]
  },
  {
   "cell_type": "code",
   "execution_count": 48,
   "id": "dd7f9823-6632-4632-8a11-49d0c72b511b",
   "metadata": {},
   "outputs": [
    {
     "name": "stdout",
     "output_type": "stream",
     "text": [
      "Iteration 1, loss = 0.59243894\n",
      "Iteration 2, loss = 0.57548462\n",
      "Iteration 3, loss = 0.56938289\n",
      "Iteration 4, loss = 0.56532434\n",
      "Iteration 5, loss = 0.56249961\n",
      "Iteration 6, loss = 0.56005272\n",
      "Iteration 7, loss = 0.55813426\n",
      "Iteration 8, loss = 0.55654253\n",
      "Iteration 9, loss = 0.55514824\n",
      "Iteration 10, loss = 0.55380917\n",
      "Iteration 11, loss = 0.55271587\n",
      "Iteration 12, loss = 0.55170567\n",
      "Iteration 13, loss = 0.55080175\n",
      "Iteration 14, loss = 0.54996557\n",
      "Iteration 15, loss = 0.54921622\n",
      "Iteration 16, loss = 0.54843516\n",
      "Iteration 17, loss = 0.54787004\n",
      "Iteration 18, loss = 0.54719592\n",
      "Iteration 19, loss = 0.54665284\n",
      "Iteration 20, loss = 0.54622983\n",
      "Iteration 21, loss = 0.54565596\n",
      "Iteration 22, loss = 0.54526406\n",
      "Iteration 23, loss = 0.54482931\n",
      "Iteration 24, loss = 0.54445122\n",
      "Iteration 25, loss = 0.54393082\n",
      "Iteration 26, loss = 0.54358698\n",
      "Iteration 27, loss = 0.54335935\n",
      "Iteration 28, loss = 0.54305277\n",
      "Iteration 29, loss = 0.54267447\n",
      "Iteration 30, loss = 0.54245343\n",
      "Iteration 31, loss = 0.54217151\n",
      "Iteration 32, loss = 0.54167890\n",
      "Iteration 33, loss = 0.54158746\n",
      "Iteration 34, loss = 0.54135335\n",
      "Iteration 35, loss = 0.54100506\n",
      "Iteration 36, loss = 0.54086692\n",
      "Iteration 37, loss = 0.54052523\n",
      "Iteration 38, loss = 0.54032930\n",
      "Iteration 39, loss = 0.54023215\n",
      "Iteration 40, loss = 0.54006865\n",
      "Iteration 41, loss = 0.53988927\n",
      "Iteration 42, loss = 0.53965599\n",
      "Iteration 43, loss = 0.53959822\n",
      "Iteration 44, loss = 0.53924702\n",
      "Iteration 45, loss = 0.53912959\n",
      "Iteration 46, loss = 0.53900428\n",
      "Iteration 47, loss = 0.53891693\n",
      "Iteration 48, loss = 0.53882674\n",
      "Iteration 49, loss = 0.53855541\n",
      "Iteration 50, loss = 0.53847442\n",
      "Iteration 51, loss = 0.53830183\n",
      "Iteration 52, loss = 0.53816677\n",
      "Iteration 53, loss = 0.53814316\n",
      "Iteration 54, loss = 0.53804865\n",
      "Iteration 55, loss = 0.53775129\n",
      "Iteration 56, loss = 0.53776765\n",
      "Iteration 57, loss = 0.53765509\n",
      "Iteration 58, loss = 0.53751537\n",
      "Iteration 59, loss = 0.53745943\n",
      "Iteration 60, loss = 0.53732973\n",
      "Iteration 61, loss = 0.53719992\n",
      "Iteration 62, loss = 0.53699968\n",
      "Iteration 63, loss = 0.53708143\n",
      "Iteration 64, loss = 0.53695944\n",
      "Iteration 65, loss = 0.53687286\n",
      "Iteration 66, loss = 0.53671806\n",
      "Iteration 67, loss = 0.53659517\n",
      "Iteration 68, loss = 0.53662020\n",
      "Iteration 69, loss = 0.53653274\n",
      "Iteration 70, loss = 0.53639678\n",
      "Iteration 71, loss = 0.53637066\n",
      "Iteration 72, loss = 0.53629741\n",
      "Iteration 73, loss = 0.53611285\n",
      "Iteration 74, loss = 0.53610812\n",
      "Iteration 75, loss = 0.53609162\n",
      "Iteration 76, loss = 0.53599246\n",
      "Iteration 77, loss = 0.53590665\n",
      "Iteration 78, loss = 0.53570403\n",
      "Iteration 79, loss = 0.53578694\n",
      "Iteration 80, loss = 0.53577132\n",
      "Iteration 81, loss = 0.53556586\n",
      "Iteration 82, loss = 0.53558253\n",
      "Iteration 83, loss = 0.53560735\n",
      "Iteration 84, loss = 0.53549307\n",
      "Iteration 85, loss = 0.53545758\n",
      "Iteration 86, loss = 0.53546899\n",
      "Iteration 87, loss = 0.53529140\n",
      "Iteration 88, loss = 0.53527048\n",
      "Iteration 89, loss = 0.53516076\n",
      "Iteration 90, loss = 0.53510745\n",
      "Iteration 91, loss = 0.53509490\n",
      "Iteration 92, loss = 0.53502813\n",
      "Iteration 93, loss = 0.53498465\n",
      "Iteration 94, loss = 0.53503664\n",
      "Iteration 95, loss = 0.53479838\n",
      "Iteration 96, loss = 0.53479884\n",
      "Iteration 97, loss = 0.53469409\n",
      "Iteration 98, loss = 0.53466871\n",
      "Iteration 99, loss = 0.53476820\n",
      "Iteration 100, loss = 0.53457320\n"
     ]
    },
    {
     "data": {
      "text/plain": [
       "MLPClassifier(max_iter=100, random_state=42, verbose=True)"
      ]
     },
     "execution_count": 48,
     "metadata": {},
     "output_type": "execute_result"
    }
   ],
   "source": [
    "\n",
    "\n",
    "MLP = MLPClassifier(verbose=True, max_iter=50, random_state=42)\n",
    "\n",
    "MLP.fit(new_X, y)"
   ]
  },
  {
   "cell_type": "code",
   "execution_count": 49,
   "id": "a3137234-a1fe-4360-92e7-9b7877a4c0d5",
   "metadata": {},
   "outputs": [
    {
     "name": "stdout",
     "output_type": "stream",
     "text": [
      "Train: 0.7348432080263981\n",
      "Val: 0.7286715353117481\n"
     ]
    }
   ],
   "source": [
    "print(f'Train: {MLP.score(X_train, y_train)}')\n",
    "print(f'Val: {MLP.score(X_val, y_val)}')"
   ]
  },
  {
   "cell_type": "code",
   "execution_count": 50,
   "id": "e4bcb15a-fe3b-4e13-91ba-5facde092c4c",
   "metadata": {},
   "outputs": [],
   "source": [
    "new_val_predict = MLP.predict(X_val)"
   ]
  },
  {
   "cell_type": "code",
   "execution_count": 51,
   "id": "ab6cebc5-dcb1-4b2e-b4c7-1cc55961d01f",
   "metadata": {},
   "outputs": [
    {
     "name": "stdout",
     "output_type": "stream",
     "text": [
      "               precision    recall  f1-score   support\n",
      "\n",
      "Non-Sarcastic       0.72      0.75      0.74     23647\n",
      "    Sarcastic       0.74      0.70      0.72     23731\n",
      "\n",
      "     accuracy                           0.73     47378\n",
      "    macro avg       0.73      0.73      0.73     47378\n",
      " weighted avg       0.73      0.73      0.73     47378\n",
      "\n"
     ]
    }
   ],
   "source": [
    "new_report = classification_report(y_val, new_val_predict, target_names=['Non-Sarcastic', 'Sarcastic'])\n",
    "print(new_report)"
   ]
  },
  {
   "cell_type": "code",
   "execution_count": 55,
   "id": "df527777-1160-48d4-b2af-c7344652c3cf",
   "metadata": {},
   "outputs": [],
   "source": [
    "new_probas = MLP.predict_proba(X_val)"
   ]
  },
  {
   "cell_type": "code",
   "execution_count": 57,
   "id": "3cdcb9d1-d695-4b23-8e18-c478cc3432ba",
   "metadata": {},
   "outputs": [],
   "source": [
    "new_probas = new_probas[:,1]"
   ]
  },
  {
   "cell_type": "code",
   "execution_count": 108,
   "id": "480e3c13-1e20-4e93-ae57-97d6d5583625",
   "metadata": {},
   "outputs": [],
   "source": [
    "# Vary thresholds by 0.05 from 0.05 to 0.95\n",
    "thresholds = np.arange(0.05, 1, 0.05)\n",
    "\n",
    "precisions = []\n",
    "recalls = []\n",
    "\n",
    "for threshold in thresholds:\n",
    "\n",
    "    # Apply threshold\n",
    "    y_threshold = np.where(new_probas > threshold, 1, 0)\n",
    "    \n",
    "    # Calculate precision and recall\n",
    "    precision = precision_score(y_val, y_threshold)\n",
    "    recall = recall_score(y_val, y_threshold)\n",
    "    \n",
    "    # Append to list\n",
    "    precisions.append(precision)\n",
    "    recalls.append(recall)\n",
    "\n"
   ]
  },
  {
   "cell_type": "code",
   "execution_count": 109,
   "id": "f2cceeed-146e-4447-b440-b7b4830c882b",
   "metadata": {},
   "outputs": [
    {
     "data": {
      "text/plain": [
       "<matplotlib.legend.Legend at 0x26c1e50c550>"
      ]
     },
     "execution_count": 109,
     "metadata": {},
     "output_type": "execute_result"
    },
    {
     "data": {
      "image/png": "[encoded data removed]",
      "text/plain": [
       "<Figure size 640x480 with 1 Axes>"
      ]
     },
     "metadata": {},
     "output_type": "display_data"
    }
   ],
   "source": [
    "# Visualize the result\n",
    "plt.figure()\n",
    "plt.plot(thresholds, precisions, label='precision', marker='o')\n",
    "plt.plot(thresholds, recalls, label='recall', marker='o')\n",
    "plt.xlim(0, 1)\n",
    "plt.axvline(np.median(thresholds), linestyle='--', color='gray')\n",
    "plt.xlabel('threshold')\n",
    "plt.ylabel('score')\n",
    "plt.legend()"
   ]
  },
  {
   "cell_type": "code",
   "execution_count": 64,
   "id": "8481d672-5897-4805-8887-8986b114aeee",
   "metadata": {},
   "outputs": [
    {
     "data": {
      "image/png": "[encoded data removed]",
      "text/plain": [
       "<Figure size 640x480 with 1 Axes>"
      ]
     },
     "metadata": {},
     "output_type": "display_data"
    }
   ],
   "source": [
    "from sklearn.metrics import roc_curve, roc_auc_score\n",
    "\n",
    "fprs, tprs, thresholds = roc_curve(y_val, new_probas)\n",
    "roc_auc = roc_auc_score(y_val, new_probas)\n",
    "\n",
    "plt.figure()\n",
    "plt.plot(fprs, tprs, color='darkorange',\n",
    "         lw=2, label='AUC = %0.2f' % roc_auc)\n",
    "plt.plot([0, 1], [0, 1], color='navy', lw=2, linestyle='--')\n",
    "plt.xlabel('FPR')\n",
    "plt.ylabel('TPR')\n",
    "plt.title('ROC Curve for Sarcasm Detection')\n",
    "plt.legend(loc=\"best\")\n",
    "plt.show()\n",
    "\n"
   ]
  },
  {
   "cell_type": "code",
   "execution_count": 110,
   "id": "9ede2429-823e-4430-a6d4-5a6ac01a1a32",
   "metadata": {},
   "outputs": [],
   "source": [
    "def test_tokenizer(document):\n",
    "    \n",
    "    \n",
    "    # replacing punctuation with empty string\n",
    "    for punc in string.punctuation:\n",
    "        document = document.replace(punc, '')\n",
    "        \n",
    "        # removing numbers and setting all documents to lowercase    \n",
    "    document = re.sub(\"\\d+\", \"\", document).lower()\n",
    "    \n",
    "        # splitting documents and appending tokens list\n",
    "    tokens = document.split(' ')\n",
    "        \n",
    "    \n",
    "        \n",
    "\n",
    "    return tokens"
   ]
  },
  {
   "cell_type": "code",
   "execution_count": 120,
   "id": "69103068-445c-429f-9e3b-c3ff57040a59",
   "metadata": {},
   "outputs": [],
   "source": [
    "def vectorizer(document):\n",
    "\n",
    "    tokens = test_tokenizer(document)\n",
    "    two_d_vec = []\n",
    "    \n",
    "    size = model.vector_size\n",
    "    word_vec_doc = np.zeros(size)\n",
    "    count = 1\n",
    "    \n",
    "\n",
    "    for word in tokens:\n",
    "        if word in model:\n",
    "            count +=1\n",
    "            word_vec_doc += model[word]\n",
    "    \n",
    "    word_vec_doc = word_vec_doc / count\n",
    "    two_d_vec.append(word_vec_doc)\n",
    "    \n",
    "    return two_d_vec"
   ]
  },
  {
   "cell_type": "code",
   "execution_count": 121,
   "id": "09eb37b5-b73c-4302-a0fa-70097f900e3b",
   "metadata": {},
   "outputs": [],
   "source": [
    "document1 = \"This is simply a test. Can I call a function within a function?\"\n",
    "\n",
    "vekt_doc = vectorizer(document1)"
   ]
  },
  {
   "cell_type": "code",
   "execution_count": 123,
   "id": "e092ae73-ac79-46fe-9c19-f0e800f2a7cf",
   "metadata": {},
   "outputs": [
    {
     "name": "stdout",
     "output_type": "stream",
     "text": [
      "Result: 0.13\n"
     ]
    }
   ],
   "source": [
    "result = MLP.predict_proba(vekt_doc)[0][1]\n",
    "print(f'Result: {round(result, 2)}')"
   ]
  },
  {
   "cell_type": "code",
   "execution_count": 124,
   "id": "e8a7a0e8-c998-4e8f-a344-67076973902a",
   "metadata": {},
   "outputs": [],
   "source": [
    "sentence1 = \"Fair and logical.\"\n",
    "sentence2 = \"He said no. Seems fair and logical to me.\"\n",
    "sentence3 = \"He said no. Very fair and logical\"\n",
    "sentence4 = \"He said no. Very fair and very logical.\"\n",
    "sentence5 = \"He said no. That's fair and logical.\"\n",
    "sentence6 = \"He said no. Fair and logical.\""
   ]
  },
  {
   "cell_type": "code",
   "execution_count": 125,
   "id": "f0e7b766-3b62-4a16-8bc4-0953a5af6fdc",
   "metadata": {},
   "outputs": [],
   "source": [
    "doc1 = vectorizer(sentence1)\n",
    "doc2 = vectorizer(sentence2)\n",
    "doc3 = vectorizer(sentence3)\n",
    "doc4 = vectorizer(sentence4)\n",
    "doc5 = vectorizer(sentence5)\n",
    "doc6 = vectorizer(sentence6)"
   ]
  },
  {
   "cell_type": "code",
   "execution_count": 126,
   "id": "381b9935-6fa5-4f16-8e7c-c794f7887063",
   "metadata": {},
   "outputs": [],
   "source": [
    "proba1 = round(MLP.predict_proba(doc1)[0][1], 2)\n",
    "proba2 = round(MLP.predict_proba(doc2)[0][1], 2)\n",
    "proba3 = round(MLP.predict_proba(doc3)[0][1], 2)\n",
    "proba4 = round(MLP.predict_proba(doc4)[0][1], 2)\n",
    "proba5 = round(MLP.predict_proba(doc4)[0][1], 2)\n",
    "proba6 = round(MLP.predict_proba(doc4)[0][1], 2)\n"
   ]
  },
  {
   "cell_type": "code",
   "execution_count": 127,
   "id": "27940dc4-9dfd-463f-b080-183e31d81944",
   "metadata": {},
   "outputs": [
    {
     "name": "stdout",
     "output_type": "stream",
     "text": [
      "PROBABILITY SARCASTIC: \n",
      "\n",
      "Sentence1: 0.34 \n",
      " Sentence2: 0.7 \n",
      " Sentence3: 0.58 \n",
      " Sentence4: 0.49 \n",
      "\n",
      "Sentence5: 0.49 \n",
      " Sentence6: 0.49\n"
     ]
    }
   ],
   "source": [
    "print('PROBABILITY SARCASTIC: \\n')\n",
    "print(f'Sentence1: {proba1} \\n Sentence2: {proba2} \\n Sentence3: {proba3} \\n Sentence4: {proba4} \\n')\n",
    "print(f'Sentence5: {proba5} \\n Sentence6: {proba6}')"
   ]
  },
  {
   "cell_type": "code",
   "execution_count": null,
   "id": "18eece3e-7fc4-4fb3-88a8-b43bcaf95d26",
   "metadata": {},
   "outputs": [],
   "source": []
  }
 ],
 "metadata": {
  "kernelspec": {
   "display_name": "deeplearning",
   "language": "python",
   "name": "deeplearning"
  },
  "language_info": {
   "codemirror_mode": {
    "name": "ipython",
    "version": 3
   },
   "file_extension": ".py",
   "mimetype": "text/x-python",
   "name": "python",
   "nbconvert_exporter": "python",
   "pygments_lexer": "ipython3",
   "version": "3.8.18"
  }
 },
 "nbformat": 4,
 "nbformat_minor": 5
}
