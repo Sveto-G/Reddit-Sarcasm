{
 "cells": [
  {
   "cell_type": "markdown",
   "id": "cca2e371-8ddd-4ce2-9cd6-9b23d405ee32",
   "metadata": {},
   "source": [
    "### Notebook #7"
   ]
  },
  {
   "cell_type": "markdown",
   "id": "75d490ba-95cb-4a02-8f60-f1b88e7296e4",
   "metadata": {},
   "source": [
    "## Table of Contents\n",
    "\n",
    "1) <a href='#v1' id='top'>Word2Vec V1</a>\n",
    "2) <a href='#v2'>Word2Vec V2</a>\n",
    "3) <a href='#v3'>Word2Vec V3</a>\n",
    "4) <a href='mlp'>MLP Classifier</a>"
   ]
  },
  {
   "cell_type": "markdown",
   "id": "2b3156c9-67b2-4f13-840a-88e09119b4ee",
   "metadata": {},
   "source": [
    "## Intro"
   ]
  },
  {
   "cell_type": "markdown",
   "id": "8effa488-7ab5-47d8-bfd9-51f4b7d09944",
   "metadata": {},
   "source": [
    "In the previous notebook we both ***trained*** and *tested* our word embeddings on a sample consisting of a quarter of the dataset. The results were encouraging, as they were our best performing model thus far. In order to take it a step further, however, we will now train the word embeddings on the entirety of the dataset to see if the performance improves. We will also experiment with adjustments to the `max_vocab_size` to see if a more robust vocabulary performs better.  \n",
    "\n",
    "We will again be running the `MLPClassifier` model, but this time on the entire dataset rather than a sample.\n",
    "\n",
    "**NOTE**  \n",
    "This is not present in the notebook, but having run `MLPClassifier` on a sample of the dataset using the newly robustly trained model, we encountered an overfitting problem. Running it on the entirety of the dataset rectified that problem."
   ]
  },
  {
   "cell_type": "code",
   "execution_count": 171,
   "id": "fb1ae7c5-83b9-4744-a459-f1036c985559",
   "metadata": {},
   "outputs": [],
   "source": [
    "# importing libraries\n",
    "\n",
    "import numpy as np\n",
    "import pandas as pd\n",
    "import matplotlib.pyplot as plt\n",
    "import seaborn as sns\n",
    "sns.set()\n",
    "\n",
    "import regex as re\n",
    "import string\n",
    "\n",
    "from sklearn.neural_network import MLPClassifier\n",
    "from sklearn.model_selection import train_test_split\n",
    "from sklearn.metrics import classification_report\n",
    "\n",
    "\n",
    "from gensim.models import Word2Vec\n",
    "\n",
    "\n",
    "import warnings \n",
    "warnings.filterwarnings(action = 'ignore')"
   ]
  },
  {
   "cell_type": "code",
   "execution_count": 2,
   "id": "6f91991c-8706-4844-b142-f031169af10e",
   "metadata": {},
   "outputs": [
    {
     "data": {
      "text/html": [
       "<div>\n",
       "<style scoped>\n",
       "    .dataframe tbody tr th:only-of-type {\n",
       "        vertical-align: middle;\n",
       "    }\n",
       "\n",
       "    .dataframe tbody tr th {\n",
       "        vertical-align: top;\n",
       "    }\n",
       "\n",
       "    .dataframe thead th {\n",
       "        text-align: right;\n",
       "    }\n",
       "</style>\n",
       "<table border=\"1\" class=\"dataframe\">\n",
       "  <thead>\n",
       "    <tr style=\"text-align: right;\">\n",
       "      <th></th>\n",
       "      <th>label</th>\n",
       "      <th>comment</th>\n",
       "    </tr>\n",
       "  </thead>\n",
       "  <tbody>\n",
       "    <tr>\n",
       "      <th>0</th>\n",
       "      <td>0</td>\n",
       "      <td>NC and NH.</td>\n",
       "    </tr>\n",
       "    <tr>\n",
       "      <th>1</th>\n",
       "      <td>0</td>\n",
       "      <td>You do know west teams play against west teams...</td>\n",
       "    </tr>\n",
       "    <tr>\n",
       "      <th>2</th>\n",
       "      <td>0</td>\n",
       "      <td>They were underdogs earlier today, but since G...</td>\n",
       "    </tr>\n",
       "    <tr>\n",
       "      <th>3</th>\n",
       "      <td>0</td>\n",
       "      <td>This meme isn't funny none of the \"new york ni...</td>\n",
       "    </tr>\n",
       "    <tr>\n",
       "      <th>4</th>\n",
       "      <td>0</td>\n",
       "      <td>I could use one of those tools.</td>\n",
       "    </tr>\n",
       "  </tbody>\n",
       "</table>\n",
       "</div>"
      ],
      "text/plain": [
       "   label                                            comment\n",
       "0      0                                         NC and NH.\n",
       "1      0  You do know west teams play against west teams...\n",
       "2      0  They were underdogs earlier today, but since G...\n",
       "3      0  This meme isn't funny none of the \"new york ni...\n",
       "4      0                    I could use one of those tools."
      ]
     },
     "execution_count": 2,
     "metadata": {},
     "output_type": "execute_result"
    }
   ],
   "source": [
    "# reading in csv and checking hed\n",
    "reddit = pd.read_csv('reddit_comments.csv', index_col=0)\n",
    "\n",
    "reddit.head()"
   ]
  },
  {
   "cell_type": "code",
   "execution_count": 3,
   "id": "9b5e8b1e-f35f-4846-aca1-ba7941e00d5f",
   "metadata": {},
   "outputs": [
    {
     "data": {
      "text/plain": [
       "(1010714, 2)"
      ]
     },
     "execution_count": 3,
     "metadata": {},
     "output_type": "execute_result"
    }
   ],
   "source": [
    "# verifying shape\n",
    "reddit.shape"
   ]
  },
  {
   "cell_type": "markdown",
   "id": "fc19270b-36d5-40b1-9d8e-ba105bcae066",
   "metadata": {},
   "source": [
    "## <a href='#top' id='v1'>Word2Vec V1</a>"
   ]
  },
  {
   "cell_type": "markdown",
   "id": "e1fb2751-2be4-434c-86ae-9def18de996a",
   "metadata": {},
   "source": [
    "Here we will tokenize the documents, set `X` and `y`, and train our `word embeddings` on the entire dataset with a `max_vocab_size` of 10,000."
   ]
  },
  {
   "cell_type": "code",
   "execution_count": 4,
   "id": "bfae09e4-1d52-4395-a092-ab25605ecadb",
   "metadata": {},
   "outputs": [],
   "source": [
    "# custom tokenizer function\n",
    "\n",
    "def tokenizer(series):\n",
    "    # get values from series\n",
    "    corpus = series.values\n",
    "    tokens = [] # empty token list\n",
    "    \n",
    "    for document in corpus:\n",
    "        #removing punctuation\n",
    "        for punc in string.punctuation:\n",
    "            document = document.replace(punc, '')\n",
    "        \n",
    "        # removing numbers and setting all documents to lowercase    \n",
    "        document = re.sub(\"\\d+\", \"\", document).lower()\n",
    "        # splitting documents and appending tokens list\n",
    "        tokens.append(document.split(' '))\n",
    "        \n",
    "    \n",
    "        \n",
    "\n",
    "    return tokens"
   ]
  },
  {
   "cell_type": "code",
   "execution_count": 5,
   "id": "73e3ea6a-f2ee-4cb7-85b9-f358d24d4686",
   "metadata": {},
   "outputs": [],
   "source": [
    "# setting X and y\n",
    "X = reddit['comment']\n",
    "y = reddit['label']"
   ]
  },
  {
   "cell_type": "code",
   "execution_count": 6,
   "id": "fa417af5-e200-47dd-a81a-6aff53d1492e",
   "metadata": {},
   "outputs": [],
   "source": [
    "# tokenizing comments through custom fucntion\n",
    "tokenized_data = tokenizer(X)"
   ]
  },
  {
   "cell_type": "code",
   "execution_count": 8,
   "id": "01019f49-dd6c-47e9-9ae4-0bf94a7bbd63",
   "metadata": {},
   "outputs": [
    {
     "data": {
      "text/plain": [
       "(32242067, 52702745)"
      ]
     },
     "execution_count": 8,
     "metadata": {},
     "output_type": "execute_result"
    }
   ],
   "source": [
    "# training word2vec model \n",
    "embeddings = Word2Vec(tokenized_data, window=5, min_count=25, workers=4, size=300, max_vocab_size=10000 )\n",
    "embeddings.train(tokenized_data, total_examples=embeddings.corpus_count, epochs=embeddings.epochs)"
   ]
  },
  {
   "cell_type": "markdown",
   "id": "58baa1c0-c07d-4d7a-8412-59d523254f08",
   "metadata": {},
   "source": [
    "We can now run a brief test on our new embeddings to see how they fair on the similarity of certain key words.  \n",
    "These words are not necessarily indicators of sarcasm, but words that we may associate with the meaning or intention behind sarcastic remarks as well as their opposites."
   ]
  },
  {
   "cell_type": "code",
   "execution_count": 16,
   "id": "42a43bd1-042f-4f7f-903d-06e733b95974",
   "metadata": {},
   "outputs": [
    {
     "data": {
      "text/plain": [
       "[('fair', 0.5500063896179199),\n",
       " ('happy', 0.3940263092517853),\n",
       " ('helpful', 0.39203542470932007),\n",
       " ('consistent', 0.3889119327068329),\n",
       " ('accurate', 0.3884361982345581),\n",
       " ('able', 0.3717784285545349),\n",
       " ('intelligent', 0.36361128091812134),\n",
       " ('worried', 0.3615310490131378),\n",
       " ('pretend', 0.36099451780319214),\n",
       " ('careful', 0.35628825426101685)]"
      ]
     },
     "execution_count": 16,
     "metadata": {},
     "output_type": "execute_result"
    }
   ],
   "source": [
    "embeddings.most_similar('honest')"
   ]
  },
  {
   "cell_type": "code",
   "execution_count": 165,
   "id": "ec1b0931-b5b8-4704-bb89-79d0e7ee20ea",
   "metadata": {},
   "outputs": [
    {
     "data": {
      "text/plain": [
       "[('intent', 0.5688397288322449),\n",
       " ('interpretation', 0.5436697006225586),\n",
       " ('motives', 0.5065232515335083),\n",
       " ('imagination', 0.5025438070297241),\n",
       " ('expertise', 0.4868161678314209),\n",
       " ('knowledge', 0.4723774790763855),\n",
       " ('reputation', 0.4644463360309601),\n",
       " ('intentions', 0.46426910161972046),\n",
       " ('worldview', 0.46414148807525635),\n",
       " ('motive', 0.46105632185935974)]"
      ]
     },
     "execution_count": 165,
     "metadata": {},
     "output_type": "execute_result"
    }
   ],
   "source": [
    "embeddings.most_similar('intention')"
   ]
  },
  {
   "cell_type": "code",
   "execution_count": 168,
   "id": "9f5ff616-0040-49c3-a9cd-49926166e807",
   "metadata": {},
   "outputs": [
    {
     "data": {
      "text/html": [
       "<div>\n",
       "<style scoped>\n",
       "    .dataframe tbody tr th:only-of-type {\n",
       "        vertical-align: middle;\n",
       "    }\n",
       "\n",
       "    .dataframe tbody tr th {\n",
       "        vertical-align: top;\n",
       "    }\n",
       "\n",
       "    .dataframe thead th {\n",
       "        text-align: right;\n",
       "    }\n",
       "</style>\n",
       "<table border=\"1\" class=\"dataframe\">\n",
       "  <thead>\n",
       "    <tr style=\"text-align: right;\">\n",
       "      <th></th>\n",
       "      <th>serious</th>\n",
       "      <th>joking</th>\n",
       "    </tr>\n",
       "  </thead>\n",
       "  <tbody>\n",
       "    <tr>\n",
       "      <th>0</th>\n",
       "      <td>sarcastic</td>\n",
       "      <td>sarcastic</td>\n",
       "    </tr>\n",
       "    <tr>\n",
       "      <th>1</th>\n",
       "      <td>sincere</td>\n",
       "      <td>kidding</td>\n",
       "    </tr>\n",
       "    <tr>\n",
       "      <th>2</th>\n",
       "      <td>vague</td>\n",
       "      <td>exaggerating</td>\n",
       "    </tr>\n",
       "    <tr>\n",
       "      <th>3</th>\n",
       "      <td>pessimistic</td>\n",
       "      <td>lying</td>\n",
       "    </tr>\n",
       "    <tr>\n",
       "      <th>4</th>\n",
       "      <td>humorous</td>\n",
       "      <td>talking</td>\n",
       "    </tr>\n",
       "    <tr>\n",
       "      <th>5</th>\n",
       "      <td>conscious</td>\n",
       "      <td>trolling</td>\n",
       "    </tr>\n",
       "    <tr>\n",
       "      <th>6</th>\n",
       "      <td>stressful</td>\n",
       "      <td>overreacting</td>\n",
       "    </tr>\n",
       "    <tr>\n",
       "      <th>7</th>\n",
       "      <td>genuine</td>\n",
       "      <td>arguing</td>\n",
       "    </tr>\n",
       "    <tr>\n",
       "      <th>8</th>\n",
       "      <td>rhetorical</td>\n",
       "      <td>bummed</td>\n",
       "    </tr>\n",
       "    <tr>\n",
       "      <th>9</th>\n",
       "      <td>joking</td>\n",
       "      <td>worried</td>\n",
       "    </tr>\n",
       "  </tbody>\n",
       "</table>\n",
       "</div>"
      ],
      "text/plain": [
       "       serious        joking\n",
       "0    sarcastic     sarcastic\n",
       "1      sincere       kidding\n",
       "2        vague  exaggerating\n",
       "3  pessimistic         lying\n",
       "4     humorous       talking\n",
       "5    conscious      trolling\n",
       "6    stressful  overreacting\n",
       "7      genuine       arguing\n",
       "8   rhetorical        bummed\n",
       "9       joking       worried"
      ]
     },
     "execution_count": 168,
     "metadata": {},
     "output_type": "execute_result"
    }
   ],
   "source": [
    "# similarity scores for 'serious' and 'joking'\n",
    "serious = embeddings.most_similar('serious')\n",
    "joking = embeddings.most_similar('joking')\n",
    "\n",
    "# setting to dataframe\n",
    "pd.DataFrame(\n",
    "        data={\"serious\": [word for word, sim in serious], \n",
    "            \"joking\": [word for word, sim in joking]})"
   ]
  },
  {
   "cell_type": "code",
   "execution_count": 169,
   "id": "318ea3cc-bc13-454b-8e4f-c21bcf4d4ec4",
   "metadata": {
    "scrolled": true
   },
   "outputs": [
    {
     "data": {
      "text/html": [
       "<div>\n",
       "<style scoped>\n",
       "    .dataframe tbody tr th:only-of-type {\n",
       "        vertical-align: middle;\n",
       "    }\n",
       "\n",
       "    .dataframe tbody tr th {\n",
       "        vertical-align: top;\n",
       "    }\n",
       "\n",
       "    .dataframe thead th {\n",
       "        text-align: right;\n",
       "    }\n",
       "</style>\n",
       "<table border=\"1\" class=\"dataframe\">\n",
       "  <thead>\n",
       "    <tr style=\"text-align: right;\">\n",
       "      <th></th>\n",
       "      <th>lie</th>\n",
       "      <th>truth</th>\n",
       "    </tr>\n",
       "  </thead>\n",
       "  <tbody>\n",
       "    <tr>\n",
       "      <th>0</th>\n",
       "      <td>talk</td>\n",
       "      <td>bible</td>\n",
       "    </tr>\n",
       "    <tr>\n",
       "      <th>1</th>\n",
       "      <td>say</td>\n",
       "      <td>gospel</td>\n",
       "    </tr>\n",
       "    <tr>\n",
       "      <th>2</th>\n",
       "      <td>complain</td>\n",
       "      <td>facts</td>\n",
       "    </tr>\n",
       "    <tr>\n",
       "      <th>3</th>\n",
       "      <td>lied</td>\n",
       "      <td>reality</td>\n",
       "    </tr>\n",
       "    <tr>\n",
       "      <th>4</th>\n",
       "      <td>brag</td>\n",
       "      <td>lies</td>\n",
       "    </tr>\n",
       "    <tr>\n",
       "      <th>5</th>\n",
       "      <td>happen</td>\n",
       "      <td>story</td>\n",
       "    </tr>\n",
       "    <tr>\n",
       "      <th>6</th>\n",
       "      <td>listen</td>\n",
       "      <td>msm</td>\n",
       "    </tr>\n",
       "    <tr>\n",
       "      <th>7</th>\n",
       "      <td>criticize</td>\n",
       "      <td>koran</td>\n",
       "    </tr>\n",
       "    <tr>\n",
       "      <th>8</th>\n",
       "      <td>tell</td>\n",
       "      <td>illuminati</td>\n",
       "    </tr>\n",
       "    <tr>\n",
       "      <th>9</th>\n",
       "      <td>hurt</td>\n",
       "      <td>hivemind</td>\n",
       "    </tr>\n",
       "  </tbody>\n",
       "</table>\n",
       "</div>"
      ],
      "text/plain": [
       "         lie       truth\n",
       "0       talk       bible\n",
       "1        say      gospel\n",
       "2   complain       facts\n",
       "3       lied     reality\n",
       "4       brag        lies\n",
       "5     happen       story\n",
       "6     listen         msm\n",
       "7  criticize       koran\n",
       "8       tell  illuminati\n",
       "9       hurt    hivemind"
      ]
     },
     "execution_count": 169,
     "metadata": {},
     "output_type": "execute_result"
    }
   ],
   "source": [
    "# finding most similar words to 'truth' and 'lie'\n",
    "lie = embeddings.most_similar('lie')\n",
    "truth = embeddings.most_similar('truth')\n",
    "\n",
    "# setting to dataframe to visualize\n",
    "pd.DataFrame(\n",
    "        data={\"lie\": [word for word, sim in lie], \n",
    "            \"truth\": [word for word, sim in truth]})"
   ]
  },
  {
   "cell_type": "markdown",
   "id": "8a056acb-fd34-4dd1-a382-31cecb4bf38c",
   "metadata": {},
   "source": [
    "These results look very good at a glance. We, as humans, can see the relationships between most of these words and the target. There likewise a very encouraging lack of completely unrelated or nonesense words.  \n",
    "\n",
    "There are, however, limitations, as having a limited vocabulary of 10,000 words means that certain words are missing (including possibly the key-est of words):"
   ]
  },
  {
   "cell_type": "markdown",
   "id": "162077eb-f983-41ae-8a87-d88ecd533081",
   "metadata": {},
   "source": [
    "**not present : genuine, mislead, misleading, sarcastic**"
   ]
  },
  {
   "cell_type": "markdown",
   "id": "63d828ab-9ff6-4aad-b648-c89b16c30ca9",
   "metadata": {},
   "source": [
    "We will nevertheless vectorize these documents and run them through our model since there is a visible improvement in the 'similarity' scores."
   ]
  },
  {
   "cell_type": "markdown",
   "id": "2bd5e1e6-a902-458c-810e-b3bf45a22b55",
   "metadata": {},
   "source": [
    "**Below we will define our vectorizer function, run our tokens through it, and perform a train/test split in preparation for modeling**"
   ]
  },
  {
   "cell_type": "code",
   "execution_count": 9,
   "id": "c38cce90-39fd-484d-aeec-58c7bff1768f",
   "metadata": {},
   "outputs": [],
   "source": [
    "# function to vectorize documents\n",
    "def sentence(document):\n",
    "    \n",
    "    size = embeddings.vector_size # setting constant document size\n",
    "    word_vec_doc = np.zeros(size) # populating list of document size with zeros \n",
    "    count = 1 # word count to be used for average\n",
    "    \n",
    "    # looping through documents\n",
    "    for word in document:\n",
    "        # checking if word exists in document\n",
    "        if word in embeddings:\n",
    "            count +=1\n",
    "            word_vec_doc += embeddings[word] # adding word embedding to doc embedding\n",
    "    \n",
    "    word_vec_doc = word_vec_doc / count # taking average of embeddings\n",
    "    \n",
    "    return word_vec_doc"
   ]
  },
  {
   "cell_type": "code",
   "execution_count": 10,
   "id": "6579144f-b2ed-454f-a860-195e6ad50475",
   "metadata": {
    "scrolled": true
   },
   "outputs": [],
   "source": [
    "# setting vectors to variable\n",
    "document_vectors = [sentence(doc) for doc in tokenized_data]"
   ]
  },
  {
   "cell_type": "code",
   "execution_count": 11,
   "id": "601c7d3c-df37-4075-91dd-b8bc9b326464",
   "metadata": {},
   "outputs": [],
   "source": [
    "# setting X to be document vectors\n",
    "X = document_vectors"
   ]
  },
  {
   "cell_type": "code",
   "execution_count": 12,
   "id": "6bbc82c4-9c8d-4c2b-ac37-50524090de3d",
   "metadata": {},
   "outputs": [],
   "source": [
    "\n",
    "# initial split into rem and test\n",
    "X_rem, X_test, y_rem, y_test = train_test_split(X, y, test_size=0.25, random_state=42)"
   ]
  },
  {
   "cell_type": "code",
   "execution_count": 13,
   "id": "e0b2b01e-27b9-4927-82c4-b361252ad6bb",
   "metadata": {},
   "outputs": [],
   "source": [
    "# secondary split into train and val\n",
    "X_train, X_val, y_train, y_val = train_test_split(X_rem, y_rem, test_size=0.25, random_state=42)"
   ]
  },
  {
   "cell_type": "markdown",
   "id": "bf44182e-8c21-4781-8754-9f1dd6ce561b",
   "metadata": {},
   "source": [
    "**Here we will perform an MLP Classifier on our trained embeddings with a `max_iter` of 50 and fit it to our train set.**"
   ]
  },
  {
   "cell_type": "code",
   "execution_count": 14,
   "id": "7af9e3a6-0070-4cf0-a4e4-7e56b9ac1f40",
   "metadata": {},
   "outputs": [
    {
     "name": "stdout",
     "output_type": "stream",
     "text": [
      "Iteration 1, loss = 0.59870891\n",
      "Iteration 2, loss = 0.57957896\n",
      "Iteration 3, loss = 0.57236994\n",
      "Iteration 4, loss = 0.56760017\n",
      "Iteration 5, loss = 0.56384728\n",
      "Iteration 6, loss = 0.56098465\n",
      "Iteration 7, loss = 0.55836949\n",
      "Iteration 8, loss = 0.55613608\n",
      "Iteration 9, loss = 0.55415146\n",
      "Iteration 10, loss = 0.55236107\n",
      "Iteration 11, loss = 0.55096479\n",
      "Iteration 12, loss = 0.54968556\n",
      "Iteration 13, loss = 0.54821630\n",
      "Iteration 14, loss = 0.54697472\n",
      "Iteration 15, loss = 0.54591776\n",
      "Iteration 16, loss = 0.54493178\n",
      "Iteration 17, loss = 0.54403885\n",
      "Iteration 18, loss = 0.54296323\n",
      "Iteration 19, loss = 0.54221189\n",
      "Iteration 20, loss = 0.54146407\n",
      "Iteration 21, loss = 0.54093657\n",
      "Iteration 22, loss = 0.53983933\n",
      "Iteration 23, loss = 0.53928058\n",
      "Iteration 24, loss = 0.53867438\n",
      "Iteration 25, loss = 0.53803515\n",
      "Iteration 26, loss = 0.53750221\n",
      "Iteration 27, loss = 0.53693058\n",
      "Iteration 28, loss = 0.53633226\n",
      "Iteration 29, loss = 0.53608161\n",
      "Iteration 30, loss = 0.53555823\n",
      "Iteration 31, loss = 0.53507104\n",
      "Iteration 32, loss = 0.53444286\n",
      "Iteration 33, loss = 0.53414333\n",
      "Iteration 34, loss = 0.53388117\n",
      "Iteration 35, loss = 0.53327801\n",
      "Iteration 36, loss = 0.53299263\n",
      "Iteration 37, loss = 0.53265223\n",
      "Iteration 38, loss = 0.53225655\n",
      "Iteration 39, loss = 0.53188336\n",
      "Iteration 40, loss = 0.53152919\n",
      "Iteration 41, loss = 0.53120048\n",
      "Iteration 42, loss = 0.53089219\n",
      "Iteration 43, loss = 0.53094845\n",
      "Iteration 44, loss = 0.53018786\n",
      "Iteration 45, loss = 0.53029716\n",
      "Iteration 46, loss = 0.52993718\n",
      "Iteration 47, loss = 0.52949707\n",
      "Iteration 48, loss = 0.52935588\n",
      "Iteration 49, loss = 0.52899137\n",
      "Iteration 50, loss = 0.52865041\n"
     ]
    },
    {
     "data": {
      "text/html": [
       "<style>#sk-container-id-1 {color: black;background-color: white;}#sk-container-id-1 pre{padding: 0;}#sk-container-id-1 div.sk-toggleable {background-color: white;}#sk-container-id-1 label.sk-toggleable__label {cursor: pointer;display: block;width: 100%;margin-bottom: 0;padding: 0.3em;box-sizing: border-box;text-align: center;}#sk-container-id-1 label.sk-toggleable__label-arrow:before {content: \"▸\";float: left;margin-right: 0.25em;color: #696969;}#sk-container-id-1 label.sk-toggleable__label-arrow:hover:before {color: black;}#sk-container-id-1 div.sk-estimator:hover label.sk-toggleable__label-arrow:before {color: black;}#sk-container-id-1 div.sk-toggleable__content {max-height: 0;max-width: 0;overflow: hidden;text-align: left;background-color: #f0f8ff;}#sk-container-id-1 div.sk-toggleable__content pre {margin: 0.2em;color: black;border-radius: 0.25em;background-color: #f0f8ff;}#sk-container-id-1 input.sk-toggleable__control:checked~div.sk-toggleable__content {max-height: 200px;max-width: 100%;overflow: auto;}#sk-container-id-1 input.sk-toggleable__control:checked~label.sk-toggleable__label-arrow:before {content: \"▾\";}#sk-container-id-1 div.sk-estimator input.sk-toggleable__control:checked~label.sk-toggleable__label {background-color: #d4ebff;}#sk-container-id-1 div.sk-label input.sk-toggleable__control:checked~label.sk-toggleable__label {background-color: #d4ebff;}#sk-container-id-1 input.sk-hidden--visually {border: 0;clip: rect(1px 1px 1px 1px);clip: rect(1px, 1px, 1px, 1px);height: 1px;margin: -1px;overflow: hidden;padding: 0;position: absolute;width: 1px;}#sk-container-id-1 div.sk-estimator {font-family: monospace;background-color: #f0f8ff;border: 1px dotted black;border-radius: 0.25em;box-sizing: border-box;margin-bottom: 0.5em;}#sk-container-id-1 div.sk-estimator:hover {background-color: #d4ebff;}#sk-container-id-1 div.sk-parallel-item::after {content: \"\";width: 100%;border-bottom: 1px solid gray;flex-grow: 1;}#sk-container-id-1 div.sk-label:hover label.sk-toggleable__label {background-color: #d4ebff;}#sk-container-id-1 div.sk-serial::before {content: \"\";position: absolute;border-left: 1px solid gray;box-sizing: border-box;top: 0;bottom: 0;left: 50%;z-index: 0;}#sk-container-id-1 div.sk-serial {display: flex;flex-direction: column;align-items: center;background-color: white;padding-right: 0.2em;padding-left: 0.2em;position: relative;}#sk-container-id-1 div.sk-item {position: relative;z-index: 1;}#sk-container-id-1 div.sk-parallel {display: flex;align-items: stretch;justify-content: center;background-color: white;position: relative;}#sk-container-id-1 div.sk-item::before, #sk-container-id-1 div.sk-parallel-item::before {content: \"\";position: absolute;border-left: 1px solid gray;box-sizing: border-box;top: 0;bottom: 0;left: 50%;z-index: -1;}#sk-container-id-1 div.sk-parallel-item {display: flex;flex-direction: column;z-index: 1;position: relative;background-color: white;}#sk-container-id-1 div.sk-parallel-item:first-child::after {align-self: flex-end;width: 50%;}#sk-container-id-1 div.sk-parallel-item:last-child::after {align-self: flex-start;width: 50%;}#sk-container-id-1 div.sk-parallel-item:only-child::after {width: 0;}#sk-container-id-1 div.sk-dashed-wrapped {border: 1px dashed gray;margin: 0 0.4em 0.5em 0.4em;box-sizing: border-box;padding-bottom: 0.4em;background-color: white;}#sk-container-id-1 div.sk-label label {font-family: monospace;font-weight: bold;display: inline-block;line-height: 1.2em;}#sk-container-id-1 div.sk-label-container {text-align: center;}#sk-container-id-1 div.sk-container {/* jupyter's `normalize.less` sets `[hidden] { display: none; }` but bootstrap.min.css set `[hidden] { display: none !important; }` so we also need the `!important` here to be able to override the default hidden behavior on the sphinx rendered scikit-learn.org. See: https://github.com/scikit-learn/scikit-learn/issues/21755 */display: inline-block !important;position: relative;}#sk-container-id-1 div.sk-text-repr-fallback {display: none;}</style><div id=\"sk-container-id-1\" class=\"sk-top-container\"><div class=\"sk-text-repr-fallback\"><pre>MLPClassifier(max_iter=50, random_state=42, verbose=True)</pre><b>In a Jupyter environment, please rerun this cell to show the HTML representation or trust the notebook. <br />On GitHub, the HTML representation is unable to render, please try loading this page with nbviewer.org.</b></div><div class=\"sk-container\" hidden><div class=\"sk-item\"><div class=\"sk-estimator sk-toggleable\"><input class=\"sk-toggleable__control sk-hidden--visually\" id=\"sk-estimator-id-1\" type=\"checkbox\" checked><label for=\"sk-estimator-id-1\" class=\"sk-toggleable__label sk-toggleable__label-arrow\">MLPClassifier</label><div class=\"sk-toggleable__content\"><pre>MLPClassifier(max_iter=50, random_state=42, verbose=True)</pre></div></div></div></div></div>"
      ],
      "text/plain": [
       "MLPClassifier(max_iter=50, random_state=42, verbose=True)"
      ]
     },
     "execution_count": 14,
     "metadata": {},
     "output_type": "execute_result"
    }
   ],
   "source": [
    "# instantiating mlp classifier, setting max iter to 100\n",
    "MLP = MLPClassifier(verbose=True, max_iter=50, random_state=42)\n",
    "\n",
    "# fitting to train\n",
    "MLP.fit(X_train, y_train)"
   ]
  },
  {
   "cell_type": "code",
   "execution_count": 15,
   "id": "6c76543b-e6a8-48f3-87d3-68c310de892a",
   "metadata": {
    "scrolled": true
   },
   "outputs": [
    {
     "name": "stdout",
     "output_type": "stream",
     "text": [
      "Train: 0.7378870975118113\n",
      "Val: 0.697813824145555\n"
     ]
    }
   ],
   "source": [
    "# printing resulting train and val scores\n",
    "print(f'Train: {MLP.score(X_train, y_train)}')\n",
    "print(f'Val: {MLP.score(X_val, y_val)}')"
   ]
  },
  {
   "cell_type": "markdown",
   "id": "5cab119d-a60f-4cfd-89e0-6310fd98a71a",
   "metadata": {},
   "source": [
    "**Our embeddings' performance has improved by nearly 3% compared to our last test and the gap between train and validation has also narrowed.**  "
   ]
  },
  {
   "cell_type": "markdown",
   "id": "4c05dff1-a9db-490c-b909-6ca959f1b70d",
   "metadata": {},
   "source": [
    "We can also take a quick peak at the precision and recall, but will ultimately do a more in-depth evaluation at the end."
   ]
  },
  {
   "cell_type": "code",
   "execution_count": 21,
   "id": "116d2af5-0cd2-45fe-8885-fd1559ccaf0e",
   "metadata": {},
   "outputs": [],
   "source": [
    "# setting predictions to variable\n",
    "val_predict = MLP.predict(X_val)"
   ]
  },
  {
   "cell_type": "code",
   "execution_count": 22,
   "id": "c138fb45-f941-4b85-adc6-96cb9f839267",
   "metadata": {},
   "outputs": [
    {
     "name": "stdout",
     "output_type": "stream",
     "text": [
      "               precision    recall  f1-score   support\n",
      "\n",
      "Non-Sarcastic       0.69      0.73      0.71     94698\n",
      "    Sarcastic       0.71      0.67      0.69     94811\n",
      "\n",
      "     accuracy                           0.70    189509\n",
      "    macro avg       0.70      0.70      0.70    189509\n",
      " weighted avg       0.70      0.70      0.70    189509\n",
      "\n"
     ]
    }
   ],
   "source": [
    "# instantiating and printing classification report\n",
    "report = classification_report(y_val, val_predict, target_names=['Non-Sarcastic', 'Sarcastic'])\n",
    "print(report)\n"
   ]
  },
  {
   "cell_type": "markdown",
   "id": "bbbd51ee-12f2-47be-a9da-de58bec2094f",
   "metadata": {},
   "source": [
    "Our precision and recall both hover around the high 60s, low 70s, and there does not exist a big difference between the `sarcastic` and `non-sarcastic` results, though their respective \"preferences\" for precision and recall are flipped."
   ]
  },
  {
   "cell_type": "markdown",
   "id": "6a482e7f-c072-4244-9038-1267de121574",
   "metadata": {},
   "source": [
    "## <a href='#top' id='v2'>Word2Vec V2</a>"
   ]
  },
  {
   "cell_type": "markdown",
   "id": "882198a9-6a05-476d-9007-8ea320973556",
   "metadata": {},
   "source": [
    "Here we will again be training the model on the same data, only changing the `max_vocab_size` from 10,000 to 25,000."
   ]
  },
  {
   "cell_type": "code",
   "execution_count": 172,
   "id": "f9ec195a-c411-48d9-a490-f7feb9e7a281",
   "metadata": {},
   "outputs": [
    {
     "data": {
      "text/plain": [
       "(36950366, 52702745)"
      ]
     },
     "execution_count": 172,
     "metadata": {},
     "output_type": "execute_result"
    }
   ],
   "source": [
    "# reinstantiating more precise word2vec \n",
    "embeddings = Word2Vec(tokenized_data, window=5, min_count=25, workers=4, size=300, max_vocab_size=25000 )\n",
    "embeddings.train(tokenized_data, total_examples=embeddings.corpus_count, epochs=embeddings.epochs)\n"
   ]
  },
  {
   "cell_type": "code",
   "execution_count": 26,
   "id": "28c20176",
   "metadata": {},
   "outputs": [
    {
     "data": {
      "text/plain": [
       "[('fair', 0.5486595034599304),\n",
       " ('inclusive', 0.47523725032806396),\n",
       " ('respectful', 0.4735337793827057),\n",
       " ('polite', 0.47271180152893066),\n",
       " ('prepared', 0.46505624055862427),\n",
       " ('trusted', 0.4546806812286377),\n",
       " ('pretending', 0.44425106048583984),\n",
       " ('concerned', 0.437551349401474),\n",
       " ('informed', 0.4371459484100342),\n",
       " ('satisfied', 0.43627816438674927)]"
      ]
     },
     "execution_count": 26,
     "metadata": {},
     "output_type": "execute_result"
    }
   ],
   "source": [
    "embeddings.most_similar('honest')"
   ]
  },
  {
   "cell_type": "code",
   "execution_count": 27,
   "id": "3aaeafa6-83dc-49a3-820f-af1fb55e96ac",
   "metadata": {},
   "outputs": [
    {
     "data": {
      "text/plain": [
       "[('respectful', 0.5474706888198853),\n",
       " ('vague', 0.5428102612495422),\n",
       " ('condescending', 0.5399175882339478),\n",
       " ('constructive', 0.5218842029571533),\n",
       " ('supportive', 0.5168256163597107),\n",
       " ('pedantic', 0.5151475667953491),\n",
       " ('rational', 0.5137948989868164),\n",
       " ('sensible', 0.5127853751182556),\n",
       " ('polite', 0.5117471218109131),\n",
       " ('mature', 0.5090007185935974)]"
      ]
     },
     "execution_count": 27,
     "metadata": {},
     "output_type": "execute_result"
    }
   ],
   "source": [
    "embeddings.most_similar('genuine')"
   ]
  },
  {
   "cell_type": "code",
   "execution_count": 29,
   "id": "3864cd87-ada7-4c68-b189-1ccfdf73af1f",
   "metadata": {},
   "outputs": [
    {
     "data": {
      "text/plain": [
       "[('joking', 0.617906928062439),\n",
       " ('pedantic', 0.6122118234634399),\n",
       " ('condescending', 0.540844202041626),\n",
       " ('rude', 0.5087727904319763),\n",
       " ('serious', 0.5017151236534119),\n",
       " ('sarcasm', 0.4932788014411926),\n",
       " ('downvoted', 0.47953370213508606),\n",
       " ('witty', 0.4528225064277649),\n",
       " ('satire', 0.443932443857193),\n",
       " ('intentional', 0.44102251529693604)]"
      ]
     },
     "execution_count": 29,
     "metadata": {},
     "output_type": "execute_result"
    }
   ],
   "source": [
    "embeddings.most_similar('sarcastic')"
   ]
  },
  {
   "cell_type": "code",
   "execution_count": 173,
   "id": "aa4a1d06-fdcd-49de-8b5f-03ab8814ee7e",
   "metadata": {},
   "outputs": [
    {
     "data": {
      "text/html": [
       "<div>\n",
       "<style scoped>\n",
       "    .dataframe tbody tr th:only-of-type {\n",
       "        vertical-align: middle;\n",
       "    }\n",
       "\n",
       "    .dataframe tbody tr th {\n",
       "        vertical-align: top;\n",
       "    }\n",
       "\n",
       "    .dataframe thead th {\n",
       "        text-align: right;\n",
       "    }\n",
       "</style>\n",
       "<table border=\"1\" class=\"dataframe\">\n",
       "  <thead>\n",
       "    <tr style=\"text-align: right;\">\n",
       "      <th></th>\n",
       "      <th>lie</th>\n",
       "      <th>truth</th>\n",
       "    </tr>\n",
       "  </thead>\n",
       "  <tbody>\n",
       "    <tr>\n",
       "      <th>0</th>\n",
       "      <td>talk</td>\n",
       "      <td>msm</td>\n",
       "    </tr>\n",
       "    <tr>\n",
       "      <th>1</th>\n",
       "      <td>say</td>\n",
       "      <td>bible</td>\n",
       "    </tr>\n",
       "    <tr>\n",
       "      <th>2</th>\n",
       "      <td>complain</td>\n",
       "      <td>facts</td>\n",
       "    </tr>\n",
       "    <tr>\n",
       "      <th>3</th>\n",
       "      <td>happen</td>\n",
       "      <td>lies</td>\n",
       "    </tr>\n",
       "    <tr>\n",
       "      <th>4</th>\n",
       "      <td>lied</td>\n",
       "      <td>gospel</td>\n",
       "    </tr>\n",
       "    <tr>\n",
       "      <th>5</th>\n",
       "      <td>lying</td>\n",
       "      <td>media</td>\n",
       "    </tr>\n",
       "    <tr>\n",
       "      <th>6</th>\n",
       "      <td>brag</td>\n",
       "      <td>story</td>\n",
       "    </tr>\n",
       "    <tr>\n",
       "      <th>7</th>\n",
       "      <td>tell</td>\n",
       "      <td>irony</td>\n",
       "    </tr>\n",
       "    <tr>\n",
       "      <th>8</th>\n",
       "      <td>listen</td>\n",
       "      <td>narrative</td>\n",
       "    </tr>\n",
       "    <tr>\n",
       "      <th>9</th>\n",
       "      <td>prosecute</td>\n",
       "      <td>masses</td>\n",
       "    </tr>\n",
       "  </tbody>\n",
       "</table>\n",
       "</div>"
      ],
      "text/plain": [
       "         lie      truth\n",
       "0       talk        msm\n",
       "1        say      bible\n",
       "2   complain      facts\n",
       "3     happen       lies\n",
       "4       lied     gospel\n",
       "5      lying      media\n",
       "6       brag      story\n",
       "7       tell      irony\n",
       "8     listen  narrative\n",
       "9  prosecute     masses"
      ]
     },
     "execution_count": 173,
     "metadata": {},
     "output_type": "execute_result"
    }
   ],
   "source": [
    "# finding most similar words to 'truth' and 'lie'\n",
    "lie = embeddings.most_similar('lie')\n",
    "truth = embeddings.most_similar('truth')\n",
    "\n",
    "# setting to dataframe to visualize\n",
    "pd.DataFrame(\n",
    "        data={\"lie\": [word for word, sim in lie], \n",
    "            \"truth\": [word for word, sim in truth]})"
   ]
  },
  {
   "cell_type": "code",
   "execution_count": 174,
   "id": "09e13062-fa87-4131-8081-47c8e3f4783e",
   "metadata": {},
   "outputs": [
    {
     "data": {
      "text/html": [
       "<div>\n",
       "<style scoped>\n",
       "    .dataframe tbody tr th:only-of-type {\n",
       "        vertical-align: middle;\n",
       "    }\n",
       "\n",
       "    .dataframe tbody tr th {\n",
       "        vertical-align: top;\n",
       "    }\n",
       "\n",
       "    .dataframe thead th {\n",
       "        text-align: right;\n",
       "    }\n",
       "</style>\n",
       "<table border=\"1\" class=\"dataframe\">\n",
       "  <thead>\n",
       "    <tr style=\"text-align: right;\">\n",
       "      <th></th>\n",
       "      <th>serious</th>\n",
       "      <th>joking</th>\n",
       "    </tr>\n",
       "  </thead>\n",
       "  <tbody>\n",
       "    <tr>\n",
       "      <th>0</th>\n",
       "      <td>sarcastic</td>\n",
       "      <td>sarcastic</td>\n",
       "    </tr>\n",
       "    <tr>\n",
       "      <th>1</th>\n",
       "      <td>vague</td>\n",
       "      <td>kidding</td>\n",
       "    </tr>\n",
       "    <tr>\n",
       "      <th>2</th>\n",
       "      <td>genuine</td>\n",
       "      <td>lying</td>\n",
       "    </tr>\n",
       "    <tr>\n",
       "      <th>3</th>\n",
       "      <td>minor</td>\n",
       "      <td>talking</td>\n",
       "    </tr>\n",
       "    <tr>\n",
       "      <th>4</th>\n",
       "      <td>dramatic</td>\n",
       "      <td>trolling</td>\n",
       "    </tr>\n",
       "    <tr>\n",
       "      <th>5</th>\n",
       "      <td>irrelevant</td>\n",
       "      <td>forgetting</td>\n",
       "    </tr>\n",
       "    <tr>\n",
       "      <th>6</th>\n",
       "      <td>condescending</td>\n",
       "      <td>mistaken</td>\n",
       "    </tr>\n",
       "    <tr>\n",
       "      <th>7</th>\n",
       "      <td>joking</td>\n",
       "      <td>arguing</td>\n",
       "    </tr>\n",
       "    <tr>\n",
       "      <th>8</th>\n",
       "      <td>helpful</td>\n",
       "      <td>delusional</td>\n",
       "    </tr>\n",
       "    <tr>\n",
       "      <th>9</th>\n",
       "      <td>tough</td>\n",
       "      <td>worried</td>\n",
       "    </tr>\n",
       "  </tbody>\n",
       "</table>\n",
       "</div>"
      ],
      "text/plain": [
       "         serious      joking\n",
       "0      sarcastic   sarcastic\n",
       "1          vague     kidding\n",
       "2        genuine       lying\n",
       "3          minor     talking\n",
       "4       dramatic    trolling\n",
       "5     irrelevant  forgetting\n",
       "6  condescending    mistaken\n",
       "7         joking     arguing\n",
       "8        helpful  delusional\n",
       "9          tough     worried"
      ]
     },
     "execution_count": 174,
     "metadata": {},
     "output_type": "execute_result"
    }
   ],
   "source": [
    "# similarity scores for 'serious' and 'joking'\n",
    "serious = embeddings.most_similar('serious')\n",
    "joking = embeddings.most_similar('joking')\n",
    "\n",
    "# setting to dataframe\n",
    "pd.DataFrame(\n",
    "        data={\"serious\": [word for word, sim in serious], \n",
    "            \"joking\": [word for word, sim in joking]})"
   ]
  },
  {
   "cell_type": "code",
   "execution_count": 176,
   "id": "ff51dbaf-c7bd-4524-abda-0d2af575fb4b",
   "metadata": {},
   "outputs": [
    {
     "data": {
      "text/plain": [
       "[('factual', 0.5981446504592896),\n",
       " ('incorrect', 0.5849772691726685),\n",
       " ('untrue', 0.5742781162261963),\n",
       " ('vague', 0.5733296871185303),\n",
       " ('clickbait', 0.5684908628463745),\n",
       " ('inaccurate', 0.5575202703475952),\n",
       " ('informative', 0.5404921770095825),\n",
       " ('biased', 0.5248669385910034),\n",
       " ('irrelevant', 0.5225300788879395),\n",
       " ('accurate', 0.5214860439300537)]"
      ]
     },
     "execution_count": 176,
     "metadata": {},
     "output_type": "execute_result"
    }
   ],
   "source": [
    "embeddings.most_similar('misleading')"
   ]
  },
  {
   "cell_type": "markdown",
   "id": "febc4e92-1a98-4f2f-83a0-9e0193fa5961",
   "metadata": {},
   "source": [
    "### Observations:  \n",
    "- the words similar to honest are quite different\n",
    "- sarcastic, genuine, and misleading are present, though mislead is not\n",
    "- now that `sarcastic` is present, it is the most related word to both 'joking' and 'serious', which is interesting\n",
    "- the words related to truth are all over the place, which is not all that surprising given the state of reddit and the internet at large. Truth can be a nebulous concept "
   ]
  },
  {
   "cell_type": "markdown",
   "id": "938c3da1-f95d-4b37-ab8a-e196eb1c5a42",
   "metadata": {},
   "source": [
    "-------------------------------------------------------------------------------------------------------------------------------------------------------------"
   ]
  },
  {
   "cell_type": "markdown",
   "id": "93e5066d-9a36-477d-a6ba-16181e6e6dd2",
   "metadata": {},
   "source": [
    "Now that we have our new embeddings, we can run them through the MLP Classifier again, this time with an added `early_stopping` parameter."
   ]
  },
  {
   "cell_type": "code",
   "execution_count": 30,
   "id": "d6187804-2b1e-41c6-ab7f-84b13d8b2d7f",
   "metadata": {},
   "outputs": [],
   "source": [
    "# setting new x to new vectors\n",
    "new_vectors = [sentence(doc) for doc in tokenized_data]\n",
    "new_X = new_vectors"
   ]
  },
  {
   "cell_type": "code",
   "execution_count": 31,
   "id": "8b21f875",
   "metadata": {},
   "outputs": [],
   "source": [
    "# performing new train/test split\n",
    "X_rem, X_test, y_rem, y_test = train_test_split(new_X, y, test_size=0.25, random_state=42)\n",
    "X_train, X_val, y_train, y_val = train_test_split(X_rem, y_rem, test_size=0.25, random_state=42)"
   ]
  },
  {
   "cell_type": "code",
   "execution_count": 32,
   "id": "dd7f9823-6632-4632-8a11-49d0c72b511b",
   "metadata": {},
   "outputs": [
    {
     "name": "stdout",
     "output_type": "stream",
     "text": [
      "Iteration 1, loss = 0.59426382\n",
      "Validation score: 0.690570\n",
      "Iteration 2, loss = 0.57416647\n",
      "Validation score: 0.698151\n",
      "Iteration 3, loss = 0.56622327\n",
      "Validation score: 0.701634\n",
      "Iteration 4, loss = 0.56075659\n",
      "Validation score: 0.702654\n",
      "Iteration 5, loss = 0.55691964\n",
      "Validation score: 0.702179\n",
      "Iteration 6, loss = 0.55354609\n",
      "Validation score: 0.705398\n",
      "Iteration 7, loss = 0.55095895\n",
      "Validation score: 0.702813\n",
      "Iteration 8, loss = 0.54866152\n",
      "Validation score: 0.706471\n",
      "Iteration 9, loss = 0.54640018\n",
      "Validation score: 0.704501\n",
      "Iteration 10, loss = 0.54478100\n",
      "Validation score: 0.707122\n",
      "Iteration 11, loss = 0.54293299\n",
      "Validation score: 0.705486\n",
      "Iteration 12, loss = 0.54132024\n",
      "Validation score: 0.704308\n",
      "Iteration 13, loss = 0.54023780\n",
      "Validation score: 0.706436\n",
      "Iteration 14, loss = 0.53868364\n",
      "Validation score: 0.707861\n",
      "Iteration 15, loss = 0.53746006\n",
      "Validation score: 0.707315\n",
      "Iteration 16, loss = 0.53645475\n",
      "Validation score: 0.705152\n",
      "Iteration 17, loss = 0.53527136\n",
      "Validation score: 0.706453\n",
      "Iteration 18, loss = 0.53425961\n",
      "Validation score: 0.703674\n",
      "Iteration 19, loss = 0.53339820\n",
      "Validation score: 0.704202\n",
      "Iteration 20, loss = 0.53257286\n",
      "Validation score: 0.705732\n",
      "Iteration 21, loss = 0.53159699\n",
      "Validation score: 0.703463\n",
      "Iteration 22, loss = 0.53097424\n",
      "Validation score: 0.701652\n",
      "Iteration 23, loss = 0.53025976\n",
      "Validation score: 0.704659\n",
      "Iteration 24, loss = 0.52953542\n",
      "Validation score: 0.705064\n",
      "Iteration 25, loss = 0.52888464\n",
      "Validation score: 0.706084\n",
      "Validation score did not improve more than tol=0.000100 for 10 consecutive epochs. Stopping.\n"
     ]
    },
    {
     "data": {
      "text/html": [
       "<style>#sk-container-id-2 {color: black;background-color: white;}#sk-container-id-2 pre{padding: 0;}#sk-container-id-2 div.sk-toggleable {background-color: white;}#sk-container-id-2 label.sk-toggleable__label {cursor: pointer;display: block;width: 100%;margin-bottom: 0;padding: 0.3em;box-sizing: border-box;text-align: center;}#sk-container-id-2 label.sk-toggleable__label-arrow:before {content: \"▸\";float: left;margin-right: 0.25em;color: #696969;}#sk-container-id-2 label.sk-toggleable__label-arrow:hover:before {color: black;}#sk-container-id-2 div.sk-estimator:hover label.sk-toggleable__label-arrow:before {color: black;}#sk-container-id-2 div.sk-toggleable__content {max-height: 0;max-width: 0;overflow: hidden;text-align: left;background-color: #f0f8ff;}#sk-container-id-2 div.sk-toggleable__content pre {margin: 0.2em;color: black;border-radius: 0.25em;background-color: #f0f8ff;}#sk-container-id-2 input.sk-toggleable__control:checked~div.sk-toggleable__content {max-height: 200px;max-width: 100%;overflow: auto;}#sk-container-id-2 input.sk-toggleable__control:checked~label.sk-toggleable__label-arrow:before {content: \"▾\";}#sk-container-id-2 div.sk-estimator input.sk-toggleable__control:checked~label.sk-toggleable__label {background-color: #d4ebff;}#sk-container-id-2 div.sk-label input.sk-toggleable__control:checked~label.sk-toggleable__label {background-color: #d4ebff;}#sk-container-id-2 input.sk-hidden--visually {border: 0;clip: rect(1px 1px 1px 1px);clip: rect(1px, 1px, 1px, 1px);height: 1px;margin: -1px;overflow: hidden;padding: 0;position: absolute;width: 1px;}#sk-container-id-2 div.sk-estimator {font-family: monospace;background-color: #f0f8ff;border: 1px dotted black;border-radius: 0.25em;box-sizing: border-box;margin-bottom: 0.5em;}#sk-container-id-2 div.sk-estimator:hover {background-color: #d4ebff;}#sk-container-id-2 div.sk-parallel-item::after {content: \"\";width: 100%;border-bottom: 1px solid gray;flex-grow: 1;}#sk-container-id-2 div.sk-label:hover label.sk-toggleable__label {background-color: #d4ebff;}#sk-container-id-2 div.sk-serial::before {content: \"\";position: absolute;border-left: 1px solid gray;box-sizing: border-box;top: 0;bottom: 0;left: 50%;z-index: 0;}#sk-container-id-2 div.sk-serial {display: flex;flex-direction: column;align-items: center;background-color: white;padding-right: 0.2em;padding-left: 0.2em;position: relative;}#sk-container-id-2 div.sk-item {position: relative;z-index: 1;}#sk-container-id-2 div.sk-parallel {display: flex;align-items: stretch;justify-content: center;background-color: white;position: relative;}#sk-container-id-2 div.sk-item::before, #sk-container-id-2 div.sk-parallel-item::before {content: \"\";position: absolute;border-left: 1px solid gray;box-sizing: border-box;top: 0;bottom: 0;left: 50%;z-index: -1;}#sk-container-id-2 div.sk-parallel-item {display: flex;flex-direction: column;z-index: 1;position: relative;background-color: white;}#sk-container-id-2 div.sk-parallel-item:first-child::after {align-self: flex-end;width: 50%;}#sk-container-id-2 div.sk-parallel-item:last-child::after {align-self: flex-start;width: 50%;}#sk-container-id-2 div.sk-parallel-item:only-child::after {width: 0;}#sk-container-id-2 div.sk-dashed-wrapped {border: 1px dashed gray;margin: 0 0.4em 0.5em 0.4em;box-sizing: border-box;padding-bottom: 0.4em;background-color: white;}#sk-container-id-2 div.sk-label label {font-family: monospace;font-weight: bold;display: inline-block;line-height: 1.2em;}#sk-container-id-2 div.sk-label-container {text-align: center;}#sk-container-id-2 div.sk-container {/* jupyter's `normalize.less` sets `[hidden] { display: none; }` but bootstrap.min.css set `[hidden] { display: none !important; }` so we also need the `!important` here to be able to override the default hidden behavior on the sphinx rendered scikit-learn.org. See: https://github.com/scikit-learn/scikit-learn/issues/21755 */display: inline-block !important;position: relative;}#sk-container-id-2 div.sk-text-repr-fallback {display: none;}</style><div id=\"sk-container-id-2\" class=\"sk-top-container\"><div class=\"sk-text-repr-fallback\"><pre>MLPClassifier(early_stopping=True, max_iter=50, random_state=42, verbose=True)</pre><b>In a Jupyter environment, please rerun this cell to show the HTML representation or trust the notebook. <br />On GitHub, the HTML representation is unable to render, please try loading this page with nbviewer.org.</b></div><div class=\"sk-container\" hidden><div class=\"sk-item\"><div class=\"sk-estimator sk-toggleable\"><input class=\"sk-toggleable__control sk-hidden--visually\" id=\"sk-estimator-id-2\" type=\"checkbox\" checked><label for=\"sk-estimator-id-2\" class=\"sk-toggleable__label sk-toggleable__label-arrow\">MLPClassifier</label><div class=\"sk-toggleable__content\"><pre>MLPClassifier(early_stopping=True, max_iter=50, random_state=42, verbose=True)</pre></div></div></div></div></div>"
      ],
      "text/plain": [
       "MLPClassifier(early_stopping=True, max_iter=50, random_state=42, verbose=True)"
      ]
     },
     "execution_count": 32,
     "metadata": {},
     "output_type": "execute_result"
    }
   ],
   "source": [
    " # running mlp classifier again with max iter at 50\n",
    "MLP = MLPClassifier(verbose=True, max_iter=50, random_state=42, early_stopping=True)\n",
    "\n",
    "# fitting to new x train\n",
    "MLP.fit(X_train, y_train)"
   ]
  },
  {
   "cell_type": "code",
   "execution_count": 33,
   "id": "a3137234-a1fe-4360-92e7-9b7877a4c0d5",
   "metadata": {
    "scrolled": true
   },
   "outputs": [
    {
     "name": "stdout",
     "output_type": "stream",
     "text": [
      "Train: 0.7296922216398195\n",
      "Val: 0.7072751162213932\n"
     ]
    }
   ],
   "source": [
    "print(f'Train: {MLP.score(X_train, y_train)}')\n",
    "print(f'Val: {MLP.score(X_val, y_val)}')"
   ]
  },
  {
   "cell_type": "markdown",
   "id": "dba60782-808e-4a97-b2cd-eb974bb80c18",
   "metadata": {},
   "source": [
    "**Our model has now comfortably surpassed 70% accuracy and has further decreased the gap between validation and train**"
   ]
  },
  {
   "cell_type": "code",
   "execution_count": 34,
   "id": "e4bcb15a-fe3b-4e13-91ba-5facde092c4c",
   "metadata": {},
   "outputs": [],
   "source": [
    "new_val_predict = MLP.predict(X_val)"
   ]
  },
  {
   "cell_type": "code",
   "execution_count": 35,
   "id": "ab6cebc5-dcb1-4b2e-b4c7-1cc55961d01f",
   "metadata": {},
   "outputs": [
    {
     "name": "stdout",
     "output_type": "stream",
     "text": [
      "               precision    recall  f1-score   support\n",
      "\n",
      "Non-Sarcastic       0.70      0.73      0.71     94698\n",
      "    Sarcastic       0.72      0.69      0.70     94811\n",
      "\n",
      "     accuracy                           0.71    189509\n",
      "    macro avg       0.71      0.71      0.71    189509\n",
      " weighted avg       0.71      0.71      0.71    189509\n",
      "\n"
     ]
    }
   ],
   "source": [
    "new_report = classification_report(y_val, new_val_predict, target_names=['Non-Sarcastic', 'Sarcastic'])\n",
    "print(new_report)"
   ]
  },
  {
   "cell_type": "markdown",
   "id": "e9d40113-587f-4b52-ada8-4371f6b0ed96",
   "metadata": {},
   "source": [
    "Again, the precision and recall scores are around 0.7 and consistent between classes, which is unsurprising given their 50/50 distribution."
   ]
  },
  {
   "cell_type": "markdown",
   "id": "3ec854ba-9b5f-4a33-ae0f-1148c854cde3",
   "metadata": {},
   "source": [
    "## <a href='#top' id='v3'>Word2Vec V3</a>"
   ]
  },
  {
   "cell_type": "markdown",
   "id": "a851265e-96ef-4e68-bca7-ebe6d0cf680b",
   "metadata": {},
   "source": [
    "We will make one final ammendment to our embeddings by doubling the `max_vocab_size` to 50,000."
   ]
  },
  {
   "cell_type": "code",
   "execution_count": 177,
   "id": "c3015804-3c4d-43d4-847e-2d8d7d756333",
   "metadata": {
    "scrolled": true
   },
   "outputs": [
    {
     "data": {
      "text/plain": [
       "(38626307, 52702745)"
      ]
     },
     "execution_count": 177,
     "metadata": {},
     "output_type": "execute_result"
    }
   ],
   "source": [
    "embeddings = Word2Vec(tokenized_data, window=5, min_count=25, workers=4, size=300, max_vocab_size=50000 )\n",
    "embeddings.train(tokenized_data, total_examples=embeddings.corpus_count, epochs=embeddings.epochs)"
   ]
  },
  {
   "cell_type": "code",
   "execution_count": 37,
   "id": "cb15fd3d-3004-495c-bf56-b7a7fca3ff90",
   "metadata": {},
   "outputs": [
    {
     "data": {
      "text/plain": [
       "[('joking', 0.631554126739502),\n",
       " ('pedantic', 0.6057127714157104),\n",
       " ('satirical', 0.5891914367675781),\n",
       " ('detained', 0.5603727698326111),\n",
       " ('condescending', 0.5538766384124756),\n",
       " ('serious', 0.5244185924530029),\n",
       " ('sarcasm', 0.5157309770584106),\n",
       " ('rude', 0.5056517720222473),\n",
       " ('cautious', 0.4985797107219696),\n",
       " ('downvoted', 0.4956313371658325)]"
      ]
     },
     "execution_count": 37,
     "metadata": {},
     "output_type": "execute_result"
    }
   ],
   "source": [
    "embeddings.most_similar('sarcastic')"
   ]
  },
  {
   "cell_type": "code",
   "execution_count": 38,
   "id": "2bdadd0e-d048-4bb4-a509-cf72987604e6",
   "metadata": {},
   "outputs": [
    {
     "data": {
      "text/plain": [
       "[('detained', 0.4850125312805176),\n",
       " ('accusing', 0.48035579919815063),\n",
       " ('mocking', 0.4757020175457001),\n",
       " ('offending', 0.4719669222831726),\n",
       " ('appease', 0.4678475856781006),\n",
       " ('accuse', 0.4623815417289734),\n",
       " ('warn', 0.460408091545105),\n",
       " ('exploited', 0.4589082896709442),\n",
       " ('insulted', 0.45725318789482117),\n",
       " ('rationalize', 0.45720940828323364)]"
      ]
     },
     "execution_count": 38,
     "metadata": {},
     "output_type": "execute_result"
    }
   ],
   "source": [
    "embeddings.most_similar('mislead')"
   ]
  },
  {
   "cell_type": "code",
   "execution_count": 40,
   "id": "8921d224-aaf4-4240-818a-87ff151cb065",
   "metadata": {},
   "outputs": [
    {
     "data": {
      "text/plain": [
       "[('intent', 0.5688397288322449),\n",
       " ('interpretation', 0.5436697006225586),\n",
       " ('motives', 0.5065232515335083),\n",
       " ('imagination', 0.5025438070297241),\n",
       " ('expertise', 0.4868161678314209),\n",
       " ('knowledge', 0.4723774790763855),\n",
       " ('reputation', 0.4644463360309601),\n",
       " ('intentions', 0.46426910161972046),\n",
       " ('worldview', 0.46414148807525635),\n",
       " ('motive', 0.46105632185935974)]"
      ]
     },
     "execution_count": 40,
     "metadata": {},
     "output_type": "execute_result"
    }
   ],
   "source": [
    "embeddings.most_similar('intention')"
   ]
  },
  {
   "cell_type": "code",
   "execution_count": 41,
   "id": "3fb98e1a-1682-4308-a05c-1e40009ef876",
   "metadata": {},
   "outputs": [
    {
     "data": {
      "text/plain": [
       "[('fair', 0.5444360971450806),\n",
       " ('polite', 0.5119991302490234),\n",
       " ('picky', 0.48939409852027893),\n",
       " ('impartial', 0.48932746052742004),\n",
       " ('cautious', 0.4783041179180145),\n",
       " ('inclusive', 0.46033748984336853),\n",
       " ('prepared', 0.44547581672668457),\n",
       " ('happy', 0.4404006600379944),\n",
       " ('rude', 0.4395202696323395),\n",
       " ('respectful', 0.43597811460494995)]"
      ]
     },
     "execution_count": 41,
     "metadata": {},
     "output_type": "execute_result"
    }
   ],
   "source": [
    "embeddings.most_similar('honest')"
   ]
  },
  {
   "cell_type": "code",
   "execution_count": 42,
   "id": "0d4f67cd-d94d-4011-a3ef-d76f8f883bf1",
   "metadata": {},
   "outputs": [
    {
     "data": {
      "text/plain": [
       "[('sincere', 0.6416236758232117),\n",
       " ('supportive', 0.5528149604797363),\n",
       " ('disturbing', 0.5298647880554199),\n",
       " ('condescending', 0.5277646780014038),\n",
       " ('vague', 0.52562016248703),\n",
       " ('profound', 0.5204355120658875),\n",
       " ('misinformed', 0.5060638189315796),\n",
       " ('charming', 0.5057092905044556),\n",
       " ('respectful', 0.5039432048797607),\n",
       " ('nuanced', 0.499329537153244)]"
      ]
     },
     "execution_count": 42,
     "metadata": {},
     "output_type": "execute_result"
    }
   ],
   "source": [
    "embeddings.most_similar('genuine')"
   ]
  },
  {
   "cell_type": "markdown",
   "id": "6cbf49d8-9c24-438f-9dcc-5db8b9befe43",
   "metadata": {},
   "source": [
    "### Observations:\n",
    "- some differences here and there in the lists of most similar words, though mostly consistent with previous model\n",
    "- 'mislead' now present\n",
    "- though the words remain largely the same, their similarity scores do differ"
   ]
  },
  {
   "cell_type": "markdown",
   "id": "81bfd8e4-a205-4a25-ac3c-cd298fb78995",
   "metadata": {},
   "source": [
    "-----------------------------------------------------------------------------------------------------------------------------------------------------------"
   ]
  },
  {
   "cell_type": "markdown",
   "id": "20eabff2-45f6-4dcd-87ec-0ccbf12d094a",
   "metadata": {},
   "source": [
    "Now again we will run these embeddings through the MLP Classifier to see if there is a difference or improvement in the accuracy."
   ]
  },
  {
   "cell_type": "code",
   "execution_count": null,
   "id": "1bcb6525-94dd-42b3-9e19-d27de8cafacb",
   "metadata": {},
   "outputs": [],
   "source": [
    "# setting new x to new vectors\n",
    "vectors_v3 = [sentence(doc) for doc in tokenized_data]\n",
    "X = vectors_v3"
   ]
  },
  {
   "cell_type": "code",
   "execution_count": 43,
   "id": "55d81445-d4b9-4376-8bdd-10089c04e5f7",
   "metadata": {},
   "outputs": [],
   "source": [
    "# performing new train/test split\n",
    "X_rem, X_test, y_rem, y_test = train_test_split(new_X, y, test_size=0.25, random_state=42)\n",
    "X_train, X_val, y_train, y_val = train_test_split(X_rem, y_rem, test_size=0.25, random_state=42)"
   ]
  },
  {
   "cell_type": "code",
   "execution_count": 138,
   "id": "212ce877-efaa-4dd4-b105-3d9ab690f59e",
   "metadata": {
    "scrolled": true
   },
   "outputs": [
    {
     "name": "stdout",
     "output_type": "stream",
     "text": [
      "Iteration 1, loss = 0.59426382\n",
      "Validation score: 0.690570\n",
      "Iteration 2, loss = 0.57416647\n",
      "Validation score: 0.698151\n",
      "Iteration 3, loss = 0.56622327\n",
      "Validation score: 0.701634\n",
      "Iteration 4, loss = 0.56075659\n",
      "Validation score: 0.702654\n",
      "Iteration 5, loss = 0.55691964\n",
      "Validation score: 0.702179\n",
      "Iteration 6, loss = 0.55354609\n",
      "Validation score: 0.705398\n",
      "Iteration 7, loss = 0.55095895\n",
      "Validation score: 0.702813\n",
      "Iteration 8, loss = 0.54866152\n",
      "Validation score: 0.706471\n",
      "Iteration 9, loss = 0.54640018\n",
      "Validation score: 0.704501\n",
      "Iteration 10, loss = 0.54478100\n",
      "Validation score: 0.707122\n",
      "Iteration 11, loss = 0.54293299\n",
      "Validation score: 0.705486\n",
      "Iteration 12, loss = 0.54132024\n",
      "Validation score: 0.704308\n",
      "Iteration 13, loss = 0.54023780\n",
      "Validation score: 0.706436\n",
      "Iteration 14, loss = 0.53868364\n",
      "Validation score: 0.707861\n",
      "Iteration 15, loss = 0.53746006\n",
      "Validation score: 0.707315\n",
      "Iteration 16, loss = 0.53645475\n",
      "Validation score: 0.705152\n",
      "Iteration 17, loss = 0.53527136\n",
      "Validation score: 0.706453\n",
      "Iteration 18, loss = 0.53425961\n",
      "Validation score: 0.703674\n",
      "Iteration 19, loss = 0.53339820\n",
      "Validation score: 0.704202\n",
      "Iteration 20, loss = 0.53257286\n",
      "Validation score: 0.705732\n",
      "Iteration 21, loss = 0.53159699\n",
      "Validation score: 0.703463\n",
      "Iteration 22, loss = 0.53097424\n",
      "Validation score: 0.701652\n",
      "Iteration 23, loss = 0.53025976\n",
      "Validation score: 0.704659\n",
      "Iteration 24, loss = 0.52953542\n",
      "Validation score: 0.705064\n",
      "Iteration 25, loss = 0.52888464\n",
      "Validation score: 0.706084\n",
      "Validation score did not improve more than tol=0.000100 for 10 consecutive epochs. Stopping.\n"
     ]
    },
    {
     "data": {
      "text/html": [
       "<style>#sk-container-id-4 {color: black;background-color: white;}#sk-container-id-4 pre{padding: 0;}#sk-container-id-4 div.sk-toggleable {background-color: white;}#sk-container-id-4 label.sk-toggleable__label {cursor: pointer;display: block;width: 100%;margin-bottom: 0;padding: 0.3em;box-sizing: border-box;text-align: center;}#sk-container-id-4 label.sk-toggleable__label-arrow:before {content: \"▸\";float: left;margin-right: 0.25em;color: #696969;}#sk-container-id-4 label.sk-toggleable__label-arrow:hover:before {color: black;}#sk-container-id-4 div.sk-estimator:hover label.sk-toggleable__label-arrow:before {color: black;}#sk-container-id-4 div.sk-toggleable__content {max-height: 0;max-width: 0;overflow: hidden;text-align: left;background-color: #f0f8ff;}#sk-container-id-4 div.sk-toggleable__content pre {margin: 0.2em;color: black;border-radius: 0.25em;background-color: #f0f8ff;}#sk-container-id-4 input.sk-toggleable__control:checked~div.sk-toggleable__content {max-height: 200px;max-width: 100%;overflow: auto;}#sk-container-id-4 input.sk-toggleable__control:checked~label.sk-toggleable__label-arrow:before {content: \"▾\";}#sk-container-id-4 div.sk-estimator input.sk-toggleable__control:checked~label.sk-toggleable__label {background-color: #d4ebff;}#sk-container-id-4 div.sk-label input.sk-toggleable__control:checked~label.sk-toggleable__label {background-color: #d4ebff;}#sk-container-id-4 input.sk-hidden--visually {border: 0;clip: rect(1px 1px 1px 1px);clip: rect(1px, 1px, 1px, 1px);height: 1px;margin: -1px;overflow: hidden;padding: 0;position: absolute;width: 1px;}#sk-container-id-4 div.sk-estimator {font-family: monospace;background-color: #f0f8ff;border: 1px dotted black;border-radius: 0.25em;box-sizing: border-box;margin-bottom: 0.5em;}#sk-container-id-4 div.sk-estimator:hover {background-color: #d4ebff;}#sk-container-id-4 div.sk-parallel-item::after {content: \"\";width: 100%;border-bottom: 1px solid gray;flex-grow: 1;}#sk-container-id-4 div.sk-label:hover label.sk-toggleable__label {background-color: #d4ebff;}#sk-container-id-4 div.sk-serial::before {content: \"\";position: absolute;border-left: 1px solid gray;box-sizing: border-box;top: 0;bottom: 0;left: 50%;z-index: 0;}#sk-container-id-4 div.sk-serial {display: flex;flex-direction: column;align-items: center;background-color: white;padding-right: 0.2em;padding-left: 0.2em;position: relative;}#sk-container-id-4 div.sk-item {position: relative;z-index: 1;}#sk-container-id-4 div.sk-parallel {display: flex;align-items: stretch;justify-content: center;background-color: white;position: relative;}#sk-container-id-4 div.sk-item::before, #sk-container-id-4 div.sk-parallel-item::before {content: \"\";position: absolute;border-left: 1px solid gray;box-sizing: border-box;top: 0;bottom: 0;left: 50%;z-index: -1;}#sk-container-id-4 div.sk-parallel-item {display: flex;flex-direction: column;z-index: 1;position: relative;background-color: white;}#sk-container-id-4 div.sk-parallel-item:first-child::after {align-self: flex-end;width: 50%;}#sk-container-id-4 div.sk-parallel-item:last-child::after {align-self: flex-start;width: 50%;}#sk-container-id-4 div.sk-parallel-item:only-child::after {width: 0;}#sk-container-id-4 div.sk-dashed-wrapped {border: 1px dashed gray;margin: 0 0.4em 0.5em 0.4em;box-sizing: border-box;padding-bottom: 0.4em;background-color: white;}#sk-container-id-4 div.sk-label label {font-family: monospace;font-weight: bold;display: inline-block;line-height: 1.2em;}#sk-container-id-4 div.sk-label-container {text-align: center;}#sk-container-id-4 div.sk-container {/* jupyter's `normalize.less` sets `[hidden] { display: none; }` but bootstrap.min.css set `[hidden] { display: none !important; }` so we also need the `!important` here to be able to override the default hidden behavior on the sphinx rendered scikit-learn.org. See: https://github.com/scikit-learn/scikit-learn/issues/21755 */display: inline-block !important;position: relative;}#sk-container-id-4 div.sk-text-repr-fallback {display: none;}</style><div id=\"sk-container-id-4\" class=\"sk-top-container\"><div class=\"sk-text-repr-fallback\"><pre>MLPClassifier(early_stopping=True, max_iter=50, verbose=True)</pre><b>In a Jupyter environment, please rerun this cell to show the HTML representation or trust the notebook. <br />On GitHub, the HTML representation is unable to render, please try loading this page with nbviewer.org.</b></div><div class=\"sk-container\" hidden><div class=\"sk-item\"><div class=\"sk-estimator sk-toggleable\"><input class=\"sk-toggleable__control sk-hidden--visually\" id=\"sk-estimator-id-4\" type=\"checkbox\" checked><label for=\"sk-estimator-id-4\" class=\"sk-toggleable__label sk-toggleable__label-arrow\">MLPClassifier</label><div class=\"sk-toggleable__content\"><pre>MLPClassifier(early_stopping=True, max_iter=50, verbose=True)</pre></div></div></div></div></div>"
      ],
      "text/plain": [
       "MLPClassifier(early_stopping=True, max_iter=50, verbose=True)"
      ]
     },
     "execution_count": 138,
     "metadata": {},
     "output_type": "execute_result"
    }
   ],
   "source": [
    "np.random.seed(42)\n",
    "# running mlp classifier again with max iter at 50 with early stopping\n",
    "MLP = MLPClassifier(verbose=True, max_iter=50, early_stopping=True)\n",
    "\n",
    "# fitting to new x train\n",
    "MLP.fit(X_train, y_train)"
   ]
  },
  {
   "cell_type": "code",
   "execution_count": 140,
   "id": "329f638d-48e8-4066-ba0e-00623ab725a7",
   "metadata": {},
   "outputs": [
    {
     "name": "stdout",
     "output_type": "stream",
     "text": [
      "Train: 0.7296922216398195\n",
      "Val: 0.7072751162213932\n"
     ]
    }
   ],
   "source": [
    "print(f'Train: {MLP.score(X_train, y_train)}')\n",
    "print(f'Val: {MLP.score(X_val, y_val)}')"
   ]
  },
  {
   "cell_type": "markdown",
   "id": "bc0d754d-7cf3-4f4c-8017-244feeaedc92",
   "metadata": {},
   "source": [
    "**These results are nearly identical to the previous model. We will choose to keep these embeddings as we double our vocabulary without sacrificing any performance.**  \n",
    "\n",
    "Further optimizations and experimentations can and will be made at a later date. Possibilities of future modifications will be discussed in the conclusion.  \n",
    "\n",
    "For now, we will treat this as our final self-trained model and perform a more thorough evaluation of its performance."
   ]
  },
  {
   "cell_type": "code",
   "execution_count": 184,
   "id": "2e5e343e-fe40-472c-9d5f-d13cdff23633",
   "metadata": {},
   "outputs": [],
   "source": [
    "embeddings.save('reddit-sarcasm-300')"
   ]
  },
  {
   "cell_type": "markdown",
   "id": "6f31de06-f762-432a-bb12-74f498a35cea",
   "metadata": {},
   "source": [
    "## <a href='#top' id='eval'>Model Evaluation</a>"
   ]
  },
  {
   "cell_type": "code",
   "execution_count": 152,
   "id": "c10cbcbc-2606-48a2-a428-4b00264b4a48",
   "metadata": {},
   "outputs": [],
   "source": [
    "final_predict = MLP.predict(X_val)"
   ]
  },
  {
   "cell_type": "code",
   "execution_count": 153,
   "id": "c3297224-486a-4337-9ccb-243d87e878ce",
   "metadata": {
    "scrolled": true
   },
   "outputs": [
    {
     "name": "stdout",
     "output_type": "stream",
     "text": [
      "               precision    recall  f1-score   support\n",
      "\n",
      "Non-Sarcastic       0.70      0.73      0.71     94698\n",
      "    Sarcastic       0.72      0.69      0.70     94811\n",
      "\n",
      "     accuracy                           0.71    189509\n",
      "    macro avg       0.71      0.71      0.71    189509\n",
      " weighted avg       0.71      0.71      0.71    189509\n",
      "\n"
     ]
    }
   ],
   "source": [
    "final_report = classification_report(y_val, final_predict, target_names=['Non-Sarcastic', 'Sarcastic'])\n",
    "print(final_report)"
   ]
  },
  {
   "cell_type": "markdown",
   "id": "d9c38a4b-93a1-4e07-b9eb-9e3c7c272e03",
   "metadata": {},
   "source": [
    "This classification report is identical to that of the previous model.  \n",
    "\n",
    "  \n",
    "Below, we will plot out and visualize the precision and recall using various thresholds to see if any changes or optimizations can be made given different thresholds."
   ]
  },
  {
   "cell_type": "code",
   "execution_count": 154,
   "id": "df527777-1160-48d4-b2af-c7344652c3cf",
   "metadata": {},
   "outputs": [],
   "source": [
    "probas = MLP.predict_proba(X_val)[:,1]"
   ]
  },
  {
   "cell_type": "code",
   "execution_count": 160,
   "id": "480e3c13-1e20-4e93-ae57-97d6d5583625",
   "metadata": {},
   "outputs": [],
   "source": [
    "# Varying thresholds by 0.05 between 0.05 & 1\n",
    "thresholds = np.arange(0.05, 1, 0.05)\n",
    "\n",
    "# empty precision/recall lists\n",
    "precisions = []\n",
    "recalls = []\n",
    "\n",
    "# looping through threshold range\n",
    "for threshold in thresholds:\n",
    "\n",
    "    # Applying threshold\n",
    "    y_threshold = np.where(probas > threshold, 1, 0)\n",
    "    \n",
    "    # Calculating precision and recall\n",
    "    precision = precision_score(y_val, y_threshold)\n",
    "    recall = recall_score(y_val, y_threshold)\n",
    "    \n",
    "    # Appending to lists\n",
    "    precisions.append(precision)\n",
    "    recalls.append(recall)\n",
    "\n"
   ]
  },
  {
   "cell_type": "code",
   "execution_count": 161,
   "id": "f2cceeed-146e-4447-b440-b7b4830c882b",
   "metadata": {},
   "outputs": [
    {
     "data": {
      "text/plain": [
       "<matplotlib.legend.Legend at 0x294ee66eb50>"
      ]
     },
     "execution_count": 161,
     "metadata": {},
     "output_type": "execute_result"
    },
    {
     "data": {
      "image/png": "[encoded data removed]",
      "text/plain": [
       "<Figure size 640x480 with 1 Axes>"
      ]
     },
     "metadata": {},
     "output_type": "display_data"
    }
   ],
   "source": [
    "# Visualizing the result\n",
    "plt.figure()\n",
    "\n",
    "plt.plot(thresholds, precisions, label='precision', marker='o', color='cornflowerblue', alpha=0.9)\n",
    "plt.plot(thresholds, recalls, label='recall', marker='o', color='salmon', alpha=0.9)\n",
    "\n",
    "plt.title('Precision and Recall Plot')\n",
    "plt.xlim(0, 1)\n",
    "plt.axvline(np.median(thresholds), linestyle='--', color='gray')\n",
    "plt.xlabel('threshold')\n",
    "plt.ylabel('score')\n",
    "plt.legend()"
   ]
  },
  {
   "cell_type": "markdown",
   "id": "ad331742-e91b-4955-b76b-58536323a85d",
   "metadata": {},
   "source": [
    "### Observations\n",
    "- our precision and recall curves meet fairly cleanly and precisely in the middle at a threshold of 0.5, which is the default cutoff.\n",
    "- if we were to prioritize recall, we would lower the threshold, and vice versa for precision.\n",
    "- which of precision and recall we choose to prioritize depends on our use case.\n",
    "- for now we will choose to keep the threshold at 0.5 to keep a good balance of precision and recall "
   ]
  },
  {
   "cell_type": "code",
   "execution_count": 162,
   "id": "8481d672-5897-4805-8887-8986b114aeee",
   "metadata": {
    "scrolled": true
   },
   "outputs": [
    {
     "data": {
      "image/png": "[encoded data removed]",
      "text/plain": [
       "<Figure size 640x480 with 1 Axes>"
      ]
     },
     "metadata": {},
     "output_type": "display_data"
    }
   ],
   "source": [
    "from sklearn.metrics import roc_curve, roc_auc_score\n",
    "\n",
    "# setting \n",
    "fprs, tprs, thresholds = roc_curve(y_val, new_probas)\n",
    "roc_auc = roc_auc_score(y_val, new_probas)\n",
    "\n",
    "\n",
    "plt.figure()\n",
    "plt.plot(fprs, tprs, color='goldenrod',\n",
    "         lw=2, label='AUC = %0.2f' % roc_auc)\n",
    "plt.plot([0, 1], [0, 1], color='gray', lw=2, linestyle='--')\n",
    "\n",
    "plt.xlabel('FPR')\n",
    "plt.ylabel('TPR')\n",
    "plt.title('ROC Curve for Sarcasm Detection')\n",
    "plt.legend(loc=\"best\")\n",
    "plt.show()\n",
    "\n"
   ]
  },
  {
   "cell_type": "markdown",
   "id": "28e799b6-3a19-4cb9-82ea-3c9df45c6a82",
   "metadata": {},
   "source": [
    "### Conclusions about ROC\n",
    "- AUC is a more all-encompassing measure than F1 score as it also considers the negative class whereas F1 score only considers the positive.\n",
    "- our AUC is higher than our F1 scores because it actually does slightly better at predicting non-sarcastic comments\n",
    "- the shape of our AUC curve implies that it performs consistently given varying thresholds and has no inclination toward either sensitivity or precision"
   ]
  },
  {
   "cell_type": "markdown",
   "id": "275e2675-b824-4833-a6f4-e1b33fc671a2",
   "metadata": {},
   "source": [
    "------------------------------------------------------------------------------------------------------------------------------------------------------------"
   ]
  },
  {
   "cell_type": "markdown",
   "id": "26b88fff-8f5c-4b5b-8d33-025e43da36ee",
   "metadata": {},
   "source": [
    "We will forego a confusion matrix as it will simply give us the raw output of our binary classification results, which we have already discussed above with precision, recall, and ROC.  \n",
    "\n",
    "As a final measure of our model, we will run our test set through it to verify whether the results approximate our validation set."
   ]
  },
  {
   "cell_type": "code",
   "execution_count": 149,
   "id": "534faafa",
   "metadata": {},
   "outputs": [
    {
     "name": "stdout",
     "output_type": "stream",
     "text": [
      "               precision    recall  f1-score   support\n",
      "\n",
      "Non-Sarcastic       0.70      0.72      0.71    126187\n",
      "    Sarcastic       0.71      0.69      0.70    126492\n",
      "\n",
      "     accuracy                           0.71    252679\n",
      "    macro avg       0.71      0.71      0.71    252679\n",
      " weighted avg       0.71      0.71      0.71    252679\n",
      "\n"
     ]
    }
   ],
   "source": [
    "test_report = classification_report(y_test, test_predict, target_names=['Non-Sarcastic', 'Sarcastic'])\n",
    "print(test_report)"
   ]
  },
  {
   "cell_type": "markdown",
   "id": "a8ee7eb5-7981-449a-b75a-e0b67aaccf6d",
   "metadata": {},
   "source": [
    "The results on our test set match those of our validation, and we can use this accuracy score of 0.71 as our final result."
   ]
  },
  {
   "cell_type": "markdown",
   "id": "803b0994-72d6-44a9-892e-782c9b5e903f",
   "metadata": {},
   "source": [
    "## <a href='#top' id='fin'>Conclusion</a>"
   ]
  },
  {
   "cell_type": "markdown",
   "id": "c76d87c3-5d95-4368-8dac-f4ccfc63212b",
   "metadata": {},
   "source": []
  }
 ],
 "metadata": {
  "kernelspec": {
   "display_name": "sarcasm_v3",
   "language": "python",
   "name": "sarcasm_v3"
  },
  "language_info": {
   "codemirror_mode": {
    "name": "ipython",
    "version": 3
   },
   "file_extension": ".py",
   "mimetype": "text/x-python",
   "name": "python",
   "nbconvert_exporter": "python",
   "pygments_lexer": "ipython3",
   "version": "3.8.18"
  }
 },
 "nbformat": 4,
 "nbformat_minor": 5
}
