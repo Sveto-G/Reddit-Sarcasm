{
 "cells": [
  {
   "cell_type": "code",
   "execution_count": 1,
   "id": "fb1ae7c5-83b9-4744-a459-f1036c985559",
   "metadata": {},
   "outputs": [],
   "source": [
    "# importing libraries\n",
    "\n",
    "import numpy as np\n",
    "import pandas as pd\n",
    "import matplotlib.pyplot as plt\n",
    "import seaborn as sns\n",
    "sns.set()\n",
    "\n",
    "import regex as re\n",
    "import string\n",
    "\n",
    "from sklearn.model_selection import train_test_split\n",
    "from sklearn.metrics import classification_report\n",
    "\n",
    "\n",
    "from gensim.models import Word2Vec\n",
    "\n",
    "\n",
    "import warnings \n",
    "warnings.filterwarnings(action = 'ignore')"
   ]
  },
  {
   "cell_type": "code",
   "execution_count": 2,
   "id": "6f91991c-8706-4844-b142-f031169af10e",
   "metadata": {},
   "outputs": [
    {
     "data": {
      "text/html": [
       "<div>\n",
       "<style scoped>\n",
       "    .dataframe tbody tr th:only-of-type {\n",
       "        vertical-align: middle;\n",
       "    }\n",
       "\n",
       "    .dataframe tbody tr th {\n",
       "        vertical-align: top;\n",
       "    }\n",
       "\n",
       "    .dataframe thead th {\n",
       "        text-align: right;\n",
       "    }\n",
       "</style>\n",
       "<table border=\"1\" class=\"dataframe\">\n",
       "  <thead>\n",
       "    <tr style=\"text-align: right;\">\n",
       "      <th></th>\n",
       "      <th>label</th>\n",
       "      <th>comment</th>\n",
       "    </tr>\n",
       "  </thead>\n",
       "  <tbody>\n",
       "    <tr>\n",
       "      <th>0</th>\n",
       "      <td>0</td>\n",
       "      <td>NC and NH.</td>\n",
       "    </tr>\n",
       "    <tr>\n",
       "      <th>1</th>\n",
       "      <td>0</td>\n",
       "      <td>You do know west teams play against west teams...</td>\n",
       "    </tr>\n",
       "    <tr>\n",
       "      <th>2</th>\n",
       "      <td>0</td>\n",
       "      <td>They were underdogs earlier today, but since G...</td>\n",
       "    </tr>\n",
       "    <tr>\n",
       "      <th>3</th>\n",
       "      <td>0</td>\n",
       "      <td>This meme isn't funny none of the \"new york ni...</td>\n",
       "    </tr>\n",
       "    <tr>\n",
       "      <th>4</th>\n",
       "      <td>0</td>\n",
       "      <td>I could use one of those tools.</td>\n",
       "    </tr>\n",
       "  </tbody>\n",
       "</table>\n",
       "</div>"
      ],
      "text/plain": [
       "   label                                            comment\n",
       "0      0                                         NC and NH.\n",
       "1      0  You do know west teams play against west teams...\n",
       "2      0  They were underdogs earlier today, but since G...\n",
       "3      0  This meme isn't funny none of the \"new york ni...\n",
       "4      0                    I could use one of those tools."
      ]
     },
     "execution_count": 2,
     "metadata": {},
     "output_type": "execute_result"
    }
   ],
   "source": [
    "# reading in csv and checking hed\n",
    "reddit = pd.read_csv('reddit_comments.csv', index_col=0)\n",
    "\n",
    "reddit.head()"
   ]
  },
  {
   "cell_type": "code",
   "execution_count": 3,
   "id": "9b5e8b1e-f35f-4846-aca1-ba7941e00d5f",
   "metadata": {},
   "outputs": [
    {
     "data": {
      "text/plain": [
       "(1010714, 2)"
      ]
     },
     "execution_count": 3,
     "metadata": {},
     "output_type": "execute_result"
    }
   ],
   "source": [
    "# verifying shape\n",
    "reddit.shape"
   ]
  },
  {
   "cell_type": "code",
   "execution_count": 4,
   "id": "bfae09e4-1d52-4395-a092-ab25605ecadb",
   "metadata": {},
   "outputs": [],
   "source": [
    "# custom tokenizer function\n",
    "\n",
    "def tokenizer(series):\n",
    "    # get values from series\n",
    "    corpus = series.values\n",
    "    tokens = [] # empty token list\n",
    "    \n",
    "    for document in corpus:\n",
    "        #removing punctuation\n",
    "        for punc in string.punctuation:\n",
    "            document = document.replace(punc, '')\n",
    "        \n",
    "        # removing numbers and setting all documents to lowercase    \n",
    "        document = re.sub(\"\\d+\", \"\", document).lower()\n",
    "        # splitting documents and appending tokens list\n",
    "        tokens.append(document.split(' '))\n",
    "        \n",
    "    \n",
    "        \n",
    "\n",
    "    return tokens"
   ]
  },
  {
   "cell_type": "code",
   "execution_count": 5,
   "id": "73e3ea6a-f2ee-4cb7-85b9-f358d24d4686",
   "metadata": {},
   "outputs": [],
   "source": [
    "# setting X and y\n",
    "X = reddit['comment']\n",
    "y = reddit['label']"
   ]
  },
  {
   "cell_type": "code",
   "execution_count": 6,
   "id": "fa417af5-e200-47dd-a81a-6aff53d1492e",
   "metadata": {},
   "outputs": [],
   "source": [
    "# tokenizing comments through custom fucntion\n",
    "tokenized_data = tokenizer(X)"
   ]
  },
  {
   "cell_type": "code",
   "execution_count": 7,
   "id": "01019f49-dd6c-47e9-9ae4-0bf94a7bbd63",
   "metadata": {},
   "outputs": [
    {
     "data": {
      "text/plain": [
       "(32243460, 52702745)"
      ]
     },
     "execution_count": 7,
     "metadata": {},
     "output_type": "execute_result"
    }
   ],
   "source": [
    "# training word2vec model \n",
    "embeddings = Word2Vec(tokenized_data, window=5, min_count=25, workers=4, size=300, max_vocab_size=10000 )\n",
    "embeddings.train(tokenized_data, total_examples=model.corpus_count, epochs=model.epochs)"
   ]
  },
  {
   "cell_type": "code",
   "execution_count": 8,
   "id": "42a43bd1-042f-4f7f-903d-06e733b95974",
   "metadata": {},
   "outputs": [],
   "source": []
  },
  {
   "cell_type": "code",
   "execution_count": 9,
   "id": "c38cce90-39fd-484d-aeec-58c7bff1768f",
   "metadata": {},
   "outputs": [],
   "source": [
    "# function to vectorize documents\n",
    "def sentence(document):\n",
    "    \n",
    "    size = embeddings.vector_size # setting constant document size\n",
    "    word_vec_doc = np.zeros(size) # populating list of document size with zeros \n",
    "    count = 1 # word count to be used for average\n",
    "    \n",
    "    # looping through documents\n",
    "    for word in document:\n",
    "        # checking if word exists in document\n",
    "        if word in embeddings:\n",
    "            count +=1\n",
    "            word_vec_doc += embeddings[word] # adding word embedding to doc embedding\n",
    "    \n",
    "    word_vec_doc = word_vec_doc / count # taking average of embeddings\n",
    "    \n",
    "    return word_vec_doc"
   ]
  },
  {
   "cell_type": "code",
   "execution_count": 10,
   "id": "6579144f-b2ed-454f-a860-195e6ad50475",
   "metadata": {
    "scrolled": true
   },
   "outputs": [],
   "source": [
    "# setting vectors to variable\n",
    "document_vectors = [sentence(doc) for doc in tokenized_data]"
   ]
  },
  {
   "cell_type": "code",
   "execution_count": 11,
   "id": "601c7d3c-df37-4075-91dd-b8bc9b326464",
   "metadata": {},
   "outputs": [],
   "source": [
    "# setting X to be document vectors\n",
    "X = document_vectors"
   ]
  },
  {
   "cell_type": "code",
   "execution_count": null,
   "id": "f92e2735-5655-4eac-b99a-456562e55fa3",
   "metadata": {},
   "outputs": [],
   "source": []
  },
  {
   "cell_type": "code",
   "execution_count": 12,
   "id": "6bbc82c4-9c8d-4c2b-ac37-50524090de3d",
   "metadata": {},
   "outputs": [],
   "source": [
    "\n",
    "# initial split into rem and test\n",
    "X_rem, X_test, y_rem, y_test = train_test_split(X, y, test_size=0.25, random_state=42)"
   ]
  },
  {
   "cell_type": "code",
   "execution_count": 13,
   "id": "e0b2b01e-27b9-4927-82c4-b361252ad6bb",
   "metadata": {},
   "outputs": [],
   "source": [
    "# secondary split into train and val\n",
    "X_train, X_val, y_train, y_val = train_test_split(X_rem, y_rem, test_size=0.25, random_state=42)"
   ]
  },
  {
   "cell_type": "code",
   "execution_count": null,
   "id": "2213d4cf-2b3f-4ce2-9ebf-76b5ccb70a4f",
   "metadata": {},
   "outputs": [],
   "source": []
  },
  {
   "cell_type": "code",
   "execution_count": null,
   "id": "f34d1d22-1baa-4966-931c-29ac04a6f8b4",
   "metadata": {},
   "outputs": [],
   "source": []
  },
  {
   "cell_type": "code",
   "execution_count": 14,
   "id": "7af9e3a6-0070-4cf0-a4e4-7e56b9ac1f40",
   "metadata": {},
   "outputs": [
    {
     "name": "stdout",
     "output_type": "stream",
     "text": [
      "Iteration 1, loss = 0.59881552\n",
      "Iteration 2, loss = 0.57961249\n",
      "Iteration 3, loss = 0.57239086\n",
      "Iteration 4, loss = 0.56768677\n",
      "Iteration 5, loss = 0.56386962\n",
      "Iteration 6, loss = 0.56104931\n",
      "Iteration 7, loss = 0.55850151\n",
      "Iteration 8, loss = 0.55627233\n",
      "Iteration 9, loss = 0.55432540\n",
      "Iteration 10, loss = 0.55247128\n",
      "Iteration 11, loss = 0.55105432\n",
      "Iteration 12, loss = 0.54974282\n",
      "Iteration 13, loss = 0.54833995\n",
      "Iteration 14, loss = 0.54711141\n",
      "Iteration 15, loss = 0.54609561\n",
      "Iteration 16, loss = 0.54510941\n",
      "Iteration 17, loss = 0.54422463\n",
      "Iteration 18, loss = 0.54311705\n",
      "Iteration 19, loss = 0.54240122\n",
      "Iteration 20, loss = 0.54168748\n",
      "Iteration 21, loss = 0.54117603\n",
      "Iteration 22, loss = 0.54003264\n",
      "Iteration 23, loss = 0.53947314\n",
      "Iteration 24, loss = 0.53882382\n",
      "Iteration 25, loss = 0.53819011\n",
      "Iteration 26, loss = 0.53762987\n",
      "Iteration 27, loss = 0.53705778\n",
      "Iteration 28, loss = 0.53648932\n",
      "Iteration 29, loss = 0.53627032\n",
      "Iteration 30, loss = 0.53559124\n",
      "Iteration 31, loss = 0.53515436\n",
      "Iteration 32, loss = 0.53440782\n",
      "Iteration 33, loss = 0.53419475\n",
      "Iteration 34, loss = 0.53386307\n",
      "Iteration 35, loss = 0.53334279\n",
      "Iteration 36, loss = 0.53295546\n",
      "Iteration 37, loss = 0.53257668\n",
      "Iteration 38, loss = 0.53210102\n",
      "Iteration 39, loss = 0.53178208\n",
      "Iteration 40, loss = 0.53140448\n",
      "Iteration 41, loss = 0.53103499\n",
      "Iteration 42, loss = 0.53073040\n",
      "Iteration 43, loss = 0.53057357\n",
      "Iteration 44, loss = 0.52995408\n",
      "Iteration 45, loss = 0.52987783\n",
      "Iteration 46, loss = 0.52973876\n",
      "Iteration 47, loss = 0.52918754\n",
      "Iteration 48, loss = 0.52899587\n",
      "Iteration 49, loss = 0.52860453\n",
      "Iteration 50, loss = 0.52843400\n",
      "Iteration 51, loss = 0.52815159\n",
      "Iteration 52, loss = 0.52798036\n",
      "Iteration 53, loss = 0.52782990\n",
      "Iteration 54, loss = 0.52750309\n",
      "Iteration 55, loss = 0.52733282\n",
      "Iteration 56, loss = 0.52726559\n",
      "Iteration 57, loss = 0.52669992\n",
      "Iteration 58, loss = 0.52677569\n",
      "Iteration 59, loss = 0.52641986\n",
      "Iteration 60, loss = 0.52624601\n",
      "Iteration 61, loss = 0.52613746\n",
      "Iteration 62, loss = 0.52574098\n",
      "Iteration 63, loss = 0.52572020\n",
      "Iteration 64, loss = 0.52557002\n",
      "Iteration 65, loss = 0.52536572\n",
      "Iteration 66, loss = 0.52524954\n",
      "Iteration 67, loss = 0.52491039\n",
      "Iteration 68, loss = 0.52472083\n",
      "Iteration 69, loss = 0.52453710\n",
      "Iteration 70, loss = 0.52448628\n",
      "Iteration 71, loss = 0.52437611\n",
      "Iteration 72, loss = 0.52411257\n",
      "Iteration 73, loss = 0.52411646\n",
      "Iteration 74, loss = 0.52378137\n",
      "Iteration 75, loss = 0.52377486\n",
      "Iteration 76, loss = 0.52355497\n",
      "Iteration 77, loss = 0.52352378\n",
      "Iteration 78, loss = 0.52321001\n",
      "Iteration 79, loss = 0.52308634\n",
      "Iteration 80, loss = 0.52306726\n",
      "Iteration 81, loss = 0.52281592\n",
      "Iteration 82, loss = 0.52286796\n",
      "Iteration 83, loss = 0.52268033\n",
      "Iteration 84, loss = 0.52262124\n",
      "Iteration 85, loss = 0.52243140\n",
      "Iteration 86, loss = 0.52229501\n",
      "Iteration 87, loss = 0.52206682\n",
      "Iteration 88, loss = 0.52202449\n",
      "Iteration 89, loss = 0.52190468\n",
      "Iteration 90, loss = 0.52175590\n",
      "Iteration 91, loss = 0.52180414\n",
      "Iteration 92, loss = 0.52150060\n",
      "Iteration 93, loss = 0.52143009\n",
      "Iteration 94, loss = 0.52133638\n",
      "Iteration 95, loss = 0.52115481\n",
      "Iteration 96, loss = 0.52124093\n",
      "Iteration 97, loss = 0.52114577\n",
      "Iteration 98, loss = 0.52101698\n",
      "Iteration 99, loss = 0.52096597\n",
      "Iteration 100, loss = 0.52083833\n"
     ]
    },
    {
     "data": {
      "text/plain": [
       "MLPClassifier(max_iter=100, random_state=42, verbose=True)"
      ]
     },
     "execution_count": 14,
     "metadata": {},
     "output_type": "execute_result"
    }
   ],
   "source": [
    "from sklearn.neural_network import MLPClassifier\n",
    "\n",
    "# instantiating mlp classifier, setting max iter to 100\n",
    "MLP = MLPClassifier(verbose=True, max_iter=100, random_state=42)\n",
    "\n",
    "# fitting to train\n",
    "MLP.fit(X_train, y_train)"
   ]
  },
  {
   "cell_type": "code",
   "execution_count": 26,
   "id": "6c76543b-e6a8-48f3-87d3-68c310de892a",
   "metadata": {
    "scrolled": true
   },
   "outputs": [
    {
     "name": "stdout",
     "output_type": "stream",
     "text": [
      "Train: 0.7441770473118204\n",
      "Val: 0.6959458389839005\n"
     ]
    }
   ],
   "source": [
    "# printing resulting train and val scores\n",
    "print(f'Train: {MLP.score(X_train, y_train)}')\n",
    "print(f'Val: {MLP.score(X_val, y_val)}')"
   ]
  },
  {
   "cell_type": "code",
   "execution_count": 37,
   "id": "7dd41f09-c730-4173-994d-498544359fb6",
   "metadata": {},
   "outputs": [],
   "source": []
  },
  {
   "cell_type": "code",
   "execution_count": null,
   "id": "6aeffc0d-2912-4f70-bb8a-ccda85929d36",
   "metadata": {},
   "outputs": [],
   "source": []
  },
  {
   "cell_type": "code",
   "execution_count": 25,
   "id": "116d2af5-0cd2-45fe-8885-fd1559ccaf0e",
   "metadata": {
    "scrolled": false
   },
   "outputs": [],
   "source": [
    "# setting predictions to variable\n",
    "val_predict = MLP.predict(X_val)"
   ]
  },
  {
   "cell_type": "code",
   "execution_count": 26,
   "id": "c138fb45-f941-4b85-adc6-96cb9f839267",
   "metadata": {},
   "outputs": [
    {
     "name": "stdout",
     "output_type": "stream",
     "text": [
      "               precision    recall  f1-score   support\n",
      "\n",
      "Non-Sarcastic       0.68      0.74      0.71     94698\n",
      "    Sarcastic       0.72      0.66      0.69     94811\n",
      "\n",
      "     accuracy                           0.70    189509\n",
      "    macro avg       0.70      0.70      0.70    189509\n",
      " weighted avg       0.70      0.70      0.70    189509\n",
      "\n"
     ]
    }
   ],
   "source": [
    "# instantiating and printing classification report\n",
    "report = classification_report(y_val, val_predict, target_names=['Non-Sarcastic', 'Sarcastic'])\n",
    "print(report)\n"
   ]
  },
  {
   "cell_type": "code",
   "execution_count": 21,
   "id": "f9ec195a-c411-48d9-a490-f7feb9e7a281",
   "metadata": {},
   "outputs": [
    {
     "data": {
      "text/plain": [
       "(36950638, 52702745)"
      ]
     },
     "execution_count": 21,
     "metadata": {},
     "output_type": "execute_result"
    }
   ],
   "source": [
    "# reinstantiating more precise word2vec \n",
    "embeddings = Word2Vec(tokenized_data, window=5, min_count=25, workers=4, size=300, max_vocab_size=25000 )\n",
    "embeddings.train(tokenized_data, total_examples=model.corpus_count, epochs=model.epochs)\n"
   ]
  },
  {
   "cell_type": "code",
   "execution_count": 22,
   "id": "d6187804-2b1e-41c6-ab7f-84b13d8b2d7f",
   "metadata": {},
   "outputs": [],
   "source": [
    "# setting new x to new vectors\n",
    "new_vectors = [sentence(doc) for doc in tokenized_data]\n",
    "new_X = new_vectors"
   ]
  },
  {
   "cell_type": "code",
   "execution_count": 23,
   "id": "8b21f875",
   "metadata": {},
   "outputs": [],
   "source": [
    "# performing new train/test split\n",
    "X_rem, X_test, y_rem, y_test = train_test_split(new_X, y, test_size=0.25, random_state=42)\n",
    "X_train, X_val, y_train, y_val = train_test_split(X_rem, y_rem, test_size=0.25, random_state=42)"
   ]
  },
  {
   "cell_type": "code",
   "execution_count": 24,
   "id": "dd7f9823-6632-4632-8a11-49d0c72b511b",
   "metadata": {},
   "outputs": [
    {
     "name": "stdout",
     "output_type": "stream",
     "text": [
      "Iteration 1, loss = 0.59881552\n",
      "Iteration 2, loss = 0.57961249\n",
      "Iteration 3, loss = 0.57239086\n",
      "Iteration 4, loss = 0.56768677\n",
      "Iteration 5, loss = 0.56386962\n",
      "Iteration 6, loss = 0.56104931\n",
      "Iteration 7, loss = 0.55850151\n",
      "Iteration 8, loss = 0.55627233\n",
      "Iteration 9, loss = 0.55432540\n",
      "Iteration 10, loss = 0.55247128\n",
      "Iteration 11, loss = 0.55105432\n",
      "Iteration 12, loss = 0.54974282\n",
      "Iteration 13, loss = 0.54833995\n",
      "Iteration 14, loss = 0.54711141\n",
      "Iteration 15, loss = 0.54609561\n",
      "Iteration 16, loss = 0.54510941\n",
      "Iteration 17, loss = 0.54422463\n",
      "Iteration 18, loss = 0.54311705\n",
      "Iteration 19, loss = 0.54240122\n",
      "Iteration 20, loss = 0.54168748\n",
      "Iteration 21, loss = 0.54117603\n",
      "Iteration 22, loss = 0.54003264\n",
      "Iteration 23, loss = 0.53947314\n",
      "Iteration 24, loss = 0.53882382\n",
      "Iteration 25, loss = 0.53819011\n",
      "Iteration 26, loss = 0.53762987\n",
      "Iteration 27, loss = 0.53705778\n",
      "Iteration 28, loss = 0.53648932\n",
      "Iteration 29, loss = 0.53627032\n",
      "Iteration 30, loss = 0.53559124\n",
      "Iteration 31, loss = 0.53515436\n",
      "Iteration 32, loss = 0.53440782\n",
      "Iteration 33, loss = 0.53419475\n",
      "Iteration 34, loss = 0.53386307\n",
      "Iteration 35, loss = 0.53334279\n",
      "Iteration 36, loss = 0.53295546\n",
      "Iteration 37, loss = 0.53257668\n",
      "Iteration 38, loss = 0.53210102\n",
      "Iteration 39, loss = 0.53178208\n",
      "Iteration 40, loss = 0.53140448\n",
      "Iteration 41, loss = 0.53103499\n",
      "Iteration 42, loss = 0.53073040\n",
      "Iteration 43, loss = 0.53057357\n",
      "Iteration 44, loss = 0.52995408\n",
      "Iteration 45, loss = 0.52987783\n",
      "Iteration 46, loss = 0.52973876\n",
      "Iteration 47, loss = 0.52918754\n",
      "Iteration 48, loss = 0.52899587\n",
      "Iteration 49, loss = 0.52860453\n",
      "Iteration 50, loss = 0.52843400\n"
     ]
    },
    {
     "data": {
      "text/plain": [
       "MLPClassifier(max_iter=50, random_state=42, verbose=True)"
      ]
     },
     "execution_count": 24,
     "metadata": {},
     "output_type": "execute_result"
    }
   ],
   "source": [
    " # running mlp classifier again with max iter at 50\n",
    "MLP = MLPClassifier(verbose=True, max_iter=50, random_state=42)\n",
    "\n",
    "# fitting to new x train\n",
    "MLP.fit(X_train, y_train)"
   ]
  },
  {
   "cell_type": "code",
   "execution_count": 27,
   "id": "a3137234-a1fe-4360-92e7-9b7877a4c0d5",
   "metadata": {
    "scrolled": true
   },
   "outputs": [
    {
     "name": "stdout",
     "output_type": "stream",
     "text": [
      "Train: 0.7386469572191949\n",
      "Val: 0.700061738492631\n"
     ]
    }
   ],
   "source": [
    "print(f'Train: {MLP.score(X_train, y_train)}')\n",
    "print(f'Val: {MLP.score(X_val, y_val)}')"
   ]
  },
  {
   "cell_type": "code",
   "execution_count": 28,
   "id": "e4bcb15a-fe3b-4e13-91ba-5facde092c4c",
   "metadata": {},
   "outputs": [],
   "source": [
    "new_val_predict = MLP.predict(X_val)"
   ]
  },
  {
   "cell_type": "code",
   "execution_count": 29,
   "id": "ab6cebc5-dcb1-4b2e-b4c7-1cc55961d01f",
   "metadata": {},
   "outputs": [
    {
     "name": "stdout",
     "output_type": "stream",
     "text": [
      "               precision    recall  f1-score   support\n",
      "\n",
      "Non-Sarcastic       0.68      0.74      0.71     94698\n",
      "    Sarcastic       0.72      0.66      0.69     94811\n",
      "\n",
      "     accuracy                           0.70    189509\n",
      "    macro avg       0.70      0.70      0.70    189509\n",
      " weighted avg       0.70      0.70      0.70    189509\n",
      "\n"
     ]
    }
   ],
   "source": [
    "new_report = classification_report(y_val, new_val_predict, target_names=['Non-Sarcastic', 'Sarcastic'])\n",
    "print(new_report)"
   ]
  },
  {
   "cell_type": "code",
   "execution_count": 30,
   "id": "df527777-1160-48d4-b2af-c7344652c3cf",
   "metadata": {},
   "outputs": [],
   "source": [
    "new_probas = MLP.predict_proba(X_val)"
   ]
  },
  {
   "cell_type": "code",
   "execution_count": 35,
   "id": "1e59916d",
   "metadata": {},
   "outputs": [],
   "source": [
    "from sklearn.metrics import precision_score\n",
    "from sklearn.metrics import recall_score"
   ]
  },
  {
   "cell_type": "code",
   "execution_count": 36,
   "id": "480e3c13-1e20-4e93-ae57-97d6d5583625",
   "metadata": {},
   "outputs": [],
   "source": [
    "# Varying thresholds by 0.05 between 0.05 & 1\n",
    "thresholds = np.arange(0.05, 1, 0.05)\n",
    "\n",
    "# empty precision/recall lists\n",
    "precisions = []\n",
    "recalls = []\n",
    "\n",
    "# looping through threshold range\n",
    "for threshold in thresholds:\n",
    "\n",
    "    # Applying threshold\n",
    "    y_threshold = np.where(new_probas > threshold, 1, 0)\n",
    "    \n",
    "    # Calculating precision and recall\n",
    "    precision = precision_score(y_val, y_threshold)\n",
    "    recall = recall_score(y_val, y_threshold)\n",
    "    \n",
    "    # Appending to lists\n",
    "    precisions.append(precision)\n",
    "    recalls.append(recall)\n",
    "\n"
   ]
  },
  {
   "cell_type": "code",
   "execution_count": 37,
   "id": "f2cceeed-146e-4447-b440-b7b4830c882b",
   "metadata": {},
   "outputs": [
    {
     "data": {
      "text/plain": [
       "<matplotlib.legend.Legend at 0x212974366a0>"
      ]
     },
     "execution_count": 37,
     "metadata": {},
     "output_type": "execute_result"
    },
    {
     "data": {
      "image/png": "[encoded data removed]",
      "text/plain": [
       "<Figure size 640x480 with 1 Axes>"
      ]
     },
     "metadata": {},
     "output_type": "display_data"
    }
   ],
   "source": [
    "# Visualizing the result\n",
    "plt.figure()\n",
    "\n",
    "plt.plot(thresholds, precisions, label='precision', marker='o')\n",
    "plt.plot(thresholds, recalls, label='recall', marker='o')\n",
    "\n",
    "plt.xlim(0, 1)\n",
    "plt.axvline(np.median(thresholds), linestyle='--', color='gray')\n",
    "plt.xlabel('threshold')\n",
    "plt.ylabel('score')\n",
    "plt.legend()"
   ]
  },
  {
   "cell_type": "code",
   "execution_count": 38,
   "id": "8481d672-5897-4805-8887-8986b114aeee",
   "metadata": {},
   "outputs": [
    {
     "data": {
      "image/png": "[encoded data removed]",
      "text/plain": [
       "<Figure size 640x480 with 1 Axes>"
      ]
     },
     "metadata": {},
     "output_type": "display_data"
    }
   ],
   "source": [
    "from sklearn.metrics import roc_curve, roc_auc_score\n",
    "\n",
    "fprs, tprs, thresholds = roc_curve(y_val, new_probas)\n",
    "roc_auc = roc_auc_score(y_val, new_probas)\n",
    "\n",
    "\n",
    "plt.figure()\n",
    "plt.plot(fprs, tprs, color='darkorange',\n",
    "         lw=2, label='AUC = %0.2f' % roc_auc)\n",
    "plt.plot([0, 1], [0, 1], color='navy', lw=2, linestyle='--')\n",
    "\n",
    "plt.xlabel('FPR')\n",
    "plt.ylabel('TPR')\n",
    "plt.title('ROC Curve for Sarcasm Detection')\n",
    "plt.legend(loc=\"best\")\n",
    "plt.show()\n",
    "\n"
   ]
  },
  {
   "cell_type": "code",
   "execution_count": 60,
   "id": "591ddcf8",
   "metadata": {},
   "outputs": [
    {
     "data": {
      "text/html": [
       "<div>\n",
       "<style scoped>\n",
       "    .dataframe tbody tr th:only-of-type {\n",
       "        vertical-align: middle;\n",
       "    }\n",
       "\n",
       "    .dataframe tbody tr th {\n",
       "        vertical-align: top;\n",
       "    }\n",
       "\n",
       "    .dataframe thead th {\n",
       "        text-align: right;\n",
       "    }\n",
       "</style>\n",
       "<table border=\"1\" class=\"dataframe\">\n",
       "  <thead>\n",
       "    <tr style=\"text-align: right;\">\n",
       "      <th></th>\n",
       "      <th>Predicted Negative</th>\n",
       "      <th>Predicted Positive</th>\n",
       "    </tr>\n",
       "  </thead>\n",
       "  <tbody>\n",
       "    <tr>\n",
       "      <th>True Negative</th>\n",
       "      <td>70619</td>\n",
       "      <td>24079</td>\n",
       "    </tr>\n",
       "    <tr>\n",
       "      <th>True Positive</th>\n",
       "      <td>28736</td>\n",
       "      <td>66075</td>\n",
       "    </tr>\n",
       "  </tbody>\n",
       "</table>\n",
       "</div>"
      ],
      "text/plain": [
       "               Predicted Negative  Predicted Positive\n",
       "True Negative               70619               24079\n",
       "True Positive               28736               66075"
      ]
     },
     "metadata": {},
     "output_type": "display_data"
    }
   ],
   "source": [
    "from sklearn.metrics import confusion_matrix, ConfusionMatrixDisplay\n",
    "\n",
    "# Get class predictions\n",
    "y_pred = MLP.predict(X_val)\n",
    "\n",
    "# Generate confusion matrix\n",
    "cf_matrix = confusion_matrix(y_val, y_pred)\n",
    "\n",
    "# label rows and columns\n",
    "cf_df = pd.DataFrame(\n",
    "    cf_matrix, \n",
    "    columns=[\"Predicted Negative\", \"Predicted Positive\"],\n",
    "    index=[\"True Negative\", \"True Positive\"]\n",
    ")\n",
    "\n",
    "display(cf_df)"
   ]
  },
  {
   "cell_type": "code",
   "execution_count": 61,
   "id": "1f99b85c",
   "metadata": {
    "scrolled": true
   },
   "outputs": [
    {
     "ename": "AttributeError",
     "evalue": "type object 'ConfusionMatrixDisplay' has no attribute 'from_estimator'",
     "output_type": "error",
     "traceback": [
      "\u001b[1;31m---------------------------------------------------------------------------\u001b[0m",
      "\u001b[1;31mAttributeError\u001b[0m                            Traceback (most recent call last)",
      "Cell \u001b[1;32mIn[61], line 1\u001b[0m\n\u001b[1;32m----> 1\u001b[0m \u001b[43mConfusionMatrixDisplay\u001b[49m\u001b[38;5;241;43m.\u001b[39;49m\u001b[43mfrom_estimator\u001b[49m(MLP, X_val, y_val)\n",
      "\u001b[1;31mAttributeError\u001b[0m: type object 'ConfusionMatrixDisplay' has no attribute 'from_estimator'"
     ]
    }
   ],
   "source": [
    "\n",
    "\n",
    "ConfusionMatrixDisplay.from_estimator(MLP, X_val, y_val);\n",
    "\n"
   ]
  },
  {
   "cell_type": "code",
   "execution_count": 39,
   "id": "9ede2429-823e-4430-a6d4-5a6ac01a1a32",
   "metadata": {},
   "outputs": [],
   "source": [
    "def test_tokenizer(document):\n",
    "    \n",
    "    \n",
    "    # replacing punctuation with empty string\n",
    "    for punc in string.punctuation:\n",
    "        document = document.replace(punc, '')\n",
    "        \n",
    "        # removing numbers and setting all documents to lowercase    \n",
    "    document = re.sub(\"\\d+\", \"\", document).lower()\n",
    "    \n",
    "        # splitting documents and appending tokens list\n",
    "    tokens = document.split(' ')\n",
    "        \n",
    "    \n",
    "        \n",
    "\n",
    "    return tokens"
   ]
  },
  {
   "cell_type": "code",
   "execution_count": 40,
   "id": "69103068-445c-429f-9e3b-c3ff57040a59",
   "metadata": {},
   "outputs": [],
   "source": [
    "def vectorizer(document):\n",
    "\n",
    "    tokens = test_tokenizer(document) # calling tokenizer function\n",
    "    two_d_vec = [] # empty list to make list 2d\n",
    "    \n",
    "    size = embeddings.vector_size # setting constant document size\n",
    "    word_vec_doc = np.zeros(size) # populating list of document size with zeros \n",
    "    count = 1 # word count to be used for average\n",
    "    \n",
    "    # looping through documents\n",
    "    for word in document:\n",
    "        # checking if word exists in document\n",
    "        if word in embeddings:\n",
    "            count +=1\n",
    "            word_vec_doc += embeddings[word] # adding word embedding to doc embedding\n",
    "    \n",
    "    word_vec_doc = word_vec_doc / count # taking average of embeddings\n",
    "    \n",
    "    # appending to empty list to make 2d\n",
    "    two_d_vec.append(word_vec_doc)\n",
    "    \n",
    "    return two_d_vec"
   ]
  },
  {
   "cell_type": "code",
   "execution_count": 41,
   "id": "09eb37b5-b73c-4302-a0fa-70097f900e3b",
   "metadata": {},
   "outputs": [],
   "source": [
    "# test document to run through function\n",
    "document1 = \"This is simply a test. Can I call a function within a function?\"\n",
    "\n",
    "# function test\n",
    "vekt_doc = vectorizer(document1)"
   ]
  },
  {
   "cell_type": "code",
   "execution_count": 42,
   "id": "e092ae73-ac79-46fe-9c19-f0e800f2a7cf",
   "metadata": {},
   "outputs": [
    {
     "name": "stdout",
     "output_type": "stream",
     "text": [
      "Result: 0.12\n"
     ]
    }
   ],
   "source": [
    "# printing result\n",
    "result = MLP.predict_proba(vekt_doc)[0][1]\n",
    "print(f'Result: {round(result, 2)}')"
   ]
  },
  {
   "cell_type": "code",
   "execution_count": 43,
   "id": "e8a7a0e8-c998-4e8f-a344-67076973902a",
   "metadata": {},
   "outputs": [],
   "source": [
    "sentence1 = \"Fair and logical.\"\n",
    "sentence2 = \"He said no. Fair and logical.\"\n",
    "sentence3 = \"He said no. That's fair and logical.\"\n",
    "\n",
    "sentence4 = \"He said no. Very fair and logical\"\n",
    "sentence5 = \"He said no. Very fair and very logical.\"\n",
    "\n",
    "sentence6 = \"He said no. Seems fair and logical to me.\"\n",
    "\n"
   ]
  },
  {
   "cell_type": "code",
   "execution_count": 44,
   "id": "f0e7b766-3b62-4a16-8bc4-0953a5af6fdc",
   "metadata": {},
   "outputs": [],
   "source": [
    "doc1 = vectorizer(sentence1)\n",
    "doc2 = vectorizer(sentence2)\n",
    "doc3 = vectorizer(sentence3)\n",
    "doc4 = vectorizer(sentence4)\n",
    "doc5 = vectorizer(sentence5)\n",
    "doc6 = vectorizer(sentence6)"
   ]
  },
  {
   "cell_type": "code",
   "execution_count": 45,
   "id": "381b9935-6fa5-4f16-8e7c-c794f7887063",
   "metadata": {},
   "outputs": [],
   "source": [
    "proba1 = round(MLP.predict_proba(doc1)[0][1], 2)\n",
    "proba2 = round(MLP.predict_proba(doc2)[0][1], 2)\n",
    "proba3 = round(MLP.predict_proba(doc3)[0][1], 2)\n",
    "proba4 = round(MLP.predict_proba(doc4)[0][1], 2)\n",
    "proba5 = round(MLP.predict_proba(doc4)[0][1], 2)\n",
    "proba6 = round(MLP.predict_proba(doc4)[0][1], 2)\n"
   ]
  },
  {
   "cell_type": "code",
   "execution_count": 46,
   "id": "27940dc4-9dfd-463f-b080-183e31d81944",
   "metadata": {},
   "outputs": [
    {
     "name": "stdout",
     "output_type": "stream",
     "text": [
      "PROBABILITY SARCASTIC: \n",
      "\n",
      "Sentence1: 0.27 \n",
      " Sentence2: 0.72 \n",
      " Sentence3: 0.63 \n",
      "\n",
      "Sentence4: 0.8 \n",
      " Sentence5: 0.8 \n",
      " \n",
      "Sentence6: 0.8\n"
     ]
    }
   ],
   "source": [
    "print('PROBABILITY SARCASTIC: \\n')\n",
    "print(f'Sentence1: {proba1} \\n Sentence2: {proba2} \\n Sentence3: {proba3} \\n')\n",
    "print(f'Sentence4: {proba4} \\n Sentence5: {proba5} \\n ')\n",
    "print(f'Sentence6: {proba6}')"
   ]
  },
  {
   "cell_type": "code",
   "execution_count": 50,
   "id": "dafabddf-bc18-4ce1-bd2d-7997dab5d91f",
   "metadata": {},
   "outputs": [
    {
     "name": "stdout",
     "output_type": "stream",
     "text": [
      "Iteration 1, loss = 0.59937341\n",
      "Validation score: 0.686928\n",
      "Iteration 2, loss = 0.58032241\n",
      "Validation score: 0.694157\n",
      "Iteration 3, loss = 0.57304494\n",
      "Validation score: 0.694716\n",
      "Iteration 4, loss = 0.56810440\n",
      "Validation score: 0.697692\n",
      "Iteration 5, loss = 0.56449148\n",
      "Validation score: 0.696273\n",
      "Iteration 6, loss = 0.56135184\n",
      "Validation score: 0.700531\n",
      "Iteration 7, loss = 0.55879218\n",
      "Validation score: 0.700273\n",
      "Iteration 8, loss = 0.55668974\n",
      "Validation score: 0.700457\n",
      "Iteration 9, loss = 0.55487976\n",
      "Validation score: 0.700959\n",
      "Iteration 10, loss = 0.55301342\n",
      "Validation score: 0.700574\n",
      "Iteration 11, loss = 0.55163110\n",
      "Validation score: 0.700927\n",
      "Iteration 12, loss = 0.55025720\n",
      "Validation score: 0.701428\n",
      "Iteration 13, loss = 0.54904782\n",
      "Validation score: 0.702109\n",
      "Iteration 14, loss = 0.54774852\n",
      "Validation score: 0.700299\n",
      "Iteration 15, loss = 0.54654502\n",
      "Validation score: 0.702019\n",
      "Iteration 16, loss = 0.54544972\n",
      "Validation score: 0.701418\n",
      "Iteration 17, loss = 0.54471944\n",
      "Validation score: 0.702384\n",
      "Iteration 18, loss = 0.54386048\n",
      "Validation score: 0.701017\n",
      "Iteration 19, loss = 0.54279443\n",
      "Validation score: 0.700917\n",
      "Iteration 20, loss = 0.54215352\n",
      "Validation score: 0.700621\n",
      "Iteration 21, loss = 0.54136682\n",
      "Validation score: 0.700906\n",
      "Iteration 22, loss = 0.54088871\n",
      "Validation score: 0.701286\n",
      "Iteration 23, loss = 0.54012275\n",
      "Validation score: 0.700742\n",
      "Iteration 24, loss = 0.53943055\n",
      "Validation score: 0.701529\n",
      "Iteration 25, loss = 0.53891626\n",
      "Validation score: 0.701360\n",
      "Iteration 26, loss = 0.53822343\n",
      "Validation score: 0.696479\n",
      "Iteration 27, loss = 0.53773047\n",
      "Validation score: 0.698489\n",
      "Iteration 28, loss = 0.53710038\n",
      "Validation score: 0.700041\n",
      "Validation score did not improve more than tol=0.000100 for 10 consecutive epochs. Stopping.\n"
     ]
    }
   ],
   "source": [
    "MLP = MLPClassifier(verbose=True, max_iter=50, random_state=42, early_stopping=True, validation_fraction=0.25)\n",
    "\n",
    "history = MLP.fit(X_rem, y_rem)"
   ]
  },
  {
   "cell_type": "code",
   "execution_count": 59,
   "id": "28c20176",
   "metadata": {},
   "outputs": [
    {
     "data": {
      "text/plain": [
       "[('fair', 0.5444294214248657),\n",
       " ('happy', 0.4073795676231384),\n",
       " ('pretend', 0.39431893825531006),\n",
       " ('accurate', 0.3941076993942261),\n",
       " ('objective', 0.391853392124176),\n",
       " ('consistent', 0.39180988073349),\n",
       " ('careful', 0.39105141162872314),\n",
       " ('helpful', 0.37912407517433167),\n",
       " ('worried', 0.3685811460018158),\n",
       " ('unbiased', 0.36201316118240356)]"
      ]
     },
     "execution_count": 59,
     "metadata": {},
     "output_type": "execute_result"
    }
   ],
   "source": [
    "model.most_similar('honest')"
   ]
  },
  {
   "cell_type": "code",
   "execution_count": null,
   "id": "fdc04805",
   "metadata": {},
   "outputs": [],
   "source": []
  },
  {
   "cell_type": "code",
   "execution_count": null,
   "id": "5826f3eb",
   "metadata": {},
   "outputs": [],
   "source": []
  },
  {
   "cell_type": "code",
   "execution_count": null,
   "id": "534faafa",
   "metadata": {},
   "outputs": [],
   "source": []
  },
  {
   "cell_type": "code",
   "execution_count": null,
   "id": "d80e84ba",
   "metadata": {},
   "outputs": [],
   "source": []
  }
 ],
 "metadata": {
  "kernelspec": {
   "display_name": "deeplearning",
   "language": "python",
   "name": "deeplearning"
  },
  "language_info": {
   "codemirror_mode": {
    "name": "ipython",
    "version": 3
   },
   "file_extension": ".py",
   "mimetype": "text/x-python",
   "name": "python",
   "nbconvert_exporter": "python",
   "pygments_lexer": "ipython3",
   "version": "3.8.18"
  }
 },
 "nbformat": 4,
 "nbformat_minor": 5
}
