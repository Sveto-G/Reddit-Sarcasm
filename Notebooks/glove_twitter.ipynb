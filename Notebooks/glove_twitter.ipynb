{
 "cells": [
  {
   "cell_type": "code",
   "execution_count": 23,
   "id": "24afceb7",
   "metadata": {},
   "outputs": [],
   "source": [
    "import numpy as np\n",
    "import pandas as pd\n",
    "import matplotlib.pyplot as plt\n",
    "import seaborn as sns\n",
    "sns.set()\n",
    "\n",
    "import regex as re\n",
    "import string\n",
    "\n",
    "from gensim.models import Word2Vec\n",
    "import gensim.downloader as api\n",
    "\n",
    "from sklearn.model_selection import train_test_split\n",
    "from sklearn.neural_network import MLPClassifier\n",
    "from sklearn.metrics import classification_report\n",
    "\n",
    "import tensorflow as tf\n",
    "\n",
    "from tensorflow.keras.models import Sequential\n",
    "from tensorflow.keras.layers import Dense, LSTM, Dropout, Bidirectional, Embedding\n",
    "\n",
    "import warnings \n",
    "warnings.filterwarnings(action = 'ignore')"
   ]
  },
  {
   "cell_type": "code",
   "execution_count": 13,
   "id": "107bfe76",
   "metadata": {},
   "outputs": [
    {
     "data": {
      "text/plain": [
       "(1010714, 2)"
      ]
     },
     "execution_count": 13,
     "metadata": {},
     "output_type": "execute_result"
    }
   ],
   "source": [
    "reddit = pd.read_csv('reddit_comments.csv', index_col=0)\n",
    "\n",
    "reddit.shape"
   ]
  },
  {
   "cell_type": "code",
   "execution_count": 3,
   "id": "5eb5bc8b",
   "metadata": {},
   "outputs": [
    {
     "name": "stdout",
     "output_type": "stream",
     "text": [
      "[=-------------------------------------------------] 3.1% 23.4/758.5MB downloaded"
     ]
    },
    {
     "name": "stderr",
     "output_type": "stream",
     "text": [
      "IOPub message rate exceeded.\n",
      "The notebook server will temporarily stop sending output\n",
      "to the client in order to avoid crashing it.\n",
      "To change this limit, set the config variable\n",
      "`--NotebookApp.iopub_msg_rate_limit`.\n",
      "\n",
      "Current values:\n",
      "NotebookApp.iopub_msg_rate_limit=1000.0 (msgs/sec)\n",
      "NotebookApp.rate_limit_window=3.0 (secs)\n",
      "\n"
     ]
    },
    {
     "name": "stdout",
     "output_type": "stream",
     "text": [
      "[====----------------------------------------------] 8.1% 61.7/758.5MB downloaded"
     ]
    },
    {
     "name": "stderr",
     "output_type": "stream",
     "text": [
      "IOPub message rate exceeded.\n",
      "The notebook server will temporarily stop sending output\n",
      "to the client in order to avoid crashing it.\n",
      "To change this limit, set the config variable\n",
      "`--NotebookApp.iopub_msg_rate_limit`.\n",
      "\n",
      "Current values:\n",
      "NotebookApp.iopub_msg_rate_limit=1000.0 (msgs/sec)\n",
      "NotebookApp.rate_limit_window=3.0 (secs)\n",
      "\n"
     ]
    },
    {
     "name": "stdout",
     "output_type": "stream",
     "text": [
      "[======--------------------------------------------] 13.2% 100.0/758.5MB downloaded"
     ]
    },
    {
     "name": "stderr",
     "output_type": "stream",
     "text": [
      "IOPub message rate exceeded.\n",
      "The notebook server will temporarily stop sending output\n",
      "to the client in order to avoid crashing it.\n",
      "To change this limit, set the config variable\n",
      "`--NotebookApp.iopub_msg_rate_limit`.\n",
      "\n",
      "Current values:\n",
      "NotebookApp.iopub_msg_rate_limit=1000.0 (msgs/sec)\n",
      "NotebookApp.rate_limit_window=3.0 (secs)\n",
      "\n"
     ]
    },
    {
     "name": "stdout",
     "output_type": "stream",
     "text": [
      "[=========-----------------------------------------] 18.2% 138.4/758.5MB downloaded"
     ]
    },
    {
     "name": "stderr",
     "output_type": "stream",
     "text": [
      "IOPub message rate exceeded.\n",
      "The notebook server will temporarily stop sending output\n",
      "to the client in order to avoid crashing it.\n",
      "To change this limit, set the config variable\n",
      "`--NotebookApp.iopub_msg_rate_limit`.\n",
      "\n",
      "Current values:\n",
      "NotebookApp.iopub_msg_rate_limit=1000.0 (msgs/sec)\n",
      "NotebookApp.rate_limit_window=3.0 (secs)\n",
      "\n"
     ]
    },
    {
     "name": "stdout",
     "output_type": "stream",
     "text": [
      "[===========---------------------------------------] 23.3% 176.7/758.5MB downloaded"
     ]
    },
    {
     "name": "stderr",
     "output_type": "stream",
     "text": [
      "IOPub message rate exceeded.\n",
      "The notebook server will temporarily stop sending output\n",
      "to the client in order to avoid crashing it.\n",
      "To change this limit, set the config variable\n",
      "`--NotebookApp.iopub_msg_rate_limit`.\n",
      "\n",
      "Current values:\n",
      "NotebookApp.iopub_msg_rate_limit=1000.0 (msgs/sec)\n",
      "NotebookApp.rate_limit_window=3.0 (secs)\n",
      "\n"
     ]
    },
    {
     "name": "stdout",
     "output_type": "stream",
     "text": [
      "[==============------------------------------------] 28.3% 215.0/758.5MB downloaded"
     ]
    },
    {
     "name": "stderr",
     "output_type": "stream",
     "text": [
      "IOPub message rate exceeded.\n",
      "The notebook server will temporarily stop sending output\n",
      "to the client in order to avoid crashing it.\n",
      "To change this limit, set the config variable\n",
      "`--NotebookApp.iopub_msg_rate_limit`.\n",
      "\n",
      "Current values:\n",
      "NotebookApp.iopub_msg_rate_limit=1000.0 (msgs/sec)\n",
      "NotebookApp.rate_limit_window=3.0 (secs)\n",
      "\n"
     ]
    },
    {
     "name": "stdout",
     "output_type": "stream",
     "text": [
      "[================----------------------------------] 33.4% 253.3/758.5MB downloaded"
     ]
    },
    {
     "name": "stderr",
     "output_type": "stream",
     "text": [
      "IOPub message rate exceeded.\n",
      "The notebook server will temporarily stop sending output\n",
      "to the client in order to avoid crashing it.\n",
      "To change this limit, set the config variable\n",
      "`--NotebookApp.iopub_msg_rate_limit`.\n",
      "\n",
      "Current values:\n",
      "NotebookApp.iopub_msg_rate_limit=1000.0 (msgs/sec)\n",
      "NotebookApp.rate_limit_window=3.0 (secs)\n",
      "\n"
     ]
    },
    {
     "name": "stdout",
     "output_type": "stream",
     "text": [
      "[===================-------------------------------] 38.4% 291.6/758.5MB downloaded"
     ]
    },
    {
     "name": "stderr",
     "output_type": "stream",
     "text": [
      "IOPub message rate exceeded.\n",
      "The notebook server will temporarily stop sending output\n",
      "to the client in order to avoid crashing it.\n",
      "To change this limit, set the config variable\n",
      "`--NotebookApp.iopub_msg_rate_limit`.\n",
      "\n",
      "Current values:\n",
      "NotebookApp.iopub_msg_rate_limit=1000.0 (msgs/sec)\n",
      "NotebookApp.rate_limit_window=3.0 (secs)\n",
      "\n"
     ]
    },
    {
     "name": "stdout",
     "output_type": "stream",
     "text": [
      "[=====================-----------------------------] 43.5% 329.9/758.5MB downloaded"
     ]
    },
    {
     "name": "stderr",
     "output_type": "stream",
     "text": [
      "IOPub message rate exceeded.\n",
      "The notebook server will temporarily stop sending output\n",
      "to the client in order to avoid crashing it.\n",
      "To change this limit, set the config variable\n",
      "`--NotebookApp.iopub_msg_rate_limit`.\n",
      "\n",
      "Current values:\n",
      "NotebookApp.iopub_msg_rate_limit=1000.0 (msgs/sec)\n",
      "NotebookApp.rate_limit_window=3.0 (secs)\n",
      "\n"
     ]
    },
    {
     "name": "stdout",
     "output_type": "stream",
     "text": [
      "[========================--------------------------] 48.5% 368.2/758.5MB downloaded"
     ]
    },
    {
     "name": "stderr",
     "output_type": "stream",
     "text": [
      "IOPub message rate exceeded.\n",
      "The notebook server will temporarily stop sending output\n",
      "to the client in order to avoid crashing it.\n",
      "To change this limit, set the config variable\n",
      "`--NotebookApp.iopub_msg_rate_limit`.\n",
      "\n",
      "Current values:\n",
      "NotebookApp.iopub_msg_rate_limit=1000.0 (msgs/sec)\n",
      "NotebookApp.rate_limit_window=3.0 (secs)\n",
      "\n"
     ]
    },
    {
     "name": "stdout",
     "output_type": "stream",
     "text": [
      "[==========================------------------------] 53.6% 406.6/758.5MB downloaded"
     ]
    },
    {
     "name": "stderr",
     "output_type": "stream",
     "text": [
      "IOPub message rate exceeded.\n",
      "The notebook server will temporarily stop sending output\n",
      "to the client in order to avoid crashing it.\n",
      "To change this limit, set the config variable\n",
      "`--NotebookApp.iopub_msg_rate_limit`.\n",
      "\n",
      "Current values:\n",
      "NotebookApp.iopub_msg_rate_limit=1000.0 (msgs/sec)\n",
      "NotebookApp.rate_limit_window=3.0 (secs)\n",
      "\n"
     ]
    },
    {
     "name": "stdout",
     "output_type": "stream",
     "text": [
      "[=============================---------------------] 58.6% 444.9/758.5MB downloaded"
     ]
    },
    {
     "name": "stderr",
     "output_type": "stream",
     "text": [
      "IOPub message rate exceeded.\n",
      "The notebook server will temporarily stop sending output\n",
      "to the client in order to avoid crashing it.\n",
      "To change this limit, set the config variable\n",
      "`--NotebookApp.iopub_msg_rate_limit`.\n",
      "\n",
      "Current values:\n",
      "NotebookApp.iopub_msg_rate_limit=1000.0 (msgs/sec)\n",
      "NotebookApp.rate_limit_window=3.0 (secs)\n",
      "\n"
     ]
    },
    {
     "name": "stdout",
     "output_type": "stream",
     "text": [
      "[===============================-------------------] 63.7% 483.2/758.5MB downloaded"
     ]
    },
    {
     "name": "stderr",
     "output_type": "stream",
     "text": [
      "IOPub message rate exceeded.\n",
      "The notebook server will temporarily stop sending output\n",
      "to the client in order to avoid crashing it.\n",
      "To change this limit, set the config variable\n",
      "`--NotebookApp.iopub_msg_rate_limit`.\n",
      "\n",
      "Current values:\n",
      "NotebookApp.iopub_msg_rate_limit=1000.0 (msgs/sec)\n",
      "NotebookApp.rate_limit_window=3.0 (secs)\n",
      "\n"
     ]
    },
    {
     "name": "stdout",
     "output_type": "stream",
     "text": [
      "[==================================----------------] 68.8% 521.5/758.5MB downloaded"
     ]
    },
    {
     "name": "stderr",
     "output_type": "stream",
     "text": [
      "IOPub message rate exceeded.\n",
      "The notebook server will temporarily stop sending output\n",
      "to the client in order to avoid crashing it.\n",
      "To change this limit, set the config variable\n",
      "`--NotebookApp.iopub_msg_rate_limit`.\n",
      "\n",
      "Current values:\n",
      "NotebookApp.iopub_msg_rate_limit=1000.0 (msgs/sec)\n",
      "NotebookApp.rate_limit_window=3.0 (secs)\n",
      "\n"
     ]
    },
    {
     "name": "stdout",
     "output_type": "stream",
     "text": [
      "[====================================--------------] 73.8% 559.8/758.5MB downloaded"
     ]
    },
    {
     "name": "stderr",
     "output_type": "stream",
     "text": [
      "IOPub message rate exceeded.\n",
      "The notebook server will temporarily stop sending output\n",
      "to the client in order to avoid crashing it.\n",
      "To change this limit, set the config variable\n",
      "`--NotebookApp.iopub_msg_rate_limit`.\n",
      "\n",
      "Current values:\n",
      "NotebookApp.iopub_msg_rate_limit=1000.0 (msgs/sec)\n",
      "NotebookApp.rate_limit_window=3.0 (secs)\n",
      "\n"
     ]
    },
    {
     "name": "stdout",
     "output_type": "stream",
     "text": [
      "[=======================================-----------] 78.9% 598.1/758.5MB downloaded"
     ]
    },
    {
     "name": "stderr",
     "output_type": "stream",
     "text": [
      "IOPub message rate exceeded.\n",
      "The notebook server will temporarily stop sending output\n",
      "to the client in order to avoid crashing it.\n",
      "To change this limit, set the config variable\n",
      "`--NotebookApp.iopub_msg_rate_limit`.\n",
      "\n",
      "Current values:\n",
      "NotebookApp.iopub_msg_rate_limit=1000.0 (msgs/sec)\n",
      "NotebookApp.rate_limit_window=3.0 (secs)\n",
      "\n"
     ]
    },
    {
     "name": "stdout",
     "output_type": "stream",
     "text": [
      "[=========================================---------] 83.9% 636.4/758.5MB downloaded"
     ]
    },
    {
     "name": "stderr",
     "output_type": "stream",
     "text": [
      "IOPub message rate exceeded.\n",
      "The notebook server will temporarily stop sending output\n",
      "to the client in order to avoid crashing it.\n",
      "To change this limit, set the config variable\n",
      "`--NotebookApp.iopub_msg_rate_limit`.\n",
      "\n",
      "Current values:\n",
      "NotebookApp.iopub_msg_rate_limit=1000.0 (msgs/sec)\n",
      "NotebookApp.rate_limit_window=3.0 (secs)\n",
      "\n"
     ]
    },
    {
     "name": "stdout",
     "output_type": "stream",
     "text": [
      "[============================================------] 89.0% 674.7/758.5MB downloaded"
     ]
    },
    {
     "name": "stderr",
     "output_type": "stream",
     "text": [
      "IOPub message rate exceeded.\n",
      "The notebook server will temporarily stop sending output\n",
      "to the client in order to avoid crashing it.\n",
      "To change this limit, set the config variable\n",
      "`--NotebookApp.iopub_msg_rate_limit`.\n",
      "\n",
      "Current values:\n",
      "NotebookApp.iopub_msg_rate_limit=1000.0 (msgs/sec)\n",
      "NotebookApp.rate_limit_window=3.0 (secs)\n",
      "\n"
     ]
    },
    {
     "name": "stdout",
     "output_type": "stream",
     "text": [
      "[===============================================---] 94.0% 713.0/758.5MB downloaded"
     ]
    },
    {
     "name": "stderr",
     "output_type": "stream",
     "text": [
      "IOPub message rate exceeded.\n",
      "The notebook server will temporarily stop sending output\n",
      "to the client in order to avoid crashing it.\n",
      "To change this limit, set the config variable\n",
      "`--NotebookApp.iopub_msg_rate_limit`.\n",
      "\n",
      "Current values:\n",
      "NotebookApp.iopub_msg_rate_limit=1000.0 (msgs/sec)\n",
      "NotebookApp.rate_limit_window=3.0 (secs)\n",
      "\n"
     ]
    },
    {
     "name": "stdout",
     "output_type": "stream",
     "text": [
      "[=================================================-] 99.1% 751.4/758.5MB downloaded"
     ]
    },
    {
     "name": "stderr",
     "output_type": "stream",
     "text": [
      "IOPub message rate exceeded.\n",
      "The notebook server will temporarily stop sending output\n",
      "to the client in order to avoid crashing it.\n",
      "To change this limit, set the config variable\n",
      "`--NotebookApp.iopub_msg_rate_limit`.\n",
      "\n",
      "Current values:\n",
      "NotebookApp.iopub_msg_rate_limit=1000.0 (msgs/sec)\n",
      "NotebookApp.rate_limit_window=3.0 (secs)\n",
      "\n"
     ]
    },
    {
     "name": "stdout",
     "output_type": "stream",
     "text": [
      "\n"
     ]
    }
   ],
   "source": [
    "model = api.load('glove-twitter-200')"
   ]
  },
  {
   "cell_type": "code",
   "execution_count": 19,
   "id": "afc34127",
   "metadata": {},
   "outputs": [
    {
     "data": {
      "text/plain": [
       "[('witty', 0.6640589237213135),\n",
       " ('bitchy', 0.6119109392166138),\n",
       " ('sarcasm', 0.6098357439041138),\n",
       " ('rude', 0.5943841934204102),\n",
       " ('insensitive', 0.5871057510375977),\n",
       " ('condescending', 0.5716186165809631),\n",
       " ('snarky', 0.5695698261260986),\n",
       " ('clever', 0.5692526698112488),\n",
       " ('sassy', 0.567287802696228),\n",
       " ('smartass', 0.5572746992111206)]"
      ]
     },
     "execution_count": 19,
     "metadata": {},
     "output_type": "execute_result"
    }
   ],
   "source": [
    "model.most_similar('sarcastic')"
   ]
  },
  {
   "cell_type": "code",
   "execution_count": 20,
   "id": "cbb18dd0",
   "metadata": {},
   "outputs": [
    {
     "data": {
      "text/plain": [
       "[('truthful', 0.691604733467102),\n",
       " ('rather', 0.672570526599884),\n",
       " ('loyal', 0.6538525819778442),\n",
       " ('honestly', 0.6515498161315918),\n",
       " ('honesty', 0.6430395841598511),\n",
       " ('lie', 0.6378211975097656),\n",
       " ('admit', 0.6351155638694763),\n",
       " ('being', 0.6288948059082031),\n",
       " ('person', 0.6275302171707153),\n",
       " ('true', 0.6265100836753845)]"
      ]
     },
     "execution_count": 20,
     "metadata": {},
     "output_type": "execute_result"
    }
   ],
   "source": [
    "model.most_similar('honest')"
   ]
  },
  {
   "cell_type": "code",
   "execution_count": 4,
   "id": "9d89defb",
   "metadata": {},
   "outputs": [],
   "source": [
    "# custom tokenizer function\n",
    "\n",
    "def tokenizer(document):\n",
    "    # get values from series\n",
    "    \n",
    "    #removing punctuation\n",
    "    for punc in string.punctuation:\n",
    "        document = document.replace(punc, '')\n",
    "        # removing numbers and setting all documents to lowercase    \n",
    "    document = re.sub(\"\\d+\", \"\", document).lower()\n",
    "        # splitting documents and appending tokens list\n",
    "    tokens = document.split(' ')\n",
    "        \n",
    "    \n",
    "        \n",
    "\n",
    "    return tokens"
   ]
  },
  {
   "cell_type": "code",
   "execution_count": 5,
   "id": "09f84ece",
   "metadata": {},
   "outputs": [],
   "source": [
    "def vectorizer(document):\n",
    "\n",
    "    tokens = tokenizer(document)\n",
    "    \n",
    "    \n",
    "    size = model.vector_size\n",
    "    word_vec_doc = np.zeros(size)\n",
    "    count = 1\n",
    "    \n",
    "\n",
    "    for word in tokens:\n",
    "        if word in model:\n",
    "            count +=1\n",
    "            word_vec_doc += model[word]\n",
    "    \n",
    "    word_vec_doc = word_vec_doc / count\n",
    "    \n",
    "    \n",
    "    return word_vec_doc"
   ]
  },
  {
   "cell_type": "code",
   "execution_count": 14,
   "id": "e0fc6d69",
   "metadata": {},
   "outputs": [],
   "source": [
    "reddit['vectors'] = reddit['comment'].apply(vectorizer)"
   ]
  },
  {
   "cell_type": "code",
   "execution_count": 15,
   "id": "242fe4ae",
   "metadata": {},
   "outputs": [],
   "source": [
    "X = reddit['vectors']\n",
    "y = reddit['label']\n",
    "\n",
    "X = list(X)"
   ]
  },
  {
   "cell_type": "code",
   "execution_count": 16,
   "id": "c76d5bb6",
   "metadata": {},
   "outputs": [],
   "source": [
    "X_rem, X_test, y_rem, y_test = train_test_split(X, y, test_size=0.25, random_state=42)\n",
    "X_train, X_val, y_train, y_val = train_test_split(X_rem, y_rem, test_size=0.25, random_state=42)"
   ]
  },
  {
   "cell_type": "code",
   "execution_count": 17,
   "id": "ccac4d5f",
   "metadata": {},
   "outputs": [
    {
     "name": "stdout",
     "output_type": "stream",
     "text": [
      "Iteration 1, loss = 0.62505071\n",
      "Iteration 2, loss = 0.60359385\n",
      "Iteration 3, loss = 0.59606947\n",
      "Iteration 4, loss = 0.59074033\n",
      "Iteration 5, loss = 0.58722574\n",
      "Iteration 6, loss = 0.58442917\n",
      "Iteration 7, loss = 0.58169415\n",
      "Iteration 8, loss = 0.57956672\n",
      "Iteration 9, loss = 0.57772918\n",
      "Iteration 10, loss = 0.57597645\n",
      "Iteration 11, loss = 0.57468989\n",
      "Iteration 12, loss = 0.57339137\n",
      "Iteration 13, loss = 0.57252334\n",
      "Iteration 14, loss = 0.57119255\n",
      "Iteration 15, loss = 0.57012042\n",
      "Iteration 16, loss = 0.56907107\n",
      "Iteration 17, loss = 0.56830991\n",
      "Iteration 18, loss = 0.56748236\n",
      "Iteration 19, loss = 0.56637486\n",
      "Iteration 20, loss = 0.56595390\n",
      "Iteration 21, loss = 0.56511765\n",
      "Iteration 22, loss = 0.56452998\n",
      "Iteration 23, loss = 0.56404856\n",
      "Iteration 24, loss = 0.56349198\n",
      "Iteration 25, loss = 0.56288756\n",
      "Iteration 26, loss = 0.56234262\n",
      "Iteration 27, loss = 0.56204663\n",
      "Iteration 28, loss = 0.56162406\n",
      "Iteration 29, loss = 0.56116981\n",
      "Iteration 30, loss = 0.56064445\n",
      "Iteration 31, loss = 0.56023263\n",
      "Iteration 32, loss = 0.56000953\n",
      "Iteration 33, loss = 0.55971837\n",
      "Iteration 34, loss = 0.55935357\n",
      "Iteration 35, loss = 0.55883034\n",
      "Iteration 36, loss = 0.55874224\n",
      "Iteration 37, loss = 0.55825359\n",
      "Iteration 38, loss = 0.55813163\n",
      "Iteration 39, loss = 0.55783612\n",
      "Iteration 40, loss = 0.55755525\n",
      "Iteration 41, loss = 0.55738588\n",
      "Iteration 42, loss = 0.55710992\n",
      "Iteration 43, loss = 0.55706179\n",
      "Iteration 44, loss = 0.55672168\n",
      "Iteration 45, loss = 0.55653187\n",
      "Iteration 46, loss = 0.55630234\n",
      "Iteration 47, loss = 0.55609677\n",
      "Iteration 48, loss = 0.55555025\n",
      "Iteration 49, loss = 0.55557053\n",
      "Iteration 50, loss = 0.55537494\n",
      "Iteration 51, loss = 0.55509567\n",
      "Iteration 52, loss = 0.55506468\n",
      "Iteration 53, loss = 0.55463835\n",
      "Iteration 54, loss = 0.55453914\n",
      "Iteration 55, loss = 0.55432607\n",
      "Iteration 56, loss = 0.55409452\n",
      "Iteration 57, loss = 0.55403167\n",
      "Iteration 58, loss = 0.55392220\n",
      "Iteration 59, loss = 0.55373744\n",
      "Iteration 60, loss = 0.55364498\n",
      "Iteration 61, loss = 0.55330036\n",
      "Iteration 62, loss = 0.55337779\n",
      "Iteration 63, loss = 0.55313314\n",
      "Iteration 64, loss = 0.55319164\n",
      "Iteration 65, loss = 0.55296728\n",
      "Iteration 66, loss = 0.55285044\n",
      "Iteration 67, loss = 0.55259317\n",
      "Iteration 68, loss = 0.55248061\n",
      "Iteration 69, loss = 0.55248269\n",
      "Iteration 70, loss = 0.55232188\n",
      "Iteration 71, loss = 0.55201967\n",
      "Iteration 72, loss = 0.55227940\n",
      "Iteration 73, loss = 0.55208384\n",
      "Iteration 74, loss = 0.55201056\n",
      "Iteration 75, loss = 0.55182251\n",
      "Iteration 76, loss = 0.55163334\n",
      "Iteration 77, loss = 0.55175212\n",
      "Iteration 78, loss = 0.55156626\n",
      "Iteration 79, loss = 0.55137669\n",
      "Iteration 80, loss = 0.55134869\n",
      "Iteration 81, loss = 0.55113871\n",
      "Iteration 82, loss = 0.55105577\n",
      "Iteration 83, loss = 0.55102855\n",
      "Iteration 84, loss = 0.55088509\n",
      "Iteration 85, loss = 0.55080586\n",
      "Iteration 86, loss = 0.55069265\n",
      "Iteration 87, loss = 0.55075879\n",
      "Iteration 88, loss = 0.55062610\n",
      "Iteration 89, loss = 0.55061114\n",
      "Iteration 90, loss = 0.55038854\n",
      "Iteration 91, loss = 0.55030728\n",
      "Iteration 92, loss = 0.55021078\n",
      "Iteration 93, loss = 0.55016101\n",
      "Iteration 94, loss = 0.55014834\n",
      "Iteration 95, loss = 0.55010891\n",
      "Iteration 96, loss = 0.55003432\n",
      "Iteration 97, loss = 0.54994943\n",
      "Iteration 98, loss = 0.54988226\n",
      "Iteration 99, loss = 0.54968728\n",
      "Iteration 100, loss = 0.54978516\n"
     ]
    },
    {
     "data": {
      "text/plain": [
       "MLPClassifier(max_iter=100, random_state=42, verbose=True)"
      ]
     },
     "execution_count": 17,
     "metadata": {},
     "output_type": "execute_result"
    }
   ],
   "source": [
    "\n",
    "\n",
    "MLP = MLPClassifier(verbose=True, max_iter=100, random_state=42)\n",
    "\n",
    "MLP.fit(X_train, y_train)"
   ]
  },
  {
   "cell_type": "code",
   "execution_count": 18,
   "id": "31ca2aa8",
   "metadata": {},
   "outputs": [
    {
     "name": "stdout",
     "output_type": "stream",
     "text": [
      "Train Score: 0.7206970305667639 \n",
      " Val Score: 0.6826166567287042\n"
     ]
    }
   ],
   "source": [
    "print(f'Train Score: {MLP.score(X_train, y_train)} \\n Val Score: {MLP.score(X_val, y_val)}')"
   ]
  },
  {
   "cell_type": "code",
   "execution_count": 26,
   "id": "e92f7bda",
   "metadata": {
    "scrolled": true
   },
   "outputs": [
    {
     "name": "stdout",
     "output_type": "stream",
     "text": [
      "               precision    recall  f1-score   support\n",
      "\n",
      "Non-Sarcastic       0.68      0.70      0.69     94698\n",
      "    Sarcastic       0.69      0.66      0.68     94811\n",
      "\n",
      "     accuracy                           0.68    189509\n",
      "    macro avg       0.68      0.68      0.68    189509\n",
      " weighted avg       0.68      0.68      0.68    189509\n",
      "\n"
     ]
    }
   ],
   "source": [
    "predictions = MLP.predict(X_val)\n",
    "report = classification_report(y_val, predictions, target_names=['Non-Sarcastic', 'Sarcastic'])\n",
    "\n",
    "print(report)"
   ]
  },
  {
   "cell_type": "code",
   "execution_count": null,
   "id": "d52a4f24",
   "metadata": {},
   "outputs": [],
   "source": []
  }
 ],
 "metadata": {
  "kernelspec": {
   "display_name": "deeplearning",
   "language": "python",
   "name": "deeplearning"
  },
  "language_info": {
   "codemirror_mode": {
    "name": "ipython",
    "version": 3
   },
   "file_extension": ".py",
   "mimetype": "text/x-python",
   "name": "python",
   "nbconvert_exporter": "python",
   "pygments_lexer": "ipython3",
   "version": "3.8.18"
  }
 },
 "nbformat": 4,
 "nbformat_minor": 5
}
