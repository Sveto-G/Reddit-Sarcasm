{
 "cells": [
  {
   "cell_type": "markdown",
   "id": "dfe62c51",
   "metadata": {},
   "source": [
    "As you can see below, there are (at least) 3 NB models:"
   ]
  },
  {
   "cell_type": "code",
   "execution_count": 4,
   "id": "d6a43397",
   "metadata": {},
   "outputs": [
    {
     "name": "stderr",
     "output_type": "stream",
     "text": [
      "[nltk_data] Downloading package stopwords to\n",
      "[nltk_data]     C:\\Users\\gravi\\AppData\\Roaming\\nltk_data...\n",
      "[nltk_data]   Package stopwords is already up-to-date!\n"
     ]
    }
   ],
   "source": [
    "from sklearn.naive_bayes import GaussianNB, MultinomialNB, BernoulliNB\n",
    "\n",
    "import pandas as pd\n",
    "import numpy as np\n",
    "\n",
    "import string\n",
    "import nltk\n",
    "nltk.download('stopwords')\n",
    "from nltk.corpus import stopwords \n",
    "\n",
    "from sklearn.model_selection import train_test_split\n",
    "from sklearn.feature_extraction.text import TfidfVectorizer"
   ]
  },
  {
   "cell_type": "markdown",
   "id": "66c8d5ba",
   "metadata": {},
   "source": [
    "It is not entirely clear what the difference is between them, but I can assume that MultinomialNB will not fit my case."
   ]
  },
  {
   "cell_type": "markdown",
   "id": "1456a9c8",
   "metadata": {},
   "source": [
    "### Nvm here's the description:\n",
    "\n",
    "We use BernoulliNB here, as we have all 1/0 data - GaussianNB stores mean and standard deviation (sd) of each value for a continuous variables, and Mulitnomial allows multiple categorical values."
   ]
  },
  {
   "cell_type": "code",
   "execution_count": null,
   "id": "73867f1e",
   "metadata": {},
   "outputs": [],
   "source": [
    "# same shit as usual, instantiate, fit\n",
    "# Instatiate our model\n",
    "nbmodel = BernoulliNB()\n",
    "# Fit our model\n",
    "nbmodel.fit(x,y)"
   ]
  },
  {
   "cell_type": "markdown",
   "id": "65faee26",
   "metadata": {},
   "source": [
    "It seems that once it is fit, all you need is to test(predict) the new(test) data."
   ]
  },
  {
   "cell_type": "code",
   "execution_count": null,
   "id": "7076c5d7",
   "metadata": {},
   "outputs": [],
   "source": [
    "print(nbmodel.predict_proba(new_data) )#get probabilistic prediction\n",
    "print(nbmodel.predict(new_data) )#get hard prediction"
   ]
  },
  {
   "cell_type": "markdown",
   "id": "7b7b7b8a",
   "metadata": {},
   "source": [
    "Plus you can get a score, whatever that means. In the example output, the score was 1.0, whereas the probabilites were .42 and .57 so.. kinda confusing. score 1.0 kinda smells like values between 0 and 1. Remains to be seen."
   ]
  },
  {
   "cell_type": "code",
   "execution_count": null,
   "id": "dbcd6496",
   "metadata": {},
   "outputs": [],
   "source": [
    "print(\"score\",nbmodel.score(x,y)) # <<-- score"
   ]
  },
  {
   "cell_type": "markdown",
   "id": "3334a0d4",
   "metadata": {},
   "source": [
    "The way this makes predictions makes me feel like it definitely fits my case:"
   ]
  },
  {
   "cell_type": "code",
   "execution_count": null,
   "id": "03e47fba",
   "metadata": {},
   "outputs": [],
   "source": [
    "X_predictions['proba_is_not_bird'] = np.round(soft_prediction[:, 0], 3)\n",
    "X_predictions['proba_is_bird'] = np.round(soft_prediction[:, 1], 3) # I guess columns 0 and 1 in this case are prob class 0,\n",
    "# prob class 1\n",
    "X_predictions\n",
    "# and again, predict_proba for soft predictions and predict for hard."
   ]
  },
  {
   "cell_type": "markdown",
   "id": "a2bd0e69",
   "metadata": {},
   "source": [
    "#### On the flip side, although naive Bayes is known as a decent classifier, it is known to be a bad estimator, so the probability outputs from predict_proba are not to be taken too seriously.\n",
    "\n",
    "lol"
   ]
  },
  {
   "cell_type": "markdown",
   "id": "b58ba0ac",
   "metadata": {},
   "source": [
    "#### In the case of text classification, word occurrence vectors (rather than word count vectors) may be used to train and use this classifier. BernoulliNB might perform better on some datasets, especially those with shorter documents. It is advisable to evaluate both models, if time permits."
   ]
  },
  {
   "cell_type": "markdown",
   "id": "2cc0bfb9",
   "metadata": {},
   "source": [
    "## Let us begin:"
   ]
  },
  {
   "cell_type": "code",
   "execution_count": 6,
   "id": "1c7569ab",
   "metadata": {},
   "outputs": [],
   "source": [
    "reddit = pd.read_csv('reddit_final.csv')"
   ]
  },
  {
   "cell_type": "code",
   "execution_count": 7,
   "id": "2c021da5",
   "metadata": {},
   "outputs": [],
   "source": [
    "X = reddit['comment']\n",
    "y = reddit['label']"
   ]
  },
  {
   "cell_type": "code",
   "execution_count": 11,
   "id": "ae565c75",
   "metadata": {},
   "outputs": [],
   "source": [
    "X_train, X_test, y_train, y_test = train_test_split(X, y, test_size=0.25, random_state=42)"
   ]
  },
  {
   "cell_type": "code",
   "execution_count": 12,
   "id": "63b99127",
   "metadata": {},
   "outputs": [],
   "source": [
    "stemmer = nltk.stem.PorterStemmer()\n",
    "stop_words = stopwords.words('english')\n",
    "\n",
    "def tokenizer(sentence):\n",
    "    \n",
    "    num_range = range(0,31)\n",
    "    \n",
    "    for num in num_range:\n",
    "        sentence = sentence.replace(str(num), '')\n",
    "    \n",
    "    # remove punctuation and set to lower case\n",
    "    for punctuation_mark in string.punctuation:\n",
    "        sentence = sentence.replace(punctuation_mark,'').lower()\n",
    "        \n",
    "    \n",
    "    # split sentence into words\n",
    "    words_list = sentence.split(' ')\n",
    "    tokens = []\n",
    "    \n",
    "    \n",
    "    # remove stopwords and any tokens that are just empty strings\n",
    "    for word in words_list:\n",
    "        if (not word in stop_words) and (word!=''):\n",
    "            # Stem words\n",
    "            stemmed_word = stemmer.stem(word)\n",
    "            tokens.append(stemmed_word)\n",
    "\n",
    "    return tokens"
   ]
  },
  {
   "cell_type": "code",
   "execution_count": 13,
   "id": "66422c5a",
   "metadata": {},
   "outputs": [],
   "source": [
    "tfidf = TfidfVectorizer(min_df=25,\n",
    "                        tokenizer=tokenizer, max_features=1500, dtype=np.float32)\n",
    "tfidf.fit(X_train)\n",
    "\n",
    "X_train_tfidf = tfidf.transform(X_train)\n",
    "#X_val_tfidf = tfidf.transform(X_val)\n",
    "X_test_tfidf = tfidf.transform(X_test)"
   ]
  },
  {
   "cell_type": "code",
   "execution_count": 14,
   "id": "d3c82129",
   "metadata": {},
   "outputs": [],
   "source": [
    "train_tfidf = pd.DataFrame(columns=tfidf.get_feature_names_out(), data=X_train_tfidf.toarray())"
   ]
  },
  {
   "cell_type": "code",
   "execution_count": 15,
   "id": "4b1bd62d",
   "metadata": {},
   "outputs": [],
   "source": [
    "test_tfidf = pd.DataFrame(columns=tfidf.get_feature_names_out(), data=X_test_tfidf.toarray())"
   ]
  },
  {
   "cell_type": "code",
   "execution_count": 17,
   "id": "b8e985a1",
   "metadata": {},
   "outputs": [
    {
     "data": {
      "text/html": [
       "<style>#sk-container-id-1 {color: black;}#sk-container-id-1 pre{padding: 0;}#sk-container-id-1 div.sk-toggleable {background-color: white;}#sk-container-id-1 label.sk-toggleable__label {cursor: pointer;display: block;width: 100%;margin-bottom: 0;padding: 0.3em;box-sizing: border-box;text-align: center;}#sk-container-id-1 label.sk-toggleable__label-arrow:before {content: \"▸\";float: left;margin-right: 0.25em;color: #696969;}#sk-container-id-1 label.sk-toggleable__label-arrow:hover:before {color: black;}#sk-container-id-1 div.sk-estimator:hover label.sk-toggleable__label-arrow:before {color: black;}#sk-container-id-1 div.sk-toggleable__content {max-height: 0;max-width: 0;overflow: hidden;text-align: left;background-color: #f0f8ff;}#sk-container-id-1 div.sk-toggleable__content pre {margin: 0.2em;color: black;border-radius: 0.25em;background-color: #f0f8ff;}#sk-container-id-1 input.sk-toggleable__control:checked~div.sk-toggleable__content {max-height: 200px;max-width: 100%;overflow: auto;}#sk-container-id-1 input.sk-toggleable__control:checked~label.sk-toggleable__label-arrow:before {content: \"▾\";}#sk-container-id-1 div.sk-estimator input.sk-toggleable__control:checked~label.sk-toggleable__label {background-color: #d4ebff;}#sk-container-id-1 div.sk-label input.sk-toggleable__control:checked~label.sk-toggleable__label {background-color: #d4ebff;}#sk-container-id-1 input.sk-hidden--visually {border: 0;clip: rect(1px 1px 1px 1px);clip: rect(1px, 1px, 1px, 1px);height: 1px;margin: -1px;overflow: hidden;padding: 0;position: absolute;width: 1px;}#sk-container-id-1 div.sk-estimator {font-family: monospace;background-color: #f0f8ff;border: 1px dotted black;border-radius: 0.25em;box-sizing: border-box;margin-bottom: 0.5em;}#sk-container-id-1 div.sk-estimator:hover {background-color: #d4ebff;}#sk-container-id-1 div.sk-parallel-item::after {content: \"\";width: 100%;border-bottom: 1px solid gray;flex-grow: 1;}#sk-container-id-1 div.sk-label:hover label.sk-toggleable__label {background-color: #d4ebff;}#sk-container-id-1 div.sk-serial::before {content: \"\";position: absolute;border-left: 1px solid gray;box-sizing: border-box;top: 0;bottom: 0;left: 50%;z-index: 0;}#sk-container-id-1 div.sk-serial {display: flex;flex-direction: column;align-items: center;background-color: white;padding-right: 0.2em;padding-left: 0.2em;position: relative;}#sk-container-id-1 div.sk-item {position: relative;z-index: 1;}#sk-container-id-1 div.sk-parallel {display: flex;align-items: stretch;justify-content: center;background-color: white;position: relative;}#sk-container-id-1 div.sk-item::before, #sk-container-id-1 div.sk-parallel-item::before {content: \"\";position: absolute;border-left: 1px solid gray;box-sizing: border-box;top: 0;bottom: 0;left: 50%;z-index: -1;}#sk-container-id-1 div.sk-parallel-item {display: flex;flex-direction: column;z-index: 1;position: relative;background-color: white;}#sk-container-id-1 div.sk-parallel-item:first-child::after {align-self: flex-end;width: 50%;}#sk-container-id-1 div.sk-parallel-item:last-child::after {align-self: flex-start;width: 50%;}#sk-container-id-1 div.sk-parallel-item:only-child::after {width: 0;}#sk-container-id-1 div.sk-dashed-wrapped {border: 1px dashed gray;margin: 0 0.4em 0.5em 0.4em;box-sizing: border-box;padding-bottom: 0.4em;background-color: white;}#sk-container-id-1 div.sk-label label {font-family: monospace;font-weight: bold;display: inline-block;line-height: 1.2em;}#sk-container-id-1 div.sk-label-container {text-align: center;}#sk-container-id-1 div.sk-container {/* jupyter's `normalize.less` sets `[hidden] { display: none; }` but bootstrap.min.css set `[hidden] { display: none !important; }` so we also need the `!important` here to be able to override the default hidden behavior on the sphinx rendered scikit-learn.org. See: https://github.com/scikit-learn/scikit-learn/issues/21755 */display: inline-block !important;position: relative;}#sk-container-id-1 div.sk-text-repr-fallback {display: none;}</style><div id=\"sk-container-id-1\" class=\"sk-top-container\"><div class=\"sk-text-repr-fallback\"><pre>BernoulliNB()</pre><b>In a Jupyter environment, please rerun this cell to show the HTML representation or trust the notebook. <br />On GitHub, the HTML representation is unable to render, please try loading this page with nbviewer.org.</b></div><div class=\"sk-container\" hidden><div class=\"sk-item\"><div class=\"sk-estimator sk-toggleable\"><input class=\"sk-toggleable__control sk-hidden--visually\" id=\"sk-estimator-id-1\" type=\"checkbox\" checked><label for=\"sk-estimator-id-1\" class=\"sk-toggleable__label sk-toggleable__label-arrow\">BernoulliNB</label><div class=\"sk-toggleable__content\"><pre>BernoulliNB()</pre></div></div></div></div></div>"
      ],
      "text/plain": [
       "BernoulliNB()"
      ]
     },
     "execution_count": 17,
     "metadata": {},
     "output_type": "execute_result"
    }
   ],
   "source": [
    "nb = BernoulliNB()\n",
    "\n",
    "nb.fit(train_tfidf, y_train)"
   ]
  },
  {
   "cell_type": "code",
   "execution_count": 47,
   "id": "601f0f5d",
   "metadata": {},
   "outputs": [],
   "source": [
    "soft_predict = nb.predict_proba(test_tfidf)#get probabilistic prediction\n",
    "hard_predict = nb.predict(test_tfidf)#get hard prediction"
   ]
  },
  {
   "cell_type": "code",
   "execution_count": 31,
   "id": "7d9ff370",
   "metadata": {},
   "outputs": [
    {
     "data": {
      "text/plain": [
       "139472    0\n",
       "276148    0\n",
       "590438    0\n",
       "652460    1\n",
       "333815    0\n",
       "         ..\n",
       "709691    1\n",
       "620170    1\n",
       "831781    1\n",
       "539095    1\n",
       "975882    1\n",
       "Name: label, Length: 252679, dtype: int64"
      ]
     },
     "execution_count": 31,
     "metadata": {},
     "output_type": "execute_result"
    }
   ],
   "source": [
    "y_test"
   ]
  },
  {
   "cell_type": "code",
   "execution_count": 40,
   "id": "8b7fe286",
   "metadata": {},
   "outputs": [],
   "source": [
    "new_X = pd.DataFrame(columns=['comment'], data=X_test)"
   ]
  },
  {
   "cell_type": "code",
   "execution_count": 41,
   "id": "cd26180a",
   "metadata": {
    "scrolled": true
   },
   "outputs": [
    {
     "data": {
      "text/html": [
       "<div>\n",
       "<style scoped>\n",
       "    .dataframe tbody tr th:only-of-type {\n",
       "        vertical-align: middle;\n",
       "    }\n",
       "\n",
       "    .dataframe tbody tr th {\n",
       "        vertical-align: top;\n",
       "    }\n",
       "\n",
       "    .dataframe thead th {\n",
       "        text-align: right;\n",
       "    }\n",
       "</style>\n",
       "<table border=\"1\" class=\"dataframe\">\n",
       "  <thead>\n",
       "    <tr style=\"text-align: right;\">\n",
       "      <th></th>\n",
       "      <th>comment</th>\n",
       "    </tr>\n",
       "  </thead>\n",
       "  <tbody>\n",
       "    <tr>\n",
       "      <th>139472</th>\n",
       "      <td>Trufant</td>\n",
       "    </tr>\n",
       "    <tr>\n",
       "      <th>276148</th>\n",
       "      <td>Too soon</td>\n",
       "    </tr>\n",
       "    <tr>\n",
       "      <th>590438</th>\n",
       "      <td>Also, phone lights have no throw.</td>\n",
       "    </tr>\n",
       "    <tr>\n",
       "      <th>652460</th>\n",
       "      <td>The Pirate Bay, of course!</td>\n",
       "    </tr>\n",
       "    <tr>\n",
       "      <th>333815</th>\n",
       "      <td>Doesn't Sop have a Mac version though?</td>\n",
       "    </tr>\n",
       "  </tbody>\n",
       "</table>\n",
       "</div>"
      ],
      "text/plain": [
       "                                       comment\n",
       "139472                                 Trufant\n",
       "276148                                Too soon\n",
       "590438       Also, phone lights have no throw.\n",
       "652460              The Pirate Bay, of course!\n",
       "333815  Doesn't Sop have a Mac version though?"
      ]
     },
     "execution_count": 41,
     "metadata": {},
     "output_type": "execute_result"
    }
   ],
   "source": [
    "new_X.head()"
   ]
  },
  {
   "cell_type": "code",
   "execution_count": 42,
   "id": "12531b04",
   "metadata": {},
   "outputs": [],
   "source": [
    "new_y = pd.DataFrame(columns=['label'], data=y_test)"
   ]
  },
  {
   "cell_type": "code",
   "execution_count": 43,
   "id": "ded79aaa",
   "metadata": {},
   "outputs": [
    {
     "data": {
      "text/html": [
       "<div>\n",
       "<style scoped>\n",
       "    .dataframe tbody tr th:only-of-type {\n",
       "        vertical-align: middle;\n",
       "    }\n",
       "\n",
       "    .dataframe tbody tr th {\n",
       "        vertical-align: top;\n",
       "    }\n",
       "\n",
       "    .dataframe thead th {\n",
       "        text-align: right;\n",
       "    }\n",
       "</style>\n",
       "<table border=\"1\" class=\"dataframe\">\n",
       "  <thead>\n",
       "    <tr style=\"text-align: right;\">\n",
       "      <th></th>\n",
       "      <th>label</th>\n",
       "    </tr>\n",
       "  </thead>\n",
       "  <tbody>\n",
       "    <tr>\n",
       "      <th>139472</th>\n",
       "      <td>0</td>\n",
       "    </tr>\n",
       "    <tr>\n",
       "      <th>276148</th>\n",
       "      <td>0</td>\n",
       "    </tr>\n",
       "    <tr>\n",
       "      <th>590438</th>\n",
       "      <td>0</td>\n",
       "    </tr>\n",
       "    <tr>\n",
       "      <th>652460</th>\n",
       "      <td>1</td>\n",
       "    </tr>\n",
       "    <tr>\n",
       "      <th>333815</th>\n",
       "      <td>0</td>\n",
       "    </tr>\n",
       "  </tbody>\n",
       "</table>\n",
       "</div>"
      ],
      "text/plain": [
       "        label\n",
       "139472      0\n",
       "276148      0\n",
       "590438      0\n",
       "652460      1\n",
       "333815      0"
      ]
     },
     "execution_count": 43,
     "metadata": {},
     "output_type": "execute_result"
    }
   ],
   "source": [
    "new_y.head()"
   ]
  },
  {
   "cell_type": "code",
   "execution_count": 45,
   "id": "3812e7e1",
   "metadata": {},
   "outputs": [
    {
     "data": {
      "text/html": [
       "<div>\n",
       "<style scoped>\n",
       "    .dataframe tbody tr th:only-of-type {\n",
       "        vertical-align: middle;\n",
       "    }\n",
       "\n",
       "    .dataframe tbody tr th {\n",
       "        vertical-align: top;\n",
       "    }\n",
       "\n",
       "    .dataframe thead th {\n",
       "        text-align: right;\n",
       "    }\n",
       "</style>\n",
       "<table border=\"1\" class=\"dataframe\">\n",
       "  <thead>\n",
       "    <tr style=\"text-align: right;\">\n",
       "      <th></th>\n",
       "      <th>comment</th>\n",
       "      <th>label</th>\n",
       "    </tr>\n",
       "  </thead>\n",
       "  <tbody>\n",
       "    <tr>\n",
       "      <th>139472</th>\n",
       "      <td>Trufant</td>\n",
       "      <td>0</td>\n",
       "    </tr>\n",
       "    <tr>\n",
       "      <th>276148</th>\n",
       "      <td>Too soon</td>\n",
       "      <td>0</td>\n",
       "    </tr>\n",
       "    <tr>\n",
       "      <th>590438</th>\n",
       "      <td>Also, phone lights have no throw.</td>\n",
       "      <td>0</td>\n",
       "    </tr>\n",
       "    <tr>\n",
       "      <th>652460</th>\n",
       "      <td>The Pirate Bay, of course!</td>\n",
       "      <td>1</td>\n",
       "    </tr>\n",
       "    <tr>\n",
       "      <th>333815</th>\n",
       "      <td>Doesn't Sop have a Mac version though?</td>\n",
       "      <td>0</td>\n",
       "    </tr>\n",
       "  </tbody>\n",
       "</table>\n",
       "</div>"
      ],
      "text/plain": [
       "                                       comment  label\n",
       "139472                                 Trufant      0\n",
       "276148                                Too soon      0\n",
       "590438       Also, phone lights have no throw.      0\n",
       "652460              The Pirate Bay, of course!      1\n",
       "333815  Doesn't Sop have a Mac version though?      0"
      ]
     },
     "execution_count": 45,
     "metadata": {},
     "output_type": "execute_result"
    }
   ],
   "source": [
    "new_test = pd.concat([new_X, new_y], axis=1)\n",
    "new_test.head()"
   ]
  },
  {
   "cell_type": "code",
   "execution_count": 49,
   "id": "1f96c8c1",
   "metadata": {},
   "outputs": [],
   "source": [
    "test_predict = new_test.copy()\n",
    "\n",
    "test_predict['soft_pred'] = np.round(soft_predict[:, 1], 2)\n",
    "test_predict['hard_pred'] = hard_predict"
   ]
  },
  {
   "cell_type": "code",
   "execution_count": 53,
   "id": "fc35fc61",
   "metadata": {
    "scrolled": true
   },
   "outputs": [],
   "source": [
    "total = test_predict.shape[0]"
   ]
  },
  {
   "cell_type": "code",
   "execution_count": 56,
   "id": "139eda49",
   "metadata": {},
   "outputs": [],
   "source": [
    "correct = test_predict.loc[test_predict['hard_pred'] == test_predict['label']].shape[0]"
   ]
  },
  {
   "cell_type": "code",
   "execution_count": 58,
   "id": "4842ad66",
   "metadata": {},
   "outputs": [
    {
     "name": "stdout",
     "output_type": "stream",
     "text": [
      "Correct prediction percentage: 65.56\n"
     ]
    }
   ],
   "source": [
    "accuracy = correct / total *100\n",
    "print(f'Correct prediction percentage: {round(accuracy, 2)}')"
   ]
  },
  {
   "cell_type": "code",
   "execution_count": null,
   "id": "2a50d6fe",
   "metadata": {},
   "outputs": [],
   "source": []
  }
 ],
 "metadata": {
  "kernelspec": {
   "display_name": "Python 3 (ipykernel)",
   "language": "python",
   "name": "python3"
  },
  "language_info": {
   "codemirror_mode": {
    "name": "ipython",
    "version": 3
   },
   "file_extension": ".py",
   "mimetype": "text/x-python",
   "name": "python",
   "nbconvert_exporter": "python",
   "pygments_lexer": "ipython3",
   "version": "3.11.5"
  }
 },
 "nbformat": 4,
 "nbformat_minor": 5
}
