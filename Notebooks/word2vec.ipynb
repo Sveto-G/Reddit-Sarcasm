{
 "cells": [
  {
   "cell_type": "code",
   "execution_count": 1,
   "id": "f91eea93-c7d0-4c68-88df-129d960b4070",
   "metadata": {
    "scrolled": true
   },
   "outputs": [
    {
     "ename": "RuntimeError",
     "evalue": "module compiled against API version 0xe but this version of numpy is 0xd",
     "output_type": "error",
     "traceback": [
      "\u001b[1;31m---------------------------------------------------------------------------\u001b[0m",
      "\u001b[1;31mRuntimeError\u001b[0m                              Traceback (most recent call last)",
      "\u001b[1;31mRuntimeError\u001b[0m: module compiled against API version 0xe but this version of numpy is 0xd"
     ]
    },
    {
     "name": "stderr",
     "output_type": "stream",
     "text": [
      "[nltk_data] Downloading package punkt to\n",
      "[nltk_data]     C:\\Users\\gravi\\AppData\\Roaming\\nltk_data...\n",
      "[nltk_data]   Package punkt is already up-to-date!\n"
     ]
    }
   ],
   "source": [
    "import numpy as np\n",
    "import pandas as pd\n",
    "import matplotlib.pyplot as plt\n",
    "import seaborn as sns\n",
    "sns.set()\n",
    "\n",
    "import regex as re\n",
    "import string\n",
    "import nltk\n",
    "from nltk.tokenize import sent_tokenize, word_tokenize\n",
    "nltk.download('punkt')\n",
    "\n",
    "\n",
    "from gensim.models import Word2Vec\n",
    "\n",
    "# from tensorflow import keras\n",
    "# from tensorflow.keras import layers\n",
    "\n",
    "import warnings \n",
    "warnings.filterwarnings(action = 'ignore')\n"
   ]
  },
  {
   "cell_type": "code",
   "execution_count": 2,
   "id": "92cd4585",
   "metadata": {
    "scrolled": true
   },
   "outputs": [
    {
     "name": "stdout",
     "output_type": "stream",
     "text": [
      "1.19.2\n"
     ]
    }
   ],
   "source": [
    "print(np.__version__)"
   ]
  },
  {
   "cell_type": "code",
   "execution_count": 3,
   "id": "022dcd1b-9c8f-424e-bbb7-fc750f7c2cab",
   "metadata": {},
   "outputs": [
    {
     "data": {
      "text/html": [
       "<div>\n",
       "<style scoped>\n",
       "    .dataframe tbody tr th:only-of-type {\n",
       "        vertical-align: middle;\n",
       "    }\n",
       "\n",
       "    .dataframe tbody tr th {\n",
       "        vertical-align: top;\n",
       "    }\n",
       "\n",
       "    .dataframe thead th {\n",
       "        text-align: right;\n",
       "    }\n",
       "</style>\n",
       "<table border=\"1\" class=\"dataframe\">\n",
       "  <thead>\n",
       "    <tr style=\"text-align: right;\">\n",
       "      <th></th>\n",
       "      <th>label</th>\n",
       "      <th>comment</th>\n",
       "    </tr>\n",
       "  </thead>\n",
       "  <tbody>\n",
       "    <tr>\n",
       "      <th>139484</th>\n",
       "      <td>0</td>\n",
       "      <td>Nope.</td>\n",
       "    </tr>\n",
       "    <tr>\n",
       "      <th>638093</th>\n",
       "      <td>0</td>\n",
       "      <td>Donde esta la biblioteca?</td>\n",
       "    </tr>\n",
       "    <tr>\n",
       "      <th>662570</th>\n",
       "      <td>0</td>\n",
       "      <td>I feel bad for the mummy... not even the minio...</td>\n",
       "    </tr>\n",
       "    <tr>\n",
       "      <th>652534</th>\n",
       "      <td>1</td>\n",
       "      <td>The Pirate Bay, of course!</td>\n",
       "    </tr>\n",
       "    <tr>\n",
       "      <th>411846</th>\n",
       "      <td>1</td>\n",
       "      <td>That's exactly how multiple photographers ende...</td>\n",
       "    </tr>\n",
       "  </tbody>\n",
       "</table>\n",
       "</div>"
      ],
      "text/plain": [
       "        label                                            comment\n",
       "139484      0                                              Nope.\n",
       "638093      0                          Donde esta la biblioteca?\n",
       "662570      0  I feel bad for the mummy... not even the minio...\n",
       "652534      1                         The Pirate Bay, of course!\n",
       "411846      1  That's exactly how multiple photographers ende..."
      ]
     },
     "execution_count": 3,
     "metadata": {},
     "output_type": "execute_result"
    }
   ],
   "source": [
    "reddit = pd.read_csv('sample_comments.csv', index_col=0)\n",
    "\n",
    "reddit.head()"
   ]
  },
  {
   "cell_type": "code",
   "execution_count": 4,
   "id": "cc48e51f-768a-4982-99dd-012f4ffa61bf",
   "metadata": {},
   "outputs": [],
   "source": [
    "# custom tokenizer function\n",
    "\n",
    "def tokenizer(series):\n",
    "    \n",
    "    corpus = series.values\n",
    "    tokens = []\n",
    "    \n",
    "    for document in corpus:\n",
    "        #removing punctuation\n",
    "        for punc in string.punctuation:\n",
    "            document = document.replace(punc, '')\n",
    "        # removing numbers and splitting sentences    \n",
    "        document = re.sub(\"\\d+\", \"\", document).lower()\n",
    "        tokens.append(document.split(' '))\n",
    "        \n",
    "    \n",
    "        \n",
    "\n",
    "    return tokens"
   ]
  },
  {
   "cell_type": "code",
   "execution_count": 5,
   "id": "718db9d4-5a84-44ef-b1d3-2ef766498104",
   "metadata": {
    "scrolled": true
   },
   "outputs": [],
   "source": [
    "X = reddit['comment']\n",
    "y = reddit['label']"
   ]
  },
  {
   "cell_type": "code",
   "execution_count": 6,
   "id": "f7a31b17-599c-4b98-a803-18806956de93",
   "metadata": {},
   "outputs": [
    {
     "data": {
      "text/plain": [
       "array(['Nope.', 'Donde esta la biblioteca?',\n",
       "       'I feel bad for the mummy... not even the minions want to get close to him :(',\n",
       "       ...,\n",
       "       'You have to remember that only their black lives matter.......................',\n",
       "       \"Learning few words of the local language when you do to a country wouldn't kill you.\",\n",
       "       'We could have the pre and post parties at the new fake 400 bar!'],\n",
       "      dtype=object)"
      ]
     },
     "execution_count": 6,
     "metadata": {},
     "output_type": "execute_result"
    }
   ],
   "source": [
    "X.values"
   ]
  },
  {
   "cell_type": "code",
   "execution_count": 7,
   "id": "394d009a",
   "metadata": {
    "scrolled": true
   },
   "outputs": [
    {
     "data": {
      "text/plain": [
       "[['nope'], ['donde', 'esta', 'la', 'biblioteca']]"
      ]
     },
     "execution_count": 7,
     "metadata": {},
     "output_type": "execute_result"
    }
   ],
   "source": [
    "tokenizer(X[:2])"
   ]
  },
  {
   "cell_type": "code",
   "execution_count": 8,
   "id": "b66157e7",
   "metadata": {},
   "outputs": [],
   "source": [
    "tokenized_data = tokenizer(X)"
   ]
  },
  {
   "cell_type": "code",
   "execution_count": 9,
   "id": "5fa2729f-cf1c-4a41-a1b3-97255c5c08b8",
   "metadata": {},
   "outputs": [
    {
     "data": {
      "text/plain": [
       "(10359968, 13178775)"
      ]
     },
     "execution_count": 9,
     "metadata": {},
     "output_type": "execute_result"
    }
   ],
   "source": [
    "model = Word2Vec(tokenized_data, window=5, min_count=1, workers=4)\n",
    "model.train(tokenized_data, total_examples=model.corpus_count, epochs=model.epochs)"
   ]
  },
  {
   "cell_type": "code",
   "execution_count": 10,
   "id": "f361d875",
   "metadata": {},
   "outputs": [
    {
     "data": {
      "text/plain": [
       "[('detained', 0.7662061452865601),\n",
       " ('facetious', 0.7601372599601746),\n",
       " ('bitbybit', 0.7511639595031738),\n",
       " ('glamorouslion', 0.6905873417854309),\n",
       " ('naysayer', 0.6895689368247986),\n",
       " ('pedantic', 0.6880913972854614),\n",
       " ('achievementist', 0.6860612630844116),\n",
       " ('joking', 0.6816750168800354),\n",
       " ('soundless', 0.6792351603507996),\n",
       " ('aggressor', 0.6676892042160034)]"
      ]
     },
     "execution_count": 10,
     "metadata": {},
     "output_type": "execute_result"
    }
   ],
   "source": [
    "model.most_similar('sarcastic')"
   ]
  },
  {
   "cell_type": "code",
   "execution_count": 11,
   "id": "f3855c6e",
   "metadata": {},
   "outputs": [
    {
     "data": {
      "text/plain": [
       "[('tag', 0.6604176163673401),\n",
       " ('nsfw', 0.6461413502693176),\n",
       " ('text', 0.6391680836677551),\n",
       " ('username', 0.6115491390228271),\n",
       " ('comment', 0.6064691543579102),\n",
       " ('reply', 0.6039153337478638),\n",
       " ('statement', 0.5947394371032715),\n",
       " ('satire', 0.5878256559371948),\n",
       " ('troll', 0.5775316953659058),\n",
       " ('post', 0.5766584277153015)]"
      ]
     },
     "execution_count": 11,
     "metadata": {},
     "output_type": "execute_result"
    }
   ],
   "source": [
    "model.most_similar('sarcasm')"
   ]
  },
  {
   "cell_type": "code",
   "execution_count": 12,
   "id": "2be1ddd4",
   "metadata": {},
   "outputs": [
    {
     "data": {
      "text/plain": [
       "[('nerdcubed', 0.767389714717865),\n",
       " ('newive', 0.7608744502067566),\n",
       " ('factually', 0.7481676936149597),\n",
       " ('flawed', 0.739734947681427),\n",
       " ('xxblazeitxx', 0.739246129989624),\n",
       " ('itobama', 0.737808883190155),\n",
       " ('statewide', 0.7309578657150269),\n",
       " ('incorrect', 0.7230198979377747),\n",
       " ('moleskine', 0.7212676405906677),\n",
       " ('bs', 0.715360164642334)]"
      ]
     },
     "execution_count": 12,
     "metadata": {},
     "output_type": "execute_result"
    }
   ],
   "source": [
    "model.most_similar('satire')"
   ]
  },
  {
   "cell_type": "code",
   "execution_count": 13,
   "id": "6ea9f6f4",
   "metadata": {},
   "outputs": [
    {
     "data": {
      "text/plain": [
       "[('joking', 0.6691443920135498),\n",
       " ('detained', 0.6384910941123962),\n",
       " ('satire', 0.611587405204773),\n",
       " ('troll', 0.6105169057846069),\n",
       " ('teenager', 0.607511579990387),\n",
       " ('sumire', 0.604194700717926),\n",
       " ('bitbybit', 0.6012907028198242),\n",
       " ('rude', 0.5990847945213318),\n",
       " ('facetious', 0.5968437194824219),\n",
       " ('creepy', 0.5931844115257263)]"
      ]
     },
     "execution_count": 13,
     "metadata": {},
     "output_type": "execute_result"
    }
   ],
   "source": [
    "model.most_similar(positive=['joke', 'sarcastic'])"
   ]
  },
  {
   "cell_type": "code",
   "execution_count": 14,
   "id": "87a2ab09",
   "metadata": {},
   "outputs": [
    {
     "data": {
      "text/plain": [
       "[('facetious', 0.7373484373092651),\n",
       " ('naysayer', 0.7119937539100647),\n",
       " ('supersafety', 0.7072086334228516),\n",
       " ('glamorouslion', 0.7049016356468201),\n",
       " ('deansafbi', 0.7023043632507324)]"
      ]
     },
     "execution_count": 14,
     "metadata": {},
     "output_type": "execute_result"
    }
   ],
   "source": [
    "model.most_similar(positive=['pedantic', 'sarcastic'], negative=['joke'], topn=5)"
   ]
  },
  {
   "cell_type": "code",
   "execution_count": 15,
   "id": "8b1c13e1",
   "metadata": {},
   "outputs": [
    {
     "data": {
      "text/plain": [
       "[('statements', 0.6646245121955872),\n",
       " ('islam', 0.6564873456954956),\n",
       " ('gamergate', 0.6521426439285278),\n",
       " ('bigotry', 0.6421420574188232),\n",
       " ('science', 0.6300203800201416),\n",
       " ('arguments', 0.6262994408607483),\n",
       " ('ignorance', 0.6151260137557983),\n",
       " ('censorship', 0.6123901605606079),\n",
       " ('softwarethat', 0.605620265007019),\n",
       " ('racism', 0.6051369309425354)]"
      ]
     },
     "execution_count": 15,
     "metadata": {},
     "output_type": "execute_result"
    }
   ],
   "source": [
    "model.most_similar(positive=['politics', 'sarcasm'])"
   ]
  },
  {
   "cell_type": "code",
   "execution_count": 16,
   "id": "2984dc29",
   "metadata": {
    "scrolled": true
   },
   "outputs": [
    {
     "data": {
      "text/plain": [
       "[('feigning', 0.8424457311630249),\n",
       " ('neonazi', 0.8404813408851624),\n",
       " ('fr', 0.8400999307632446),\n",
       " ('gayi', 0.8381698131561279),\n",
       " ('automatico', 0.8378533720970154),\n",
       " ('larticolo', 0.8377243280410767),\n",
       " ('rakhi', 0.8372451066970825),\n",
       " ('inflable', 0.8354091048240662),\n",
       " ('sugli', 0.833313524723053),\n",
       " ('goeda', 0.8323245644569397)]"
      ]
     },
     "execution_count": 16,
     "metadata": {},
     "output_type": "execute_result"
    }
   ],
   "source": [
    "model.most_similar(['onion', 'facetious'])"
   ]
  },
  {
   "cell_type": "code",
   "execution_count": 17,
   "id": "ce70df6d",
   "metadata": {},
   "outputs": [
    {
     "data": {
      "text/html": [
       "<div>\n",
       "<style scoped>\n",
       "    .dataframe tbody tr th:only-of-type {\n",
       "        vertical-align: middle;\n",
       "    }\n",
       "\n",
       "    .dataframe tbody tr th {\n",
       "        vertical-align: top;\n",
       "    }\n",
       "\n",
       "    .dataframe thead th {\n",
       "        text-align: right;\n",
       "    }\n",
       "</style>\n",
       "<table border=\"1\" class=\"dataframe\">\n",
       "  <thead>\n",
       "    <tr style=\"text-align: right;\">\n",
       "      <th></th>\n",
       "      <th>sarcastic</th>\n",
       "      <th>genuine</th>\n",
       "    </tr>\n",
       "  </thead>\n",
       "  <tbody>\n",
       "    <tr>\n",
       "      <th>0</th>\n",
       "      <td>detained</td>\n",
       "      <td>osbourne</td>\n",
       "    </tr>\n",
       "    <tr>\n",
       "      <th>1</th>\n",
       "      <td>facetious</td>\n",
       "      <td>digong</td>\n",
       "    </tr>\n",
       "    <tr>\n",
       "      <th>2</th>\n",
       "      <td>bitbybit</td>\n",
       "      <td>hote</td>\n",
       "    </tr>\n",
       "    <tr>\n",
       "      <th>3</th>\n",
       "      <td>glamorouslion</td>\n",
       "      <td>tankie</td>\n",
       "    </tr>\n",
       "    <tr>\n",
       "      <th>4</th>\n",
       "      <td>naysayer</td>\n",
       "      <td>fangays</td>\n",
       "    </tr>\n",
       "    <tr>\n",
       "      <th>5</th>\n",
       "      <td>pedantic</td>\n",
       "      <td>kreative</td>\n",
       "    </tr>\n",
       "    <tr>\n",
       "      <th>6</th>\n",
       "      <td>achievementist</td>\n",
       "      <td>unkreative</td>\n",
       "    </tr>\n",
       "    <tr>\n",
       "      <th>7</th>\n",
       "      <td>joking</td>\n",
       "      <td>ossigeno</td>\n",
       "    </tr>\n",
       "    <tr>\n",
       "      <th>8</th>\n",
       "      <td>soundless</td>\n",
       "      <td>cest</td>\n",
       "    </tr>\n",
       "    <tr>\n",
       "      <th>9</th>\n",
       "      <td>aggressor</td>\n",
       "      <td>warga</td>\n",
       "    </tr>\n",
       "  </tbody>\n",
       "</table>\n",
       "</div>"
      ],
      "text/plain": [
       "        sarcastic     genuine\n",
       "0        detained    osbourne\n",
       "1       facetious      digong\n",
       "2        bitbybit        hote\n",
       "3   glamorouslion      tankie\n",
       "4        naysayer     fangays\n",
       "5        pedantic    kreative\n",
       "6  achievementist  unkreative\n",
       "7          joking    ossigeno\n",
       "8       soundless        cest\n",
       "9       aggressor       warga"
      ]
     },
     "execution_count": 17,
     "metadata": {},
     "output_type": "execute_result"
    }
   ],
   "source": [
    "sarcastic = model.most_similar(positive=['sarcastic'])\n",
    "genuine = model.most_similar(positive=['genuine'])\n",
    "\n",
    "pd.DataFrame(\n",
    "        data={\n",
    "            \"sarcastic\": [word for word, sim in sarcastic], \n",
    "            \"genuine\": [word for word, sim in genuine]\n",
    "        }\n",
    ")"
   ]
  },
  {
   "cell_type": "code",
   "execution_count": 18,
   "id": "13c1c270",
   "metadata": {},
   "outputs": [
    {
     "data": {
      "text/html": [
       "<div>\n",
       "<style scoped>\n",
       "    .dataframe tbody tr th:only-of-type {\n",
       "        vertical-align: middle;\n",
       "    }\n",
       "\n",
       "    .dataframe tbody tr th {\n",
       "        vertical-align: top;\n",
       "    }\n",
       "\n",
       "    .dataframe thead th {\n",
       "        text-align: right;\n",
       "    }\n",
       "</style>\n",
       "<table border=\"1\" class=\"dataframe\">\n",
       "  <thead>\n",
       "    <tr style=\"text-align: right;\">\n",
       "      <th></th>\n",
       "      <th>misleading</th>\n",
       "      <th>honest</th>\n",
       "    </tr>\n",
       "  </thead>\n",
       "  <tbody>\n",
       "    <tr>\n",
       "      <th>0</th>\n",
       "      <td>clickbait</td>\n",
       "      <td>fair</td>\n",
       "    </tr>\n",
       "    <tr>\n",
       "      <th>1</th>\n",
       "      <td>editorialized</td>\n",
       "      <td>consigned</td>\n",
       "    </tr>\n",
       "    <tr>\n",
       "      <th>2</th>\n",
       "      <td>hypersensationalised</td>\n",
       "      <td>polite</td>\n",
       "    </tr>\n",
       "    <tr>\n",
       "      <th>3</th>\n",
       "      <td>credible</td>\n",
       "      <td>therell</td>\n",
       "    </tr>\n",
       "    <tr>\n",
       "      <th>4</th>\n",
       "      <td>informative</td>\n",
       "      <td>fumu</td>\n",
       "    </tr>\n",
       "    <tr>\n",
       "      <th>5</th>\n",
       "      <td>damien</td>\n",
       "      <td>pentester</td>\n",
       "    </tr>\n",
       "    <tr>\n",
       "      <th>6</th>\n",
       "      <td>blatent</td>\n",
       "      <td>americandont</td>\n",
       "    </tr>\n",
       "    <tr>\n",
       "      <th>7</th>\n",
       "      <td>lolzorz</td>\n",
       "      <td>overlayed</td>\n",
       "    </tr>\n",
       "    <tr>\n",
       "      <th>8</th>\n",
       "      <td>clickbaity</td>\n",
       "      <td>pretending</td>\n",
       "    </tr>\n",
       "    <tr>\n",
       "      <th>9</th>\n",
       "      <td>attimo</td>\n",
       "      <td>powerprejudice</td>\n",
       "    </tr>\n",
       "  </tbody>\n",
       "</table>\n",
       "</div>"
      ],
      "text/plain": [
       "             misleading          honest\n",
       "0             clickbait            fair\n",
       "1         editorialized       consigned\n",
       "2  hypersensationalised          polite\n",
       "3              credible         therell\n",
       "4           informative            fumu\n",
       "5                damien       pentester\n",
       "6               blatent    americandont\n",
       "7               lolzorz       overlayed\n",
       "8            clickbaity      pretending\n",
       "9                attimo  powerprejudice"
      ]
     },
     "execution_count": 18,
     "metadata": {},
     "output_type": "execute_result"
    }
   ],
   "source": [
    "misleading = model.most_similar(positive=['misleading'])\n",
    "honest = model.most_similar(positive=['honest'])\n",
    "\n",
    "pd.DataFrame(\n",
    "        data={\n",
    "            \"misleading\": [word for word, sim in misleading], \n",
    "            \"honest\": [word for word, sim in honest]\n",
    "        }\n",
    ")"
   ]
  },
  {
   "cell_type": "code",
   "execution_count": 19,
   "id": "922914d3",
   "metadata": {},
   "outputs": [],
   "source": [
    "words = ['duh', 'scrub', 'obvious', 'shitlord', 'forgot', 'imo', 'although', 'honestly', 'mostly', 'unfortunate']"
   ]
  },
  {
   "cell_type": "code",
   "execution_count": 20,
   "id": "1f3808f4",
   "metadata": {},
   "outputs": [],
   "source": [
    "sarcasm_test = []\n",
    "\n",
    "for word in words:\n",
    "    sarcasm_test.append(model[word])"
   ]
  },
  {
   "cell_type": "code",
   "execution_count": 21,
   "id": "3bd6a2e4",
   "metadata": {},
   "outputs": [],
   "source": [
    "from sklearn.decomposition import PCA\n",
    "\n",
    "pca = PCA(n_components=2)\n",
    "\n",
    "top_words = pca.fit_transform(sarcasm_test)"
   ]
  },
  {
   "cell_type": "code",
   "execution_count": 22,
   "id": "8de6a5a9",
   "metadata": {
    "scrolled": true
   },
   "outputs": [
    {
     "data": {
      "image/png": "[encoded data removed]",
      "text/plain": [
       "<Figure size 1000x1000 with 1 Axes>"
      ]
     },
     "metadata": {},
     "output_type": "display_data"
    }
   ],
   "source": [
    "plt.figure(figsize=(10,10))\n",
    "plt.scatter(top_words[:,0], top_words[:,1])\n",
    "            \n",
    "for i, word in enumerate(words):\n",
    "    plt.annotate(word, xy=(top_words[i,0], top_words[i,1]), xytext=(2,2), textcoords='offset points')\n",
    "\n",
    "plt.show()"
   ]
  },
  {
   "cell_type": "code",
   "execution_count": 23,
   "id": "3f0f4fd8",
   "metadata": {},
   "outputs": [],
   "source": [
    "def sentence(document):\n",
    "    size = model.vector_size\n",
    "    word_vec_document = np.zeros(size)\n",
    "    count = 1\n",
    "    \n",
    "    for word in document:\n",
    "        if word in model:\n",
    "            count +=1\n",
    "            word_vec_document += model[word]\n",
    "    \n",
    "    word_vec_document = word_vec_document / count\n",
    "    \n",
    "    return word_vec_document"
   ]
  },
  {
   "cell_type": "code",
   "execution_count": 24,
   "id": "beb32d88",
   "metadata": {},
   "outputs": [],
   "source": [
    "test_document = 'I love my wife. She is so beautiful.'\n",
    "new_test = 'call me again tomorrow, so good to see you'"
   ]
  },
  {
   "cell_type": "code",
   "execution_count": 25,
   "id": "cbba8007",
   "metadata": {},
   "outputs": [
    {
     "data": {
      "text/plain": [
       "array([ 0.22120112, -0.48305121,  0.22625108,  0.02745026, -0.18351771,\n",
       "       -1.18801609,  0.42255966, -0.71823085,  0.31315489,  0.0574427 ,\n",
       "       -0.19385174,  1.3264394 , -0.2427449 , -1.6583403 ,  0.32257901,\n",
       "        0.1618716 ,  0.33805842, -0.64777529, -0.4341928 ,  0.54473969,\n",
       "        1.05157208, -0.03341158,  0.50644455,  0.20096236, -0.12597513,\n",
       "       -0.33931998, -0.49720174,  0.83549618,  0.63662466,  0.37153627,\n",
       "        0.39510067,  0.72394594, -0.73043582, -1.24069087, -0.48823716,\n",
       "        0.53517823,  0.32776803, -0.10275213, -1.20446124, -0.04864013,\n",
       "        0.20084891,  0.66536046, -0.11685568,  0.66101145, -0.27227823,\n",
       "       -0.69492828, -1.30939099,  0.52298546, -0.50381072, -0.04743279,\n",
       "       -0.19366672, -0.01280028,  1.06475788,  0.27023109, -0.79643331,\n",
       "       -0.08806657, -0.36015555,  0.71660767,  1.69167786, -0.67644503,\n",
       "        1.36694789, -0.50618343, -0.38710932, -0.491072  , -0.38275876,\n",
       "        0.18052815,  0.33827924,  0.06358576,  0.59143363, -0.73533907,\n",
       "        0.29983754, -0.61318097,  0.55823455,  0.2114019 ,  0.48536901,\n",
       "       -0.2334388 , -0.29240305, -0.76493151, -0.28054872, -0.62721891,\n",
       "       -0.16619404,  0.36541573, -0.31140775, -0.09606272,  0.23884603,\n",
       "        0.16903078,  0.94428243,  0.40115272, -0.94876347,  0.29668268,\n",
       "       -0.71146358, -0.31927594, -1.17634093,  0.58765024, -0.48641043,\n",
       "        0.41815578,  0.06793274,  0.01804586,  0.29107298,  1.1785055 ])"
      ]
     },
     "execution_count": 25,
     "metadata": {},
     "output_type": "execute_result"
    }
   ],
   "source": [
    "sentence(test_document)"
   ]
  },
  {
   "cell_type": "code",
   "execution_count": 26,
   "id": "d5f10fe6",
   "metadata": {},
   "outputs": [
    {
     "name": "stdout",
     "output_type": "stream",
     "text": [
      "100\n"
     ]
    }
   ],
   "source": [
    "variable = sentence(new_test)\n",
    "print(len(variable))"
   ]
  },
  {
   "cell_type": "code",
   "execution_count": 27,
   "id": "5352f265",
   "metadata": {},
   "outputs": [],
   "source": [
    "document_vectors = [sentence(doc) for doc in tokenized_data]"
   ]
  },
  {
   "cell_type": "code",
   "execution_count": 28,
   "id": "2d30ca55",
   "metadata": {},
   "outputs": [
    {
     "data": {
      "text/plain": [
       "(100,)"
      ]
     },
     "execution_count": 28,
     "metadata": {},
     "output_type": "execute_result"
    }
   ],
   "source": [
    "document_vectors[0].shape"
   ]
  },
  {
   "cell_type": "code",
   "execution_count": 29,
   "id": "f4d3f2cb",
   "metadata": {},
   "outputs": [],
   "source": [
    "X = document_vectors"
   ]
  },
  {
   "cell_type": "code",
   "execution_count": 30,
   "id": "ce38569d",
   "metadata": {},
   "outputs": [],
   "source": [
    "from sklearn.model_selection import train_test_split\n",
    "X_rem, X_test, y_rem, y_test = train_test_split(X, y, test_size=0.25, random_state=42)"
   ]
  },
  {
   "cell_type": "code",
   "execution_count": 31,
   "id": "4a6c8a0b",
   "metadata": {},
   "outputs": [],
   "source": [
    "\n",
    "X_train, X_val, y_train, y_val = train_test_split(X_rem, y_rem, test_size=0.25, random_state=42)"
   ]
  },
  {
   "cell_type": "code",
   "execution_count": 32,
   "id": "7c6bb22e",
   "metadata": {
    "scrolled": true
   },
   "outputs": [
    {
     "data": {
      "text/plain": [
       "142131"
      ]
     },
     "execution_count": 32,
     "metadata": {},
     "output_type": "execute_result"
    }
   ],
   "source": [
    "len(X_train)"
   ]
  },
  {
   "cell_type": "code",
   "execution_count": 33,
   "id": "e11eebc5-aa11-4f70-a0e2-9811a3490201",
   "metadata": {},
   "outputs": [
    {
     "data": {
      "text/plain": [
       "(8700845, 13178775)"
      ]
     },
     "execution_count": 33,
     "metadata": {},
     "output_type": "execute_result"
    }
   ],
   "source": [
    "model = Word2Vec(tokenized_data, window=5, min_count=1, workers=4, size=300, max_vocab_size=10000 )\n",
    "model.train(tokenized_data, total_examples=model.corpus_count, epochs=model.epochs)"
   ]
  },
  {
   "cell_type": "code",
   "execution_count": 46,
   "id": "2d16838f-b079-4aa3-b873-9a6e83c1b3e5",
   "metadata": {},
   "outputs": [
    {
     "data": {
      "text/html": [
       "<div>\n",
       "<style scoped>\n",
       "    .dataframe tbody tr th:only-of-type {\n",
       "        vertical-align: middle;\n",
       "    }\n",
       "\n",
       "    .dataframe tbody tr th {\n",
       "        vertical-align: top;\n",
       "    }\n",
       "\n",
       "    .dataframe thead th {\n",
       "        text-align: right;\n",
       "    }\n",
       "</style>\n",
       "<table border=\"1\" class=\"dataframe\">\n",
       "  <thead>\n",
       "    <tr style=\"text-align: right;\">\n",
       "      <th></th>\n",
       "      <th>lie</th>\n",
       "      <th>honest</th>\n",
       "    </tr>\n",
       "  </thead>\n",
       "  <tbody>\n",
       "    <tr>\n",
       "      <th>0</th>\n",
       "      <td>talk</td>\n",
       "      <td>fair</td>\n",
       "    </tr>\n",
       "    <tr>\n",
       "      <th>1</th>\n",
       "      <td>complain</td>\n",
       "      <td>prepared</td>\n",
       "    </tr>\n",
       "    <tr>\n",
       "      <th>2</th>\n",
       "      <td>trust</td>\n",
       "      <td>rude</td>\n",
       "    </tr>\n",
       "    <tr>\n",
       "      <th>3</th>\n",
       "      <td>forget</td>\n",
       "      <td>careful</td>\n",
       "    </tr>\n",
       "    <tr>\n",
       "      <th>4</th>\n",
       "      <td>listen</td>\n",
       "      <td>considered</td>\n",
       "    </tr>\n",
       "    <tr>\n",
       "      <th>5</th>\n",
       "      <td>offend</td>\n",
       "      <td>sarcastic</td>\n",
       "    </tr>\n",
       "    <tr>\n",
       "      <th>6</th>\n",
       "      <td>criticize</td>\n",
       "      <td>friendly</td>\n",
       "    </tr>\n",
       "    <tr>\n",
       "      <th>7</th>\n",
       "      <td>worry</td>\n",
       "      <td>ignorant</td>\n",
       "    </tr>\n",
       "    <tr>\n",
       "      <th>8</th>\n",
       "      <td>say</td>\n",
       "      <td>proud</td>\n",
       "    </tr>\n",
       "    <tr>\n",
       "      <th>9</th>\n",
       "      <td>care</td>\n",
       "      <td>accurate</td>\n",
       "    </tr>\n",
       "  </tbody>\n",
       "</table>\n",
       "</div>"
      ],
      "text/plain": [
       "         lie      honest\n",
       "0       talk        fair\n",
       "1   complain    prepared\n",
       "2      trust        rude\n",
       "3     forget     careful\n",
       "4     listen  considered\n",
       "5     offend   sarcastic\n",
       "6  criticize    friendly\n",
       "7      worry    ignorant\n",
       "8        say       proud\n",
       "9       care    accurate"
      ]
     },
     "execution_count": 46,
     "metadata": {},
     "output_type": "execute_result"
    }
   ],
   "source": [
    "mislead = model.most_similar(positive=['lie'])\n",
    "honest = model.most_similar(positive=['honest'])\n",
    "\n",
    "pd.DataFrame(\n",
    "        data={\n",
    "            \"lie\": [word for word, sim in mislead], \n",
    "            \"honest\": [word for word, sim in honest]\n",
    "        }\n",
    ")"
   ]
  },
  {
   "cell_type": "code",
   "execution_count": 36,
   "id": "9a877139",
   "metadata": {},
   "outputs": [],
   "source": [
    "from sklearn.neural_network import MLPClassifier"
   ]
  },
  {
   "cell_type": "code",
   "execution_count": 37,
   "id": "c457d103-bea1-45e1-be9c-42cb4196668b",
   "metadata": {},
   "outputs": [],
   "source": [
    "neural_network = MLPClassifier(verbose=True, max_iter=50, random_state=42)"
   ]
  },
  {
   "cell_type": "code",
   "execution_count": 38,
   "id": "0c84a6af-7c0a-499f-889e-437a09da5a4f",
   "metadata": {},
   "outputs": [
    {
     "name": "stdout",
     "output_type": "stream",
     "text": [
      "Iteration 1, loss = 0.62897090\n",
      "Iteration 2, loss = 0.60577355\n",
      "Iteration 3, loss = 0.59776671\n",
      "Iteration 4, loss = 0.59231015\n",
      "Iteration 5, loss = 0.58794447\n",
      "Iteration 6, loss = 0.58453328\n",
      "Iteration 7, loss = 0.58203933\n",
      "Iteration 8, loss = 0.57912760\n",
      "Iteration 9, loss = 0.57692757\n",
      "Iteration 10, loss = 0.57468123\n",
      "Iteration 11, loss = 0.57323417\n",
      "Iteration 12, loss = 0.57160992\n",
      "Iteration 13, loss = 0.56988815\n",
      "Iteration 14, loss = 0.56836644\n",
      "Iteration 15, loss = 0.56713288\n",
      "Iteration 16, loss = 0.56597577\n",
      "Iteration 17, loss = 0.56522233\n",
      "Iteration 18, loss = 0.56444367\n",
      "Iteration 19, loss = 0.56311033\n",
      "Iteration 20, loss = 0.56215115\n",
      "Iteration 21, loss = 0.56126869\n",
      "Iteration 22, loss = 0.56030011\n",
      "Iteration 23, loss = 0.55949954\n",
      "Iteration 24, loss = 0.55869154\n",
      "Iteration 25, loss = 0.55807721\n",
      "Iteration 26, loss = 0.55756103\n",
      "Iteration 27, loss = 0.55632837\n",
      "Iteration 28, loss = 0.55579611\n",
      "Iteration 29, loss = 0.55531223\n",
      "Iteration 30, loss = 0.55523019\n",
      "Iteration 31, loss = 0.55393371\n",
      "Iteration 32, loss = 0.55330475\n",
      "Iteration 33, loss = 0.55277986\n",
      "Iteration 34, loss = 0.55247762\n",
      "Iteration 35, loss = 0.55146762\n",
      "Iteration 36, loss = 0.55120127\n",
      "Iteration 37, loss = 0.55062462\n",
      "Iteration 38, loss = 0.55016243\n",
      "Iteration 39, loss = 0.54997205\n",
      "Iteration 40, loss = 0.54852737\n",
      "Iteration 41, loss = 0.54841506\n",
      "Iteration 42, loss = 0.54756754\n",
      "Iteration 43, loss = 0.54763197\n",
      "Iteration 44, loss = 0.54702662\n",
      "Iteration 45, loss = 0.54681080\n",
      "Iteration 46, loss = 0.54624070\n",
      "Iteration 47, loss = 0.54596023\n",
      "Iteration 48, loss = 0.54522415\n",
      "Iteration 49, loss = 0.54525465\n",
      "Iteration 50, loss = 0.54490417\n"
     ]
    },
    {
     "data": {
      "text/html": [
       "<style>#sk-container-id-1 {color: black;background-color: white;}#sk-container-id-1 pre{padding: 0;}#sk-container-id-1 div.sk-toggleable {background-color: white;}#sk-container-id-1 label.sk-toggleable__label {cursor: pointer;display: block;width: 100%;margin-bottom: 0;padding: 0.3em;box-sizing: border-box;text-align: center;}#sk-container-id-1 label.sk-toggleable__label-arrow:before {content: \"▸\";float: left;margin-right: 0.25em;color: #696969;}#sk-container-id-1 label.sk-toggleable__label-arrow:hover:before {color: black;}#sk-container-id-1 div.sk-estimator:hover label.sk-toggleable__label-arrow:before {color: black;}#sk-container-id-1 div.sk-toggleable__content {max-height: 0;max-width: 0;overflow: hidden;text-align: left;background-color: #f0f8ff;}#sk-container-id-1 div.sk-toggleable__content pre {margin: 0.2em;color: black;border-radius: 0.25em;background-color: #f0f8ff;}#sk-container-id-1 input.sk-toggleable__control:checked~div.sk-toggleable__content {max-height: 200px;max-width: 100%;overflow: auto;}#sk-container-id-1 input.sk-toggleable__control:checked~label.sk-toggleable__label-arrow:before {content: \"▾\";}#sk-container-id-1 div.sk-estimator input.sk-toggleable__control:checked~label.sk-toggleable__label {background-color: #d4ebff;}#sk-container-id-1 div.sk-label input.sk-toggleable__control:checked~label.sk-toggleable__label {background-color: #d4ebff;}#sk-container-id-1 input.sk-hidden--visually {border: 0;clip: rect(1px 1px 1px 1px);clip: rect(1px, 1px, 1px, 1px);height: 1px;margin: -1px;overflow: hidden;padding: 0;position: absolute;width: 1px;}#sk-container-id-1 div.sk-estimator {font-family: monospace;background-color: #f0f8ff;border: 1px dotted black;border-radius: 0.25em;box-sizing: border-box;margin-bottom: 0.5em;}#sk-container-id-1 div.sk-estimator:hover {background-color: #d4ebff;}#sk-container-id-1 div.sk-parallel-item::after {content: \"\";width: 100%;border-bottom: 1px solid gray;flex-grow: 1;}#sk-container-id-1 div.sk-label:hover label.sk-toggleable__label {background-color: #d4ebff;}#sk-container-id-1 div.sk-serial::before {content: \"\";position: absolute;border-left: 1px solid gray;box-sizing: border-box;top: 0;bottom: 0;left: 50%;z-index: 0;}#sk-container-id-1 div.sk-serial {display: flex;flex-direction: column;align-items: center;background-color: white;padding-right: 0.2em;padding-left: 0.2em;position: relative;}#sk-container-id-1 div.sk-item {position: relative;z-index: 1;}#sk-container-id-1 div.sk-parallel {display: flex;align-items: stretch;justify-content: center;background-color: white;position: relative;}#sk-container-id-1 div.sk-item::before, #sk-container-id-1 div.sk-parallel-item::before {content: \"\";position: absolute;border-left: 1px solid gray;box-sizing: border-box;top: 0;bottom: 0;left: 50%;z-index: -1;}#sk-container-id-1 div.sk-parallel-item {display: flex;flex-direction: column;z-index: 1;position: relative;background-color: white;}#sk-container-id-1 div.sk-parallel-item:first-child::after {align-self: flex-end;width: 50%;}#sk-container-id-1 div.sk-parallel-item:last-child::after {align-self: flex-start;width: 50%;}#sk-container-id-1 div.sk-parallel-item:only-child::after {width: 0;}#sk-container-id-1 div.sk-dashed-wrapped {border: 1px dashed gray;margin: 0 0.4em 0.5em 0.4em;box-sizing: border-box;padding-bottom: 0.4em;background-color: white;}#sk-container-id-1 div.sk-label label {font-family: monospace;font-weight: bold;display: inline-block;line-height: 1.2em;}#sk-container-id-1 div.sk-label-container {text-align: center;}#sk-container-id-1 div.sk-container {/* jupyter's `normalize.less` sets `[hidden] { display: none; }` but bootstrap.min.css set `[hidden] { display: none !important; }` so we also need the `!important` here to be able to override the default hidden behavior on the sphinx rendered scikit-learn.org. See: https://github.com/scikit-learn/scikit-learn/issues/21755 */display: inline-block !important;position: relative;}#sk-container-id-1 div.sk-text-repr-fallback {display: none;}</style><div id=\"sk-container-id-1\" class=\"sk-top-container\"><div class=\"sk-text-repr-fallback\"><pre>MLPClassifier(max_iter=50, verbose=True)</pre><b>In a Jupyter environment, please rerun this cell to show the HTML representation or trust the notebook. <br />On GitHub, the HTML representation is unable to render, please try loading this page with nbviewer.org.</b></div><div class=\"sk-container\" hidden><div class=\"sk-item\"><div class=\"sk-estimator sk-toggleable\"><input class=\"sk-toggleable__control sk-hidden--visually\" id=\"sk-estimator-id-1\" type=\"checkbox\" checked><label for=\"sk-estimator-id-1\" class=\"sk-toggleable__label sk-toggleable__label-arrow\">MLPClassifier</label><div class=\"sk-toggleable__content\"><pre>MLPClassifier(max_iter=50, verbose=True)</pre></div></div></div></div></div>"
      ],
      "text/plain": [
       "MLPClassifier(max_iter=50, verbose=True)"
      ]
     },
     "execution_count": 38,
     "metadata": {},
     "output_type": "execute_result"
    }
   ],
   "source": [
    "neural_network.fit(X_train, y_train)"
   ]
  },
  {
   "cell_type": "code",
   "execution_count": 39,
   "id": "926d7e21-b683-4718-9582-8d49aa6645ce",
   "metadata": {},
   "outputs": [
    {
     "name": "stdout",
     "output_type": "stream",
     "text": [
      "Train: 0.7211375421266296\n",
      "Val: 0.6721896238760606\n"
     ]
    }
   ],
   "source": [
    "print(f'Train: {neural_network.score(X_train, y_train)}')\n",
    "print(f'Val: {neural_network.score(X_val, y_val)}')\n"
   ]
  },
  {
   "cell_type": "code",
   "execution_count": null,
   "id": "cd1f5a92-893c-4a3a-9d11-6f452d567da2",
   "metadata": {},
   "outputs": [],
   "source": []
  },
  {
   "cell_type": "code",
   "execution_count": null,
   "id": "d702ae94-719c-4243-ae13-ac0ae22334f7",
   "metadata": {},
   "outputs": [],
   "source": []
  }
 ],
 "metadata": {
  "kernelspec": {
   "display_name": "sarcasm",
   "language": "python",
   "name": "sarcasm"
  },
  "language_info": {
   "codemirror_mode": {
    "name": "ipython",
    "version": 3
   },
   "file_extension": ".py",
   "mimetype": "text/x-python",
   "name": "python",
   "nbconvert_exporter": "python",
   "pygments_lexer": "ipython3",
   "version": "3.8.18"
  }
 },
 "nbformat": 4,
 "nbformat_minor": 5
}
