{
 "cells": [
  {
   "cell_type": "code",
   "execution_count": 1,
   "id": "f91eea93-c7d0-4c68-88df-129d960b4070",
   "metadata": {
    "scrolled": true
   },
   "outputs": [
    {
     "name": "stderr",
     "output_type": "stream",
     "text": [
      "[nltk_data] Downloading package punkt to\n",
      "[nltk_data]     C:\\Users\\gravi\\AppData\\Roaming\\nltk_data...\n",
      "[nltk_data]   Package punkt is already up-to-date!\n"
     ]
    }
   ],
   "source": [
    "import numpy as np\n",
    "import pandas as pd\n",
    "import matplotlib.pyplot as plt\n",
    "import seaborn as sns\n",
    "sns.set()\n",
    "\n",
    "import regex as re\n",
    "import string\n",
    "import nltk\n",
    "from nltk.tokenize import sent_tokenize, word_tokenize\n",
    "nltk.download('punkt')\n",
    "\n",
    "\n",
    "from gensim.models import Word2Vec\n",
    "\n",
    "\n",
    "import warnings \n",
    "warnings.filterwarnings(action = 'ignore')\n"
   ]
  },
  {
   "cell_type": "code",
   "execution_count": 2,
   "id": "022dcd1b-9c8f-424e-bbb7-fc750f7c2cab",
   "metadata": {},
   "outputs": [
    {
     "data": {
      "text/html": [
       "<div>\n",
       "<style scoped>\n",
       "    .dataframe tbody tr th:only-of-type {\n",
       "        vertical-align: middle;\n",
       "    }\n",
       "\n",
       "    .dataframe tbody tr th {\n",
       "        vertical-align: top;\n",
       "    }\n",
       "\n",
       "    .dataframe thead th {\n",
       "        text-align: right;\n",
       "    }\n",
       "</style>\n",
       "<table border=\"1\" class=\"dataframe\">\n",
       "  <thead>\n",
       "    <tr style=\"text-align: right;\">\n",
       "      <th></th>\n",
       "      <th>label</th>\n",
       "      <th>comment</th>\n",
       "    </tr>\n",
       "  </thead>\n",
       "  <tbody>\n",
       "    <tr>\n",
       "      <th>139484</th>\n",
       "      <td>0</td>\n",
       "      <td>Nope.</td>\n",
       "    </tr>\n",
       "    <tr>\n",
       "      <th>638093</th>\n",
       "      <td>0</td>\n",
       "      <td>Donde esta la biblioteca?</td>\n",
       "    </tr>\n",
       "    <tr>\n",
       "      <th>662570</th>\n",
       "      <td>0</td>\n",
       "      <td>I feel bad for the mummy... not even the minio...</td>\n",
       "    </tr>\n",
       "    <tr>\n",
       "      <th>652534</th>\n",
       "      <td>1</td>\n",
       "      <td>The Pirate Bay, of course!</td>\n",
       "    </tr>\n",
       "    <tr>\n",
       "      <th>411846</th>\n",
       "      <td>1</td>\n",
       "      <td>That's exactly how multiple photographers ende...</td>\n",
       "    </tr>\n",
       "  </tbody>\n",
       "</table>\n",
       "</div>"
      ],
      "text/plain": [
       "        label                                            comment\n",
       "139484      0                                              Nope.\n",
       "638093      0                          Donde esta la biblioteca?\n",
       "662570      0  I feel bad for the mummy... not even the minio...\n",
       "652534      1                         The Pirate Bay, of course!\n",
       "411846      1  That's exactly how multiple photographers ende..."
      ]
     },
     "execution_count": 2,
     "metadata": {},
     "output_type": "execute_result"
    }
   ],
   "source": [
    "reddit = pd.read_csv('sample_comments.csv', index_col=0)\n",
    "\n",
    "reddit.head()"
   ]
  },
  {
   "cell_type": "code",
   "execution_count": 25,
   "id": "cc48e51f-768a-4982-99dd-012f4ffa61bf",
   "metadata": {},
   "outputs": [],
   "source": [
    "# custom tokenizer function\n",
    "\n",
    "def tokenizer(series):\n",
    "    \n",
    "    corpus = series.values\n",
    "    tokens = []\n",
    "    \n",
    "    for document in corpus:\n",
    "        #removing punctuation\n",
    "        for punc in string.punctuation:\n",
    "            document = document.replace(punc, '')\n",
    "        # removing numbers and splitting sentences    \n",
    "        document = re.sub(\"\\d+\", \"\", document).lower()\n",
    "        tokens.append(document.split(' '))\n",
    "        \n",
    "    \n",
    "        \n",
    "\n",
    "    return tokens"
   ]
  },
  {
   "cell_type": "code",
   "execution_count": 4,
   "id": "718db9d4-5a84-44ef-b1d3-2ef766498104",
   "metadata": {
    "scrolled": true
   },
   "outputs": [],
   "source": [
    "X = reddit['comment']\n",
    "y = reddit['label']"
   ]
  },
  {
   "cell_type": "code",
   "execution_count": 5,
   "id": "f7a31b17-599c-4b98-a803-18806956de93",
   "metadata": {},
   "outputs": [
    {
     "data": {
      "text/plain": [
       "array(['Nope.', 'Donde esta la biblioteca?',\n",
       "       'I feel bad for the mummy... not even the minions want to get close to him :(',\n",
       "       ...,\n",
       "       'You have to remember that only their black lives matter.......................',\n",
       "       \"Learning few words of the local language when you do to a country wouldn't kill you.\",\n",
       "       'We could have the pre and post parties at the new fake 400 bar!'],\n",
       "      dtype=object)"
      ]
     },
     "execution_count": 5,
     "metadata": {},
     "output_type": "execute_result"
    }
   ],
   "source": [
    "X.values"
   ]
  },
  {
   "cell_type": "code",
   "execution_count": 26,
   "id": "21c608f7",
   "metadata": {
    "scrolled": true
   },
   "outputs": [
    {
     "data": {
      "text/plain": [
       "[['nope'], ['donde', 'esta', 'la', 'biblioteca']]"
      ]
     },
     "execution_count": 26,
     "metadata": {},
     "output_type": "execute_result"
    }
   ],
   "source": [
    "tokenizer(X[:2])"
   ]
  },
  {
   "cell_type": "code",
   "execution_count": 29,
   "id": "f1c01d40",
   "metadata": {
    "scrolled": false
   },
   "outputs": [],
   "source": [
    "tokenized_data = tokenizer(X)"
   ]
  },
  {
   "cell_type": "code",
   "execution_count": 30,
   "id": "5fa2729f-cf1c-4a41-a1b3-97255c5c08b8",
   "metadata": {},
   "outputs": [
    {
     "data": {
      "text/plain": [
       "(10359209, 13178775)"
      ]
     },
     "execution_count": 30,
     "metadata": {},
     "output_type": "execute_result"
    }
   ],
   "source": [
    "model = Word2Vec(tokenized_data, window=5, min_count=1, workers=4)\n",
    "model.train(tokenized_data, total_examples=model.corpus_count, epochs=model.epochs)"
   ]
  },
  {
   "cell_type": "code",
   "execution_count": 17,
   "id": "97c548a9",
   "metadata": {},
   "outputs": [
    {
     "data": {
      "text/plain": [
       "(100,)"
      ]
     },
     "execution_count": 17,
     "metadata": {},
     "output_type": "execute_result"
    }
   ],
   "source": [
    "model['related'].shape"
   ]
  },
  {
   "cell_type": "code",
   "execution_count": 31,
   "id": "e418340a",
   "metadata": {},
   "outputs": [
    {
     "data": {
      "text/plain": [
       "[('facetious', 0.8200381994247437),\n",
       " ('aggressor', 0.7399939298629761),\n",
       " ('pedantic', 0.7361928224563599),\n",
       " ('bitbybit', 0.7308194041252136),\n",
       " ('detained', 0.7280286550521851),\n",
       " ('achievementist', 0.7197221517562866),\n",
       " ('torquen', 0.6856881380081177),\n",
       " ('tattletale', 0.6836557388305664),\n",
       " ('joking', 0.6791605949401855),\n",
       " ('obtuse', 0.6784327030181885)]"
      ]
     },
     "execution_count": 31,
     "metadata": {},
     "output_type": "execute_result"
    }
   ],
   "source": [
    "model.most_similar('sarcastic')"
   ]
  },
  {
   "cell_type": "code",
   "execution_count": 32,
   "id": "d6c76501",
   "metadata": {},
   "outputs": [
    {
     "data": {
      "text/plain": [
       "[('text', 0.6611473560333252),\n",
       " ('tag', 0.6478747725486755),\n",
       " ('comment', 0.6296629905700684),\n",
       " ('username', 0.6222316026687622),\n",
       " ('nsfw', 0.6111559867858887),\n",
       " ('statement', 0.6013941168785095),\n",
       " ('reply', 0.5901398658752441),\n",
       " ('satire', 0.5847964286804199),\n",
       " ('context', 0.5755115747451782),\n",
       " ('post', 0.5723748803138733)]"
      ]
     },
     "execution_count": 32,
     "metadata": {},
     "output_type": "execute_result"
    }
   ],
   "source": [
    "model.most_similar('sarcasm')"
   ]
  },
  {
   "cell_type": "code",
   "execution_count": 33,
   "id": "15ccd29d",
   "metadata": {},
   "outputs": [
    {
     "data": {
      "text/plain": [
       "[('inaccurate', 0.747829258441925),\n",
       " ('infuriating', 0.742061197757721),\n",
       " ('wellresearched', 0.7268141508102417),\n",
       " ('factually', 0.7253165245056152),\n",
       " ('politico', 0.7236864566802979),\n",
       " ('flawed', 0.7221634387969971),\n",
       " ('intentional', 0.7181951999664307),\n",
       " ('terrifying', 0.716544508934021),\n",
       " ('contagious', 0.7157062292098999),\n",
       " ('staged', 0.7150063514709473)]"
      ]
     },
     "execution_count": 33,
     "metadata": {},
     "output_type": "execute_result"
    }
   ],
   "source": [
    "model.most_similar('satire')"
   ]
  },
  {
   "cell_type": "code",
   "execution_count": 34,
   "id": "0c6a7d70",
   "metadata": {},
   "outputs": [
    {
     "data": {
      "text/plain": [
       "[('joking', 0.6760741472244263),\n",
       " ('bitbybit', 0.6599159240722656),\n",
       " ('aggressor', 0.6523123979568481),\n",
       " ('creepy', 0.6496952772140503),\n",
       " ('soundless', 0.6395905017852783),\n",
       " ('torquen', 0.6372244358062744),\n",
       " ('facetious', 0.6243019104003906),\n",
       " ('detained', 0.6224038600921631),\n",
       " ('wowi', 0.6156713366508484),\n",
       " ('pedantic', 0.614473283290863)]"
      ]
     },
     "execution_count": 34,
     "metadata": {},
     "output_type": "execute_result"
    }
   ],
   "source": [
    "model.most_similar(positive=['joke', 'sarcastic'])"
   ]
  },
  {
   "cell_type": "code",
   "execution_count": 36,
   "id": "8da23383",
   "metadata": {},
   "outputs": [
    {
     "data": {
      "text/plain": [
       "[('facetious', 0.7672279477119446),\n",
       " ('staggered', 0.7110379338264465),\n",
       " ('achievementist', 0.7010456323623657),\n",
       " ('gaystop', 0.6858866810798645),\n",
       " ('reprinted', 0.6763424873352051)]"
      ]
     },
     "execution_count": 36,
     "metadata": {},
     "output_type": "execute_result"
    }
   ],
   "source": [
    "model.most_similar(positive=['pedantic', 'sarcastic'], negative=['joke'], topn=5)"
   ]
  },
  {
   "cell_type": "code",
   "execution_count": 38,
   "id": "fbea1c24",
   "metadata": {},
   "outputs": [
    {
     "data": {
      "text/plain": [
       "[('bigotry', 0.6851497888565063),\n",
       " ('purely', 0.6750657558441162),\n",
       " ('science', 0.6593804955482483),\n",
       " ('reality', 0.6412777900695801),\n",
       " ('islam', 0.6371521353721619),\n",
       " ('statements', 0.6370168924331665),\n",
       " ('nature', 0.6303627490997314),\n",
       " ('psychology', 0.6246601343154907),\n",
       " ('feminism', 0.6218329668045044),\n",
       " ('racism', 0.6144044399261475)]"
      ]
     },
     "execution_count": 38,
     "metadata": {},
     "output_type": "execute_result"
    }
   ],
   "source": [
    "model.most_similar(positive=['politics', 'sarcasm'])"
   ]
  },
  {
   "cell_type": "code",
   "execution_count": 40,
   "id": "b8276f2a",
   "metadata": {},
   "outputs": [
    {
     "data": {
      "text/plain": [
       "[('irishamerican', 0.8193817138671875),\n",
       " ('duckglass', 0.8165876865386963),\n",
       " ('whiiiiiiiite', 0.8109094500541687),\n",
       " ('fujin', 0.80914705991745),\n",
       " ('ugandan', 0.8077531456947327),\n",
       " ('zweten', 0.8063657283782959),\n",
       " ('demoman', 0.8038619756698608),\n",
       " ('itsnot', 0.7996152639389038),\n",
       " ('ezzz', 0.7910621762275696),\n",
       " ('descriptor', 0.787704348564148)]"
      ]
     },
     "execution_count": 40,
     "metadata": {},
     "output_type": "execute_result"
    }
   ],
   "source": [
    "model.most_similar(['onion', 'facetious'])"
   ]
  },
  {
   "cell_type": "code",
   "execution_count": 41,
   "id": "623762e0",
   "metadata": {},
   "outputs": [],
   "source": [
    "words = ['duh', 'scrub', 'obvious', 'shitlord', 'forgot', 'imo', 'although', 'honestly', 'mostly', 'unfortunate']"
   ]
  },
  {
   "cell_type": "code",
   "execution_count": 42,
   "id": "4262d8b4",
   "metadata": {},
   "outputs": [],
   "source": [
    "sarcasm_test = []\n",
    "\n",
    "for word in words:\n",
    "    sarcasm_test.append(model[word])"
   ]
  },
  {
   "cell_type": "code",
   "execution_count": 44,
   "id": "c2f7eea8",
   "metadata": {},
   "outputs": [],
   "source": [
    "from sklearn.decomposition import PCA\n",
    "\n",
    "pca = PCA(n_components=2)\n",
    "\n",
    "top_words = pca.fit_transform(sarcasm_test)"
   ]
  },
  {
   "cell_type": "code",
   "execution_count": 57,
   "id": "96018ff9",
   "metadata": {
    "scrolled": true
   },
   "outputs": [
    {
     "data": {
      "image/png": "[encoded data removed]",
      "text/plain": [
       "<Figure size 1000x1000 with 1 Axes>"
      ]
     },
     "metadata": {},
     "output_type": "display_data"
    }
   ],
   "source": [
    "plt.figure(figsize=(10,10))\n",
    "plt.scatter(top_words[:,0], top_words[:,1])\n",
    "            \n",
    "for i, word in enumerate(words):\n",
    "    plt.annotate(word, xy=(top_words[i,0], top_words[i,1]), xytext=(2,2), textcoords='offset points')\n",
    "\n",
    "plt.show()"
   ]
  },
  {
   "cell_type": "code",
   "execution_count": null,
   "id": "a7f7ed00",
   "metadata": {},
   "outputs": [],
   "source": []
  }
 ],
 "metadata": {
  "kernelspec": {
   "display_name": "sarcasm",
   "language": "python",
   "name": "sarcasm"
  },
  "language_info": {
   "codemirror_mode": {
    "name": "ipython",
    "version": 3
   },
   "file_extension": ".py",
   "mimetype": "text/x-python",
   "name": "python",
   "nbconvert_exporter": "python",
   "pygments_lexer": "ipython3",
   "version": "3.8.18"
  }
 },
 "nbformat": 4,
 "nbformat_minor": 5
}
