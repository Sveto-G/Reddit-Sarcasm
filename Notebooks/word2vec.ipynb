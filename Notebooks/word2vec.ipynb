{
 "cells": [
  {
   "cell_type": "code",
   "execution_count": 1,
   "id": "f91eea93-c7d0-4c68-88df-129d960b4070",
   "metadata": {
    "scrolled": true
   },
   "outputs": [
    {
     "ename": "RuntimeError",
     "evalue": "module compiled against API version 0xe but this version of numpy is 0xd",
     "output_type": "error",
     "traceback": [
      "\u001b[1;31m---------------------------------------------------------------------------\u001b[0m",
      "\u001b[1;31mRuntimeError\u001b[0m                              Traceback (most recent call last)",
      "\u001b[1;31mRuntimeError\u001b[0m: module compiled against API version 0xe but this version of numpy is 0xd"
     ]
    },
    {
     "name": "stderr",
     "output_type": "stream",
     "text": [
      "[nltk_data] Downloading package punkt to\n",
      "[nltk_data]     C:\\Users\\gravi\\AppData\\Roaming\\nltk_data...\n",
      "[nltk_data]   Package punkt is already up-to-date!\n"
     ]
    }
   ],
   "source": [
    "import numpy as np\n",
    "import pandas as pd\n",
    "import matplotlib.pyplot as plt\n",
    "import seaborn as sns\n",
    "sns.set()\n",
    "\n",
    "import regex as re\n",
    "import string\n",
    "import nltk\n",
    "from nltk.tokenize import sent_tokenize, word_tokenize\n",
    "nltk.download('punkt')\n",
    "\n",
    "\n",
    "from gensim.models import Word2Vec\n",
    "\n",
    "\n",
    "import warnings \n",
    "warnings.filterwarnings(action = 'ignore')\n"
   ]
  },
  {
   "cell_type": "code",
   "execution_count": 2,
   "id": "022dcd1b-9c8f-424e-bbb7-fc750f7c2cab",
   "metadata": {},
   "outputs": [
    {
     "data": {
      "text/html": [
       "<div>\n",
       "<style scoped>\n",
       "    .dataframe tbody tr th:only-of-type {\n",
       "        vertical-align: middle;\n",
       "    }\n",
       "\n",
       "    .dataframe tbody tr th {\n",
       "        vertical-align: top;\n",
       "    }\n",
       "\n",
       "    .dataframe thead th {\n",
       "        text-align: right;\n",
       "    }\n",
       "</style>\n",
       "<table border=\"1\" class=\"dataframe\">\n",
       "  <thead>\n",
       "    <tr style=\"text-align: right;\">\n",
       "      <th></th>\n",
       "      <th>label</th>\n",
       "      <th>comment</th>\n",
       "    </tr>\n",
       "  </thead>\n",
       "  <tbody>\n",
       "    <tr>\n",
       "      <th>139484</th>\n",
       "      <td>0</td>\n",
       "      <td>Nope.</td>\n",
       "    </tr>\n",
       "    <tr>\n",
       "      <th>638093</th>\n",
       "      <td>0</td>\n",
       "      <td>Donde esta la biblioteca?</td>\n",
       "    </tr>\n",
       "    <tr>\n",
       "      <th>662570</th>\n",
       "      <td>0</td>\n",
       "      <td>I feel bad for the mummy... not even the minio...</td>\n",
       "    </tr>\n",
       "    <tr>\n",
       "      <th>652534</th>\n",
       "      <td>1</td>\n",
       "      <td>The Pirate Bay, of course!</td>\n",
       "    </tr>\n",
       "    <tr>\n",
       "      <th>411846</th>\n",
       "      <td>1</td>\n",
       "      <td>That's exactly how multiple photographers ende...</td>\n",
       "    </tr>\n",
       "  </tbody>\n",
       "</table>\n",
       "</div>"
      ],
      "text/plain": [
       "        label                                            comment\n",
       "139484      0                                              Nope.\n",
       "638093      0                          Donde esta la biblioteca?\n",
       "662570      0  I feel bad for the mummy... not even the minio...\n",
       "652534      1                         The Pirate Bay, of course!\n",
       "411846      1  That's exactly how multiple photographers ende..."
      ]
     },
     "execution_count": 2,
     "metadata": {},
     "output_type": "execute_result"
    }
   ],
   "source": [
    "reddit = pd.read_csv('sample_comments.csv', index_col=0)\n",
    "\n",
    "reddit.head()"
   ]
  },
  {
   "cell_type": "code",
   "execution_count": 3,
   "id": "cc48e51f-768a-4982-99dd-012f4ffa61bf",
   "metadata": {},
   "outputs": [],
   "source": [
    "# custom tokenizer function\n",
    "\n",
    "def tokenizer(series):\n",
    "    \n",
    "    corpus = series.values\n",
    "    tokens = []\n",
    "    \n",
    "    for document in corpus:\n",
    "        #removing punctuation\n",
    "        for punc in string.punctuation:\n",
    "            document = document.replace(punc, '')\n",
    "        # removing numbers and splitting sentences    \n",
    "        document = re.sub(\"\\d+\", \"\", document).lower()\n",
    "        tokens.append(document.split(' '))\n",
    "        \n",
    "    \n",
    "        \n",
    "\n",
    "    return tokens"
   ]
  },
  {
   "cell_type": "code",
   "execution_count": 4,
   "id": "718db9d4-5a84-44ef-b1d3-2ef766498104",
   "metadata": {
    "scrolled": true
   },
   "outputs": [],
   "source": [
    "X = reddit['comment']\n",
    "y = reddit['label']"
   ]
  },
  {
   "cell_type": "code",
   "execution_count": 5,
   "id": "f7a31b17-599c-4b98-a803-18806956de93",
   "metadata": {},
   "outputs": [
    {
     "data": {
      "text/plain": [
       "array(['Nope.', 'Donde esta la biblioteca?',\n",
       "       'I feel bad for the mummy... not even the minions want to get close to him :(',\n",
       "       ...,\n",
       "       'You have to remember that only their black lives matter.......................',\n",
       "       \"Learning few words of the local language when you do to a country wouldn't kill you.\",\n",
       "       'We could have the pre and post parties at the new fake 400 bar!'],\n",
       "      dtype=object)"
      ]
     },
     "execution_count": 5,
     "metadata": {},
     "output_type": "execute_result"
    }
   ],
   "source": [
    "X.values"
   ]
  },
  {
   "cell_type": "code",
   "execution_count": 6,
   "id": "394d009a",
   "metadata": {
    "scrolled": true
   },
   "outputs": [
    {
     "data": {
      "text/plain": [
       "[['nope'], ['donde', 'esta', 'la', 'biblioteca']]"
      ]
     },
     "execution_count": 6,
     "metadata": {},
     "output_type": "execute_result"
    }
   ],
   "source": [
    "tokenizer(X[:2])"
   ]
  },
  {
   "cell_type": "code",
   "execution_count": 7,
   "id": "b66157e7",
   "metadata": {},
   "outputs": [],
   "source": [
    "tokenized_data = tokenizer(X)"
   ]
  },
  {
   "cell_type": "code",
   "execution_count": 8,
   "id": "5fa2729f-cf1c-4a41-a1b3-97255c5c08b8",
   "metadata": {},
   "outputs": [
    {
     "data": {
      "text/plain": [
       "(10361226, 13178775)"
      ]
     },
     "execution_count": 8,
     "metadata": {},
     "output_type": "execute_result"
    }
   ],
   "source": [
    "model = Word2Vec(tokenized_data, window=5, min_count=1, workers=4)\n",
    "model.train(tokenized_data, total_examples=model.corpus_count, epochs=model.epochs)"
   ]
  },
  {
   "cell_type": "code",
   "execution_count": 9,
   "id": "f361d875",
   "metadata": {},
   "outputs": [
    {
     "data": {
      "text/plain": [
       "[('facetious', 0.8223916292190552),\n",
       " ('aggressor', 0.7684721350669861),\n",
       " ('bitbybit', 0.7398645281791687),\n",
       " ('pedantic', 0.7342798113822937),\n",
       " ('detained', 0.7140474319458008),\n",
       " ('obtuse', 0.7075532674789429),\n",
       " ('suspendedbanned', 0.7023723125457764),\n",
       " ('gorssi', 0.6952130198478699),\n",
       " ('glamorouslion', 0.6774652004241943),\n",
       " ('polyglot', 0.6701116561889648)]"
      ]
     },
     "execution_count": 9,
     "metadata": {},
     "output_type": "execute_result"
    }
   ],
   "source": [
    "model.most_similar('sarcastic')"
   ]
  },
  {
   "cell_type": "code",
   "execution_count": 10,
   "id": "f3855c6e",
   "metadata": {},
   "outputs": [
    {
     "data": {
      "text/plain": [
       "[('comment', 0.6437023282051086),\n",
       " ('text', 0.610785722732544),\n",
       " ('satire', 0.6069098711013794),\n",
       " ('tag', 0.6054913997650146),\n",
       " ('nsfw', 0.6004536151885986),\n",
       " ('post', 0.5957586169242859),\n",
       " ('username', 0.5869153738021851),\n",
       " ('reply', 0.5826002955436707),\n",
       " ('op', 0.5642368197441101),\n",
       " ('context', 0.5590019226074219)]"
      ]
     },
     "execution_count": 10,
     "metadata": {},
     "output_type": "execute_result"
    }
   ],
   "source": [
    "model.most_similar('sarcasm')"
   ]
  },
  {
   "cell_type": "code",
   "execution_count": 11,
   "id": "2be1ddd4",
   "metadata": {},
   "outputs": [
    {
     "data": {
      "text/plain": [
       "[('incorrect', 0.7735333442687988),\n",
       " ('factually', 0.7582775354385376),\n",
       " ('flawed', 0.7536082863807678),\n",
       " ('moleskine', 0.7447558641433716),\n",
       " ('silliness', 0.738822340965271),\n",
       " ('kayfabe', 0.7379746437072754),\n",
       " ('inaccurate', 0.7313666343688965),\n",
       " ('visionary', 0.7310663461685181),\n",
       " ('censorship', 0.7297487854957581),\n",
       " ('technicality', 0.7287907004356384)]"
      ]
     },
     "execution_count": 11,
     "metadata": {},
     "output_type": "execute_result"
    }
   ],
   "source": [
    "model.most_similar('satire')"
   ]
  },
  {
   "cell_type": "code",
   "execution_count": 12,
   "id": "6ea9f6f4",
   "metadata": {},
   "outputs": [
    {
     "data": {
      "text/plain": [
       "[('facetious', 0.6857595443725586),\n",
       " ('joking', 0.6691835522651672),\n",
       " ('bitbybit', 0.6486337780952454),\n",
       " ('obtuse', 0.632790207862854),\n",
       " ('satire', 0.6318671703338623),\n",
       " ('superstorm', 0.627595067024231),\n",
       " ('rnjesus', 0.6219795942306519),\n",
       " ('kmfdm', 0.614089846611023),\n",
       " ('nonmainstream', 0.6140598058700562),\n",
       " ('matante', 0.6140228509902954)]"
      ]
     },
     "execution_count": 12,
     "metadata": {},
     "output_type": "execute_result"
    }
   ],
   "source": [
    "model.most_similar(positive=['joke', 'sarcastic'])"
   ]
  },
  {
   "cell_type": "code",
   "execution_count": 13,
   "id": "87a2ab09",
   "metadata": {},
   "outputs": [
    {
     "data": {
      "text/plain": [
       "[('facetious', 0.6974167227745056),\n",
       " ('exleo', 0.689556896686554),\n",
       " ('relocated', 0.6881237030029297),\n",
       " ('achievementist', 0.6790684461593628),\n",
       " ('staggered', 0.6761832237243652)]"
      ]
     },
     "execution_count": 13,
     "metadata": {},
     "output_type": "execute_result"
    }
   ],
   "source": [
    "model.most_similar(positive=['pedantic', 'sarcastic'], negative=['joke'], topn=5)"
   ]
  },
  {
   "cell_type": "code",
   "execution_count": 14,
   "id": "8b1c13e1",
   "metadata": {},
   "outputs": [
    {
     "data": {
      "text/plain": [
       "[('bigotry', 0.684384286403656),\n",
       " ('islam', 0.6730672121047974),\n",
       " ('censorship', 0.6333011984825134),\n",
       " ('gamergate', 0.6281830668449402),\n",
       " ('racism', 0.6215910911560059),\n",
       " ('ignorance', 0.6200709342956543),\n",
       " ('statements', 0.6192768216133118),\n",
       " ('existence', 0.6184942722320557),\n",
       " ('nature', 0.6132638454437256),\n",
       " ('somethingawful', 0.6128358840942383)]"
      ]
     },
     "execution_count": 14,
     "metadata": {},
     "output_type": "execute_result"
    }
   ],
   "source": [
    "model.most_similar(positive=['politics', 'sarcasm'])"
   ]
  },
  {
   "cell_type": "code",
   "execution_count": 15,
   "id": "2984dc29",
   "metadata": {
    "scrolled": true
   },
   "outputs": [
    {
     "data": {
      "text/plain": [
       "[('duckglass', 0.8424065709114075),\n",
       " ('ezzz', 0.8341936469078064),\n",
       " ('itsnot', 0.8292207717895508),\n",
       " ('nomad', 0.8278502821922302),\n",
       " ('brooooown', 0.8170552253723145),\n",
       " ('whiiiiiiiite', 0.8112879991531372),\n",
       " ('eaaaasy', 0.7996465563774109),\n",
       " ('fujin', 0.795872151851654),\n",
       " ('cerrone', 0.7926978468894958),\n",
       " ('uu', 0.7917901277542114)]"
      ]
     },
     "execution_count": 15,
     "metadata": {},
     "output_type": "execute_result"
    }
   ],
   "source": [
    "model.most_similar(['onion', 'facetious'])"
   ]
  },
  {
   "cell_type": "code",
   "execution_count": 16,
   "id": "ce70df6d",
   "metadata": {},
   "outputs": [
    {
     "data": {
      "text/html": [
       "<div>\n",
       "<style scoped>\n",
       "    .dataframe tbody tr th:only-of-type {\n",
       "        vertical-align: middle;\n",
       "    }\n",
       "\n",
       "    .dataframe tbody tr th {\n",
       "        vertical-align: top;\n",
       "    }\n",
       "\n",
       "    .dataframe thead th {\n",
       "        text-align: right;\n",
       "    }\n",
       "</style>\n",
       "<table border=\"1\" class=\"dataframe\">\n",
       "  <thead>\n",
       "    <tr style=\"text-align: right;\">\n",
       "      <th></th>\n",
       "      <th>sarcastic</th>\n",
       "      <th>genuine</th>\n",
       "    </tr>\n",
       "  </thead>\n",
       "  <tbody>\n",
       "    <tr>\n",
       "      <th>0</th>\n",
       "      <td>facetious</td>\n",
       "      <td>hooch</td>\n",
       "    </tr>\n",
       "    <tr>\n",
       "      <th>1</th>\n",
       "      <td>aggressor</td>\n",
       "      <td>uvm</td>\n",
       "    </tr>\n",
       "    <tr>\n",
       "      <th>2</th>\n",
       "      <td>bitbybit</td>\n",
       "      <td>kasing</td>\n",
       "    </tr>\n",
       "    <tr>\n",
       "      <th>3</th>\n",
       "      <td>pedantic</td>\n",
       "      <td>proportionate</td>\n",
       "    </tr>\n",
       "    <tr>\n",
       "      <th>4</th>\n",
       "      <td>detained</td>\n",
       "      <td>magandang</td>\n",
       "    </tr>\n",
       "    <tr>\n",
       "      <th>5</th>\n",
       "      <td>obtuse</td>\n",
       "      <td>anakanak</td>\n",
       "    </tr>\n",
       "    <tr>\n",
       "      <th>6</th>\n",
       "      <td>suspendedbanned</td>\n",
       "      <td>cobraba</td>\n",
       "    </tr>\n",
       "    <tr>\n",
       "      <th>7</th>\n",
       "      <td>gorssi</td>\n",
       "      <td>hueek</td>\n",
       "    </tr>\n",
       "    <tr>\n",
       "      <th>8</th>\n",
       "      <td>glamorouslion</td>\n",
       "      <td>materialism</td>\n",
       "    </tr>\n",
       "    <tr>\n",
       "      <th>9</th>\n",
       "      <td>polyglot</td>\n",
       "      <td>intersex</td>\n",
       "    </tr>\n",
       "  </tbody>\n",
       "</table>\n",
       "</div>"
      ],
      "text/plain": [
       "         sarcastic        genuine\n",
       "0        facetious          hooch\n",
       "1        aggressor            uvm\n",
       "2         bitbybit         kasing\n",
       "3         pedantic  proportionate\n",
       "4         detained      magandang\n",
       "5           obtuse       anakanak\n",
       "6  suspendedbanned        cobraba\n",
       "7           gorssi          hueek\n",
       "8    glamorouslion    materialism\n",
       "9         polyglot       intersex"
      ]
     },
     "execution_count": 16,
     "metadata": {},
     "output_type": "execute_result"
    }
   ],
   "source": [
    "sarcastic = model.most_similar(positive=['sarcastic'])\n",
    "genuine = model.most_similar(positive=['genuine'])\n",
    "\n",
    "pd.DataFrame(\n",
    "        data={\n",
    "            \"sarcastic\": [word for word, sim in sarcastic], \n",
    "            \"genuine\": [word for word, sim in genuine]\n",
    "        }\n",
    ")"
   ]
  },
  {
   "cell_type": "code",
   "execution_count": 17,
   "id": "13c1c270",
   "metadata": {},
   "outputs": [
    {
     "data": {
      "text/html": [
       "<div>\n",
       "<style scoped>\n",
       "    .dataframe tbody tr th:only-of-type {\n",
       "        vertical-align: middle;\n",
       "    }\n",
       "\n",
       "    .dataframe tbody tr th {\n",
       "        vertical-align: top;\n",
       "    }\n",
       "\n",
       "    .dataframe thead th {\n",
       "        text-align: right;\n",
       "    }\n",
       "</style>\n",
       "<table border=\"1\" class=\"dataframe\">\n",
       "  <thead>\n",
       "    <tr style=\"text-align: right;\">\n",
       "      <th></th>\n",
       "      <th>misleading</th>\n",
       "      <th>honest</th>\n",
       "    </tr>\n",
       "  </thead>\n",
       "  <tbody>\n",
       "    <tr>\n",
       "      <th>0</th>\n",
       "      <td>clickbait</td>\n",
       "      <td>fair</td>\n",
       "    </tr>\n",
       "    <tr>\n",
       "      <th>1</th>\n",
       "      <td>editorialized</td>\n",
       "      <td>raked</td>\n",
       "    </tr>\n",
       "    <tr>\n",
       "      <th>2</th>\n",
       "      <td>clickbaitesque</td>\n",
       "      <td>grateful</td>\n",
       "    </tr>\n",
       "    <tr>\n",
       "      <th>3</th>\n",
       "      <td>sensationalized</td>\n",
       "      <td>sterilised</td>\n",
       "    </tr>\n",
       "    <tr>\n",
       "      <th>4</th>\n",
       "      <td>unintentional</td>\n",
       "      <td>prepared</td>\n",
       "    </tr>\n",
       "    <tr>\n",
       "      <th>5</th>\n",
       "      <td>clickbaity</td>\n",
       "      <td>thankful</td>\n",
       "    </tr>\n",
       "    <tr>\n",
       "      <th>6</th>\n",
       "      <td>proassad</td>\n",
       "      <td>gaddds</td>\n",
       "    </tr>\n",
       "    <tr>\n",
       "      <th>7</th>\n",
       "      <td>grammatical</td>\n",
       "      <td>homophonobic</td>\n",
       "    </tr>\n",
       "    <tr>\n",
       "      <th>8</th>\n",
       "      <td>fascinating</td>\n",
       "      <td>kinindanorf</td>\n",
       "    </tr>\n",
       "    <tr>\n",
       "      <th>9</th>\n",
       "      <td>blatent</td>\n",
       "      <td>rude</td>\n",
       "    </tr>\n",
       "  </tbody>\n",
       "</table>\n",
       "</div>"
      ],
      "text/plain": [
       "        misleading        honest\n",
       "0        clickbait          fair\n",
       "1    editorialized         raked\n",
       "2   clickbaitesque      grateful\n",
       "3  sensationalized    sterilised\n",
       "4    unintentional      prepared\n",
       "5       clickbaity      thankful\n",
       "6         proassad        gaddds\n",
       "7      grammatical  homophonobic\n",
       "8      fascinating   kinindanorf\n",
       "9          blatent          rude"
      ]
     },
     "execution_count": 17,
     "metadata": {},
     "output_type": "execute_result"
    }
   ],
   "source": [
    "misleading = model.most_similar(positive=['misleading'])\n",
    "honest = model.most_similar(positive=['honest'])\n",
    "\n",
    "pd.DataFrame(\n",
    "        data={\n",
    "            \"misleading\": [word for word, sim in misleading], \n",
    "            \"honest\": [word for word, sim in honest]\n",
    "        }\n",
    ")"
   ]
  },
  {
   "cell_type": "code",
   "execution_count": 18,
   "id": "922914d3",
   "metadata": {},
   "outputs": [],
   "source": [
    "words = ['duh', 'scrub', 'obvious', 'shitlord', 'forgot', 'imo', 'although', 'honestly', 'mostly', 'unfortunate']"
   ]
  },
  {
   "cell_type": "code",
   "execution_count": 19,
   "id": "1f3808f4",
   "metadata": {},
   "outputs": [],
   "source": [
    "sarcasm_test = []\n",
    "\n",
    "for word in words:\n",
    "    sarcasm_test.append(model[word])"
   ]
  },
  {
   "cell_type": "code",
   "execution_count": 20,
   "id": "3bd6a2e4",
   "metadata": {},
   "outputs": [],
   "source": [
    "from sklearn.decomposition import PCA\n",
    "\n",
    "pca = PCA(n_components=2)\n",
    "\n",
    "top_words = pca.fit_transform(sarcasm_test)"
   ]
  },
  {
   "cell_type": "code",
   "execution_count": 21,
   "id": "8de6a5a9",
   "metadata": {
    "scrolled": true
   },
   "outputs": [
    {
     "data": {
      "image/png": "[encoded data removed]",
      "text/plain": [
       "<Figure size 1000x1000 with 1 Axes>"
      ]
     },
     "metadata": {},
     "output_type": "display_data"
    }
   ],
   "source": [
    "plt.figure(figsize=(10,10))\n",
    "plt.scatter(top_words[:,0], top_words[:,1])\n",
    "            \n",
    "for i, word in enumerate(words):\n",
    "    plt.annotate(word, xy=(top_words[i,0], top_words[i,1]), xytext=(2,2), textcoords='offset points')\n",
    "\n",
    "plt.show()"
   ]
  },
  {
   "cell_type": "code",
   "execution_count": 22,
   "id": "3f0f4fd8",
   "metadata": {},
   "outputs": [],
   "source": [
    "def sentence(document):\n",
    "    size = model.vector_size\n",
    "    word_vec_document = np.zeros(size)\n",
    "    count = 1\n",
    "    \n",
    "    for word in document:\n",
    "        if word in model:\n",
    "            count +=1\n",
    "            word_vec_document += model[word]\n",
    "    \n",
    "    word_vec_document = word_vec_document / count\n",
    "    \n",
    "    return word_vec_document"
   ]
  },
  {
   "cell_type": "code",
   "execution_count": 23,
   "id": "beb32d88",
   "metadata": {},
   "outputs": [],
   "source": [
    "test_document = 'I love my wife. She is so beautiful.'\n",
    "new_test = 'call me again tomorrow, so good to see you'"
   ]
  },
  {
   "cell_type": "code",
   "execution_count": 24,
   "id": "cbba8007",
   "metadata": {},
   "outputs": [
    {
     "data": {
      "text/plain": [
       "array([ 2.03575868e-01, -1.24606917e-01,  4.10904684e-02,  1.17511796e-01,\n",
       "       -1.67836134e-02,  1.43586998e-01,  9.40113385e-01, -9.36076465e-01,\n",
       "        6.18493772e-01, -9.70455712e-02, -4.38008437e-01, -5.17745613e-01,\n",
       "        5.93116185e-01,  4.97722527e-01, -5.16428556e-01,  8.55620643e-01,\n",
       "       -5.84388936e-01,  8.26511679e-01,  7.01607355e-01, -3.00291034e-01,\n",
       "        1.38382582e-01, -1.37794142e+00, -2.55469392e-01,  9.68423017e-01,\n",
       "        7.61804982e-01,  4.67530609e-03, -1.68789747e-01,  7.32610525e-01,\n",
       "       -9.58029598e-01,  5.53019220e-01, -1.16614313e+00,  4.34671949e-01,\n",
       "       -1.17087349e+00,  6.26446837e-01, -1.38107879e-01, -5.89826264e-01,\n",
       "        1.87314492e-01, -1.09387001e-01,  6.64476683e-01, -2.17734294e-02,\n",
       "        4.23988621e-01,  6.31424649e-01, -8.30994487e-01, -7.64335080e-01,\n",
       "        1.37615352e-01,  3.44531473e-01,  1.45589517e-01, -3.98674348e-02,\n",
       "        4.10627308e-01,  4.33029841e-01, -6.67910106e-01, -7.95828395e-01,\n",
       "       -7.09284649e-01,  9.15144154e-01,  2.66143497e-01,  4.80616263e-01,\n",
       "        9.09866228e-01,  8.30354579e-01, -1.86449761e-01,  1.25952525e+00,\n",
       "       -1.18332920e+00,  4.43282181e-01,  5.74612789e-02,  7.58473858e-01,\n",
       "       -7.95220774e-01,  4.36384964e-01, -5.23788515e-02,  4.26973896e-01,\n",
       "        2.92229973e-02, -3.38411225e-01, -4.31368696e-01,  1.33857359e-01,\n",
       "        9.51380865e-01, -2.20913208e-01,  4.47199481e-01,  1.84243020e-01,\n",
       "       -2.87982625e-01, -1.52395938e-01,  1.02121568e-01,  1.34552595e+00,\n",
       "        1.32944746e+00, -4.72731707e-01, -4.19175475e-01, -1.13599496e-01,\n",
       "        6.08832253e-01, -8.53762739e-01, -3.61234714e-01, -1.55013026e-02,\n",
       "       -2.06376294e-01,  3.13635790e-01,  9.01919154e-01,  5.66514546e-01,\n",
       "        8.10286603e-04,  8.92023102e-01, -7.17475187e-01,  1.48326353e-01,\n",
       "       -2.02606154e-01,  6.69862977e-01,  1.20724519e+00, -4.90305267e-01])"
      ]
     },
     "execution_count": 24,
     "metadata": {},
     "output_type": "execute_result"
    }
   ],
   "source": [
    "sentence(test_document)"
   ]
  },
  {
   "cell_type": "code",
   "execution_count": 25,
   "id": "d5f10fe6",
   "metadata": {},
   "outputs": [
    {
     "name": "stdout",
     "output_type": "stream",
     "text": [
      "100\n"
     ]
    }
   ],
   "source": [
    "variable = sentence(new_test)\n",
    "print(len(variable))"
   ]
  },
  {
   "cell_type": "code",
   "execution_count": 26,
   "id": "5352f265",
   "metadata": {},
   "outputs": [],
   "source": [
    "document_vectors = [sentence(doc) for doc in tokenized_data]"
   ]
  },
  {
   "cell_type": "code",
   "execution_count": 27,
   "id": "2d30ca55",
   "metadata": {},
   "outputs": [
    {
     "data": {
      "text/plain": [
       "(100,)"
      ]
     },
     "execution_count": 27,
     "metadata": {},
     "output_type": "execute_result"
    }
   ],
   "source": [
    "document_vectors[0].shape"
   ]
  },
  {
   "cell_type": "code",
   "execution_count": 28,
   "id": "f4d3f2cb",
   "metadata": {},
   "outputs": [],
   "source": [
    "X = document_vectors"
   ]
  },
  {
   "cell_type": "code",
   "execution_count": 29,
   "id": "ce38569d",
   "metadata": {},
   "outputs": [],
   "source": [
    "from sklearn.model_selection import train_test_split\n",
    "X_rem, X_test, y_rem, y_test = train_test_split(X, y, test_size=0.25, random_state=42)"
   ]
  },
  {
   "cell_type": "code",
   "execution_count": 30,
   "id": "4a6c8a0b",
   "metadata": {},
   "outputs": [],
   "source": [
    "\n",
    "X_train, X_val, y_train, y_val = train_test_split(X_rem, y_rem, test_size=0.25, random_state=42)"
   ]
  },
  {
   "cell_type": "code",
   "execution_count": 31,
   "id": "7c6bb22e",
   "metadata": {
    "scrolled": false
   },
   "outputs": [
    {
     "data": {
      "text/plain": [
       "142131"
      ]
     },
     "execution_count": 31,
     "metadata": {},
     "output_type": "execute_result"
    }
   ],
   "source": [
    "len(X_train)"
   ]
  },
  {
   "cell_type": "code",
   "execution_count": 32,
   "id": "e11eebc5-aa11-4f70-a0e2-9811a3490201",
   "metadata": {},
   "outputs": [
    {
     "data": {
      "text/plain": [
       "(8699066, 13178775)"
      ]
     },
     "execution_count": 32,
     "metadata": {},
     "output_type": "execute_result"
    }
   ],
   "source": [
    "model = Word2Vec(tokenized_data, window=5, min_count=1, workers=4, size=300, max_vocab_size=10000 )\n",
    "model.train(tokenized_data, total_examples=model.corpus_count, epochs=model.epochs)"
   ]
  },
  {
   "cell_type": "code",
   "execution_count": 33,
   "id": "2d16838f-b079-4aa3-b873-9a6e83c1b3e5",
   "metadata": {},
   "outputs": [
    {
     "data": {
      "text/html": [
       "<div>\n",
       "<style scoped>\n",
       "    .dataframe tbody tr th:only-of-type {\n",
       "        vertical-align: middle;\n",
       "    }\n",
       "\n",
       "    .dataframe tbody tr th {\n",
       "        vertical-align: top;\n",
       "    }\n",
       "\n",
       "    .dataframe thead th {\n",
       "        text-align: right;\n",
       "    }\n",
       "</style>\n",
       "<table border=\"1\" class=\"dataframe\">\n",
       "  <thead>\n",
       "    <tr style=\"text-align: right;\">\n",
       "      <th></th>\n",
       "      <th>lie</th>\n",
       "      <th>honest</th>\n",
       "    </tr>\n",
       "  </thead>\n",
       "  <tbody>\n",
       "    <tr>\n",
       "      <th>0</th>\n",
       "      <td>talk</td>\n",
       "      <td>fair</td>\n",
       "    </tr>\n",
       "    <tr>\n",
       "      <th>1</th>\n",
       "      <td>complain</td>\n",
       "      <td>careful</td>\n",
       "    </tr>\n",
       "    <tr>\n",
       "      <th>2</th>\n",
       "      <td>forget</td>\n",
       "      <td>aggressive</td>\n",
       "    </tr>\n",
       "    <tr>\n",
       "      <th>3</th>\n",
       "      <td>worry</td>\n",
       "      <td>rude</td>\n",
       "    </tr>\n",
       "    <tr>\n",
       "      <th>4</th>\n",
       "      <td>happen</td>\n",
       "      <td>prepared</td>\n",
       "    </tr>\n",
       "    <tr>\n",
       "      <th>5</th>\n",
       "      <td>listen</td>\n",
       "      <td>sarcastic</td>\n",
       "    </tr>\n",
       "    <tr>\n",
       "      <th>6</th>\n",
       "      <td>trust</td>\n",
       "      <td>proud</td>\n",
       "    </tr>\n",
       "    <tr>\n",
       "      <th>7</th>\n",
       "      <td>care</td>\n",
       "      <td>offensive</td>\n",
       "    </tr>\n",
       "    <tr>\n",
       "      <th>8</th>\n",
       "      <td>criticize</td>\n",
       "      <td>optimistic</td>\n",
       "    </tr>\n",
       "    <tr>\n",
       "      <th>9</th>\n",
       "      <td>allow</td>\n",
       "      <td>ignorant</td>\n",
       "    </tr>\n",
       "  </tbody>\n",
       "</table>\n",
       "</div>"
      ],
      "text/plain": [
       "         lie      honest\n",
       "0       talk        fair\n",
       "1   complain     careful\n",
       "2     forget  aggressive\n",
       "3      worry        rude\n",
       "4     happen    prepared\n",
       "5     listen   sarcastic\n",
       "6      trust       proud\n",
       "7       care   offensive\n",
       "8  criticize  optimistic\n",
       "9      allow    ignorant"
      ]
     },
     "execution_count": 33,
     "metadata": {},
     "output_type": "execute_result"
    }
   ],
   "source": [
    "mislead = model.most_similar(positive=['lie'])\n",
    "honest = model.most_similar(positive=['honest'])\n",
    "\n",
    "pd.DataFrame(\n",
    "        data={\n",
    "            \"lie\": [word for word, sim in mislead], \n",
    "            \"honest\": [word for word, sim in honest]\n",
    "        }\n",
    ")"
   ]
  },
  {
   "cell_type": "code",
   "execution_count": 34,
   "id": "f9e290cd",
   "metadata": {
    "scrolled": true
   },
   "outputs": [
    {
     "data": {
      "text/html": [
       "<div>\n",
       "<style scoped>\n",
       "    .dataframe tbody tr th:only-of-type {\n",
       "        vertical-align: middle;\n",
       "    }\n",
       "\n",
       "    .dataframe tbody tr th {\n",
       "        vertical-align: top;\n",
       "    }\n",
       "\n",
       "    .dataframe thead th {\n",
       "        text-align: right;\n",
       "    }\n",
       "</style>\n",
       "<table border=\"1\" class=\"dataframe\">\n",
       "  <thead>\n",
       "    <tr style=\"text-align: right;\">\n",
       "      <th></th>\n",
       "      <th>sarcastic</th>\n",
       "      <th>honest</th>\n",
       "    </tr>\n",
       "  </thead>\n",
       "  <tbody>\n",
       "    <tr>\n",
       "      <th>0</th>\n",
       "      <td>facetious</td>\n",
       "      <td>fair</td>\n",
       "    </tr>\n",
       "    <tr>\n",
       "      <th>1</th>\n",
       "      <td>joking</td>\n",
       "      <td>careful</td>\n",
       "    </tr>\n",
       "    <tr>\n",
       "      <th>2</th>\n",
       "      <td>downvoted</td>\n",
       "      <td>aggressive</td>\n",
       "    </tr>\n",
       "    <tr>\n",
       "      <th>3</th>\n",
       "      <td>serious</td>\n",
       "      <td>rude</td>\n",
       "    </tr>\n",
       "    <tr>\n",
       "      <th>4</th>\n",
       "      <td>optimistic</td>\n",
       "      <td>prepared</td>\n",
       "    </tr>\n",
       "    <tr>\n",
       "      <th>5</th>\n",
       "      <td>rude</td>\n",
       "      <td>sarcastic</td>\n",
       "    </tr>\n",
       "    <tr>\n",
       "      <th>6</th>\n",
       "      <td>aggressive</td>\n",
       "      <td>proud</td>\n",
       "    </tr>\n",
       "    <tr>\n",
       "      <th>7</th>\n",
       "      <td>drunk</td>\n",
       "      <td>offensive</td>\n",
       "    </tr>\n",
       "    <tr>\n",
       "      <th>8</th>\n",
       "      <td>salty</td>\n",
       "      <td>optimistic</td>\n",
       "    </tr>\n",
       "    <tr>\n",
       "      <th>9</th>\n",
       "      <td>ambiguous</td>\n",
       "      <td>ignorant</td>\n",
       "    </tr>\n",
       "  </tbody>\n",
       "</table>\n",
       "</div>"
      ],
      "text/plain": [
       "    sarcastic      honest\n",
       "0   facetious        fair\n",
       "1      joking     careful\n",
       "2   downvoted  aggressive\n",
       "3     serious        rude\n",
       "4  optimistic    prepared\n",
       "5        rude   sarcastic\n",
       "6  aggressive       proud\n",
       "7       drunk   offensive\n",
       "8       salty  optimistic\n",
       "9   ambiguous    ignorant"
      ]
     },
     "execution_count": 34,
     "metadata": {},
     "output_type": "execute_result"
    }
   ],
   "source": [
    "sarcastic = model.most_similar(positive=['sarcastic'])\n",
    "honest = model.most_similar(positive=['honest'])\n",
    "\n",
    "pd.DataFrame(\n",
    "        data={\n",
    "            \"sarcastic\": [word for word, sim in sarcastic], \n",
    "            \"honest\": [word for word, sim in honest]\n",
    "        }\n",
    ")"
   ]
  },
  {
   "cell_type": "code",
   "execution_count": 35,
   "id": "717896cf",
   "metadata": {
    "scrolled": false
   },
   "outputs": [
    {
     "data": {
      "text/html": [
       "<div>\n",
       "<style scoped>\n",
       "    .dataframe tbody tr th:only-of-type {\n",
       "        vertical-align: middle;\n",
       "    }\n",
       "\n",
       "    .dataframe tbody tr th {\n",
       "        vertical-align: top;\n",
       "    }\n",
       "\n",
       "    .dataframe thead th {\n",
       "        text-align: right;\n",
       "    }\n",
       "</style>\n",
       "<table border=\"1\" class=\"dataframe\">\n",
       "  <thead>\n",
       "    <tr style=\"text-align: right;\">\n",
       "      <th></th>\n",
       "      <th>facetious</th>\n",
       "      <th>joking</th>\n",
       "    </tr>\n",
       "  </thead>\n",
       "  <tbody>\n",
       "    <tr>\n",
       "      <th>0</th>\n",
       "      <td>sarcastic</td>\n",
       "      <td>forgetting</td>\n",
       "    </tr>\n",
       "    <tr>\n",
       "      <th>1</th>\n",
       "      <td>deansafbi</td>\n",
       "      <td>jealous</td>\n",
       "    </tr>\n",
       "    <tr>\n",
       "      <th>2</th>\n",
       "      <td>nomad</td>\n",
       "      <td>sarcastic</td>\n",
       "    </tr>\n",
       "    <tr>\n",
       "      <th>3</th>\n",
       "      <td>planetarium</td>\n",
       "      <td>thinking</td>\n",
       "    </tr>\n",
       "    <tr>\n",
       "      <th>4</th>\n",
       "      <td>isles</td>\n",
       "      <td>implying</td>\n",
       "    </tr>\n",
       "    <tr>\n",
       "      <th>5</th>\n",
       "      <td>renton</td>\n",
       "      <td>worried</td>\n",
       "    </tr>\n",
       "    <tr>\n",
       "      <th>6</th>\n",
       "      <td>ambiguous</td>\n",
       "      <td>disappointed</td>\n",
       "    </tr>\n",
       "    <tr>\n",
       "      <th>7</th>\n",
       "      <td>pea</td>\n",
       "      <td>talking</td>\n",
       "    </tr>\n",
       "    <tr>\n",
       "      <th>8</th>\n",
       "      <td>gunner</td>\n",
       "      <td>sorry</td>\n",
       "    </tr>\n",
       "    <tr>\n",
       "      <th>9</th>\n",
       "      <td>antisemetic</td>\n",
       "      <td>sayin</td>\n",
       "    </tr>\n",
       "  </tbody>\n",
       "</table>\n",
       "</div>"
      ],
      "text/plain": [
       "     facetious        joking\n",
       "0    sarcastic    forgetting\n",
       "1    deansafbi       jealous\n",
       "2        nomad     sarcastic\n",
       "3  planetarium      thinking\n",
       "4        isles      implying\n",
       "5       renton       worried\n",
       "6    ambiguous  disappointed\n",
       "7          pea       talking\n",
       "8       gunner         sorry\n",
       "9  antisemetic         sayin"
      ]
     },
     "execution_count": 35,
     "metadata": {},
     "output_type": "execute_result"
    }
   ],
   "source": [
    "facetious = model.most_similar(positive=['facetious'])\n",
    "joking = model.most_similar(positive=['joking'])\n",
    "\n",
    "pd.DataFrame(\n",
    "        data={\n",
    "            \"facetious\": [word for word, sim in facetious], \n",
    "            \"joking\": [word for word, sim in joking]\n",
    "        }\n",
    ")"
   ]
  },
  {
   "cell_type": "code",
   "execution_count": 36,
   "id": "c074fe0c",
   "metadata": {
    "scrolled": false
   },
   "outputs": [
    {
     "data": {
      "text/html": [
       "<div>\n",
       "<style scoped>\n",
       "    .dataframe tbody tr th:only-of-type {\n",
       "        vertical-align: middle;\n",
       "    }\n",
       "\n",
       "    .dataframe tbody tr th {\n",
       "        vertical-align: top;\n",
       "    }\n",
       "\n",
       "    .dataframe thead th {\n",
       "        text-align: right;\n",
       "    }\n",
       "</style>\n",
       "<table border=\"1\" class=\"dataframe\">\n",
       "  <thead>\n",
       "    <tr style=\"text-align: right;\">\n",
       "      <th></th>\n",
       "      <th>unfortunately</th>\n",
       "      <th>honestly</th>\n",
       "    </tr>\n",
       "  </thead>\n",
       "  <tbody>\n",
       "    <tr>\n",
       "      <th>0</th>\n",
       "      <td>sadly</td>\n",
       "      <td>tbh</td>\n",
       "    </tr>\n",
       "    <tr>\n",
       "      <th>1</th>\n",
       "      <td>however</td>\n",
       "      <td>disappointed</td>\n",
       "    </tr>\n",
       "    <tr>\n",
       "      <th>2</th>\n",
       "      <td>certainly</td>\n",
       "      <td>dunno</td>\n",
       "    </tr>\n",
       "    <tr>\n",
       "      <th>3</th>\n",
       "      <td>currently</td>\n",
       "      <td>actually</td>\n",
       "    </tr>\n",
       "    <tr>\n",
       "      <th>4</th>\n",
       "      <td>suspect</td>\n",
       "      <td>although</td>\n",
       "    </tr>\n",
       "    <tr>\n",
       "      <th>5</th>\n",
       "      <td>apparently</td>\n",
       "      <td>but</td>\n",
       "    </tr>\n",
       "    <tr>\n",
       "      <th>6</th>\n",
       "      <td>since</td>\n",
       "      <td>personally</td>\n",
       "    </tr>\n",
       "    <tr>\n",
       "      <th>7</th>\n",
       "      <td>claiming</td>\n",
       "      <td>impressive</td>\n",
       "    </tr>\n",
       "    <tr>\n",
       "      <th>8</th>\n",
       "      <td>believe</td>\n",
       "      <td>i</td>\n",
       "    </tr>\n",
       "    <tr>\n",
       "      <th>9</th>\n",
       "      <td>necessarily</td>\n",
       "      <td>surprised</td>\n",
       "    </tr>\n",
       "  </tbody>\n",
       "</table>\n",
       "</div>"
      ],
      "text/plain": [
       "  unfortunately      honestly\n",
       "0         sadly           tbh\n",
       "1       however  disappointed\n",
       "2     certainly         dunno\n",
       "3     currently      actually\n",
       "4       suspect      although\n",
       "5    apparently           but\n",
       "6         since    personally\n",
       "7      claiming    impressive\n",
       "8       believe             i\n",
       "9   necessarily     surprised"
      ]
     },
     "execution_count": 36,
     "metadata": {},
     "output_type": "execute_result"
    }
   ],
   "source": [
    "unfortunately = model.most_similar(positive=['unfortunately'])\n",
    "honestly = model.most_similar(positive=['honestly'])\n",
    "\n",
    "pd.DataFrame(\n",
    "        data={\n",
    "            \"unfortunately\": [word for word, sim in unfortunately], \n",
    "            \"honestly\": [word for word, sim in honestly]\n",
    "        }\n",
    ")"
   ]
  },
  {
   "cell_type": "code",
   "execution_count": 36,
   "id": "9a877139",
   "metadata": {},
   "outputs": [],
   "source": [
    "from sklearn.neural_network import MLPClassifier"
   ]
  },
  {
   "cell_type": "code",
   "execution_count": 37,
   "id": "c457d103-bea1-45e1-be9c-42cb4196668b",
   "metadata": {},
   "outputs": [],
   "source": [
    "neural_network = MLPClassifier(verbose=True, max_iter=50, random_state=42)"
   ]
  },
  {
   "cell_type": "code",
   "execution_count": 38,
   "id": "0c84a6af-7c0a-499f-889e-437a09da5a4f",
   "metadata": {},
   "outputs": [
    {
     "name": "stdout",
     "output_type": "stream",
     "text": [
      "Iteration 1, loss = 0.62897090\n",
      "Iteration 2, loss = 0.60577355\n",
      "Iteration 3, loss = 0.59776671\n",
      "Iteration 4, loss = 0.59231015\n",
      "Iteration 5, loss = 0.58794447\n",
      "Iteration 6, loss = 0.58453328\n",
      "Iteration 7, loss = 0.58203933\n",
      "Iteration 8, loss = 0.57912760\n",
      "Iteration 9, loss = 0.57692757\n",
      "Iteration 10, loss = 0.57468123\n",
      "Iteration 11, loss = 0.57323417\n",
      "Iteration 12, loss = 0.57160992\n",
      "Iteration 13, loss = 0.56988815\n",
      "Iteration 14, loss = 0.56836644\n",
      "Iteration 15, loss = 0.56713288\n",
      "Iteration 16, loss = 0.56597577\n",
      "Iteration 17, loss = 0.56522233\n",
      "Iteration 18, loss = 0.56444367\n",
      "Iteration 19, loss = 0.56311033\n",
      "Iteration 20, loss = 0.56215115\n",
      "Iteration 21, loss = 0.56126869\n",
      "Iteration 22, loss = 0.56030011\n",
      "Iteration 23, loss = 0.55949954\n",
      "Iteration 24, loss = 0.55869154\n",
      "Iteration 25, loss = 0.55807721\n",
      "Iteration 26, loss = 0.55756103\n",
      "Iteration 27, loss = 0.55632837\n",
      "Iteration 28, loss = 0.55579611\n",
      "Iteration 29, loss = 0.55531223\n",
      "Iteration 30, loss = 0.55523019\n",
      "Iteration 31, loss = 0.55393371\n",
      "Iteration 32, loss = 0.55330475\n",
      "Iteration 33, loss = 0.55277986\n",
      "Iteration 34, loss = 0.55247762\n",
      "Iteration 35, loss = 0.55146762\n",
      "Iteration 36, loss = 0.55120127\n",
      "Iteration 37, loss = 0.55062462\n",
      "Iteration 38, loss = 0.55016243\n",
      "Iteration 39, loss = 0.54997205\n",
      "Iteration 40, loss = 0.54852737\n",
      "Iteration 41, loss = 0.54841506\n",
      "Iteration 42, loss = 0.54756754\n",
      "Iteration 43, loss = 0.54763197\n",
      "Iteration 44, loss = 0.54702662\n",
      "Iteration 45, loss = 0.54681080\n",
      "Iteration 46, loss = 0.54624070\n",
      "Iteration 47, loss = 0.54596023\n",
      "Iteration 48, loss = 0.54522415\n",
      "Iteration 49, loss = 0.54525465\n",
      "Iteration 50, loss = 0.54490417\n"
     ]
    },
    {
     "data": {
      "text/html": [
       "<style>#sk-container-id-1 {color: black;background-color: white;}#sk-container-id-1 pre{padding: 0;}#sk-container-id-1 div.sk-toggleable {background-color: white;}#sk-container-id-1 label.sk-toggleable__label {cursor: pointer;display: block;width: 100%;margin-bottom: 0;padding: 0.3em;box-sizing: border-box;text-align: center;}#sk-container-id-1 label.sk-toggleable__label-arrow:before {content: \"▸\";float: left;margin-right: 0.25em;color: #696969;}#sk-container-id-1 label.sk-toggleable__label-arrow:hover:before {color: black;}#sk-container-id-1 div.sk-estimator:hover label.sk-toggleable__label-arrow:before {color: black;}#sk-container-id-1 div.sk-toggleable__content {max-height: 0;max-width: 0;overflow: hidden;text-align: left;background-color: #f0f8ff;}#sk-container-id-1 div.sk-toggleable__content pre {margin: 0.2em;color: black;border-radius: 0.25em;background-color: #f0f8ff;}#sk-container-id-1 input.sk-toggleable__control:checked~div.sk-toggleable__content {max-height: 200px;max-width: 100%;overflow: auto;}#sk-container-id-1 input.sk-toggleable__control:checked~label.sk-toggleable__label-arrow:before {content: \"▾\";}#sk-container-id-1 div.sk-estimator input.sk-toggleable__control:checked~label.sk-toggleable__label {background-color: #d4ebff;}#sk-container-id-1 div.sk-label input.sk-toggleable__control:checked~label.sk-toggleable__label {background-color: #d4ebff;}#sk-container-id-1 input.sk-hidden--visually {border: 0;clip: rect(1px 1px 1px 1px);clip: rect(1px, 1px, 1px, 1px);height: 1px;margin: -1px;overflow: hidden;padding: 0;position: absolute;width: 1px;}#sk-container-id-1 div.sk-estimator {font-family: monospace;background-color: #f0f8ff;border: 1px dotted black;border-radius: 0.25em;box-sizing: border-box;margin-bottom: 0.5em;}#sk-container-id-1 div.sk-estimator:hover {background-color: #d4ebff;}#sk-container-id-1 div.sk-parallel-item::after {content: \"\";width: 100%;border-bottom: 1px solid gray;flex-grow: 1;}#sk-container-id-1 div.sk-label:hover label.sk-toggleable__label {background-color: #d4ebff;}#sk-container-id-1 div.sk-serial::before {content: \"\";position: absolute;border-left: 1px solid gray;box-sizing: border-box;top: 0;bottom: 0;left: 50%;z-index: 0;}#sk-container-id-1 div.sk-serial {display: flex;flex-direction: column;align-items: center;background-color: white;padding-right: 0.2em;padding-left: 0.2em;position: relative;}#sk-container-id-1 div.sk-item {position: relative;z-index: 1;}#sk-container-id-1 div.sk-parallel {display: flex;align-items: stretch;justify-content: center;background-color: white;position: relative;}#sk-container-id-1 div.sk-item::before, #sk-container-id-1 div.sk-parallel-item::before {content: \"\";position: absolute;border-left: 1px solid gray;box-sizing: border-box;top: 0;bottom: 0;left: 50%;z-index: -1;}#sk-container-id-1 div.sk-parallel-item {display: flex;flex-direction: column;z-index: 1;position: relative;background-color: white;}#sk-container-id-1 div.sk-parallel-item:first-child::after {align-self: flex-end;width: 50%;}#sk-container-id-1 div.sk-parallel-item:last-child::after {align-self: flex-start;width: 50%;}#sk-container-id-1 div.sk-parallel-item:only-child::after {width: 0;}#sk-container-id-1 div.sk-dashed-wrapped {border: 1px dashed gray;margin: 0 0.4em 0.5em 0.4em;box-sizing: border-box;padding-bottom: 0.4em;background-color: white;}#sk-container-id-1 div.sk-label label {font-family: monospace;font-weight: bold;display: inline-block;line-height: 1.2em;}#sk-container-id-1 div.sk-label-container {text-align: center;}#sk-container-id-1 div.sk-container {/* jupyter's `normalize.less` sets `[hidden] { display: none; }` but bootstrap.min.css set `[hidden] { display: none !important; }` so we also need the `!important` here to be able to override the default hidden behavior on the sphinx rendered scikit-learn.org. See: https://github.com/scikit-learn/scikit-learn/issues/21755 */display: inline-block !important;position: relative;}#sk-container-id-1 div.sk-text-repr-fallback {display: none;}</style><div id=\"sk-container-id-1\" class=\"sk-top-container\"><div class=\"sk-text-repr-fallback\"><pre>MLPClassifier(max_iter=50, verbose=True)</pre><b>In a Jupyter environment, please rerun this cell to show the HTML representation or trust the notebook. <br />On GitHub, the HTML representation is unable to render, please try loading this page with nbviewer.org.</b></div><div class=\"sk-container\" hidden><div class=\"sk-item\"><div class=\"sk-estimator sk-toggleable\"><input class=\"sk-toggleable__control sk-hidden--visually\" id=\"sk-estimator-id-1\" type=\"checkbox\" checked><label for=\"sk-estimator-id-1\" class=\"sk-toggleable__label sk-toggleable__label-arrow\">MLPClassifier</label><div class=\"sk-toggleable__content\"><pre>MLPClassifier(max_iter=50, verbose=True)</pre></div></div></div></div></div>"
      ],
      "text/plain": [
       "MLPClassifier(max_iter=50, verbose=True)"
      ]
     },
     "execution_count": 38,
     "metadata": {},
     "output_type": "execute_result"
    }
   ],
   "source": [
    "neural_network.fit(X_train, y_train)"
   ]
  },
  {
   "cell_type": "code",
   "execution_count": 39,
   "id": "926d7e21-b683-4718-9582-8d49aa6645ce",
   "metadata": {},
   "outputs": [
    {
     "name": "stdout",
     "output_type": "stream",
     "text": [
      "Train: 0.7211375421266296\n",
      "Val: 0.6721896238760606\n"
     ]
    }
   ],
   "source": [
    "print(f'Train: {neural_network.score(X_train, y_train)}')\n",
    "print(f'Val: {neural_network.score(X_val, y_val)}')\n"
   ]
  },
  {
   "cell_type": "code",
   "execution_count": null,
   "id": "cd1f5a92-893c-4a3a-9d11-6f452d567da2",
   "metadata": {},
   "outputs": [],
   "source": []
  },
  {
   "cell_type": "code",
   "execution_count": null,
   "id": "d702ae94-719c-4243-ae13-ac0ae22334f7",
   "metadata": {},
   "outputs": [],
   "source": []
  }
 ],
 "metadata": {
  "kernelspec": {
   "display_name": "sarcasm",
   "language": "python",
   "name": "sarcasm"
  },
  "language_info": {
   "codemirror_mode": {
    "name": "ipython",
    "version": 3
   },
   "file_extension": ".py",
   "mimetype": "text/x-python",
   "name": "python",
   "nbconvert_exporter": "python",
   "pygments_lexer": "ipython3",
   "version": "3.8.18"
  }
 },
 "nbformat": 4,
 "nbformat_minor": 5
}
