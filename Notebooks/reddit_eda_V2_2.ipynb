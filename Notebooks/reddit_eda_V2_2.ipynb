{
 "cells": [
  {
   "cell_type": "markdown",
   "id": "ded83da0-53b6-40c6-b55c-c383f66a304c",
   "metadata": {},
   "source": [
    "# Reddit Sarcasm EDA pt 2"
   ]
  },
  {
   "cell_type": "markdown",
   "id": "0188f8c7-c83d-4a85-ab7c-1350ba7a1fa0",
   "metadata": {},
   "source": [
    "### Sveto Givaty"
   ]
  },
  {
   "cell_type": "markdown",
   "id": "e8350b98-11a7-49d0-a2a1-c739adf653f6",
   "metadata": {},
   "source": [
    "#### 11/10/2023"
   ]
  },
  {
   "cell_type": "markdown",
   "id": "d4d111eb-9ca2-4938-841a-446d97333b11",
   "metadata": {},
   "source": [
    "----------------------------------------------------------------------------------------------------------------------------------------------------------"
   ]
  },
  {
   "cell_type": "markdown",
   "id": "7a5a452a-7ff6-4ebd-b9be-1050e1187209",
   "metadata": {},
   "source": [
    "## Table of Contents"
   ]
  },
  {
   "cell_type": "code",
   "execution_count": 1,
   "id": "240a99b0-f5f9-4e5d-9cff-6f2469b1765e",
   "metadata": {},
   "outputs": [
    {
     "ename": "RuntimeError",
     "evalue": "module compiled against API version 0xe but this version of numpy is 0xd",
     "output_type": "error",
     "traceback": [
      "\u001b[1;31m---------------------------------------------------------------------------\u001b[0m",
      "\u001b[1;31mRuntimeError\u001b[0m                              Traceback (most recent call last)",
      "\u001b[1;31mRuntimeError\u001b[0m: module compiled against API version 0xe but this version of numpy is 0xd"
     ]
    }
   ],
   "source": [
    "import numpy as np\n",
    "import pandas as pd\n",
    "import matplotlib.pyplot as plt\n",
    "import seaborn as sns\n",
    "sns.set()"
   ]
  },
  {
   "cell_type": "code",
   "execution_count": 2,
   "id": "0649b963-d435-48c7-a0e7-87d89fb16629",
   "metadata": {},
   "outputs": [
    {
     "name": "stderr",
     "output_type": "stream",
     "text": [
      "C:\\Users\\gravi\\anaconda3\\envs\\sarcasm\\lib\\site-packages\\numpy\\lib\\arraysetops.py:580: FutureWarning: elementwise comparison failed; returning scalar instead, but in the future will perform elementwise comparison\n",
      "  mask |= (ar1 == a)\n"
     ]
    }
   ],
   "source": [
    "reddit = pd.read_csv('clean_data.csv', index_col=0)"
   ]
  },
  {
   "cell_type": "code",
   "execution_count": 3,
   "id": "93a75054-1161-4c53-bcd9-0d7daa28513b",
   "metadata": {
    "scrolled": true
   },
   "outputs": [
    {
     "data": {
      "text/html": [
       "<div>\n",
       "<style scoped>\n",
       "    .dataframe tbody tr th:only-of-type {\n",
       "        vertical-align: middle;\n",
       "    }\n",
       "\n",
       "    .dataframe tbody tr th {\n",
       "        vertical-align: top;\n",
       "    }\n",
       "\n",
       "    .dataframe thead th {\n",
       "        text-align: right;\n",
       "    }\n",
       "</style>\n",
       "<table border=\"1\" class=\"dataframe\">\n",
       "  <thead>\n",
       "    <tr style=\"text-align: right;\">\n",
       "      <th></th>\n",
       "      <th>label</th>\n",
       "      <th>comment</th>\n",
       "      <th>subreddit</th>\n",
       "      <th>created_utc</th>\n",
       "      <th>parent_comment</th>\n",
       "    </tr>\n",
       "  </thead>\n",
       "  <tbody>\n",
       "    <tr>\n",
       "      <th>0</th>\n",
       "      <td>0</td>\n",
       "      <td>NC and NH.</td>\n",
       "      <td>politics</td>\n",
       "      <td>2016-10-16 23:55:23</td>\n",
       "      <td>Yeah, I get that argument. At this point, I'd ...</td>\n",
       "    </tr>\n",
       "    <tr>\n",
       "      <th>1</th>\n",
       "      <td>0</td>\n",
       "      <td>You do know west teams play against west teams...</td>\n",
       "      <td>nba</td>\n",
       "      <td>2016-11-01 00:24:10</td>\n",
       "      <td>The blazers and Mavericks (The wests 5 and 6 s...</td>\n",
       "    </tr>\n",
       "    <tr>\n",
       "      <th>2</th>\n",
       "      <td>0</td>\n",
       "      <td>They were underdogs earlier today, but since G...</td>\n",
       "      <td>nfl</td>\n",
       "      <td>2016-09-22 21:45:37</td>\n",
       "      <td>They're favored to win.</td>\n",
       "    </tr>\n",
       "    <tr>\n",
       "      <th>3</th>\n",
       "      <td>0</td>\n",
       "      <td>This meme isn't funny none of the \"new york ni...</td>\n",
       "      <td>BlackPeopleTwitter</td>\n",
       "      <td>2016-10-18 21:03:47</td>\n",
       "      <td>deadass don't kill my buzz</td>\n",
       "    </tr>\n",
       "    <tr>\n",
       "      <th>4</th>\n",
       "      <td>0</td>\n",
       "      <td>I could use one of those tools.</td>\n",
       "      <td>MaddenUltimateTeam</td>\n",
       "      <td>2016-12-30 17:00:13</td>\n",
       "      <td>Yep can confirm I saw the tool they use for th...</td>\n",
       "    </tr>\n",
       "  </tbody>\n",
       "</table>\n",
       "</div>"
      ],
      "text/plain": [
       "   label                                            comment  \\\n",
       "0      0                                         NC and NH.   \n",
       "1      0  You do know west teams play against west teams...   \n",
       "2      0  They were underdogs earlier today, but since G...   \n",
       "3      0  This meme isn't funny none of the \"new york ni...   \n",
       "4      0                    I could use one of those tools.   \n",
       "\n",
       "            subreddit          created_utc  \\\n",
       "0            politics  2016-10-16 23:55:23   \n",
       "1                 nba  2016-11-01 00:24:10   \n",
       "2                 nfl  2016-09-22 21:45:37   \n",
       "3  BlackPeopleTwitter  2016-10-18 21:03:47   \n",
       "4  MaddenUltimateTeam  2016-12-30 17:00:13   \n",
       "\n",
       "                                      parent_comment  \n",
       "0  Yeah, I get that argument. At this point, I'd ...  \n",
       "1  The blazers and Mavericks (The wests 5 and 6 s...  \n",
       "2                            They're favored to win.  \n",
       "3                         deadass don't kill my buzz  \n",
       "4  Yep can confirm I saw the tool they use for th...  "
      ]
     },
     "execution_count": 3,
     "metadata": {},
     "output_type": "execute_result"
    }
   ],
   "source": [
    "reddit.head()"
   ]
  },
  {
   "cell_type": "code",
   "execution_count": 4,
   "id": "3ee5b2ee-a366-4cc8-a7d4-f2624edb3742",
   "metadata": {
    "scrolled": true
   },
   "outputs": [
    {
     "name": "stdout",
     "output_type": "stream",
     "text": [
      "<class 'pandas.core.frame.DataFrame'>\n",
      "Int64Index: 1010743 entries, 0 to 1010825\n",
      "Data columns (total 5 columns):\n",
      " #   Column          Non-Null Count    Dtype \n",
      "---  ------          --------------    ----- \n",
      " 0   label           1010743 non-null  int64 \n",
      " 1   comment         1010743 non-null  object\n",
      " 2   subreddit       1010743 non-null  object\n",
      " 3   created_utc     1010743 non-null  object\n",
      " 4   parent_comment  1010743 non-null  object\n",
      "dtypes: int64(1), object(4)\n",
      "memory usage: 46.3+ MB\n"
     ]
    }
   ],
   "source": [
    "reddit.info()"
   ]
  },
  {
   "cell_type": "code",
   "execution_count": 5,
   "id": "747ec455-24eb-4f98-84ae-43a15d4f2700",
   "metadata": {},
   "outputs": [],
   "source": [
    "# converting created_utc to datetime format\n",
    "reddit['created_utc'] = pd.to_datetime(reddit['created_utc'])"
   ]
  },
  {
   "cell_type": "markdown",
   "id": "48d7781b-b52a-4f2b-a654-200813cf56d6",
   "metadata": {},
   "source": [
    "## <a href=\"#top\" id='length'>Comment Length</a>"
   ]
  },
  {
   "cell_type": "code",
   "execution_count": 6,
   "id": "1f549094-462a-407f-892a-4c27832bba90",
   "metadata": {},
   "outputs": [
    {
     "data": {
      "text/plain": [
       "0                                           NC and NH.\n",
       "1    You do know west teams play against west teams...\n",
       "2    They were underdogs earlier today, but since G...\n",
       "3    This meme isn't funny none of the \"new york ni...\n",
       "4                      I could use one of those tools.\n",
       "Name: comment, dtype: object"
      ]
     },
     "execution_count": 6,
     "metadata": {},
     "output_type": "execute_result"
    }
   ],
   "source": [
    "# instantiating comment variable in preparation for bag-of-words\n",
    "comments = reddit.copy().pop('comment')\n",
    "comments.head()"
   ]
  },
  {
   "cell_type": "markdown",
   "id": "f9d196dc-6635-41ac-bf5a-1ee219f01c3f",
   "metadata": {},
   "source": [
    "Having isolated the `comments` column, we can begin by looking for any trend in the length of the comments."
   ]
  },
  {
   "cell_type": "code",
   "execution_count": 7,
   "id": "8acaab12-8ee0-40cc-8dec-b5db01e82522",
   "metadata": {},
   "outputs": [
    {
     "data": {
      "text/plain": [
       "count    1.010743e+06\n",
       "mean     1.046139e+01\n",
       "std      1.053500e+01\n",
       "min      1.000000e+00\n",
       "25%      5.000000e+00\n",
       "50%      9.000000e+00\n",
       "75%      1.400000e+01\n",
       "max      2.222000e+03\n",
       "Name: comment, dtype: float64"
      ]
     },
     "execution_count": 7,
     "metadata": {},
     "output_type": "execute_result"
    }
   ],
   "source": [
    "length = comments.str.split().str.len()\n",
    "length.describe()"
   ]
  },
  {
   "cell_type": "markdown",
   "id": "1ed762e7-a2ac-4580-9f0f-8469ba5b812a",
   "metadata": {},
   "source": [
    "Info summary:\n",
    "- mean is 10 and median is 9\n",
    "- min is understandably 1, while max is > 2000 words (tokens) long!!\n",
    "\n",
    "\n",
    "\n",
    "\n",
    "Let us first visualize the distribution, controlling for outliers. We will later focus on the outliers."
   ]
  },
  {
   "cell_type": "code",
   "execution_count": 8,
   "id": "7bf0c322-70bb-4ea3-8b0a-8e639d49b22e",
   "metadata": {},
   "outputs": [
    {
     "data": {
      "text/plain": [
       "<AxesSubplot: ylabel='Frequency'>"
      ]
     },
     "execution_count": 8,
     "metadata": {},
     "output_type": "execute_result"
    },
    {
     "data": {
      "image/png": "[encoded data removed]",
      "text/plain": [
       "<Figure size 640x480 with 1 Axes>"
      ]
     },
     "metadata": {},
     "output_type": "display_data"
    }
   ],
   "source": [
    "# visualizing string length\n",
    "length[length <= 50].plot(kind=\"hist\", bins=25)"
   ]
  },
  {
   "cell_type": "markdown",
   "id": "941b833e-9beb-4526-91e4-7bb335ceb849",
   "metadata": {},
   "source": [
    "We can take a snapshot of the biggest outliers (the longest comments) to see if we can gather any information on what they contain."
   ]
  },
  {
   "cell_type": "code",
   "execution_count": 9,
   "id": "32d6aac0-e028-4ade-a648-8a8c1e8126ac",
   "metadata": {},
   "outputs": [
    {
     "data": {
      "text/plain": [
       "5556      DONALD TRUMP DONALD TRUMP DONALD TRUMP DONALD ...\n",
       "75677     Fake news fake news Fake news fake news Fake n...\n",
       "89444     fuck fuck fuck fuck fuck fuck fuck fuck fuck f...\n",
       "104339    fuck fuck fuck fuck fuck fuck fuck fuck fuck f...\n",
       "126164    LIAR Liar liar LIAR Liar liar LIAR Liar liar L...\n",
       "146938    iPhone 7 iPhone 7 iPhone 7 iPhone 7 iPhone 7 i...\n",
       "154696    PATCH NOTES General Gameplay Fixed technology ...\n",
       "163043    fuck fuck fuck fuck fuck fuck fuck fuck fuck f...\n",
       "186325    Nvidia GTX 1080 1070 1060 1050 Founders Editio...\n",
       "217579    Comcast Comcast Comcast Comcast Comcast Comcas...\n",
       "219087    Raving Raving Raving Raving Raving Raving Ravi...\n",
       "283846    LOVE TRUMPS HATE LOVE TRUMPS HATE LOVE TRUMPS ...\n",
       "382449    COMCAST COMCAST COMCAST COMCAST COMCAST COMCAS...\n",
       "411840    #[MONEY MONEY MONEY MONEY MONEY MONEY MONEY MO...\n",
       "757452    copy pasta copy pasta copy pasta copy pasta co...\n",
       "939334    JERRY JERRY JERRY JERRY JERRY JERRY JERRY JERR...\n",
       "975519    ***a mac is a PC*** ***a mac is a PC*** ***a m...\n",
       "Name: comment, dtype: object"
      ]
     },
     "execution_count": 9,
     "metadata": {},
     "output_type": "execute_result"
    }
   ],
   "source": [
    "comments[length > 1000]"
   ]
  },
  {
   "cell_type": "markdown",
   "id": "1d355e2f-ce89-41de-9619-a1f40950a700",
   "metadata": {},
   "source": [
    "There seems to be a lot of repetition. The same word over and over again, 1000+ times. `copypasta` as one of the commenters blatantly denotes."
   ]
  },
  {
   "cell_type": "markdown",
   "id": "6dc51e54-c005-426a-92b5-9f58f985ed7f",
   "metadata": {},
   "source": [
    "Let us also see if at a lower `length` cutoff the same pattern holds true, if all comments longer than 200 words are all copied and pasted."
   ]
  },
  {
   "cell_type": "code",
   "execution_count": 10,
   "id": "8b66780a-dc26-4ef3-9a4c-d236c88abdce",
   "metadata": {},
   "outputs": [
    {
     "data": {
      "text/plain": [
       "5556      DONALD TRUMP DONALD TRUMP DONALD TRUMP DONALD ...\n",
       "75677     Fake news fake news Fake news fake news Fake n...\n",
       "89444     fuck fuck fuck fuck fuck fuck fuck fuck fuck f...\n",
       "104339    fuck fuck fuck fuck fuck fuck fuck fuck fuck f...\n",
       "109391    First Lady of the United States First Lady of ...\n",
       "110522    GENOCIDE GENOCIDE GENOCIDE GENOCIDE GENOCIDE G...\n",
       "126164    LIAR Liar liar LIAR Liar liar LIAR Liar liar L...\n",
       "146938    iPhone 7 iPhone 7 iPhone 7 iPhone 7 iPhone 7 i...\n",
       "154696    PATCH NOTES General Gameplay Fixed technology ...\n",
       "163043    fuck fuck fuck fuck fuck fuck fuck fuck fuck f...\n",
       "164976    First Family TRUMP First Family TRUMP First Fa...\n",
       "177068    You've got nothing, got nothing, got nothing, ...\n",
       "186325    Nvidia GTX 1080 1070 1060 1050 Founders Editio...\n",
       "217579    Comcast Comcast Comcast Comcast Comcast Comcas...\n",
       "219087    Raving Raving Raving Raving Raving Raving Ravi...\n",
       "283846    LOVE TRUMPS HATE LOVE TRUMPS HATE LOVE TRUMPS ...\n",
       "285106    Islam Islam Islam Islam Islam Islam Islam Isla...\n",
       "315640    I would say buy all of them because literally ...\n",
       "334302    #flintstones #flintstones #flintstones #flints...\n",
       "382449    COMCAST COMCAST COMCAST COMCAST COMCAST COMCAS...\n",
       "411840    #[MONEY MONEY MONEY MONEY MONEY MONEY MONEY MO...\n",
       "437212    Donald Trump Donald Trump Donald Trump Donald ...\n",
       "536325    ZIGGO ZIGGO ZIGGO ZIGGO ZIGGO ZIGGO ZIGGO ZIGG...\n",
       "538779    Gjallarhorn Gjallarhorn Gjallarhorn Gjallarhor...\n",
       "583895    lm ayy lm ayy lm ayy lm ayy lm ayy lm ayy lm a...\n",
       "757452    copy pasta copy pasta copy pasta copy pasta co...\n",
       "773160    cmd cmd cmd cmd cmd cmd cmd cmd cmd cmd cmd cm...\n",
       "939334    JERRY JERRY JERRY JERRY JERRY JERRY JERRY JERR...\n",
       "975519    ***a mac is a PC*** ***a mac is a PC*** ***a m...\n",
       "Name: comment, dtype: object"
      ]
     },
     "execution_count": 10,
     "metadata": {},
     "output_type": "execute_result"
    }
   ],
   "source": [
    "comments[length > 300]"
   ]
  },
  {
   "cell_type": "markdown",
   "id": "35f6994e-94c7-41d6-9999-dfedf53e4227",
   "metadata": {},
   "source": [
    "The same seems to hold true of all comments longer than 300 words. We can safely drop these comments."
   ]
  },
  {
   "cell_type": "code",
   "execution_count": 11,
   "id": "fc4a0a4f-3467-4bc5-b712-ed1b814a48cf",
   "metadata": {},
   "outputs": [
    {
     "data": {
      "text/plain": [
       "(1010743, 5)"
      ]
     },
     "execution_count": 11,
     "metadata": {},
     "output_type": "execute_result"
    }
   ],
   "source": [
    "reddit.shape"
   ]
  },
  {
   "cell_type": "code",
   "execution_count": 12,
   "id": "3274033f-88fc-4cc3-bf4c-042c5adfa246",
   "metadata": {},
   "outputs": [],
   "source": [
    "reddit.drop(reddit[reddit['comment'].str.split().str.len() > 300].index, inplace = True)"
   ]
  },
  {
   "cell_type": "code",
   "execution_count": 13,
   "id": "7715118c-565a-4810-9b37-69e5dd032f07",
   "metadata": {},
   "outputs": [
    {
     "data": {
      "text/plain": [
       "(1010714, 5)"
      ]
     },
     "execution_count": 13,
     "metadata": {},
     "output_type": "execute_result"
    }
   ],
   "source": [
    "reddit.shape"
   ]
  },
  {
   "cell_type": "markdown",
   "id": "bd7aa2eb-c4cf-49b3-b5e2-31dd05658098",
   "metadata": {},
   "source": [
    "----------------------------------------------------------------------------------------------------------------------------------------------------------"
   ]
  },
  {
   "cell_type": "markdown",
   "id": "e7576841-bfc3-4114-a773-2d45c465d8ea",
   "metadata": {},
   "source": [
    "## <a href=\"#top\" id='date'>Dates</a>"
   ]
  },
  {
   "cell_type": "markdown",
   "id": "b95d026f-b489-4ecb-9bf8-edf56c676458",
   "metadata": {},
   "source": [
    "The `datetime` data type is a useful tool for EDA, but unfortunately we cannot use it in a model, so it is advised to transform the dates into numeric columns, which can then be processed by our model."
   ]
  },
  {
   "cell_type": "markdown",
   "id": "d5b70430-17a0-419a-b5ed-794df1ff1b3e",
   "metadata": {},
   "source": [
    "Below we will loop through the `created_utc` column to create lists of `year`, `month`, and `day` respectively, which we will then append to our dataframe."
   ]
  },
  {
   "cell_type": "code",
   "execution_count": 14,
   "id": "491037c8-a614-479e-a8eb-8592b8d2e33a",
   "metadata": {},
   "outputs": [],
   "source": [
    "years_list = [] # instantiating empty lists\n",
    "months_list = []\n",
    "days_list = []\n",
    "\n",
    "# looping through created utc and appending lists\n",
    "for i in reddit['created_utc']:\n",
    "    years_list.append(i.year)\n",
    "    months_list.append(i.month)\n",
    "    days_list.append(i.day)\n",
    "    \n",
    "    "
   ]
  },
  {
   "cell_type": "code",
   "execution_count": 15,
   "id": "ce5f3cef-106f-499f-b3b8-3a9c5d9119b0",
   "metadata": {},
   "outputs": [
    {
     "name": "stdout",
     "output_type": "stream",
     "text": [
      " Lengths: \n",
      " Years List: 1010714 \n",
      " Months List: 1010714 \n",
      " Days List: 1010714\n"
     ]
    }
   ],
   "source": [
    "# sanity check\n",
    "print(f' Lengths: \\n Years List: {len(years_list)} \\n Months List: {len(months_list)} \\n Days List: {len(days_list)}')"
   ]
  },
  {
   "cell_type": "code",
   "execution_count": 16,
   "id": "223ed4b7-6676-47e3-935b-a8e5664d0c69",
   "metadata": {},
   "outputs": [],
   "source": [
    "# appending year, month, day columns to dataframe\n",
    "reddit['year'] = years_list\n",
    "reddit['month'] = months_list\n",
    "reddit['day'] = days_list"
   ]
  },
  {
   "cell_type": "code",
   "execution_count": 17,
   "id": "dc0e21f6-7d52-4352-a5b2-4af519b8602a",
   "metadata": {},
   "outputs": [
    {
     "data": {
      "text/html": [
       "<div>\n",
       "<style scoped>\n",
       "    .dataframe tbody tr th:only-of-type {\n",
       "        vertical-align: middle;\n",
       "    }\n",
       "\n",
       "    .dataframe tbody tr th {\n",
       "        vertical-align: top;\n",
       "    }\n",
       "\n",
       "    .dataframe thead th {\n",
       "        text-align: right;\n",
       "    }\n",
       "</style>\n",
       "<table border=\"1\" class=\"dataframe\">\n",
       "  <thead>\n",
       "    <tr style=\"text-align: right;\">\n",
       "      <th></th>\n",
       "      <th>label</th>\n",
       "      <th>comment</th>\n",
       "      <th>subreddit</th>\n",
       "      <th>created_utc</th>\n",
       "      <th>parent_comment</th>\n",
       "      <th>year</th>\n",
       "      <th>month</th>\n",
       "      <th>day</th>\n",
       "    </tr>\n",
       "  </thead>\n",
       "  <tbody>\n",
       "    <tr>\n",
       "      <th>0</th>\n",
       "      <td>0</td>\n",
       "      <td>NC and NH.</td>\n",
       "      <td>politics</td>\n",
       "      <td>2016-10-16 23:55:23</td>\n",
       "      <td>Yeah, I get that argument. At this point, I'd ...</td>\n",
       "      <td>2016</td>\n",
       "      <td>10</td>\n",
       "      <td>16</td>\n",
       "    </tr>\n",
       "    <tr>\n",
       "      <th>1</th>\n",
       "      <td>0</td>\n",
       "      <td>You do know west teams play against west teams...</td>\n",
       "      <td>nba</td>\n",
       "      <td>2016-11-01 00:24:10</td>\n",
       "      <td>The blazers and Mavericks (The wests 5 and 6 s...</td>\n",
       "      <td>2016</td>\n",
       "      <td>11</td>\n",
       "      <td>1</td>\n",
       "    </tr>\n",
       "    <tr>\n",
       "      <th>2</th>\n",
       "      <td>0</td>\n",
       "      <td>They were underdogs earlier today, but since G...</td>\n",
       "      <td>nfl</td>\n",
       "      <td>2016-09-22 21:45:37</td>\n",
       "      <td>They're favored to win.</td>\n",
       "      <td>2016</td>\n",
       "      <td>9</td>\n",
       "      <td>22</td>\n",
       "    </tr>\n",
       "    <tr>\n",
       "      <th>3</th>\n",
       "      <td>0</td>\n",
       "      <td>This meme isn't funny none of the \"new york ni...</td>\n",
       "      <td>BlackPeopleTwitter</td>\n",
       "      <td>2016-10-18 21:03:47</td>\n",
       "      <td>deadass don't kill my buzz</td>\n",
       "      <td>2016</td>\n",
       "      <td>10</td>\n",
       "      <td>18</td>\n",
       "    </tr>\n",
       "    <tr>\n",
       "      <th>4</th>\n",
       "      <td>0</td>\n",
       "      <td>I could use one of those tools.</td>\n",
       "      <td>MaddenUltimateTeam</td>\n",
       "      <td>2016-12-30 17:00:13</td>\n",
       "      <td>Yep can confirm I saw the tool they use for th...</td>\n",
       "      <td>2016</td>\n",
       "      <td>12</td>\n",
       "      <td>30</td>\n",
       "    </tr>\n",
       "  </tbody>\n",
       "</table>\n",
       "</div>"
      ],
      "text/plain": [
       "   label                                            comment  \\\n",
       "0      0                                         NC and NH.   \n",
       "1      0  You do know west teams play against west teams...   \n",
       "2      0  They were underdogs earlier today, but since G...   \n",
       "3      0  This meme isn't funny none of the \"new york ni...   \n",
       "4      0                    I could use one of those tools.   \n",
       "\n",
       "            subreddit         created_utc  \\\n",
       "0            politics 2016-10-16 23:55:23   \n",
       "1                 nba 2016-11-01 00:24:10   \n",
       "2                 nfl 2016-09-22 21:45:37   \n",
       "3  BlackPeopleTwitter 2016-10-18 21:03:47   \n",
       "4  MaddenUltimateTeam 2016-12-30 17:00:13   \n",
       "\n",
       "                                      parent_comment  year  month  day  \n",
       "0  Yeah, I get that argument. At this point, I'd ...  2016     10   16  \n",
       "1  The blazers and Mavericks (The wests 5 and 6 s...  2016     11    1  \n",
       "2                            They're favored to win.  2016      9   22  \n",
       "3                         deadass don't kill my buzz  2016     10   18  \n",
       "4  Yep can confirm I saw the tool they use for th...  2016     12   30  "
      ]
     },
     "execution_count": 17,
     "metadata": {},
     "output_type": "execute_result"
    }
   ],
   "source": [
    "reddit.head()"
   ]
  },
  {
   "cell_type": "markdown",
   "id": "03ae44c6-ddf2-4315-be74-45af72a3fb76",
   "metadata": {},
   "source": [
    "Now that we have created `year`, `month` and `day` columns, we can drop the `created_utc` column."
   ]
  },
  {
   "cell_type": "code",
   "execution_count": 18,
   "id": "7ad71ad0-3620-4515-b2a1-60f594cb0161",
   "metadata": {},
   "outputs": [],
   "source": [
    "# dropping created_utc\n",
    "reddit.drop(columns='created_utc', inplace=True)"
   ]
  },
  {
   "cell_type": "code",
   "execution_count": 19,
   "id": "c1a40932-4265-4750-8a54-f15cbda032d6",
   "metadata": {},
   "outputs": [
    {
     "data": {
      "text/html": [
       "<div>\n",
       "<style scoped>\n",
       "    .dataframe tbody tr th:only-of-type {\n",
       "        vertical-align: middle;\n",
       "    }\n",
       "\n",
       "    .dataframe tbody tr th {\n",
       "        vertical-align: top;\n",
       "    }\n",
       "\n",
       "    .dataframe thead th {\n",
       "        text-align: right;\n",
       "    }\n",
       "</style>\n",
       "<table border=\"1\" class=\"dataframe\">\n",
       "  <thead>\n",
       "    <tr style=\"text-align: right;\">\n",
       "      <th></th>\n",
       "      <th>label</th>\n",
       "      <th>comment</th>\n",
       "      <th>subreddit</th>\n",
       "      <th>parent_comment</th>\n",
       "      <th>year</th>\n",
       "      <th>month</th>\n",
       "      <th>day</th>\n",
       "    </tr>\n",
       "  </thead>\n",
       "  <tbody>\n",
       "    <tr>\n",
       "      <th>0</th>\n",
       "      <td>0</td>\n",
       "      <td>NC and NH.</td>\n",
       "      <td>politics</td>\n",
       "      <td>Yeah, I get that argument. At this point, I'd ...</td>\n",
       "      <td>2016</td>\n",
       "      <td>10</td>\n",
       "      <td>16</td>\n",
       "    </tr>\n",
       "    <tr>\n",
       "      <th>1</th>\n",
       "      <td>0</td>\n",
       "      <td>You do know west teams play against west teams...</td>\n",
       "      <td>nba</td>\n",
       "      <td>The blazers and Mavericks (The wests 5 and 6 s...</td>\n",
       "      <td>2016</td>\n",
       "      <td>11</td>\n",
       "      <td>1</td>\n",
       "    </tr>\n",
       "    <tr>\n",
       "      <th>2</th>\n",
       "      <td>0</td>\n",
       "      <td>They were underdogs earlier today, but since G...</td>\n",
       "      <td>nfl</td>\n",
       "      <td>They're favored to win.</td>\n",
       "      <td>2016</td>\n",
       "      <td>9</td>\n",
       "      <td>22</td>\n",
       "    </tr>\n",
       "    <tr>\n",
       "      <th>3</th>\n",
       "      <td>0</td>\n",
       "      <td>This meme isn't funny none of the \"new york ni...</td>\n",
       "      <td>BlackPeopleTwitter</td>\n",
       "      <td>deadass don't kill my buzz</td>\n",
       "      <td>2016</td>\n",
       "      <td>10</td>\n",
       "      <td>18</td>\n",
       "    </tr>\n",
       "    <tr>\n",
       "      <th>4</th>\n",
       "      <td>0</td>\n",
       "      <td>I could use one of those tools.</td>\n",
       "      <td>MaddenUltimateTeam</td>\n",
       "      <td>Yep can confirm I saw the tool they use for th...</td>\n",
       "      <td>2016</td>\n",
       "      <td>12</td>\n",
       "      <td>30</td>\n",
       "    </tr>\n",
       "  </tbody>\n",
       "</table>\n",
       "</div>"
      ],
      "text/plain": [
       "   label                                            comment  \\\n",
       "0      0                                         NC and NH.   \n",
       "1      0  You do know west teams play against west teams...   \n",
       "2      0  They were underdogs earlier today, but since G...   \n",
       "3      0  This meme isn't funny none of the \"new york ni...   \n",
       "4      0                    I could use one of those tools.   \n",
       "\n",
       "            subreddit                                     parent_comment  \\\n",
       "0            politics  Yeah, I get that argument. At this point, I'd ...   \n",
       "1                 nba  The blazers and Mavericks (The wests 5 and 6 s...   \n",
       "2                 nfl                            They're favored to win.   \n",
       "3  BlackPeopleTwitter                         deadass don't kill my buzz   \n",
       "4  MaddenUltimateTeam  Yep can confirm I saw the tool they use for th...   \n",
       "\n",
       "   year  month  day  \n",
       "0  2016     10   16  \n",
       "1  2016     11    1  \n",
       "2  2016      9   22  \n",
       "3  2016     10   18  \n",
       "4  2016     12   30  "
      ]
     },
     "execution_count": 19,
     "metadata": {},
     "output_type": "execute_result"
    }
   ],
   "source": [
    "# sanity check\n",
    "reddit.head()"
   ]
  },
  {
   "cell_type": "markdown",
   "id": "03e2b4c9-af57-4b37-8e62-62f630a874a6",
   "metadata": {},
   "source": [
    "    Next we will instantiate variables to represent our `sarcastic` and `non_sarcastic` labels, which we will use to explore the relationships between the remaining columns."
   ]
  },
  {
   "cell_type": "code",
   "execution_count": 20,
   "id": "b8a3ef58-4273-41e3-a6b4-420ac5da70c1",
   "metadata": {},
   "outputs": [],
   "source": [
    "sarcastic = reddit.loc[reddit['label'] == 1]\n",
    "non_sarcastic = reddit.loc[reddit['label'] == 0]"
   ]
  },
  {
   "cell_type": "code",
   "execution_count": 21,
   "id": "104f8f67-a262-4a33-bba4-e4cfd678c203",
   "metadata": {},
   "outputs": [
    {
     "data": {
      "text/html": [
       "<div>\n",
       "<style scoped>\n",
       "    .dataframe tbody tr th:only-of-type {\n",
       "        vertical-align: middle;\n",
       "    }\n",
       "\n",
       "    .dataframe tbody tr th {\n",
       "        vertical-align: top;\n",
       "    }\n",
       "\n",
       "    .dataframe thead th {\n",
       "        text-align: right;\n",
       "    }\n",
       "</style>\n",
       "<table border=\"1\" class=\"dataframe\">\n",
       "  <thead>\n",
       "    <tr style=\"text-align: right;\">\n",
       "      <th></th>\n",
       "      <th>label</th>\n",
       "      <th>comment</th>\n",
       "      <th>subreddit</th>\n",
       "      <th>parent_comment</th>\n",
       "      <th>year</th>\n",
       "      <th>month</th>\n",
       "      <th>day</th>\n",
       "    </tr>\n",
       "  </thead>\n",
       "  <tbody>\n",
       "    <tr>\n",
       "      <th>33</th>\n",
       "      <td>1</td>\n",
       "      <td>But they'll have all those reviews!</td>\n",
       "      <td>ProductTesting</td>\n",
       "      <td>The dumb thing is, they are risking their sell...</td>\n",
       "      <td>2016</td>\n",
       "      <td>11</td>\n",
       "      <td>1</td>\n",
       "    </tr>\n",
       "    <tr>\n",
       "      <th>44</th>\n",
       "      <td>1</td>\n",
       "      <td>wow it is totally unreasonable to assume that ...</td>\n",
       "      <td>politics</td>\n",
       "      <td>Clinton campaign accuses FBI of 'blatant doubl...</td>\n",
       "      <td>2016</td>\n",
       "      <td>11</td>\n",
       "      <td>1</td>\n",
       "    </tr>\n",
       "    <tr>\n",
       "      <th>45</th>\n",
       "      <td>1</td>\n",
       "      <td>Ho ho ho... But Melania said that there is no ...</td>\n",
       "      <td>politics</td>\n",
       "      <td>Anyone else think that it was interesting the ...</td>\n",
       "      <td>2016</td>\n",
       "      <td>10</td>\n",
       "      <td>18</td>\n",
       "    </tr>\n",
       "    <tr>\n",
       "      <th>66</th>\n",
       "      <td>1</td>\n",
       "      <td>I can't wait until @potus starts a twitter war...</td>\n",
       "      <td>politics</td>\n",
       "      <td>Here's what happens when Obama gives up his Tw...</td>\n",
       "      <td>2016</td>\n",
       "      <td>11</td>\n",
       "      <td>1</td>\n",
       "    </tr>\n",
       "    <tr>\n",
       "      <th>69</th>\n",
       "      <td>1</td>\n",
       "      <td>gotta love the teachers who give exams on the ...</td>\n",
       "      <td>CFBOffTopic</td>\n",
       "      <td>Monday night Drinking thread Brought to You by...</td>\n",
       "      <td>2016</td>\n",
       "      <td>11</td>\n",
       "      <td>1</td>\n",
       "    </tr>\n",
       "  </tbody>\n",
       "</table>\n",
       "</div>"
      ],
      "text/plain": [
       "    label                                            comment       subreddit  \\\n",
       "33      1                But they'll have all those reviews!  ProductTesting   \n",
       "44      1  wow it is totally unreasonable to assume that ...        politics   \n",
       "45      1  Ho ho ho... But Melania said that there is no ...        politics   \n",
       "66      1  I can't wait until @potus starts a twitter war...        politics   \n",
       "69      1  gotta love the teachers who give exams on the ...     CFBOffTopic   \n",
       "\n",
       "                                       parent_comment  year  month  day  \n",
       "33  The dumb thing is, they are risking their sell...  2016     11    1  \n",
       "44  Clinton campaign accuses FBI of 'blatant doubl...  2016     11    1  \n",
       "45  Anyone else think that it was interesting the ...  2016     10   18  \n",
       "66  Here's what happens when Obama gives up his Tw...  2016     11    1  \n",
       "69  Monday night Drinking thread Brought to You by...  2016     11    1  "
      ]
     },
     "execution_count": 21,
     "metadata": {},
     "output_type": "execute_result"
    }
   ],
   "source": [
    "# confirmation\n",
    "sarcastic.head()"
   ]
  },
  {
   "cell_type": "code",
   "execution_count": 22,
   "id": "410689cb-8a58-4a60-8536-07377a7edce1",
   "metadata": {},
   "outputs": [
    {
     "data": {
      "text/html": [
       "<div>\n",
       "<style scoped>\n",
       "    .dataframe tbody tr th:only-of-type {\n",
       "        vertical-align: middle;\n",
       "    }\n",
       "\n",
       "    .dataframe tbody tr th {\n",
       "        vertical-align: top;\n",
       "    }\n",
       "\n",
       "    .dataframe thead th {\n",
       "        text-align: right;\n",
       "    }\n",
       "</style>\n",
       "<table border=\"1\" class=\"dataframe\">\n",
       "  <thead>\n",
       "    <tr style=\"text-align: right;\">\n",
       "      <th></th>\n",
       "      <th>label</th>\n",
       "      <th>comment</th>\n",
       "      <th>subreddit</th>\n",
       "      <th>parent_comment</th>\n",
       "      <th>year</th>\n",
       "      <th>month</th>\n",
       "      <th>day</th>\n",
       "    </tr>\n",
       "  </thead>\n",
       "  <tbody>\n",
       "    <tr>\n",
       "      <th>0</th>\n",
       "      <td>0</td>\n",
       "      <td>NC and NH.</td>\n",
       "      <td>politics</td>\n",
       "      <td>Yeah, I get that argument. At this point, I'd ...</td>\n",
       "      <td>2016</td>\n",
       "      <td>10</td>\n",
       "      <td>16</td>\n",
       "    </tr>\n",
       "    <tr>\n",
       "      <th>1</th>\n",
       "      <td>0</td>\n",
       "      <td>You do know west teams play against west teams...</td>\n",
       "      <td>nba</td>\n",
       "      <td>The blazers and Mavericks (The wests 5 and 6 s...</td>\n",
       "      <td>2016</td>\n",
       "      <td>11</td>\n",
       "      <td>1</td>\n",
       "    </tr>\n",
       "    <tr>\n",
       "      <th>2</th>\n",
       "      <td>0</td>\n",
       "      <td>They were underdogs earlier today, but since G...</td>\n",
       "      <td>nfl</td>\n",
       "      <td>They're favored to win.</td>\n",
       "      <td>2016</td>\n",
       "      <td>9</td>\n",
       "      <td>22</td>\n",
       "    </tr>\n",
       "    <tr>\n",
       "      <th>3</th>\n",
       "      <td>0</td>\n",
       "      <td>This meme isn't funny none of the \"new york ni...</td>\n",
       "      <td>BlackPeopleTwitter</td>\n",
       "      <td>deadass don't kill my buzz</td>\n",
       "      <td>2016</td>\n",
       "      <td>10</td>\n",
       "      <td>18</td>\n",
       "    </tr>\n",
       "    <tr>\n",
       "      <th>4</th>\n",
       "      <td>0</td>\n",
       "      <td>I could use one of those tools.</td>\n",
       "      <td>MaddenUltimateTeam</td>\n",
       "      <td>Yep can confirm I saw the tool they use for th...</td>\n",
       "      <td>2016</td>\n",
       "      <td>12</td>\n",
       "      <td>30</td>\n",
       "    </tr>\n",
       "  </tbody>\n",
       "</table>\n",
       "</div>"
      ],
      "text/plain": [
       "   label                                            comment  \\\n",
       "0      0                                         NC and NH.   \n",
       "1      0  You do know west teams play against west teams...   \n",
       "2      0  They were underdogs earlier today, but since G...   \n",
       "3      0  This meme isn't funny none of the \"new york ni...   \n",
       "4      0                    I could use one of those tools.   \n",
       "\n",
       "            subreddit                                     parent_comment  \\\n",
       "0            politics  Yeah, I get that argument. At this point, I'd ...   \n",
       "1                 nba  The blazers and Mavericks (The wests 5 and 6 s...   \n",
       "2                 nfl                            They're favored to win.   \n",
       "3  BlackPeopleTwitter                         deadass don't kill my buzz   \n",
       "4  MaddenUltimateTeam  Yep can confirm I saw the tool they use for th...   \n",
       "\n",
       "   year  month  day  \n",
       "0  2016     10   16  \n",
       "1  2016     11    1  \n",
       "2  2016      9   22  \n",
       "3  2016     10   18  \n",
       "4  2016     12   30  "
      ]
     },
     "execution_count": 22,
     "metadata": {},
     "output_type": "execute_result"
    }
   ],
   "source": [
    "# sanity check\n",
    "non_sarcastic.head()"
   ]
  },
  {
   "cell_type": "code",
   "execution_count": 23,
   "id": "3251d46c-c8dd-471c-8ce7-353035c3dba0",
   "metadata": {},
   "outputs": [
    {
     "data": {
      "text/plain": [
       "50.0"
      ]
     },
     "execution_count": 23,
     "metadata": {},
     "output_type": "execute_result"
    }
   ],
   "source": [
    "# verifying sarcastic distribution\n",
    "round(sarcastic.shape[0] / reddit.shape[0] * 100, 2)"
   ]
  },
  {
   "cell_type": "markdown",
   "id": "5dedf9c9-69e0-4a9e-bc2c-45c0d8afa510",
   "metadata": {},
   "source": [
    "So far we have maintained our 50/50 split of sarcastic to non sarcastic labels."
   ]
  },
  {
   "cell_type": "markdown",
   "id": "4e104b87-91fe-43ca-9661-2ca10989c6e9",
   "metadata": {},
   "source": [
    "----------------------------------------------------------------------------------------------------------------------------------------------------------"
   ]
  },
  {
   "cell_type": "markdown",
   "id": "1d52e70b-f271-496f-9592-28f9a0bf8dc3",
   "metadata": {},
   "source": [
    "We will plot all of the columns associated with date with a side-by-side comparison of sarcastic and non sarcastic."
   ]
  },
  {
   "cell_type": "code",
   "execution_count": 24,
   "id": "cd6d529c-f2a7-493f-a5af-a5a7d1d534aa",
   "metadata": {},
   "outputs": [
    {
     "data": {
      "text/plain": [
       "<Figure size 640x480 with 0 Axes>"
      ]
     },
     "metadata": {},
     "output_type": "display_data"
    },
    {
     "data": {
      "image/png": "[encoded data removed]",
      "text/plain": [
       "<Figure size 1500x1000 with 2 Axes>"
      ]
     },
     "metadata": {},
     "output_type": "display_data"
    }
   ],
   "source": [
    "plt.figure()\n",
    "plt.subplots(1,2, figsize=(15,10))\n",
    "\n",
    "plt.subplot(1,2,1)\n",
    "plt.hist(sarcastic['year'], bins=8, color='lightcoral', alpha=0.8)\n",
    "plt.xlabel('Years')\n",
    "plt.ylabel('Count')\n",
    "plt.title('Sarcastic Year Distribution', fontsize=20)\n",
    "\n",
    "plt.subplot(1,2,2)\n",
    "plt.hist(non_sarcastic['year'], bins=8, color='cornflowerblue', alpha=0.8)\n",
    "plt.xlabel('Years')\n",
    "plt.ylabel('Count')\n",
    "plt.title('Non-Sarcastic Year Distribution', fontsize=20)\n",
    "\n",
    "plt.tight_layout()\n",
    "plt.show()"
   ]
  },
  {
   "cell_type": "markdown",
   "id": "50e9ad01-7124-4dca-9ba6-adc5c41b5e61",
   "metadata": {},
   "source": [
    "The distributions look pretty much identical, though there are a bit more non sarcastic comments in 2016."
   ]
  },
  {
   "cell_type": "code",
   "execution_count": 25,
   "id": "4b6a5b52-d3ca-4b13-8cbf-8b9a6e9550ae",
   "metadata": {},
   "outputs": [
    {
     "data": {
      "text/plain": [
       "2016    222761\n",
       "2015    149290\n",
       "2014     73505\n",
       "2013     34193\n",
       "2012     14592\n",
       "2011      6944\n",
       "2010      2977\n",
       "2009      1078\n",
       "Name: year, dtype: int64"
      ]
     },
     "execution_count": 25,
     "metadata": {},
     "output_type": "execute_result"
    }
   ],
   "source": [
    "sarcastic['year'].value_counts()"
   ]
  },
  {
   "cell_type": "code",
   "execution_count": 26,
   "id": "940646ae-730e-419d-8ca9-29060c6f5a88",
   "metadata": {},
   "outputs": [
    {
     "data": {
      "text/plain": [
       "2016    252883\n",
       "2015    137554\n",
       "2014     64006\n",
       "2013     29364\n",
       "2012     12714\n",
       "2011      5779\n",
       "2010      2302\n",
       "2009       772\n",
       "Name: year, dtype: int64"
      ]
     },
     "execution_count": 26,
     "metadata": {},
     "output_type": "execute_result"
    }
   ],
   "source": [
    "non_sarcastic['year'].value_counts()"
   ]
  },
  {
   "cell_type": "markdown",
   "id": "e0d6ce46-be8e-4bba-9290-5c24803e0d24",
   "metadata": {},
   "source": [
    "Looking at the value counts, we can also see the similarities, though indeed there are slightly more non sarcastic comments in recent years."
   ]
  },
  {
   "cell_type": "markdown",
   "id": "b913967f-cf08-4d1a-b04f-0daba19fb11e",
   "metadata": {},
   "source": [
    "    Moving on to the `month` and `day` columns."
   ]
  },
  {
   "cell_type": "code",
   "execution_count": 27,
   "id": "87ce888e-90f2-4eaa-998a-eebfe1bb66c1",
   "metadata": {},
   "outputs": [
    {
     "data": {
      "text/plain": [
       "<Figure size 640x480 with 0 Axes>"
      ]
     },
     "metadata": {},
     "output_type": "display_data"
    },
    {
     "data": {
      "image/png": "[encoded data removed]",
      "text/plain": [
       "<Figure size 1500x1000 with 2 Axes>"
      ]
     },
     "metadata": {},
     "output_type": "display_data"
    }
   ],
   "source": [
    "plt.figure()\n",
    "plt.subplots(1,2, figsize=(15,10))\n",
    "\n",
    "plt.subplot(1,2,1)\n",
    "plt.hist(sarcastic['month'], bins=12, color='lightcoral', alpha=0.8)\n",
    "plt.xlabel('Months')\n",
    "plt.ylabel('Count')\n",
    "plt.title('Sarcastic Month Distribution', fontsize=20)\n",
    "\n",
    "plt.subplot(1,2,2)\n",
    "plt.hist(non_sarcastic['month'], bins=12, color='cornflowerblue', alpha=0.8)\n",
    "plt.xlabel('Months')\n",
    "plt.ylabel('Count')\n",
    "plt.title('Non-Sarcastic Month Distribution', fontsize=20)\n",
    "\n",
    "plt.tight_layout()\n",
    "plt.show()"
   ]
  },
  {
   "cell_type": "code",
   "execution_count": 28,
   "id": "4af20115-9f35-4769-95d1-6328a73eb902",
   "metadata": {},
   "outputs": [
    {
     "data": {
      "text/plain": [
       "<Figure size 640x480 with 0 Axes>"
      ]
     },
     "metadata": {},
     "output_type": "display_data"
    },
    {
     "data": {
      "image/png": "[encoded data removed]",
      "text/plain": [
       "<Figure size 1500x1000 with 2 Axes>"
      ]
     },
     "metadata": {},
     "output_type": "display_data"
    }
   ],
   "source": [
    "plt.figure()\n",
    "plt.subplots(1,2, figsize=(15,10))\n",
    "\n",
    "plt.subplot(1,2,1)\n",
    "plt.hist(sarcastic['day'], bins=31, color='lightcoral', alpha=0.8)\n",
    "plt.xlabel('Days')\n",
    "plt.ylabel('Count')\n",
    "plt.title('Sarcastic Day Distribution', fontsize=20)\n",
    "\n",
    "plt.subplot(1,2,2)\n",
    "plt.hist(non_sarcastic['day'], bins=31, color='cornflowerblue', alpha=0.8)\n",
    "plt.xlabel('Days')\n",
    "plt.ylabel('Count')\n",
    "plt.title('Non-Sarcastic Day Distribution', fontsize=20)\n",
    "\n",
    "plt.tight_layout()\n",
    "plt.show()"
   ]
  },
  {
   "cell_type": "markdown",
   "id": "9798e73a-f5c5-4396-b95c-fa2ab5483f72",
   "metadata": {},
   "source": [
    "### Observations:\n",
    "\n",
    "- all date related columns show extremely similar distributions and identical trends.\n",
    "- the `year` column shows a steep increase in comments between 2014 and 2015\n",
    "- the `month` column shows a more gradual increase throughout the year\n",
    "- and the `day` column is almost entirely flat"
   ]
  },
  {
   "cell_type": "markdown",
   "id": "37f27b71-5729-4510-b35c-59708a00dddb",
   "metadata": {},
   "source": [
    "Before proceeding any further, let us check the correlation that each `date` column has with our target, `label`."
   ]
  },
  {
   "cell_type": "code",
   "execution_count": 29,
   "id": "b9adab58-95ea-4689-b316-981479da7fb4",
   "metadata": {},
   "outputs": [
    {
     "data": {
      "text/plain": [
       "-0.05"
      ]
     },
     "execution_count": 29,
     "metadata": {},
     "output_type": "execute_result"
    }
   ],
   "source": [
    "round(np.corrcoef(reddit['label'], reddit['year'])[0][1],2)"
   ]
  },
  {
   "cell_type": "code",
   "execution_count": 30,
   "id": "677b6be5-7574-4531-96a4-a80b8dfbce1a",
   "metadata": {},
   "outputs": [
    {
     "data": {
      "text/plain": [
       "-0.03"
      ]
     },
     "execution_count": 30,
     "metadata": {},
     "output_type": "execute_result"
    }
   ],
   "source": [
    "round(np.corrcoef(reddit['label'], reddit['month'])[0][1],2)"
   ]
  },
  {
   "cell_type": "code",
   "execution_count": 31,
   "id": "18035f6e-9ac9-4eac-94a3-d031a3b4df6e",
   "metadata": {},
   "outputs": [
    {
     "data": {
      "text/plain": [
       "0.01"
      ]
     },
     "execution_count": 31,
     "metadata": {},
     "output_type": "execute_result"
    }
   ],
   "source": [
    "round(np.corrcoef(reddit['label'], reddit['day'])[0][1],2)"
   ]
  },
  {
   "cell_type": "markdown",
   "id": "803d97ac-ccb3-4c6c-a4bb-132f563490ab",
   "metadata": {},
   "source": [
    "The correlations between the dates and the labels are effectively zero, which is consistent with the eye-test that showed little to no difference in their distributions between labels.\n",
    "\n",
    "As the dates seem to hold little predictive value, we can go ahead and drop them."
   ]
  },
  {
   "cell_type": "code",
   "execution_count": 64,
   "id": "6d844456-d4e3-4926-ba3e-30c038d6eb4f",
   "metadata": {},
   "outputs": [],
   "source": [
    "reddit.drop(columns=['year','day', 'month'], inplace=True)"
   ]
  },
  {
   "cell_type": "code",
   "execution_count": 65,
   "id": "2196b6de-bfe4-4a98-b691-587f52f3707f",
   "metadata": {},
   "outputs": [
    {
     "data": {
      "text/html": [
       "<div>\n",
       "<style scoped>\n",
       "    .dataframe tbody tr th:only-of-type {\n",
       "        vertical-align: middle;\n",
       "    }\n",
       "\n",
       "    .dataframe tbody tr th {\n",
       "        vertical-align: top;\n",
       "    }\n",
       "\n",
       "    .dataframe thead th {\n",
       "        text-align: right;\n",
       "    }\n",
       "</style>\n",
       "<table border=\"1\" class=\"dataframe\">\n",
       "  <thead>\n",
       "    <tr style=\"text-align: right;\">\n",
       "      <th></th>\n",
       "      <th>label</th>\n",
       "      <th>comment</th>\n",
       "      <th>author</th>\n",
       "      <th>subreddit</th>\n",
       "      <th>parent_comment</th>\n",
       "    </tr>\n",
       "  </thead>\n",
       "  <tbody>\n",
       "    <tr>\n",
       "      <th>0</th>\n",
       "      <td>0</td>\n",
       "      <td>NC and NH.</td>\n",
       "      <td>Trumpbart</td>\n",
       "      <td>politics</td>\n",
       "      <td>Yeah, I get that argument. At this point, I'd ...</td>\n",
       "    </tr>\n",
       "    <tr>\n",
       "      <th>1</th>\n",
       "      <td>0</td>\n",
       "      <td>You do know west teams play against west teams...</td>\n",
       "      <td>Shbshb906</td>\n",
       "      <td>nba</td>\n",
       "      <td>The blazers and Mavericks (The wests 5 and 6 s...</td>\n",
       "    </tr>\n",
       "    <tr>\n",
       "      <th>2</th>\n",
       "      <td>0</td>\n",
       "      <td>They were underdogs earlier today, but since G...</td>\n",
       "      <td>Creepeth</td>\n",
       "      <td>nfl</td>\n",
       "      <td>They're favored to win.</td>\n",
       "    </tr>\n",
       "    <tr>\n",
       "      <th>3</th>\n",
       "      <td>0</td>\n",
       "      <td>This meme isn't funny none of the \"new york ni...</td>\n",
       "      <td>icebrotha</td>\n",
       "      <td>BlackPeopleTwitter</td>\n",
       "      <td>deadass don't kill my buzz</td>\n",
       "    </tr>\n",
       "    <tr>\n",
       "      <th>4</th>\n",
       "      <td>0</td>\n",
       "      <td>I could use one of those tools.</td>\n",
       "      <td>cush2push</td>\n",
       "      <td>MaddenUltimateTeam</td>\n",
       "      <td>Yep can confirm I saw the tool they use for th...</td>\n",
       "    </tr>\n",
       "  </tbody>\n",
       "</table>\n",
       "</div>"
      ],
      "text/plain": [
       "   label                                            comment     author  \\\n",
       "0      0                                         NC and NH.  Trumpbart   \n",
       "1      0  You do know west teams play against west teams...  Shbshb906   \n",
       "2      0  They were underdogs earlier today, but since G...   Creepeth   \n",
       "3      0  This meme isn't funny none of the \"new york ni...  icebrotha   \n",
       "4      0                    I could use one of those tools.  cush2push   \n",
       "\n",
       "            subreddit                                     parent_comment  \n",
       "0            politics  Yeah, I get that argument. At this point, I'd ...  \n",
       "1                 nba  The blazers and Mavericks (The wests 5 and 6 s...  \n",
       "2                 nfl                            They're favored to win.  \n",
       "3  BlackPeopleTwitter                         deadass don't kill my buzz  \n",
       "4  MaddenUltimateTeam  Yep can confirm I saw the tool they use for th...  "
      ]
     },
     "execution_count": 65,
     "metadata": {},
     "output_type": "execute_result"
    }
   ],
   "source": [
    "# verification\n",
    "reddit.head()"
   ]
  },
  {
   "cell_type": "markdown",
   "id": "93a2880d-c6a6-4dbc-bf3a-eff7c54cf155",
   "metadata": {},
   "source": [
    "## <a href=\"#top\" id='subs'>Subreddits</a>"
   ]
  },
  {
   "cell_type": "markdown",
   "id": "73d4d9bb-f34a-4734-b905-a6b62477a46c",
   "metadata": {},
   "source": []
  },
  {
   "cell_type": "code",
   "execution_count": null,
   "id": "654c1895-b60a-4a98-b4a3-142eb25a59ab",
   "metadata": {},
   "outputs": [],
   "source": [
    "reddit['subreddit'].value_counts()"
   ]
  },
  {
   "cell_type": "code",
   "execution_count": null,
   "id": "ed902188-1e57-4b18-ab87-df7fec9b0d79",
   "metadata": {},
   "outputs": [],
   "source": [
    "(reddit['subreddit'].value_counts() < 2).sum() / reddit['subreddit'].nunique()"
   ]
  },
  {
   "cell_type": "code",
   "execution_count": null,
   "id": "dad774f1-73db-4267-9b99-fe6116acf690",
   "metadata": {},
   "outputs": [],
   "source": [
    "(reddit['subreddit'].value_counts() =< 5).sum() / reddit['subreddit'].nunique()"
   ]
  },
  {
   "cell_type": "code",
   "execution_count": null,
   "id": "bb45a979-699c-4c6c-9631-3f1fa15a47ee",
   "metadata": {},
   "outputs": [],
   "source": [
    "reddit.drop(columns='subreddit', inplace=True)"
   ]
  },
  {
   "cell_type": "code",
   "execution_count": null,
   "id": "ac1592b9-bb0d-48d7-863d-5258dc56f360",
   "metadata": {},
   "outputs": [],
   "source": [
    "reddit.head()"
   ]
  },
  {
   "cell_type": "code",
   "execution_count": null,
   "id": "906ce056-84d7-48c1-b288-abcf41532842",
   "metadata": {},
   "outputs": [],
   "source": [
    "#reddit.to_csv('comment_plus_parent.csv')"
   ]
  },
  {
   "cell_type": "code",
   "execution_count": null,
   "id": "b13672d7-8818-401f-a61a-90391fa929d3",
   "metadata": {},
   "outputs": [],
   "source": [
    "reddit.drop(columns='parent_comment', inplace=True)"
   ]
  },
  {
   "cell_type": "code",
   "execution_count": null,
   "id": "2940cd9d-0685-4ed6-98ac-29c936bcbc6c",
   "metadata": {},
   "outputs": [],
   "source": [
    "reddit.head()"
   ]
  },
  {
   "cell_type": "code",
   "execution_count": null,
   "id": "32563348-5200-45d0-b407-7ca6101e7018",
   "metadata": {},
   "outputs": [],
   "source": [
    "reddit.shape[0]"
   ]
  },
  {
   "cell_type": "code",
   "execution_count": null,
   "id": "58e67420-8533-4996-83bb-162de86b3703",
   "metadata": {},
   "outputs": [],
   "source": [
    "reddit.shape[0] / 4"
   ]
  },
  {
   "cell_type": "code",
   "execution_count": null,
   "id": "5fdd3574-259e-4cbd-afc3-3cb965aacd4f",
   "metadata": {},
   "outputs": [],
   "source": [
    "reddit_sample = reddit.sample(252679, random_state=42)"
   ]
  },
  {
   "cell_type": "code",
   "execution_count": null,
   "id": "5a094202-d33d-4851-9b88-1e05f16ff5f2",
   "metadata": {},
   "outputs": [],
   "source": [
    "percent_sarcastic = reddit_sample.loc[reddit_sample['label'] ==1 ].shape[0] / reddit_sample.shape[0] * 100"
   ]
  },
  {
   "cell_type": "code",
   "execution_count": null,
   "id": "4b751625-06f8-42dc-bb99-2b4d06e25c45",
   "metadata": {},
   "outputs": [],
   "source": [
    "reddit_sample.head()"
   ]
  },
  {
   "cell_type": "code",
   "execution_count": null,
   "id": "83344e9e-c23c-4973-9e29-bdbc5f736749",
   "metadata": {},
   "outputs": [],
   "source": [
    "reddit_sample.to_csv('sample_comments.csv')"
   ]
  },
  {
   "cell_type": "code",
   "execution_count": null,
   "id": "34e4b3fb-c9a1-4e17-a3c5-66988f06093e",
   "metadata": {},
   "outputs": [],
   "source": [
    "reddit.to_csv('reddit_comments.csv')"
   ]
  },
  {
   "cell_type": "code",
   "execution_count": null,
   "id": "39b80d26-2554-4a8c-b105-46e20e94837a",
   "metadata": {},
   "outputs": [],
   "source": []
  },
  {
   "cell_type": "code",
   "execution_count": null,
   "id": "c76bcc3e-4693-4e69-8fc2-dd94f4413de9",
   "metadata": {},
   "outputs": [],
   "source": []
  },
  {
   "cell_type": "code",
   "execution_count": null,
   "id": "c86f1269-4643-4cc8-8ed2-25a1dfd3f941",
   "metadata": {},
   "outputs": [],
   "source": []
  },
  {
   "cell_type": "code",
   "execution_count": null,
   "id": "b434ab4b-1ae0-4d7e-9ebd-daedcb9a1449",
   "metadata": {},
   "outputs": [],
   "source": []
  },
  {
   "cell_type": "code",
   "execution_count": null,
   "id": "5a7252bc-7ee7-4104-9c05-d9eec3075d68",
   "metadata": {},
   "outputs": [],
   "source": []
  },
  {
   "cell_type": "code",
   "execution_count": null,
   "id": "43b1e699-8282-4338-bf10-a233b411d473",
   "metadata": {},
   "outputs": [],
   "source": []
  },
  {
   "cell_type": "code",
   "execution_count": null,
   "id": "ae069a10-0827-4941-80fd-fb4f7dd014a8",
   "metadata": {},
   "outputs": [],
   "source": []
  },
  {
   "cell_type": "code",
   "execution_count": null,
   "id": "121b0435-b8bc-49ce-9e62-03e1b9fb6b81",
   "metadata": {},
   "outputs": [],
   "source": []
  },
  {
   "cell_type": "code",
   "execution_count": null,
   "id": "8225d1a3-651e-444a-be97-8ef137a91aff",
   "metadata": {},
   "outputs": [],
   "source": []
  },
  {
   "cell_type": "code",
   "execution_count": null,
   "id": "3c4db6de-89cf-42aa-84f4-682da4913128",
   "metadata": {},
   "outputs": [],
   "source": []
  },
  {
   "cell_type": "code",
   "execution_count": null,
   "id": "56530baa-1a59-41e3-9caf-f35c4054c6e0",
   "metadata": {},
   "outputs": [],
   "source": []
  },
  {
   "cell_type": "code",
   "execution_count": null,
   "id": "10013c75-7244-4f20-b891-d155fd83ca82",
   "metadata": {},
   "outputs": [],
   "source": []
  },
  {
   "cell_type": "code",
   "execution_count": null,
   "id": "4223636c-fe25-4e6f-896e-4c9d40d5f22d",
   "metadata": {},
   "outputs": [],
   "source": []
  },
  {
   "cell_type": "code",
   "execution_count": null,
   "id": "7247bf84-247d-4a2a-90a7-575a01f07824",
   "metadata": {},
   "outputs": [],
   "source": []
  },
  {
   "cell_type": "code",
   "execution_count": null,
   "id": "bcbac0c2-758c-4891-8582-5e35dbdc4f64",
   "metadata": {},
   "outputs": [],
   "source": []
  },
  {
   "cell_type": "code",
   "execution_count": null,
   "id": "1e437560-d29f-4b7f-aec7-55b7f37558f3",
   "metadata": {},
   "outputs": [],
   "source": []
  },
  {
   "cell_type": "code",
   "execution_count": null,
   "id": "96667a11-c814-4137-9bfb-2bb1526358e1",
   "metadata": {},
   "outputs": [],
   "source": []
  },
  {
   "cell_type": "code",
   "execution_count": null,
   "id": "b560b2be-5631-41c1-9c58-4c8315c561cc",
   "metadata": {},
   "outputs": [],
   "source": []
  }
 ],
 "metadata": {
  "kernelspec": {
   "display_name": "sarcasm",
   "language": "python",
   "name": "sarcasm"
  },
  "language_info": {
   "codemirror_mode": {
    "name": "ipython",
    "version": 3
   },
   "file_extension": ".py",
   "mimetype": "text/x-python",
   "name": "python",
   "nbconvert_exporter": "python",
   "pygments_lexer": "ipython3",
   "version": "3.8.18"
  }
 },
 "nbformat": 4,
 "nbformat_minor": 5
}
