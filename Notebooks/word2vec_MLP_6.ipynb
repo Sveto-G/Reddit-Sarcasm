{
 "cells": [
  {
   "cell_type": "markdown",
   "id": "58f180e3-2f0a-44d9-a288-d70f813deaa0",
   "metadata": {},
   "source": [
    "### Notebook #6"
   ]
  },
  {
   "cell_type": "markdown",
   "id": "9241af9c-ca16-4666-a0c4-4ddf4708565e",
   "metadata": {},
   "source": [
    "## Table of Contents\n",
    "1) <a href=\"#word\" id=\"top\">Word2Vec</a>\n",
    "2) <a href=\"#vec\">Word2Vec_V2</a>\n",
    "3) <a href=\"#model\">MLPClassifier</a>"
   ]
  },
  {
   "cell_type": "markdown",
   "id": "b7868d15-ee1d-4efb-8cf3-404e8d5508c1",
   "metadata": {},
   "source": [
    "## Intro\n",
    "\n",
    "In this notebook we will be training both a `Word2Vec` model and an `MLPClassifier` neural network. `Word2Vec` creates word embeddings that use a sliding window to predict the words around it in the form of `CBOW` and `SkipGrams`. Put another way, it is aware of its surroundings, its **context**, which is exactly what we need. Aside from that, it creates unique vectors for every word which can be used to make mathematical operations between words, testing their similarity. `Word2Vec` can come pre-trained or trained from scratch. We will be doing the latter as a start. `MLPClassifier` is a solid baseline `NN` model which will allow us to quickly deploy a neural net."
   ]
  },
  {
   "cell_type": "code",
   "execution_count": 2,
   "id": "f91eea93-c7d0-4c68-88df-129d960b4070",
   "metadata": {
    "scrolled": true
   },
   "outputs": [
    {
     "ename": "RuntimeError",
     "evalue": "module compiled against API version 0xe but this version of numpy is 0xd",
     "output_type": "error",
     "traceback": [
      "\u001b[1;31m---------------------------------------------------------------------------\u001b[0m",
      "\u001b[1;31mRuntimeError\u001b[0m                              Traceback (most recent call last)",
      "\u001b[1;31mRuntimeError\u001b[0m: module compiled against API version 0xe but this version of numpy is 0xd"
     ]
    },
    {
     "name": "stderr",
     "output_type": "stream",
     "text": [
      "[nltk_data] Downloading package punkt to\n",
      "[nltk_data]     C:\\Users\\gravi\\AppData\\Roaming\\nltk_data...\n",
      "[nltk_data]   Package punkt is already up-to-date!\n"
     ]
    }
   ],
   "source": [
    "import numpy as np\n",
    "import pandas as pd\n",
    "import matplotlib.pyplot as plt\n",
    "import seaborn as sns\n",
    "sns.set()\n",
    "\n",
    "import regex as re\n",
    "import string\n",
    "import nltk\n",
    "from nltk.tokenize import sent_tokenize, word_tokenize\n",
    "nltk.download('punkt')\n",
    "\n",
    "\n",
    "from gensim.models import Word2Vec\n",
    "\n",
    "\n",
    "import warnings \n",
    "warnings.filterwarnings(action = 'ignore')\n"
   ]
  },
  {
   "cell_type": "code",
   "execution_count": 3,
   "id": "022dcd1b-9c8f-424e-bbb7-fc750f7c2cab",
   "metadata": {
    "scrolled": true
   },
   "outputs": [
    {
     "data": {
      "text/html": [
       "<div>\n",
       "<style scoped>\n",
       "    .dataframe tbody tr th:only-of-type {\n",
       "        vertical-align: middle;\n",
       "    }\n",
       "\n",
       "    .dataframe tbody tr th {\n",
       "        vertical-align: top;\n",
       "    }\n",
       "\n",
       "    .dataframe thead th {\n",
       "        text-align: right;\n",
       "    }\n",
       "</style>\n",
       "<table border=\"1\" class=\"dataframe\">\n",
       "  <thead>\n",
       "    <tr style=\"text-align: right;\">\n",
       "      <th></th>\n",
       "      <th>label</th>\n",
       "      <th>comment</th>\n",
       "    </tr>\n",
       "  </thead>\n",
       "  <tbody>\n",
       "    <tr>\n",
       "      <th>139484</th>\n",
       "      <td>0</td>\n",
       "      <td>Nope.</td>\n",
       "    </tr>\n",
       "    <tr>\n",
       "      <th>638093</th>\n",
       "      <td>0</td>\n",
       "      <td>Donde esta la biblioteca?</td>\n",
       "    </tr>\n",
       "    <tr>\n",
       "      <th>662570</th>\n",
       "      <td>0</td>\n",
       "      <td>I feel bad for the mummy... not even the minio...</td>\n",
       "    </tr>\n",
       "    <tr>\n",
       "      <th>652534</th>\n",
       "      <td>1</td>\n",
       "      <td>The Pirate Bay, of course!</td>\n",
       "    </tr>\n",
       "    <tr>\n",
       "      <th>411846</th>\n",
       "      <td>1</td>\n",
       "      <td>That's exactly how multiple photographers ende...</td>\n",
       "    </tr>\n",
       "  </tbody>\n",
       "</table>\n",
       "</div>"
      ],
      "text/plain": [
       "        label                                            comment\n",
       "139484      0                                              Nope.\n",
       "638093      0                          Donde esta la biblioteca?\n",
       "662570      0  I feel bad for the mummy... not even the minio...\n",
       "652534      1                         The Pirate Bay, of course!\n",
       "411846      1  That's exactly how multiple photographers ende..."
      ]
     },
     "execution_count": 3,
     "metadata": {},
     "output_type": "execute_result"
    }
   ],
   "source": [
    "# reading in csv and checking head\n",
    "reddit = pd.read_csv('sample_comments.csv', index_col=0)\n",
    "\n",
    "reddit.head()"
   ]
  },
  {
   "cell_type": "markdown",
   "id": "bac66dba-97a5-41ad-b009-040e84fd5bc9",
   "metadata": {},
   "source": [
    "We will be using a slightly modified tokenizer function that will:\n",
    "1) Keep stop words\n",
    "2) Keep stems\n",
    "3) Accomodate the passing of a series"
   ]
  },
  {
   "cell_type": "code",
   "execution_count": 4,
   "id": "cc48e51f-768a-4982-99dd-012f4ffa61bf",
   "metadata": {},
   "outputs": [],
   "source": [
    "# custom tokenizer function\n",
    "\n",
    "def tokenizer(series):\n",
    "    \n",
    "    corpus = series.values\n",
    "    tokens = []\n",
    "    \n",
    "    for document in corpus:\n",
    "        #removing punctuation\n",
    "        for punc in string.punctuation:\n",
    "            document = document.replace(punc, '')\n",
    "        # removing numbers and splitting sentences    \n",
    "        document = re.sub(\"\\d+\", \"\", document).lower()\n",
    "        tokens.append(document.split(' '))\n",
    "        \n",
    "    \n",
    "        \n",
    "\n",
    "    return tokens"
   ]
  },
  {
   "cell_type": "code",
   "execution_count": 5,
   "id": "718db9d4-5a84-44ef-b1d3-2ef766498104",
   "metadata": {
    "scrolled": true
   },
   "outputs": [],
   "source": [
    "# setting X and y\n",
    "X = reddit['comment']\n",
    "y = reddit['label']"
   ]
  },
  {
   "cell_type": "code",
   "execution_count": 6,
   "id": "394d009a",
   "metadata": {
    "scrolled": true
   },
   "outputs": [
    {
     "data": {
      "text/plain": [
       "[['nope'], ['donde', 'esta', 'la', 'biblioteca']]"
      ]
     },
     "execution_count": 6,
     "metadata": {},
     "output_type": "execute_result"
    }
   ],
   "source": [
    "# testing tokenizer function\n",
    "tokenizer(X[:2])"
   ]
  },
  {
   "cell_type": "markdown",
   "id": "2c533b9c-59e3-4b1d-a5f4-3d579eff8e4f",
   "metadata": {},
   "source": [
    "Our tokenizer function works, so we will pass through our `X` and set the resulting list to a variable."
   ]
  },
  {
   "cell_type": "code",
   "execution_count": 7,
   "id": "b66157e7",
   "metadata": {},
   "outputs": [],
   "source": [
    "# tokenizing our comments\n",
    "tokenized_data = tokenizer(X)"
   ]
  },
  {
   "cell_type": "markdown",
   "id": "dbb24232-4b54-46a0-abf0-37b8e0502c40",
   "metadata": {},
   "source": [
    "## <a href=\"#top\" id=\"word\">Word2Vec</a>"
   ]
  },
  {
   "cell_type": "markdown",
   "id": "3dc38206-0690-4e41-a922-8ec3f6f6ff99",
   "metadata": {},
   "source": [
    "    We will be training our tokens on the Word2Vec model. It will use a window size of 5 to predict surrounding words and will create embeddings that we can explore and eventually fit to a model."
   ]
  },
  {
   "cell_type": "code",
   "execution_count": 8,
   "id": "5fa2729f-cf1c-4a41-a1b3-97255c5c08b8",
   "metadata": {},
   "outputs": [
    {
     "data": {
      "text/plain": [
       "(10358800, 13178775)"
      ]
     },
     "execution_count": 8,
     "metadata": {},
     "output_type": "execute_result"
    }
   ],
   "source": [
    "# instantiating word2vec model that will be trained on our dataset\n",
    "model = Word2Vec(tokenized_data, window=5, min_count=1, workers=4)\n",
    "model.train(tokenized_data, total_examples=model.corpus_count, epochs=model.epochs)"
   ]
  },
  {
   "cell_type": "markdown",
   "id": "c7d73922-291c-4faf-bec0-d58b2849761d",
   "metadata": {},
   "source": [
    "Now that we have our vectors, we can do a brief EDA on key words of interest and check their similarities to other words in the dataset."
   ]
  },
  {
   "cell_type": "code",
   "execution_count": 9,
   "id": "f361d875",
   "metadata": {},
   "outputs": [
    {
     "data": {
      "text/plain": [
       "[('facetious', 0.8120466470718384),\n",
       " ('detained', 0.7430076599121094),\n",
       " ('pedantic', 0.7109238505363464),\n",
       " ('griefed', 0.7034671306610107),\n",
       " ('bitbybit', 0.6912793517112732),\n",
       " ('joking', 0.6885679364204407),\n",
       " ('mocked', 0.6774377226829529),\n",
       " ('aggressor', 0.6767247915267944),\n",
       " ('johny', 0.6701516509056091),\n",
       " ('irishamerican', 0.6680042147636414)]"
      ]
     },
     "execution_count": 9,
     "metadata": {},
     "output_type": "execute_result"
    }
   ],
   "source": [
    "model.most_similar('sarcastic')"
   ]
  },
  {
   "cell_type": "code",
   "execution_count": 10,
   "id": "f3855c6e",
   "metadata": {},
   "outputs": [
    {
     "data": {
      "text/plain": [
       "[('comment', 0.6513453125953674),\n",
       " ('tag', 0.6342936754226685),\n",
       " ('username', 0.6152840256690979),\n",
       " ('nsfw', 0.6076558232307434),\n",
       " ('post', 0.5954855680465698),\n",
       " ('text', 0.5945448279380798),\n",
       " ('satire', 0.5909705758094788),\n",
       " ('buzzfeed', 0.583030104637146),\n",
       " ('op', 0.5818008780479431),\n",
       " ('typo', 0.5724892616271973)]"
      ]
     },
     "execution_count": 10,
     "metadata": {},
     "output_type": "execute_result"
    }
   ],
   "source": [
    "model.most_similar('sarcasm')"
   ]
  },
  {
   "cell_type": "code",
   "execution_count": 11,
   "id": "2be1ddd4",
   "metadata": {},
   "outputs": [
    {
     "data": {
      "text/plain": [
       "[('statewide', 0.7574028372764587),\n",
       " ('staged', 0.7455390691757202),\n",
       " ('unacceptable', 0.7336013317108154),\n",
       " ('incorrect', 0.7258432507514954),\n",
       " ('mew', 0.7256834506988525),\n",
       " ('factually', 0.7224603891372681),\n",
       " ('cringyyyyy', 0.7190381288528442),\n",
       " ('godmann', 0.7125478982925415),\n",
       " ('ruuuuuiiined', 0.7117441296577454),\n",
       " ('censorship', 0.7084832787513733)]"
      ]
     },
     "execution_count": 11,
     "metadata": {},
     "output_type": "execute_result"
    }
   ],
   "source": [
    "model.most_similar('satire')"
   ]
  },
  {
   "cell_type": "code",
   "execution_count": 12,
   "id": "6ea9f6f4",
   "metadata": {},
   "outputs": [
    {
     "data": {
      "text/plain": [
       "[('joking', 0.6859943270683289),\n",
       " ('creepy', 0.631734311580658),\n",
       " ('johny', 0.6236442923545837),\n",
       " ('facetious', 0.6166537404060364),\n",
       " ('rude', 0.6158333420753479)]"
      ]
     },
     "execution_count": 12,
     "metadata": {},
     "output_type": "execute_result"
    }
   ],
   "source": [
    "model.most_similar(positive=['joke', 'sarcastic'], topn=5)"
   ]
  },
  {
   "cell_type": "markdown",
   "id": "a31af40a-5d50-4a7c-8fd9-e8a221e99313",
   "metadata": {},
   "source": [
    "**In our initial EDA we found that the `politics` subreddit was one of the most sarcastic. That is the justification for this next query.**"
   ]
  },
  {
   "cell_type": "code",
   "execution_count": 13,
   "id": "8b1c13e1",
   "metadata": {},
   "outputs": [
    {
     "data": {
      "text/plain": [
       "[('gamergate', 0.6453166007995605),\n",
       " ('islam', 0.6435695886611938),\n",
       " ('statements', 0.6378083229064941),\n",
       " ('bigotry', 0.6366938352584839),\n",
       " ('nature', 0.6134522557258606),\n",
       " ('facts', 0.6132872104644775),\n",
       " ('science', 0.6130746006965637),\n",
       " ('nuance', 0.6064255237579346),\n",
       " ('opinions', 0.6059615015983582),\n",
       " ('context', 0.600816547870636)]"
      ]
     },
     "execution_count": 13,
     "metadata": {},
     "output_type": "execute_result"
    }
   ],
   "source": [
    "model.most_similar(positive=['politics', 'sarcasm'])"
   ]
  },
  {
   "cell_type": "markdown",
   "id": "41dee4ce-c4fd-4a93-b59c-76239592e53f",
   "metadata": {},
   "source": [
    "    These test queries have led to mixed results. Some words are accurately similar to the target word, some are not, but there is definitely a concerning amount of nonsense words like \"kmfdm\", \"kayfabe\" \"matante\". For now we will continue to query further."
   ]
  },
  {
   "cell_type": "markdown",
   "id": "31ed5c37-cb92-4925-babb-8ded01552a39",
   "metadata": {},
   "source": [
    "We will now move on to side-by-side comparisons of words that in theory should be predictive of sarcasm (or not)."
   ]
  },
  {
   "cell_type": "code",
   "execution_count": 14,
   "id": "ce70df6d",
   "metadata": {},
   "outputs": [
    {
     "data": {
      "text/html": [
       "<div>\n",
       "<style scoped>\n",
       "    .dataframe tbody tr th:only-of-type {\n",
       "        vertical-align: middle;\n",
       "    }\n",
       "\n",
       "    .dataframe tbody tr th {\n",
       "        vertical-align: top;\n",
       "    }\n",
       "\n",
       "    .dataframe thead th {\n",
       "        text-align: right;\n",
       "    }\n",
       "</style>\n",
       "<table border=\"1\" class=\"dataframe\">\n",
       "  <thead>\n",
       "    <tr style=\"text-align: right;\">\n",
       "      <th></th>\n",
       "      <th>sarcastic</th>\n",
       "      <th>genuine</th>\n",
       "    </tr>\n",
       "  </thead>\n",
       "  <tbody>\n",
       "    <tr>\n",
       "      <th>0</th>\n",
       "      <td>facetious</td>\n",
       "      <td>multimedia</td>\n",
       "    </tr>\n",
       "    <tr>\n",
       "      <th>1</th>\n",
       "      <td>detained</td>\n",
       "      <td>phir</td>\n",
       "    </tr>\n",
       "    <tr>\n",
       "      <th>2</th>\n",
       "      <td>pedantic</td>\n",
       "      <td>shrodingers</td>\n",
       "    </tr>\n",
       "    <tr>\n",
       "      <th>3</th>\n",
       "      <td>griefed</td>\n",
       "      <td>detected</td>\n",
       "    </tr>\n",
       "    <tr>\n",
       "      <th>4</th>\n",
       "      <td>bitbybit</td>\n",
       "      <td>chloe</td>\n",
       "    </tr>\n",
       "    <tr>\n",
       "      <th>5</th>\n",
       "      <td>joking</td>\n",
       "      <td>nooooooooooooooooooooooooo</td>\n",
       "    </tr>\n",
       "    <tr>\n",
       "      <th>6</th>\n",
       "      <td>mocked</td>\n",
       "      <td>methinks</td>\n",
       "    </tr>\n",
       "    <tr>\n",
       "      <th>7</th>\n",
       "      <td>aggressor</td>\n",
       "      <td>khaye</td>\n",
       "    </tr>\n",
       "    <tr>\n",
       "      <th>8</th>\n",
       "      <td>johny</td>\n",
       "      <td>etikas</td>\n",
       "    </tr>\n",
       "    <tr>\n",
       "      <th>9</th>\n",
       "      <td>irishamerican</td>\n",
       "      <td>borrachos</td>\n",
       "    </tr>\n",
       "  </tbody>\n",
       "</table>\n",
       "</div>"
      ],
      "text/plain": [
       "       sarcastic                     genuine\n",
       "0      facetious                  multimedia\n",
       "1       detained                        phir\n",
       "2       pedantic                 shrodingers\n",
       "3        griefed                    detected\n",
       "4       bitbybit                       chloe\n",
       "5         joking  nooooooooooooooooooooooooo\n",
       "6         mocked                    methinks\n",
       "7      aggressor                       khaye\n",
       "8          johny                      etikas\n",
       "9  irishamerican                   borrachos"
      ]
     },
     "execution_count": 14,
     "metadata": {},
     "output_type": "execute_result"
    }
   ],
   "source": [
    "sarcastic = model.most_similar(positive=['sarcastic'])\n",
    "genuine = model.most_similar(positive=['genuine'])\n",
    "\n",
    "pd.DataFrame(\n",
    "        data={\n",
    "            \"sarcastic\": [word for word, sim in sarcastic], \n",
    "            \"genuine\": [word for word, sim in genuine]\n",
    "        }\n",
    ")"
   ]
  },
  {
   "cell_type": "markdown",
   "id": "c9c7a5ca-75e8-432e-aea5-df2a75a3ee57",
   "metadata": {},
   "source": [
    "Just as in the test results above, this table holds both words that do make sense and are related to the target, but also a good amount of nonsense words that one can only assume are usernames."
   ]
  },
  {
   "cell_type": "code",
   "execution_count": 15,
   "id": "13c1c270",
   "metadata": {},
   "outputs": [
    {
     "data": {
      "text/html": [
       "<div>\n",
       "<style scoped>\n",
       "    .dataframe tbody tr th:only-of-type {\n",
       "        vertical-align: middle;\n",
       "    }\n",
       "\n",
       "    .dataframe tbody tr th {\n",
       "        vertical-align: top;\n",
       "    }\n",
       "\n",
       "    .dataframe thead th {\n",
       "        text-align: right;\n",
       "    }\n",
       "</style>\n",
       "<table border=\"1\" class=\"dataframe\">\n",
       "  <thead>\n",
       "    <tr style=\"text-align: right;\">\n",
       "      <th></th>\n",
       "      <th>misleading</th>\n",
       "      <th>honest</th>\n",
       "    </tr>\n",
       "  </thead>\n",
       "  <tbody>\n",
       "    <tr>\n",
       "      <th>0</th>\n",
       "      <td>flawed</td>\n",
       "      <td>lowerbudget</td>\n",
       "    </tr>\n",
       "    <tr>\n",
       "      <th>1</th>\n",
       "      <td>informative</td>\n",
       "      <td>fair</td>\n",
       "    </tr>\n",
       "    <tr>\n",
       "      <th>2</th>\n",
       "      <td>clickbaity</td>\n",
       "      <td>grateful</td>\n",
       "    </tr>\n",
       "    <tr>\n",
       "      <th>3</th>\n",
       "      <td>clickbait</td>\n",
       "      <td>pitied</td>\n",
       "    </tr>\n",
       "    <tr>\n",
       "      <th>4</th>\n",
       "      <td>ibuki</td>\n",
       "      <td>qualified</td>\n",
       "    </tr>\n",
       "    <tr>\n",
       "      <th>5</th>\n",
       "      <td>inaccurate</td>\n",
       "      <td>polite</td>\n",
       "    </tr>\n",
       "    <tr>\n",
       "      <th>6</th>\n",
       "      <td>incorrect</td>\n",
       "      <td>paranoid</td>\n",
       "    </tr>\n",
       "    <tr>\n",
       "      <th>7</th>\n",
       "      <td>nfb</td>\n",
       "      <td>thankful</td>\n",
       "    </tr>\n",
       "    <tr>\n",
       "      <th>8</th>\n",
       "      <td>editorialized</td>\n",
       "      <td>therell</td>\n",
       "    </tr>\n",
       "    <tr>\n",
       "      <th>9</th>\n",
       "      <td>jeor</td>\n",
       "      <td>attracted</td>\n",
       "    </tr>\n",
       "  </tbody>\n",
       "</table>\n",
       "</div>"
      ],
      "text/plain": [
       "      misleading       honest\n",
       "0         flawed  lowerbudget\n",
       "1    informative         fair\n",
       "2     clickbaity     grateful\n",
       "3      clickbait       pitied\n",
       "4          ibuki    qualified\n",
       "5     inaccurate       polite\n",
       "6      incorrect     paranoid\n",
       "7            nfb     thankful\n",
       "8  editorialized      therell\n",
       "9           jeor    attracted"
      ]
     },
     "execution_count": 15,
     "metadata": {},
     "output_type": "execute_result"
    }
   ],
   "source": [
    "misleading = model.most_similar(positive=['misleading'])\n",
    "honest = model.most_similar(positive=['honest'])\n",
    "\n",
    "pd.DataFrame(\n",
    "        data={\n",
    "            \"misleading\": [word for word, sim in misleading], \n",
    "            \"honest\": [word for word, sim in honest]\n",
    "        }\n",
    ")"
   ]
  },
  {
   "cell_type": "markdown",
   "id": "d23fbcfd-5940-4a53-877f-6009bdc11a80",
   "metadata": {},
   "source": [
    "More of the same in the result of this query, though I would say these words are more encouraging. There are some very appropriate matches:\n",
    "\n",
    "**Misleading**\n",
    "- clickbait\n",
    "- editorialized\n",
    "- sensationalized\n",
    "- unintentional\n",
    "- blatent\n",
    "\n",
    "**Honest**\n",
    "- fair\n",
    "- thankful\n",
    "- grateful\n",
    "-  --> though this one: \"rude\" is an outlier. A negative sentiment word, though not quite an antonym, laying in the midst of a bunch of positive sentiment words"
   ]
  },
  {
   "cell_type": "markdown",
   "id": "5b2d00b0-e5bb-406b-91b7-9e38028d93a1",
   "metadata": {},
   "source": [
    "-------------------------------------------------------------------------------------------------------------------------------------------------------"
   ]
  },
  {
   "cell_type": "markdown",
   "id": "4ae30506-575e-44fd-a59a-9ec9ded0460f",
   "metadata": {},
   "source": [
    "Below is a list of 10 words pulled from the top (and bottom) `Logistic Regression` sarcasm predictors list. The first 5 words were among the top predictors of sarcasm and the last 5 were among the bottom predictors. We will plot these out by their word embedding vectors transformed into two dimensions through `PCA`. This is an effort to see if we can see any clear clusters and if their placements are consistent with the logreg predictions. "
   ]
  },
  {
   "cell_type": "code",
   "execution_count": 16,
   "id": "922914d3",
   "metadata": {},
   "outputs": [],
   "source": [
    "words = ['duh', 'scrub', 'obvious', 'shitlord', 'forgot', 'imo', 'although', 'honestly', 'mostly', 'unfortunate']"
   ]
  },
  {
   "cell_type": "code",
   "execution_count": 17,
   "id": "1f3808f4",
   "metadata": {},
   "outputs": [],
   "source": [
    "sarcasm_test = []\n",
    "\n",
    "# appending word vectors to list\n",
    "for word in words:\n",
    "    sarcasm_test.append(model[word])"
   ]
  },
  {
   "cell_type": "code",
   "execution_count": 18,
   "id": "3bd6a2e4",
   "metadata": {},
   "outputs": [],
   "source": [
    "from sklearn.decomposition import PCA\n",
    "\n",
    "# instantiating pca to transfrom vectors into 2 dimensional representations for plotting\n",
    "pca = PCA(n_components=2)\n",
    "\n",
    "top_words = pca.fit_transform(sarcasm_test)"
   ]
  },
  {
   "cell_type": "code",
   "execution_count": 50,
   "id": "8de6a5a9",
   "metadata": {
    "scrolled": true
   },
   "outputs": [
    {
     "data": {
      "image/png": "[encoded data removed]",
      "text/plain": [
       "<Figure size 1000x1000 with 1 Axes>"
      ]
     },
     "metadata": {},
     "output_type": "display_data"
    }
   ],
   "source": [
    "# plotting word vectors\n",
    "plt.figure(figsize=(10,10))\n",
    "plt.scatter(top_words[:,0], top_words[:,1], color ='salmon')\n",
    "plt.title('(Non)Sarcastic Word Clusters', fontsize=18)\n",
    "# annotating points\n",
    "for i, word in enumerate(words):\n",
    "    plt.annotate(word, xy=(top_words[i,0], top_words[i,1]), xytext=(2,2), textcoords='offset points')\n",
    "\n",
    "plt.show()"
   ]
  },
  {
   "cell_type": "markdown",
   "id": "96bdb831-4668-4f1a-9c85-746e51f8563f",
   "metadata": {},
   "source": []
  },
  {
   "cell_type": "markdown",
   "id": "93f000f3-3283-410d-9d41-fcc8885a00f5",
   "metadata": {},
   "source": []
  },
  {
   "cell_type": "code",
   "execution_count": 20,
   "id": "3f0f4fd8",
   "metadata": {},
   "outputs": [],
   "source": [
    "def sentence(document):\n",
    "    size = model.vector_size\n",
    "    word_vec_document = np.zeros(size)\n",
    "    count = 1\n",
    "    \n",
    "    for word in document:\n",
    "        if word in model:\n",
    "            count +=1\n",
    "            word_vec_document += model[word]\n",
    "    \n",
    "    word_vec_document = word_vec_document / count\n",
    "    \n",
    "    return word_vec_document"
   ]
  },
  {
   "cell_type": "code",
   "execution_count": 21,
   "id": "beb32d88",
   "metadata": {},
   "outputs": [],
   "source": [
    "# test sentences to run through sentence function\n",
    "test_document = 'I love my wife. She is so beautiful.'\n",
    "new_test = 'call me again tomorrow, so good to see you'"
   ]
  },
  {
   "cell_type": "code",
   "execution_count": 22,
   "id": "cbba8007",
   "metadata": {},
   "outputs": [
    {
     "data": {
      "text/plain": [
       "array([ 0.0486307 ,  0.31501142,  0.12438124, -0.25027588, -0.63076075,\n",
       "        0.90123444, -0.81810526,  0.7536797 ,  0.79527327, -1.21523213,\n",
       "        0.81173154, -0.55702757, -0.15995806,  0.08755084,  0.12678383,\n",
       "       -0.07936878,  0.2989074 ,  1.04797833,  0.63390049,  0.56088448,\n",
       "        0.78662658,  0.19472906,  1.18038011, -0.85974307,  0.01885604,\n",
       "        0.8681635 , -0.02071134,  0.31971104,  0.85426847,  0.55106933,\n",
       "        0.52113873, -0.38818858, -1.14383782, -0.22524809,  0.30255553,\n",
       "       -1.01912679, -0.62799309,  0.0968776 , -0.82988353, -0.02337664,\n",
       "        0.78681783, -1.05688449,  0.05249448, -0.15165759, -0.44582234,\n",
       "        0.1642979 , -0.43705779, -0.64628556,  0.095833  , -0.45797059,\n",
       "        2.084663  ,  0.61501999,  0.19110555,  1.06487317, -0.25077253,\n",
       "       -0.05404026, -0.61250427,  0.05809023, -1.02917394, -0.04873803,\n",
       "        0.35889943, -0.34250882,  0.59924767,  0.29980468,  0.09940411,\n",
       "        0.69899657,  0.35316288,  0.47926925,  0.08732865,  0.42461852,\n",
       "        0.0058158 , -0.14697141,  0.04468374,  0.65598516, -0.48864993,\n",
       "        0.15695998,  0.30094559, -0.2705933 ,  0.95306754, -0.04913516,\n",
       "       -0.39300678,  0.61483291,  0.53378805,  0.08091605, -0.27049821,\n",
       "       -0.82886048, -0.19164852,  0.73432691, -0.35982932, -0.69784982,\n",
       "        0.05371675, -0.01483937, -0.80375759,  0.22608616, -1.51302493,\n",
       "       -0.09011089,  0.17069369, -0.81450039,  0.607085  , -1.12650587])"
      ]
     },
     "execution_count": 22,
     "metadata": {},
     "output_type": "execute_result"
    }
   ],
   "source": [
    "# testing sentence function\n",
    "sentence(test_document)"
   ]
  },
  {
   "cell_type": "code",
   "execution_count": 23,
   "id": "d5f10fe6",
   "metadata": {},
   "outputs": [
    {
     "name": "stdout",
     "output_type": "stream",
     "text": [
      "100\n"
     ]
    }
   ],
   "source": [
    "# setting new_test to temporary variable to check vector length\n",
    "variable = sentence(new_test)\n",
    "print(len(variable))"
   ]
  },
  {
   "cell_type": "markdown",
   "id": "ca9dae39-30fd-4bb1-a7fd-2f790ea0267b",
   "metadata": {},
   "source": [
    "Having confirmed that our `sentence` function works, we can run our tokenized data through the function to create document vectors - but not before we optimize our tokens and vectors by improving our `Word2Vec` model."
   ]
  },
  {
   "cell_type": "markdown",
   "id": "2c6b53c8-d8da-41da-8214-2b709409e03b",
   "metadata": {},
   "source": [
    "## <a href=\"#top\" id=\"vec\">Word2Vec_V2</a>"
   ]
  },
  {
   "cell_type": "markdown",
   "id": "db63040a-9f44-4a39-96a7-72fa92ed9fd9",
   "metadata": {},
   "source": [
    "Here we have a new and improved `Word2Vec` model, where we added a couple of hyperparameters in `size` and `max_vocab_size`.\n",
    "- `size` being vector size, set to 300 -> leads to more precision\n",
    "- `max_vocab_size` limits our vocabulary to 10,000 words, which should help filter our all of the nonsense words and usernames we encountered earlier."
   ]
  },
  {
   "cell_type": "code",
   "execution_count": 31,
   "id": "e11eebc5-aa11-4f70-a0e2-9811a3490201",
   "metadata": {},
   "outputs": [
    {
     "data": {
      "text/plain": [
       "(8701532, 13178775)"
      ]
     },
     "execution_count": 31,
     "metadata": {},
     "output_type": "execute_result"
    }
   ],
   "source": [
    "# reinstantiating more precise word2vec \n",
    "model = Word2Vec(tokenized_data, window=5, min_count=1, workers=4, size=300, max_vocab_size=10000 )\n",
    "model.train(tokenized_data, total_examples=model.corpus_count, epochs=model.epochs)"
   ]
  },
  {
   "cell_type": "markdown",
   "id": "ff5b010e-7669-49ac-aa18-2664d4a1c6f1",
   "metadata": {},
   "source": [
    "    Below we will run a few similarity tests with our new embeddings to see if the results are more true to life and thereby (potentially) more predictive."
   ]
  },
  {
   "cell_type": "code",
   "execution_count": 40,
   "id": "2d16838f-b079-4aa3-b873-9a6e83c1b3e5",
   "metadata": {},
   "outputs": [
    {
     "data": {
      "text/html": [
       "<div>\n",
       "<style scoped>\n",
       "    .dataframe tbody tr th:only-of-type {\n",
       "        vertical-align: middle;\n",
       "    }\n",
       "\n",
       "    .dataframe tbody tr th {\n",
       "        vertical-align: top;\n",
       "    }\n",
       "\n",
       "    .dataframe thead th {\n",
       "        text-align: right;\n",
       "    }\n",
       "</style>\n",
       "<table border=\"1\" class=\"dataframe\">\n",
       "  <thead>\n",
       "    <tr style=\"text-align: right;\">\n",
       "      <th></th>\n",
       "      <th>lie</th>\n",
       "      <th>truth</th>\n",
       "    </tr>\n",
       "  </thead>\n",
       "  <tbody>\n",
       "    <tr>\n",
       "      <th>0</th>\n",
       "      <td>talk</td>\n",
       "      <td>bible</td>\n",
       "    </tr>\n",
       "    <tr>\n",
       "      <th>1</th>\n",
       "      <td>complain</td>\n",
       "      <td>nsa</td>\n",
       "    </tr>\n",
       "    <tr>\n",
       "      <th>2</th>\n",
       "      <td>forget</td>\n",
       "      <td>cnn</td>\n",
       "    </tr>\n",
       "    <tr>\n",
       "      <th>3</th>\n",
       "      <td>trust</td>\n",
       "      <td>media</td>\n",
       "    </tr>\n",
       "    <tr>\n",
       "      <th>4</th>\n",
       "      <td>offend</td>\n",
       "      <td>us</td>\n",
       "    </tr>\n",
       "    <tr>\n",
       "      <th>5</th>\n",
       "      <td>listen</td>\n",
       "      <td>victim</td>\n",
       "    </tr>\n",
       "    <tr>\n",
       "      <th>6</th>\n",
       "      <td>criticize</td>\n",
       "      <td>msm</td>\n",
       "    </tr>\n",
       "    <tr>\n",
       "      <th>7</th>\n",
       "      <td>worry</td>\n",
       "      <td>patriarchy</td>\n",
       "    </tr>\n",
       "    <tr>\n",
       "      <th>8</th>\n",
       "      <td>care</td>\n",
       "      <td>internet</td>\n",
       "    </tr>\n",
       "    <tr>\n",
       "      <th>9</th>\n",
       "      <td>say</td>\n",
       "      <td>circlejerk</td>\n",
       "    </tr>\n",
       "  </tbody>\n",
       "</table>\n",
       "</div>"
      ],
      "text/plain": [
       "         lie       truth\n",
       "0       talk       bible\n",
       "1   complain         nsa\n",
       "2     forget         cnn\n",
       "3      trust       media\n",
       "4     offend          us\n",
       "5     listen      victim\n",
       "6  criticize         msm\n",
       "7      worry  patriarchy\n",
       "8       care    internet\n",
       "9        say  circlejerk"
      ]
     },
     "execution_count": 40,
     "metadata": {},
     "output_type": "execute_result"
    }
   ],
   "source": [
    "lie = model.most_similar(positive=['lie'])\n",
    "truth = model.most_similar(positive=['truth'])\n",
    "\n",
    "pd.DataFrame(\n",
    "        data={\n",
    "            \"lie\": [word for word, sim in lie], \n",
    "            \"truth\": [word for word, sim in truth]\n",
    "        }\n",
    ")"
   ]
  },
  {
   "cell_type": "markdown",
   "id": "830e0110-fe9d-43ae-9e93-e3ef7bb6d622",
   "metadata": {},
   "source": [
    "These results look a lot better. We don't have any usernames or nonsense words as we set a `max_vocab_size` to filter out the less common outlier words."
   ]
  },
  {
   "cell_type": "code",
   "execution_count": 41,
   "id": "f9e290cd",
   "metadata": {
    "scrolled": true
   },
   "outputs": [
    {
     "data": {
      "text/html": [
       "<div>\n",
       "<style scoped>\n",
       "    .dataframe tbody tr th:only-of-type {\n",
       "        vertical-align: middle;\n",
       "    }\n",
       "\n",
       "    .dataframe tbody tr th {\n",
       "        vertical-align: top;\n",
       "    }\n",
       "\n",
       "    .dataframe thead th {\n",
       "        text-align: right;\n",
       "    }\n",
       "</style>\n",
       "<table border=\"1\" class=\"dataframe\">\n",
       "  <thead>\n",
       "    <tr style=\"text-align: right;\">\n",
       "      <th></th>\n",
       "      <th>sarcastic</th>\n",
       "      <th>honest</th>\n",
       "    </tr>\n",
       "  </thead>\n",
       "  <tbody>\n",
       "    <tr>\n",
       "      <th>0</th>\n",
       "      <td>facetious</td>\n",
       "      <td>fair</td>\n",
       "    </tr>\n",
       "    <tr>\n",
       "      <th>1</th>\n",
       "      <td>joking</td>\n",
       "      <td>rude</td>\n",
       "    </tr>\n",
       "    <tr>\n",
       "      <th>2</th>\n",
       "      <td>downvoted</td>\n",
       "      <td>prepared</td>\n",
       "    </tr>\n",
       "    <tr>\n",
       "      <th>3</th>\n",
       "      <td>deansafbi</td>\n",
       "      <td>aggressive</td>\n",
       "    </tr>\n",
       "    <tr>\n",
       "      <th>4</th>\n",
       "      <td>rude</td>\n",
       "      <td>effective</td>\n",
       "    </tr>\n",
       "    <tr>\n",
       "      <th>5</th>\n",
       "      <td>planetarium</td>\n",
       "      <td>entertaining</td>\n",
       "    </tr>\n",
       "    <tr>\n",
       "      <th>6</th>\n",
       "      <td>serious</td>\n",
       "      <td>mature</td>\n",
       "    </tr>\n",
       "    <tr>\n",
       "      <th>7</th>\n",
       "      <td>aggressive</td>\n",
       "      <td>intelligent</td>\n",
       "    </tr>\n",
       "    <tr>\n",
       "      <th>8</th>\n",
       "      <td>optimistic</td>\n",
       "      <td>offensive</td>\n",
       "    </tr>\n",
       "    <tr>\n",
       "      <th>9</th>\n",
       "      <td>raped</td>\n",
       "      <td>forced</td>\n",
       "    </tr>\n",
       "  </tbody>\n",
       "</table>\n",
       "</div>"
      ],
      "text/plain": [
       "     sarcastic        honest\n",
       "0    facetious          fair\n",
       "1       joking          rude\n",
       "2    downvoted      prepared\n",
       "3    deansafbi    aggressive\n",
       "4         rude     effective\n",
       "5  planetarium  entertaining\n",
       "6      serious        mature\n",
       "7   aggressive   intelligent\n",
       "8   optimistic     offensive\n",
       "9        raped        forced"
      ]
     },
     "execution_count": 41,
     "metadata": {},
     "output_type": "execute_result"
    }
   ],
   "source": [
    "sarcastic = model.most_similar(positive=['sarcastic'])\n",
    "honest = model.most_similar(positive=['honest'])\n",
    "\n",
    "pd.DataFrame(\n",
    "        data={\n",
    "            \"sarcastic\": [word for word, sim in sarcastic], \n",
    "            \"honest\": [word for word, sim in honest]\n",
    "        }\n",
    ")"
   ]
  },
  {
   "cell_type": "markdown",
   "id": "528907af-c01e-4879-baaf-24ba124dc779",
   "metadata": {},
   "source": [
    "    Although these results are exclusively real words, and we do have a good amount of sensible matches, there is a concerning amount of antonyms that would be present in similar contexts, but have opposite meanings. These antonyms could mislead our model into predicting sarcasm from the word \"serious\" or \"optimistic\", which will surely not lead to accurate results."
   ]
  },
  {
   "cell_type": "code",
   "execution_count": 43,
   "id": "717896cf",
   "metadata": {},
   "outputs": [
    {
     "data": {
      "text/html": [
       "<div>\n",
       "<style scoped>\n",
       "    .dataframe tbody tr th:only-of-type {\n",
       "        vertical-align: middle;\n",
       "    }\n",
       "\n",
       "    .dataframe tbody tr th {\n",
       "        vertical-align: top;\n",
       "    }\n",
       "\n",
       "    .dataframe thead th {\n",
       "        text-align: right;\n",
       "    }\n",
       "</style>\n",
       "<table border=\"1\" class=\"dataframe\">\n",
       "  <thead>\n",
       "    <tr style=\"text-align: right;\">\n",
       "      <th></th>\n",
       "      <th>serious</th>\n",
       "      <th>joking</th>\n",
       "    </tr>\n",
       "  </thead>\n",
       "  <tbody>\n",
       "    <tr>\n",
       "      <th>0</th>\n",
       "      <td>valid</td>\n",
       "      <td>forgetting</td>\n",
       "    </tr>\n",
       "    <tr>\n",
       "      <th>1</th>\n",
       "      <td>sarcastic</td>\n",
       "      <td>jealous</td>\n",
       "    </tr>\n",
       "    <tr>\n",
       "      <th>2</th>\n",
       "      <td>aggressive</td>\n",
       "      <td>thinking</td>\n",
       "    </tr>\n",
       "    <tr>\n",
       "      <th>3</th>\n",
       "      <td>positive</td>\n",
       "      <td>talking</td>\n",
       "    </tr>\n",
       "    <tr>\n",
       "      <th>4</th>\n",
       "      <td>relevant</td>\n",
       "      <td>worried</td>\n",
       "    </tr>\n",
       "    <tr>\n",
       "      <th>5</th>\n",
       "      <td>useful</td>\n",
       "      <td>sayin</td>\n",
       "    </tr>\n",
       "    <tr>\n",
       "      <th>6</th>\n",
       "      <td>irrelevant</td>\n",
       "      <td>crying</td>\n",
       "    </tr>\n",
       "    <tr>\n",
       "      <th>7</th>\n",
       "      <td>dumb</td>\n",
       "      <td>sarcastic</td>\n",
       "    </tr>\n",
       "    <tr>\n",
       "      <th>8</th>\n",
       "      <td>friendly</td>\n",
       "      <td>delusional</td>\n",
       "    </tr>\n",
       "    <tr>\n",
       "      <th>9</th>\n",
       "      <td>negative</td>\n",
       "      <td>implying</td>\n",
       "    </tr>\n",
       "  </tbody>\n",
       "</table>\n",
       "</div>"
      ],
      "text/plain": [
       "      serious      joking\n",
       "0       valid  forgetting\n",
       "1   sarcastic     jealous\n",
       "2  aggressive    thinking\n",
       "3    positive     talking\n",
       "4    relevant     worried\n",
       "5      useful       sayin\n",
       "6  irrelevant      crying\n",
       "7        dumb   sarcastic\n",
       "8    friendly  delusional\n",
       "9    negative    implying"
      ]
     },
     "execution_count": 43,
     "metadata": {},
     "output_type": "execute_result"
    }
   ],
   "source": [
    "serious = model.most_similar(positive=['serious'])\n",
    "joking = model.most_similar(positive=['joking'])\n",
    "\n",
    "pd.DataFrame(\n",
    "        data={\n",
    "            \"serious\": [word for word, sim in serious], \n",
    "            \"joking\": [word for word, sim in joking]\n",
    "        }\n",
    ")"
   ]
  },
  {
   "cell_type": "markdown",
   "id": "77ed2f41-964a-4d8d-87fe-9885e021cf05",
   "metadata": {},
   "source": [
    "And finally, let us test out two of the words that our logreg model used to predict Non Sarcasm and see if these two words garner similar results to one another."
   ]
  },
  {
   "cell_type": "code",
   "execution_count": 44,
   "id": "c074fe0c",
   "metadata": {},
   "outputs": [
    {
     "data": {
      "text/html": [
       "<div>\n",
       "<style scoped>\n",
       "    .dataframe tbody tr th:only-of-type {\n",
       "        vertical-align: middle;\n",
       "    }\n",
       "\n",
       "    .dataframe tbody tr th {\n",
       "        vertical-align: top;\n",
       "    }\n",
       "\n",
       "    .dataframe thead th {\n",
       "        text-align: right;\n",
       "    }\n",
       "</style>\n",
       "<table border=\"1\" class=\"dataframe\">\n",
       "  <thead>\n",
       "    <tr style=\"text-align: right;\">\n",
       "      <th></th>\n",
       "      <th>unfortunately</th>\n",
       "      <th>honestly</th>\n",
       "    </tr>\n",
       "  </thead>\n",
       "  <tbody>\n",
       "    <tr>\n",
       "      <th>0</th>\n",
       "      <td>certainly</td>\n",
       "      <td>tbh</td>\n",
       "    </tr>\n",
       "    <tr>\n",
       "      <th>1</th>\n",
       "      <td>sadly</td>\n",
       "      <td>dunno</td>\n",
       "    </tr>\n",
       "    <tr>\n",
       "      <th>2</th>\n",
       "      <td>however</td>\n",
       "      <td>disappointed</td>\n",
       "    </tr>\n",
       "    <tr>\n",
       "      <th>3</th>\n",
       "      <td>necessarily</td>\n",
       "      <td>personally</td>\n",
       "    </tr>\n",
       "    <tr>\n",
       "      <th>4</th>\n",
       "      <td>atleast</td>\n",
       "      <td>actually</td>\n",
       "    </tr>\n",
       "    <tr>\n",
       "      <th>5</th>\n",
       "      <td>but</td>\n",
       "      <td>although</td>\n",
       "    </tr>\n",
       "    <tr>\n",
       "      <th>6</th>\n",
       "      <td>exclusive</td>\n",
       "      <td>but</td>\n",
       "    </tr>\n",
       "    <tr>\n",
       "      <th>7</th>\n",
       "      <td>generally</td>\n",
       "      <td>sadly</td>\n",
       "    </tr>\n",
       "    <tr>\n",
       "      <th>8</th>\n",
       "      <td>guarantee</td>\n",
       "      <td>i</td>\n",
       "    </tr>\n",
       "    <tr>\n",
       "      <th>9</th>\n",
       "      <td>affect</td>\n",
       "      <td>kinda</td>\n",
       "    </tr>\n",
       "  </tbody>\n",
       "</table>\n",
       "</div>"
      ],
      "text/plain": [
       "  unfortunately      honestly\n",
       "0     certainly           tbh\n",
       "1         sadly         dunno\n",
       "2       however  disappointed\n",
       "3   necessarily    personally\n",
       "4       atleast      actually\n",
       "5           but      although\n",
       "6     exclusive           but\n",
       "7     generally         sadly\n",
       "8     guarantee             i\n",
       "9        affect         kinda"
      ]
     },
     "execution_count": 44,
     "metadata": {},
     "output_type": "execute_result"
    }
   ],
   "source": [
    "unfortunately = model.most_similar(positive=['unfortunately'])\n",
    "honestly = model.most_similar(positive=['honestly'])\n",
    "\n",
    "pd.DataFrame(\n",
    "        data={\n",
    "            \"unfortunately\": [word for word, sim in unfortunately], \n",
    "            \"honestly\": [word for word, sim in honestly]\n",
    "        }\n",
    ")"
   ]
  },
  {
   "cell_type": "markdown",
   "id": "77e5754d-7f70-47c8-a5be-0e1915699704",
   "metadata": {},
   "source": [
    "Though these two words do not have any exact matches, one can get an overall sense of similarity between the two results."
   ]
  },
  {
   "cell_type": "markdown",
   "id": "e77357e2-847d-4f7a-889a-742262bd7ba4",
   "metadata": {},
   "source": [
    "--------------------------------------------------------------------------------------------------------------------------------------------------------"
   ]
  },
  {
   "cell_type": "markdown",
   "id": "e02998d6-d1db-4011-9686-a6240849809a",
   "metadata": {},
   "source": [
    "Now that we have our new and improved model, we may re-instantiate our X and perform and `train/test split` in preparation for modeling."
   ]
  },
  {
   "cell_type": "code",
   "execution_count": 33,
   "id": "5352f265",
   "metadata": {},
   "outputs": [],
   "source": [
    "# setting vectors to variable\n",
    "document_vectors = [sentence(doc) for doc in tokenized_data]"
   ]
  },
  {
   "cell_type": "code",
   "execution_count": 34,
   "id": "2d30ca55",
   "metadata": {
    "scrolled": true
   },
   "outputs": [
    {
     "data": {
      "text/plain": [
       "(300,)"
      ]
     },
     "execution_count": 34,
     "metadata": {},
     "output_type": "execute_result"
    }
   ],
   "source": [
    "# verifying shape\n",
    "document_vectors[0].shape"
   ]
  },
  {
   "cell_type": "code",
   "execution_count": 35,
   "id": "f4d3f2cb",
   "metadata": {},
   "outputs": [],
   "source": [
    "# instantiating new X\n",
    "X = document_vectors"
   ]
  },
  {
   "cell_type": "code",
   "execution_count": 36,
   "id": "ce38569d",
   "metadata": {},
   "outputs": [],
   "source": [
    "from sklearn.model_selection import train_test_split\n",
    "# initial split into rem and test\n",
    "X_rem, X_test, y_rem, y_test = train_test_split(X, y, test_size=0.25, random_state=42)"
   ]
  },
  {
   "cell_type": "code",
   "execution_count": 37,
   "id": "4a6c8a0b",
   "metadata": {},
   "outputs": [],
   "source": [
    "# secondary split into train and val\n",
    "X_train, X_val, y_train, y_val = train_test_split(X_rem, y_rem, test_size=0.25, random_state=42)"
   ]
  },
  {
   "cell_type": "code",
   "execution_count": 38,
   "id": "7c6bb22e",
   "metadata": {},
   "outputs": [
    {
     "data": {
      "text/plain": [
       "142131"
      ]
     },
     "execution_count": 38,
     "metadata": {},
     "output_type": "execute_result"
    }
   ],
   "source": [
    "# verifying length of train\n",
    "len(X_train)"
   ]
  },
  {
   "cell_type": "code",
   "execution_count": 45,
   "id": "26bebddb-cafb-4dd2-a089-864dbb2a2177",
   "metadata": {},
   "outputs": [
    {
     "data": {
      "text/plain": [
       "300"
      ]
     },
     "execution_count": 45,
     "metadata": {},
     "output_type": "execute_result"
    }
   ],
   "source": [
    "# verification of amount of vectors\n",
    "len(X_train[0])"
   ]
  },
  {
   "cell_type": "markdown",
   "id": "98e1156d-24e2-4adf-a7a4-5ebd2f6be4f0",
   "metadata": {},
   "source": [
    "## <a href=\"#top\" id=\"model\">MLPClassifier</a>"
   ]
  },
  {
   "cell_type": "markdown",
   "id": "17f2e1d5-ffb7-4455-9067-f95302c97d4c",
   "metadata": {},
   "source": [
    "Using `MLPClassifier` allows us to quickly implement a baseline neural network that has most of its defaults set to the most commonly used, industry standard values."
   ]
  },
  {
   "cell_type": "code",
   "execution_count": 46,
   "id": "9a877139",
   "metadata": {},
   "outputs": [],
   "source": [
    "from sklearn.neural_network import MLPClassifier"
   ]
  },
  {
   "cell_type": "code",
   "execution_count": 47,
   "id": "c457d103-bea1-45e1-be9c-42cb4196668b",
   "metadata": {},
   "outputs": [],
   "source": [
    "neural_network = MLPClassifier(verbose=True, max_iter=50, random_state=42)"
   ]
  },
  {
   "cell_type": "code",
   "execution_count": 48,
   "id": "0c84a6af-7c0a-499f-889e-437a09da5a4f",
   "metadata": {},
   "outputs": [
    {
     "name": "stdout",
     "output_type": "stream",
     "text": [
      "Iteration 1, loss = 0.61989066\n",
      "Iteration 2, loss = 0.59771830\n",
      "Iteration 3, loss = 0.58921956\n",
      "Iteration 4, loss = 0.58279922\n",
      "Iteration 5, loss = 0.57729274\n",
      "Iteration 6, loss = 0.57334721\n",
      "Iteration 7, loss = 0.56902005\n",
      "Iteration 8, loss = 0.56556736\n",
      "Iteration 9, loss = 0.56276787\n",
      "Iteration 10, loss = 0.55995842\n",
      "Iteration 11, loss = 0.55737731\n",
      "Iteration 12, loss = 0.55540618\n",
      "Iteration 13, loss = 0.55284996\n",
      "Iteration 14, loss = 0.55053172\n",
      "Iteration 15, loss = 0.54943346\n",
      "Iteration 16, loss = 0.54653582\n",
      "Iteration 17, loss = 0.54556189\n",
      "Iteration 18, loss = 0.54390974\n",
      "Iteration 19, loss = 0.54226093\n",
      "Iteration 20, loss = 0.54066702\n",
      "Iteration 21, loss = 0.53938765\n",
      "Iteration 22, loss = 0.53809842\n",
      "Iteration 23, loss = 0.53635690\n",
      "Iteration 24, loss = 0.53505024\n",
      "Iteration 25, loss = 0.53426647\n",
      "Iteration 26, loss = 0.53263014\n",
      "Iteration 27, loss = 0.53170543\n",
      "Iteration 28, loss = 0.53082527\n",
      "Iteration 29, loss = 0.52950060\n",
      "Iteration 30, loss = 0.52850999\n",
      "Iteration 31, loss = 0.52784349\n",
      "Iteration 32, loss = 0.52750599\n",
      "Iteration 33, loss = 0.52567900\n",
      "Iteration 34, loss = 0.52471073\n",
      "Iteration 35, loss = 0.52393038\n",
      "Iteration 36, loss = 0.52301586\n",
      "Iteration 37, loss = 0.52233861\n",
      "Iteration 38, loss = 0.52138214\n",
      "Iteration 39, loss = 0.52081767\n",
      "Iteration 40, loss = 0.51982247\n",
      "Iteration 41, loss = 0.51916101\n",
      "Iteration 42, loss = 0.51897264\n",
      "Iteration 43, loss = 0.51759470\n",
      "Iteration 44, loss = 0.51754834\n",
      "Iteration 45, loss = 0.51645857\n",
      "Iteration 46, loss = 0.51557079\n",
      "Iteration 47, loss = 0.51491209\n",
      "Iteration 48, loss = 0.51455865\n",
      "Iteration 49, loss = 0.51465638\n",
      "Iteration 50, loss = 0.51312169\n"
     ]
    },
    {
     "data": {
      "text/html": [
       "<style>#sk-container-id-1 {color: black;background-color: white;}#sk-container-id-1 pre{padding: 0;}#sk-container-id-1 div.sk-toggleable {background-color: white;}#sk-container-id-1 label.sk-toggleable__label {cursor: pointer;display: block;width: 100%;margin-bottom: 0;padding: 0.3em;box-sizing: border-box;text-align: center;}#sk-container-id-1 label.sk-toggleable__label-arrow:before {content: \"▸\";float: left;margin-right: 0.25em;color: #696969;}#sk-container-id-1 label.sk-toggleable__label-arrow:hover:before {color: black;}#sk-container-id-1 div.sk-estimator:hover label.sk-toggleable__label-arrow:before {color: black;}#sk-container-id-1 div.sk-toggleable__content {max-height: 0;max-width: 0;overflow: hidden;text-align: left;background-color: #f0f8ff;}#sk-container-id-1 div.sk-toggleable__content pre {margin: 0.2em;color: black;border-radius: 0.25em;background-color: #f0f8ff;}#sk-container-id-1 input.sk-toggleable__control:checked~div.sk-toggleable__content {max-height: 200px;max-width: 100%;overflow: auto;}#sk-container-id-1 input.sk-toggleable__control:checked~label.sk-toggleable__label-arrow:before {content: \"▾\";}#sk-container-id-1 div.sk-estimator input.sk-toggleable__control:checked~label.sk-toggleable__label {background-color: #d4ebff;}#sk-container-id-1 div.sk-label input.sk-toggleable__control:checked~label.sk-toggleable__label {background-color: #d4ebff;}#sk-container-id-1 input.sk-hidden--visually {border: 0;clip: rect(1px 1px 1px 1px);clip: rect(1px, 1px, 1px, 1px);height: 1px;margin: -1px;overflow: hidden;padding: 0;position: absolute;width: 1px;}#sk-container-id-1 div.sk-estimator {font-family: monospace;background-color: #f0f8ff;border: 1px dotted black;border-radius: 0.25em;box-sizing: border-box;margin-bottom: 0.5em;}#sk-container-id-1 div.sk-estimator:hover {background-color: #d4ebff;}#sk-container-id-1 div.sk-parallel-item::after {content: \"\";width: 100%;border-bottom: 1px solid gray;flex-grow: 1;}#sk-container-id-1 div.sk-label:hover label.sk-toggleable__label {background-color: #d4ebff;}#sk-container-id-1 div.sk-serial::before {content: \"\";position: absolute;border-left: 1px solid gray;box-sizing: border-box;top: 0;bottom: 0;left: 50%;z-index: 0;}#sk-container-id-1 div.sk-serial {display: flex;flex-direction: column;align-items: center;background-color: white;padding-right: 0.2em;padding-left: 0.2em;position: relative;}#sk-container-id-1 div.sk-item {position: relative;z-index: 1;}#sk-container-id-1 div.sk-parallel {display: flex;align-items: stretch;justify-content: center;background-color: white;position: relative;}#sk-container-id-1 div.sk-item::before, #sk-container-id-1 div.sk-parallel-item::before {content: \"\";position: absolute;border-left: 1px solid gray;box-sizing: border-box;top: 0;bottom: 0;left: 50%;z-index: -1;}#sk-container-id-1 div.sk-parallel-item {display: flex;flex-direction: column;z-index: 1;position: relative;background-color: white;}#sk-container-id-1 div.sk-parallel-item:first-child::after {align-self: flex-end;width: 50%;}#sk-container-id-1 div.sk-parallel-item:last-child::after {align-self: flex-start;width: 50%;}#sk-container-id-1 div.sk-parallel-item:only-child::after {width: 0;}#sk-container-id-1 div.sk-dashed-wrapped {border: 1px dashed gray;margin: 0 0.4em 0.5em 0.4em;box-sizing: border-box;padding-bottom: 0.4em;background-color: white;}#sk-container-id-1 div.sk-label label {font-family: monospace;font-weight: bold;display: inline-block;line-height: 1.2em;}#sk-container-id-1 div.sk-label-container {text-align: center;}#sk-container-id-1 div.sk-container {/* jupyter's `normalize.less` sets `[hidden] { display: none; }` but bootstrap.min.css set `[hidden] { display: none !important; }` so we also need the `!important` here to be able to override the default hidden behavior on the sphinx rendered scikit-learn.org. See: https://github.com/scikit-learn/scikit-learn/issues/21755 */display: inline-block !important;position: relative;}#sk-container-id-1 div.sk-text-repr-fallback {display: none;}</style><div id=\"sk-container-id-1\" class=\"sk-top-container\"><div class=\"sk-text-repr-fallback\"><pre>MLPClassifier(max_iter=50, random_state=42, verbose=True)</pre><b>In a Jupyter environment, please rerun this cell to show the HTML representation or trust the notebook. <br />On GitHub, the HTML representation is unable to render, please try loading this page with nbviewer.org.</b></div><div class=\"sk-container\" hidden><div class=\"sk-item\"><div class=\"sk-estimator sk-toggleable\"><input class=\"sk-toggleable__control sk-hidden--visually\" id=\"sk-estimator-id-1\" type=\"checkbox\" checked><label for=\"sk-estimator-id-1\" class=\"sk-toggleable__label sk-toggleable__label-arrow\">MLPClassifier</label><div class=\"sk-toggleable__content\"><pre>MLPClassifier(max_iter=50, random_state=42, verbose=True)</pre></div></div></div></div></div>"
      ],
      "text/plain": [
       "MLPClassifier(max_iter=50, random_state=42, verbose=True)"
      ]
     },
     "execution_count": 48,
     "metadata": {},
     "output_type": "execute_result"
    }
   ],
   "source": [
    "neural_network.fit(X_train, y_train)"
   ]
  },
  {
   "cell_type": "code",
   "execution_count": 49,
   "id": "926d7e21-b683-4718-9582-8d49aa6645ce",
   "metadata": {},
   "outputs": [
    {
     "name": "stdout",
     "output_type": "stream",
     "text": [
      "Train: 0.7478030830712512\n",
      "Val: 0.677719616699734\n"
     ]
    }
   ],
   "source": [
    "print(f'Train: {neural_network.score(X_train, y_train)}')\n",
    "print(f'Val: {neural_network.score(X_val, y_val)}')\n"
   ]
  },
  {
   "cell_type": "markdown",
   "id": "0c42337c-b7f6-45a6-b306-56f35e44b1b9",
   "metadata": {},
   "source": [
    "    With a train score of 0.74 and a val score of 0.67, this is our best performing model to date. "
   ]
  },
  {
   "cell_type": "markdown",
   "id": "71590e04-76c8-4a0e-9758-34cb817b1d37",
   "metadata": {},
   "source": [
    "## Conclusion\n",
    "\n",
    "With a few minor tweaks and minimal training on a **sample** of the entire dataset, the `Word2Vec` model returned a good amount of coherent results. It is hard to say how much of the improvement in score is due to the vectorization and how much to the model itself, but there is much left to be explored and the answers will present themselves in due time. There are a few options for next steps:\n",
    "\n",
    "- continue optimizing both the `Word2Vec` model as well as the neural network to get best results\n",
    "- train `Word2Vec` on entire dataset and import it for testing\n",
    "- import pre-trained `Word2Vec` and explore the embeddings as well as accuracy scores\n",
    "- move forward with other variations of `NN`s like `RNN`\n",
    "- use `BERT` Tokenizer and Model"
   ]
  },
  {
   "cell_type": "code",
   "execution_count": null,
   "id": "df9c4a8c-9729-44f7-acd5-6afe4d9814f3",
   "metadata": {},
   "outputs": [],
   "source": []
  }
 ],
 "metadata": {
  "kernelspec": {
   "display_name": "sarcasm",
   "language": "python",
   "name": "sarcasm"
  },
  "language_info": {
   "codemirror_mode": {
    "name": "ipython",
    "version": 3
   },
   "file_extension": ".py",
   "mimetype": "text/x-python",
   "name": "python",
   "nbconvert_exporter": "python",
   "pygments_lexer": "ipython3",
   "version": "3.8.18"
  }
 },
 "nbformat": 4,
 "nbformat_minor": 5
}
